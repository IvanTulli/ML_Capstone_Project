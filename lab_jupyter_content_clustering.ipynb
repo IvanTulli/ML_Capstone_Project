{
 "cells": [
  {
   "cell_type": "markdown",
   "id": "cb0cff8c-567e-4106-9691-1fce7770835a",
   "metadata": {},
   "source": [
    "<p style=\"text-align:center\">\n",
    "    <a href=\"https://skills.network/?utm_medium=Exinfluencer&utm_source=Exinfluencer&utm_content=000026UJ&utm_term=10006555&utm_id=NA-SkillsNetwork-Channel-SkillsNetworkCoursesIBMML321ENSkillsNetwork817-2022-01-01\" target=\"_blank\">\n",
    "    <img src=\"https://cf-courses-data.s3.us.cloud-object-storage.appdomain.cloud/assets/logos/SN_web_lightmode.png\" width=\"200\" alt=\"Skills Network Logo\">\n",
    "    </a>\n",
    "</p>\n"
   ]
  },
  {
   "cell_type": "markdown",
   "id": "56158f16-b494-46b8-87da-355c36420292",
   "metadata": {},
   "source": [
    "# **Clustering based Course Recommender System**\n"
   ]
  },
  {
   "cell_type": "markdown",
   "id": "8c7899bf-7708-4f0f-8520-cd11d9a992b7",
   "metadata": {},
   "source": [
    "Estimated time needed: **90** minutes\n"
   ]
  },
  {
   "cell_type": "markdown",
   "id": "c166a3c8-d531-4801-8d78-99714dfee869",
   "metadata": {},
   "source": [
    "Previously, we have generated user profile vectors based on course ratings and genres. \n",
    "\n",
    "A user profile vector may look like a row vector in the following matrix, for example, we can see the Database column for user2 has a value 1 which means user2 is very interesting in courses related to the databases. With the user profile vectors generated, we can also easily compute the similarity among users based on their shared interests.\n"
   ]
  },
  {
   "cell_type": "markdown",
   "id": "bf4ac195-bbd5-4ae2-8a83-0265284e3f57",
   "metadata": {},
   "source": [
    "![](https://cf-courses-data.s3.us.cloud-object-storage.appdomain.cloud/IBM-ML321EN-SkillsNetwork/labs/module_3/images/userprofiles.png)\n"
   ]
  },
  {
   "cell_type": "markdown",
   "id": "f2a44b93-896c-41fa-811f-36404a1c0b4d",
   "metadata": {},
   "source": [
    "Furthermore, we could perform clustering algorithms such as K-means or DBSCAN to group users with similar learning interests. For example, in the below user clusters, we have user clusters whom have learned courses related to machine learning, cloud computing, databases, and web development, etc.\n"
   ]
  },
  {
   "cell_type": "markdown",
   "id": "4de0ac40-7a54-44f7-a8bc-01ae92980d31",
   "metadata": {},
   "source": [
    "![](https://cf-courses-data.s3.us.cloud-object-storage.appdomain.cloud/IBM-ML321EN-SkillsNetwork/labs/module_3/images/userprofiles_clustering.png)\n"
   ]
  },
  {
   "cell_type": "markdown",
   "id": "df71b3a4-754a-442c-a326-0f9d6a623d0e",
   "metadata": {},
   "source": [
    "For each user group, we can come up with a list of popular courses. For example, for the machine learning user cluster/learning group, we can count the most frequently enrolled courses, which are very likely to be the most popular and good machine learning courses because they are enrolled by many users who are interested in machine learning. \n",
    "\n",
    "If we know a user belongs to the machine learning group, we may recommend the most enrolled courses to them and it is very likely the user will be interested in them.\n"
   ]
  },
  {
   "cell_type": "markdown",
   "id": "5e4e79f1-d5f6-4a45-bc5f-266c7e879d93",
   "metadata": {},
   "source": [
    "Next in this lab, you will be implementing some clustering-based recommender system algorithms.\n"
   ]
  },
  {
   "cell_type": "markdown",
   "id": "45171b1c-afc3-4d04-b396-4dfb4d5b4f20",
   "metadata": {},
   "source": [
    "## Objectives\n"
   ]
  },
  {
   "cell_type": "markdown",
   "id": "b797c443-2120-4942-8ff5-7917d551be2f",
   "metadata": {},
   "source": [
    "After completing this lab you will be able to:\n"
   ]
  },
  {
   "cell_type": "markdown",
   "id": "ea4998bc-da76-46e8-8074-33cbfe563575",
   "metadata": {},
   "source": [
    "* Perform k-means clustering on the original user profile feature vectors\n",
    "* Apply PCA (Principle Component Analysis ) on user profile feature vectors to reduce dimensions\n",
    "* Perform k-means clustering on the PCA transformed main components\n",
    "* Generate course recommendations based on other group members' enrollment history\n"
   ]
  },
  {
   "cell_type": "markdown",
   "id": "7527e60c-d749-452d-9ca2-4e97a25dd22c",
   "metadata": {},
   "source": [
    "----\n"
   ]
  },
  {
   "cell_type": "markdown",
   "id": "48e072b7-ac70-4d53-96f2-b3d8202b0bc2",
   "metadata": {},
   "source": [
    "## Prepare and setup lab environment\n"
   ]
  },
  {
   "cell_type": "markdown",
   "id": "994cce20-b50b-4626-a0b0-95cc3ad4e309",
   "metadata": {},
   "source": [
    "First install and import required libraries:\n"
   ]
  },
  {
   "cell_type": "code",
   "execution_count": null,
   "id": "06153173-8f0c-4c82-af56-f77408cc5d81",
   "metadata": {},
   "outputs": [],
   "source": [
    "%pip install scikit-learn\n",
    "%pip install seaborn\n",
    "%pip install pandas\n",
    "%pip install matplotlib"
   ]
  },
  {
   "cell_type": "code",
   "execution_count": 1,
   "id": "541c8c3e-62cf-447e-9f24-abde2bd5990f",
   "metadata": {},
   "outputs": [],
   "source": [
    "import seaborn as sns\n",
    "import pandas as pd\n",
    "import numpy as np\n",
    "import matplotlib.pyplot as plt\n",
    "\n",
    "from sklearn.cluster import KMeans\n",
    "from sklearn.preprocessing import StandardScaler\n",
    "from sklearn.decomposition import PCA\n",
    "\n",
    "%matplotlib inline"
   ]
  },
  {
   "cell_type": "code",
   "execution_count": 2,
   "id": "00460638-5240-43bb-b165-271cd1f64239",
   "metadata": {},
   "outputs": [],
   "source": [
    "# also set a random state\n",
    "rs = 123"
   ]
  },
  {
   "cell_type": "markdown",
   "id": "46fc0f52-0b27-4539-bd32-f913c1cbb010",
   "metadata": {},
   "source": [
    "### Load the user profile dataset\n"
   ]
  },
  {
   "cell_type": "markdown",
   "id": "0b545d73-a618-488e-b7bf-efe817a1496c",
   "metadata": {},
   "source": [
    "Let's first load the original user profile feature vectors:\n"
   ]
  },
  {
   "cell_type": "code",
   "execution_count": 3,
   "id": "84a93e6d-81e9-4aca-af19-79f303b02d8d",
   "metadata": {},
   "outputs": [
    {
     "data": {
      "application/vnd.microsoft.datawrangler.viewer.v0+json": {
       "columns": [
        {
         "name": "index",
         "rawType": "int64",
         "type": "integer"
        },
        {
         "name": "user",
         "rawType": "int64",
         "type": "integer"
        },
        {
         "name": "Database",
         "rawType": "float64",
         "type": "float"
        },
        {
         "name": "Python",
         "rawType": "float64",
         "type": "float"
        },
        {
         "name": "CloudComputing",
         "rawType": "float64",
         "type": "float"
        },
        {
         "name": "DataAnalysis",
         "rawType": "float64",
         "type": "float"
        },
        {
         "name": "Containers",
         "rawType": "float64",
         "type": "float"
        },
        {
         "name": "MachineLearning",
         "rawType": "float64",
         "type": "float"
        },
        {
         "name": "ComputerVision",
         "rawType": "float64",
         "type": "float"
        },
        {
         "name": "DataScience",
         "rawType": "float64",
         "type": "float"
        },
        {
         "name": "BigData",
         "rawType": "float64",
         "type": "float"
        },
        {
         "name": "Chatbot",
         "rawType": "float64",
         "type": "float"
        },
        {
         "name": "R",
         "rawType": "float64",
         "type": "float"
        },
        {
         "name": "BackendDev",
         "rawType": "float64",
         "type": "float"
        },
        {
         "name": "FrontendDev",
         "rawType": "float64",
         "type": "float"
        },
        {
         "name": "Blockchain",
         "rawType": "float64",
         "type": "float"
        }
       ],
       "ref": "c99885fc-ca46-4481-aa70-7dbded19d41e",
       "rows": [
        [
         "0",
         "2",
         "52.0",
         "14.0",
         "6.0",
         "43.0",
         "3.0",
         "33.0",
         "0.0",
         "29.0",
         "41.0",
         "2.0",
         "18.0",
         "34.0",
         "9.0",
         "6.0"
        ],
        [
         "1",
         "4",
         "40.0",
         "2.0",
         "4.0",
         "28.0",
         "0.0",
         "14.0",
         "0.0",
         "20.0",
         "24.0",
         "0.0",
         "6.0",
         "6.0",
         "0.0",
         "2.0"
        ],
        [
         "2",
         "5",
         "24.0",
         "8.0",
         "18.0",
         "24.0",
         "0.0",
         "30.0",
         "0.0",
         "22.0",
         "14.0",
         "2.0",
         "14.0",
         "26.0",
         "4.0",
         "6.0"
        ],
        [
         "3",
         "7",
         "2.0",
         "0.0",
         "0.0",
         "2.0",
         "0.0",
         "0.0",
         "0.0",
         "0.0",
         "2.0",
         "0.0",
         "0.0",
         "0.0",
         "0.0",
         "0.0"
        ],
        [
         "4",
         "8",
         "6.0",
         "0.0",
         "0.0",
         "4.0",
         "0.0",
         "0.0",
         "0.0",
         "0.0",
         "6.0",
         "0.0",
         "2.0",
         "0.0",
         "0.0",
         "0.0"
        ]
       ],
       "shape": {
        "columns": 15,
        "rows": 5
       }
      },
      "text/html": [
       "<div>\n",
       "<style scoped>\n",
       "    .dataframe tbody tr th:only-of-type {\n",
       "        vertical-align: middle;\n",
       "    }\n",
       "\n",
       "    .dataframe tbody tr th {\n",
       "        vertical-align: top;\n",
       "    }\n",
       "\n",
       "    .dataframe thead th {\n",
       "        text-align: right;\n",
       "    }\n",
       "</style>\n",
       "<table border=\"1\" class=\"dataframe\">\n",
       "  <thead>\n",
       "    <tr style=\"text-align: right;\">\n",
       "      <th></th>\n",
       "      <th>user</th>\n",
       "      <th>Database</th>\n",
       "      <th>Python</th>\n",
       "      <th>CloudComputing</th>\n",
       "      <th>DataAnalysis</th>\n",
       "      <th>Containers</th>\n",
       "      <th>MachineLearning</th>\n",
       "      <th>ComputerVision</th>\n",
       "      <th>DataScience</th>\n",
       "      <th>BigData</th>\n",
       "      <th>Chatbot</th>\n",
       "      <th>R</th>\n",
       "      <th>BackendDev</th>\n",
       "      <th>FrontendDev</th>\n",
       "      <th>Blockchain</th>\n",
       "    </tr>\n",
       "  </thead>\n",
       "  <tbody>\n",
       "    <tr>\n",
       "      <th>0</th>\n",
       "      <td>2</td>\n",
       "      <td>52.0</td>\n",
       "      <td>14.0</td>\n",
       "      <td>6.0</td>\n",
       "      <td>43.0</td>\n",
       "      <td>3.0</td>\n",
       "      <td>33.0</td>\n",
       "      <td>0.0</td>\n",
       "      <td>29.0</td>\n",
       "      <td>41.0</td>\n",
       "      <td>2.0</td>\n",
       "      <td>18.0</td>\n",
       "      <td>34.0</td>\n",
       "      <td>9.0</td>\n",
       "      <td>6.0</td>\n",
       "    </tr>\n",
       "    <tr>\n",
       "      <th>1</th>\n",
       "      <td>4</td>\n",
       "      <td>40.0</td>\n",
       "      <td>2.0</td>\n",
       "      <td>4.0</td>\n",
       "      <td>28.0</td>\n",
       "      <td>0.0</td>\n",
       "      <td>14.0</td>\n",
       "      <td>0.0</td>\n",
       "      <td>20.0</td>\n",
       "      <td>24.0</td>\n",
       "      <td>0.0</td>\n",
       "      <td>6.0</td>\n",
       "      <td>6.0</td>\n",
       "      <td>0.0</td>\n",
       "      <td>2.0</td>\n",
       "    </tr>\n",
       "    <tr>\n",
       "      <th>2</th>\n",
       "      <td>5</td>\n",
       "      <td>24.0</td>\n",
       "      <td>8.0</td>\n",
       "      <td>18.0</td>\n",
       "      <td>24.0</td>\n",
       "      <td>0.0</td>\n",
       "      <td>30.0</td>\n",
       "      <td>0.0</td>\n",
       "      <td>22.0</td>\n",
       "      <td>14.0</td>\n",
       "      <td>2.0</td>\n",
       "      <td>14.0</td>\n",
       "      <td>26.0</td>\n",
       "      <td>4.0</td>\n",
       "      <td>6.0</td>\n",
       "    </tr>\n",
       "    <tr>\n",
       "      <th>3</th>\n",
       "      <td>7</td>\n",
       "      <td>2.0</td>\n",
       "      <td>0.0</td>\n",
       "      <td>0.0</td>\n",
       "      <td>2.0</td>\n",
       "      <td>0.0</td>\n",
       "      <td>0.0</td>\n",
       "      <td>0.0</td>\n",
       "      <td>0.0</td>\n",
       "      <td>2.0</td>\n",
       "      <td>0.0</td>\n",
       "      <td>0.0</td>\n",
       "      <td>0.0</td>\n",
       "      <td>0.0</td>\n",
       "      <td>0.0</td>\n",
       "    </tr>\n",
       "    <tr>\n",
       "      <th>4</th>\n",
       "      <td>8</td>\n",
       "      <td>6.0</td>\n",
       "      <td>0.0</td>\n",
       "      <td>0.0</td>\n",
       "      <td>4.0</td>\n",
       "      <td>0.0</td>\n",
       "      <td>0.0</td>\n",
       "      <td>0.0</td>\n",
       "      <td>0.0</td>\n",
       "      <td>6.0</td>\n",
       "      <td>0.0</td>\n",
       "      <td>2.0</td>\n",
       "      <td>0.0</td>\n",
       "      <td>0.0</td>\n",
       "      <td>0.0</td>\n",
       "    </tr>\n",
       "  </tbody>\n",
       "</table>\n",
       "</div>"
      ],
      "text/plain": [
       "   user  Database  Python  CloudComputing  DataAnalysis  Containers  \\\n",
       "0     2      52.0    14.0             6.0          43.0         3.0   \n",
       "1     4      40.0     2.0             4.0          28.0         0.0   \n",
       "2     5      24.0     8.0            18.0          24.0         0.0   \n",
       "3     7       2.0     0.0             0.0           2.0         0.0   \n",
       "4     8       6.0     0.0             0.0           4.0         0.0   \n",
       "\n",
       "   MachineLearning  ComputerVision  DataScience  BigData  Chatbot     R  \\\n",
       "0             33.0             0.0         29.0     41.0      2.0  18.0   \n",
       "1             14.0             0.0         20.0     24.0      0.0   6.0   \n",
       "2             30.0             0.0         22.0     14.0      2.0  14.0   \n",
       "3              0.0             0.0          0.0      2.0      0.0   0.0   \n",
       "4              0.0             0.0          0.0      6.0      0.0   2.0   \n",
       "\n",
       "   BackendDev  FrontendDev  Blockchain  \n",
       "0        34.0          9.0         6.0  \n",
       "1         6.0          0.0         2.0  \n",
       "2        26.0          4.0         6.0  \n",
       "3         0.0          0.0         0.0  \n",
       "4         0.0          0.0         0.0  "
      ]
     },
     "execution_count": 3,
     "metadata": {},
     "output_type": "execute_result"
    }
   ],
   "source": [
    "# Importing the pandas library, which is commonly used for data manipulation and analysis\n",
    "import pandas as pd\n",
    "\n",
    "# Defining the URL of the CSV file containing user profiles\n",
    "user_profile_url = \"https://cf-courses-data.s3.us.cloud-object-storage.appdomain.cloud/IBM-ML321EN-SkillsNetwork/labs/datasets/user_profile.csv\"\n",
    "\n",
    "# Using pandas' read_csv function to read the CSV file from the specified URL into a DataFrame\n",
    "user_profile_df = pd.read_csv(user_profile_url)\n",
    "\n",
    "# Displaying the first few rows of the DataFrame to inspect its contents\n",
    "user_profile_df.head()\n"
   ]
  },
  {
   "cell_type": "code",
   "execution_count": 61,
   "id": "4af6f26a-dc67-48b1-8730-ce546a12d849",
   "metadata": {},
   "outputs": [
    {
     "data": {
      "text/plain": [
       "(33901, 15)"
      ]
     },
     "execution_count": 61,
     "metadata": {},
     "output_type": "execute_result"
    }
   ],
   "source": [
    "user_profile_df.shape"
   ]
  },
  {
   "cell_type": "markdown",
   "id": "495f9b05-6fee-4acb-9c3d-a2cc9fdee377",
   "metadata": {},
   "source": [
    "we can then list the feature names, they are the user interested topics (course genres):\n"
   ]
  },
  {
   "cell_type": "code",
   "execution_count": 4,
   "id": "6f0f89c9-e09b-4002-b025-ef6945c6ac26",
   "metadata": {},
   "outputs": [
    {
     "data": {
      "text/plain": [
       "['Database',\n",
       " 'Python',\n",
       " 'CloudComputing',\n",
       " 'DataAnalysis',\n",
       " 'Containers',\n",
       " 'MachineLearning',\n",
       " 'ComputerVision',\n",
       " 'DataScience',\n",
       " 'BigData',\n",
       " 'Chatbot',\n",
       " 'R',\n",
       " 'BackendDev',\n",
       " 'FrontendDev',\n",
       " 'Blockchain']"
      ]
     },
     "execution_count": 4,
     "metadata": {},
     "output_type": "execute_result"
    }
   ],
   "source": [
    "feature_names = list(user_profile_df.columns[1:])\n",
    "feature_names"
   ]
  },
  {
   "cell_type": "markdown",
   "id": "4df0d03e-5c7b-43a1-8a0e-7a4fd700f1bb",
   "metadata": {},
   "source": [
    "As we can see from the user profile dataset, we have about 33K unique users with interests in areas like ``Database``, ``Python``, ``CloudComputing``, etc. Then, let's check the  summary statistics for each feature.\n"
   ]
  },
  {
   "cell_type": "code",
   "execution_count": 63,
   "id": "b005f08a-cde9-4088-bb05-0a46c694ade9",
   "metadata": {},
   "outputs": [
    {
     "data": {
      "application/vnd.microsoft.datawrangler.viewer.v0+json": {
       "columns": [
        {
         "name": "index",
         "rawType": "object",
         "type": "string"
        },
        {
         "name": "user",
         "rawType": "float64",
         "type": "float"
        },
        {
         "name": "Database",
         "rawType": "float64",
         "type": "float"
        },
        {
         "name": "Python",
         "rawType": "float64",
         "type": "float"
        },
        {
         "name": "CloudComputing",
         "rawType": "float64",
         "type": "float"
        },
        {
         "name": "DataAnalysis",
         "rawType": "float64",
         "type": "float"
        },
        {
         "name": "Containers",
         "rawType": "float64",
         "type": "float"
        },
        {
         "name": "MachineLearning",
         "rawType": "float64",
         "type": "float"
        },
        {
         "name": "ComputerVision",
         "rawType": "float64",
         "type": "float"
        },
        {
         "name": "DataScience",
         "rawType": "float64",
         "type": "float"
        },
        {
         "name": "BigData",
         "rawType": "float64",
         "type": "float"
        },
        {
         "name": "Chatbot",
         "rawType": "float64",
         "type": "float"
        },
        {
         "name": "R",
         "rawType": "float64",
         "type": "float"
        },
        {
         "name": "BackendDev",
         "rawType": "float64",
         "type": "float"
        },
        {
         "name": "FrontendDev",
         "rawType": "float64",
         "type": "float"
        },
        {
         "name": "Blockchain",
         "rawType": "float64",
         "type": "float"
        }
       ],
       "ref": "22bf11a9-f329-4dfc-9664-da8fd1562b20",
       "rows": [
        [
         "count",
         "33901.0",
         "33901.0",
         "33901.0",
         "33901.0",
         "33901.0",
         "33901.0",
         "33901.0",
         "33901.0",
         "33901.0",
         "33901.0",
         "33901.0",
         "33901.0",
         "33901.0",
         "33901.0",
         "33901.0"
        ],
        [
         "mean",
         "1064064.4061237131",
         "5.5185687737824844",
         "3.493790743635881",
         "2.3071000855431993",
         "3.624701336243769",
         "0.9989380844222884",
         "3.048022182236512",
         "0.0017698592961859533",
         "5.087342556266777",
         "4.75044983923778",
         "0.46299519188224536",
         "1.0174331140674315",
         "2.269461077844311",
         "0.3158018937494469",
         "0.9868440458983511"
        ],
        [
         "std",
         "497257.7578864578",
         "7.611940551940769",
         "4.227253698724342",
         "3.8418583453844692",
         "4.760134585431047",
         "2.3517643020674996",
         "4.62400374309376",
         "0.07284642763337683",
         "5.230696718600045",
         "7.2162280361020406",
         "1.0551856421859644",
         "2.342531577089903",
         "4.310751712413221",
         "1.3634615080516927",
         "1.950585211668151"
        ],
        [
         "min",
         "2.0",
         "0.0",
         "0.0",
         "0.0",
         "0.0",
         "0.0",
         "0.0",
         "0.0",
         "0.0",
         "0.0",
         "0.0",
         "0.0",
         "0.0",
         "0.0",
         "0.0"
        ],
        [
         "25%",
         "681348.0",
         "0.0",
         "0.0",
         "0.0",
         "0.0",
         "0.0",
         "0.0",
         "0.0",
         "0.0",
         "0.0",
         "0.0",
         "0.0",
         "0.0",
         "0.0",
         "0.0"
        ],
        [
         "50%",
         "1043907.0",
         "3.0",
         "3.0",
         "0.0",
         "3.0",
         "0.0",
         "0.0",
         "0.0",
         "3.0",
         "2.0",
         "0.0",
         "0.0",
         "0.0",
         "0.0",
         "0.0"
        ],
        [
         "75%",
         "1451159.0",
         "9.0",
         "6.0",
         "3.0",
         "6.0",
         "0.0",
         "3.0",
         "0.0",
         "9.0",
         "6.0",
         "0.0",
         "0.0",
         "3.0",
         "0.0",
         "2.0"
        ],
        [
         "max",
         "2103039.0",
         "63.0",
         "18.0",
         "38.0",
         "48.0",
         "15.0",
         "39.0",
         "3.0",
         "32.0",
         "54.0",
         "6.0",
         "18.0",
         "54.0",
         "15.0",
         "12.0"
        ]
       ],
       "shape": {
        "columns": 15,
        "rows": 8
       }
      },
      "text/html": [
       "<div>\n",
       "<style scoped>\n",
       "    .dataframe tbody tr th:only-of-type {\n",
       "        vertical-align: middle;\n",
       "    }\n",
       "\n",
       "    .dataframe tbody tr th {\n",
       "        vertical-align: top;\n",
       "    }\n",
       "\n",
       "    .dataframe thead th {\n",
       "        text-align: right;\n",
       "    }\n",
       "</style>\n",
       "<table border=\"1\" class=\"dataframe\">\n",
       "  <thead>\n",
       "    <tr style=\"text-align: right;\">\n",
       "      <th></th>\n",
       "      <th>user</th>\n",
       "      <th>Database</th>\n",
       "      <th>Python</th>\n",
       "      <th>CloudComputing</th>\n",
       "      <th>DataAnalysis</th>\n",
       "      <th>Containers</th>\n",
       "      <th>MachineLearning</th>\n",
       "      <th>ComputerVision</th>\n",
       "      <th>DataScience</th>\n",
       "      <th>BigData</th>\n",
       "      <th>Chatbot</th>\n",
       "      <th>R</th>\n",
       "      <th>BackendDev</th>\n",
       "      <th>FrontendDev</th>\n",
       "      <th>Blockchain</th>\n",
       "    </tr>\n",
       "  </thead>\n",
       "  <tbody>\n",
       "    <tr>\n",
       "      <th>count</th>\n",
       "      <td>3.390100e+04</td>\n",
       "      <td>33901.000000</td>\n",
       "      <td>33901.000000</td>\n",
       "      <td>33901.000000</td>\n",
       "      <td>33901.000000</td>\n",
       "      <td>33901.000000</td>\n",
       "      <td>33901.000000</td>\n",
       "      <td>33901.000000</td>\n",
       "      <td>33901.000000</td>\n",
       "      <td>33901.000000</td>\n",
       "      <td>33901.000000</td>\n",
       "      <td>33901.000000</td>\n",
       "      <td>33901.000000</td>\n",
       "      <td>33901.000000</td>\n",
       "      <td>33901.000000</td>\n",
       "    </tr>\n",
       "    <tr>\n",
       "      <th>mean</th>\n",
       "      <td>1.064064e+06</td>\n",
       "      <td>5.518569</td>\n",
       "      <td>3.493791</td>\n",
       "      <td>2.307100</td>\n",
       "      <td>3.624701</td>\n",
       "      <td>0.998938</td>\n",
       "      <td>3.048022</td>\n",
       "      <td>0.001770</td>\n",
       "      <td>5.087343</td>\n",
       "      <td>4.750450</td>\n",
       "      <td>0.462995</td>\n",
       "      <td>1.017433</td>\n",
       "      <td>2.269461</td>\n",
       "      <td>0.315802</td>\n",
       "      <td>0.986844</td>\n",
       "    </tr>\n",
       "    <tr>\n",
       "      <th>std</th>\n",
       "      <td>4.972578e+05</td>\n",
       "      <td>7.611941</td>\n",
       "      <td>4.227254</td>\n",
       "      <td>3.841858</td>\n",
       "      <td>4.760135</td>\n",
       "      <td>2.351764</td>\n",
       "      <td>4.624004</td>\n",
       "      <td>0.072846</td>\n",
       "      <td>5.230697</td>\n",
       "      <td>7.216228</td>\n",
       "      <td>1.055186</td>\n",
       "      <td>2.342532</td>\n",
       "      <td>4.310752</td>\n",
       "      <td>1.363462</td>\n",
       "      <td>1.950585</td>\n",
       "    </tr>\n",
       "    <tr>\n",
       "      <th>min</th>\n",
       "      <td>2.000000e+00</td>\n",
       "      <td>0.000000</td>\n",
       "      <td>0.000000</td>\n",
       "      <td>0.000000</td>\n",
       "      <td>0.000000</td>\n",
       "      <td>0.000000</td>\n",
       "      <td>0.000000</td>\n",
       "      <td>0.000000</td>\n",
       "      <td>0.000000</td>\n",
       "      <td>0.000000</td>\n",
       "      <td>0.000000</td>\n",
       "      <td>0.000000</td>\n",
       "      <td>0.000000</td>\n",
       "      <td>0.000000</td>\n",
       "      <td>0.000000</td>\n",
       "    </tr>\n",
       "    <tr>\n",
       "      <th>25%</th>\n",
       "      <td>6.813480e+05</td>\n",
       "      <td>0.000000</td>\n",
       "      <td>0.000000</td>\n",
       "      <td>0.000000</td>\n",
       "      <td>0.000000</td>\n",
       "      <td>0.000000</td>\n",
       "      <td>0.000000</td>\n",
       "      <td>0.000000</td>\n",
       "      <td>0.000000</td>\n",
       "      <td>0.000000</td>\n",
       "      <td>0.000000</td>\n",
       "      <td>0.000000</td>\n",
       "      <td>0.000000</td>\n",
       "      <td>0.000000</td>\n",
       "      <td>0.000000</td>\n",
       "    </tr>\n",
       "    <tr>\n",
       "      <th>50%</th>\n",
       "      <td>1.043907e+06</td>\n",
       "      <td>3.000000</td>\n",
       "      <td>3.000000</td>\n",
       "      <td>0.000000</td>\n",
       "      <td>3.000000</td>\n",
       "      <td>0.000000</td>\n",
       "      <td>0.000000</td>\n",
       "      <td>0.000000</td>\n",
       "      <td>3.000000</td>\n",
       "      <td>2.000000</td>\n",
       "      <td>0.000000</td>\n",
       "      <td>0.000000</td>\n",
       "      <td>0.000000</td>\n",
       "      <td>0.000000</td>\n",
       "      <td>0.000000</td>\n",
       "    </tr>\n",
       "    <tr>\n",
       "      <th>75%</th>\n",
       "      <td>1.451159e+06</td>\n",
       "      <td>9.000000</td>\n",
       "      <td>6.000000</td>\n",
       "      <td>3.000000</td>\n",
       "      <td>6.000000</td>\n",
       "      <td>0.000000</td>\n",
       "      <td>3.000000</td>\n",
       "      <td>0.000000</td>\n",
       "      <td>9.000000</td>\n",
       "      <td>6.000000</td>\n",
       "      <td>0.000000</td>\n",
       "      <td>0.000000</td>\n",
       "      <td>3.000000</td>\n",
       "      <td>0.000000</td>\n",
       "      <td>2.000000</td>\n",
       "    </tr>\n",
       "    <tr>\n",
       "      <th>max</th>\n",
       "      <td>2.103039e+06</td>\n",
       "      <td>63.000000</td>\n",
       "      <td>18.000000</td>\n",
       "      <td>38.000000</td>\n",
       "      <td>48.000000</td>\n",
       "      <td>15.000000</td>\n",
       "      <td>39.000000</td>\n",
       "      <td>3.000000</td>\n",
       "      <td>32.000000</td>\n",
       "      <td>54.000000</td>\n",
       "      <td>6.000000</td>\n",
       "      <td>18.000000</td>\n",
       "      <td>54.000000</td>\n",
       "      <td>15.000000</td>\n",
       "      <td>12.000000</td>\n",
       "    </tr>\n",
       "  </tbody>\n",
       "</table>\n",
       "</div>"
      ],
      "text/plain": [
       "               user      Database        Python  CloudComputing  DataAnalysis  \\\n",
       "count  3.390100e+04  33901.000000  33901.000000    33901.000000  33901.000000   \n",
       "mean   1.064064e+06      5.518569      3.493791        2.307100      3.624701   \n",
       "std    4.972578e+05      7.611941      4.227254        3.841858      4.760135   \n",
       "min    2.000000e+00      0.000000      0.000000        0.000000      0.000000   \n",
       "25%    6.813480e+05      0.000000      0.000000        0.000000      0.000000   \n",
       "50%    1.043907e+06      3.000000      3.000000        0.000000      3.000000   \n",
       "75%    1.451159e+06      9.000000      6.000000        3.000000      6.000000   \n",
       "max    2.103039e+06     63.000000     18.000000       38.000000     48.000000   \n",
       "\n",
       "         Containers  MachineLearning  ComputerVision   DataScience  \\\n",
       "count  33901.000000     33901.000000    33901.000000  33901.000000   \n",
       "mean       0.998938         3.048022        0.001770      5.087343   \n",
       "std        2.351764         4.624004        0.072846      5.230697   \n",
       "min        0.000000         0.000000        0.000000      0.000000   \n",
       "25%        0.000000         0.000000        0.000000      0.000000   \n",
       "50%        0.000000         0.000000        0.000000      3.000000   \n",
       "75%        0.000000         3.000000        0.000000      9.000000   \n",
       "max       15.000000        39.000000        3.000000     32.000000   \n",
       "\n",
       "            BigData       Chatbot             R    BackendDev   FrontendDev  \\\n",
       "count  33901.000000  33901.000000  33901.000000  33901.000000  33901.000000   \n",
       "mean       4.750450      0.462995      1.017433      2.269461      0.315802   \n",
       "std        7.216228      1.055186      2.342532      4.310752      1.363462   \n",
       "min        0.000000      0.000000      0.000000      0.000000      0.000000   \n",
       "25%        0.000000      0.000000      0.000000      0.000000      0.000000   \n",
       "50%        2.000000      0.000000      0.000000      0.000000      0.000000   \n",
       "75%        6.000000      0.000000      0.000000      3.000000      0.000000   \n",
       "max       54.000000      6.000000     18.000000     54.000000     15.000000   \n",
       "\n",
       "         Blockchain  \n",
       "count  33901.000000  \n",
       "mean       0.986844  \n",
       "std        1.950585  \n",
       "min        0.000000  \n",
       "25%        0.000000  \n",
       "50%        0.000000  \n",
       "75%        2.000000  \n",
       "max       12.000000  "
      ]
     },
     "execution_count": 63,
     "metadata": {},
     "output_type": "execute_result"
    }
   ],
   "source": [
    "user_profile_df.describe()"
   ]
  },
  {
   "cell_type": "markdown",
   "id": "d5b6cbd3-ee7a-4f3b-bb09-aa9ba22d96e8",
   "metadata": {},
   "source": [
    "The original user profile feature vector is not normalized, which may cause issues when we perform clustering and Principal component analysis (PCA), therefor we standardize the data.\n"
   ]
  },
  {
   "cell_type": "code",
   "execution_count": 5,
   "id": "8efd1770-3325-4db5-80ca-19ff671ccf40",
   "metadata": {},
   "outputs": [
    {
     "name": "stdout",
     "output_type": "stream",
     "text": [
      "mean Database          -3.353495e-17\n",
      "Python            -5.700942e-17\n",
      "CloudComputing    -3.521170e-17\n",
      "DataAnalysis      -7.671120e-17\n",
      "Containers         3.353495e-18\n",
      "MachineLearning    3.688845e-17\n",
      "ComputerVision    -1.509073e-17\n",
      "DataScience       -1.676748e-17\n",
      "BigData            6.706990e-17\n",
      "Chatbot           -6.874665e-17\n",
      "R                  4.233788e-17\n",
      "BackendDev         1.383317e-17\n",
      "FrontendDev        5.051202e-17\n",
      "Blockchain        -5.281755e-17\n",
      "dtype: float64 and standard deviationDatabase           1.000015\n",
      "Python             1.000015\n",
      "CloudComputing     1.000015\n",
      "DataAnalysis       1.000015\n",
      "Containers         1.000015\n",
      "MachineLearning    1.000015\n",
      "ComputerVision     1.000015\n",
      "DataScience        1.000015\n",
      "BigData            1.000015\n",
      "Chatbot            1.000015\n",
      "R                  1.000015\n",
      "BackendDev         1.000015\n",
      "FrontendDev        1.000015\n",
      "Blockchain         1.000015\n",
      "dtype: float64 \n"
     ]
    }
   ],
   "source": [
    "# Use StandardScaler to make each feature with mean 0, standard deviation 1\n",
    "# Instantiating a StandardScaler object\n",
    "scaler = StandardScaler()\n",
    "\n",
    "# Standardizing the selected features (feature_names) in the user_profile_df DataFrame\n",
    "user_profile_df[feature_names] = scaler.fit_transform(user_profile_df[feature_names])\n",
    "\n",
    "# Printing the mean and standard deviation of the standardized features\n",
    "print(\"mean {} and standard deviation{} \".format(user_profile_df[feature_names].mean(), user_profile_df[feature_names].std()))"
   ]
  },
  {
   "cell_type": "code",
   "execution_count": 65,
   "id": "dd65e26e-eca3-4acd-bdbc-727421860b41",
   "metadata": {},
   "outputs": [
    {
     "data": {
      "application/vnd.microsoft.datawrangler.viewer.v0+json": {
       "columns": [
        {
         "name": "index",
         "rawType": "object",
         "type": "string"
        },
        {
         "name": "user",
         "rawType": "float64",
         "type": "float"
        },
        {
         "name": "Database",
         "rawType": "float64",
         "type": "float"
        },
        {
         "name": "Python",
         "rawType": "float64",
         "type": "float"
        },
        {
         "name": "CloudComputing",
         "rawType": "float64",
         "type": "float"
        },
        {
         "name": "DataAnalysis",
         "rawType": "float64",
         "type": "float"
        },
        {
         "name": "Containers",
         "rawType": "float64",
         "type": "float"
        },
        {
         "name": "MachineLearning",
         "rawType": "float64",
         "type": "float"
        },
        {
         "name": "ComputerVision",
         "rawType": "float64",
         "type": "float"
        },
        {
         "name": "DataScience",
         "rawType": "float64",
         "type": "float"
        },
        {
         "name": "BigData",
         "rawType": "float64",
         "type": "float"
        },
        {
         "name": "Chatbot",
         "rawType": "float64",
         "type": "float"
        },
        {
         "name": "R",
         "rawType": "float64",
         "type": "float"
        },
        {
         "name": "BackendDev",
         "rawType": "float64",
         "type": "float"
        },
        {
         "name": "FrontendDev",
         "rawType": "float64",
         "type": "float"
        },
        {
         "name": "Blockchain",
         "rawType": "float64",
         "type": "float"
        }
       ],
       "ref": "ba234e1f-596d-4e54-be50-ab1d60c63671",
       "rows": [
        [
         "count",
         "33901.0",
         "33901.0",
         "33901.0",
         "33901.0",
         "33901.0",
         "33901.0",
         "33901.0",
         "33901.0",
         "33901.0",
         "33901.0",
         "33901.0",
         "33901.0",
         "33901.0",
         "33901.0",
         "33901.0"
        ],
        [
         "mean",
         "1064064.4061237131",
         "-3.3534951099264337e-17",
         "-5.700941686874937e-17",
         "-3.521169865422755e-17",
         "-7.671120063956717e-17",
         "3.3534951099264337e-18",
         "3.6888446209190773e-17",
         "-1.5090727994668953e-17",
         "-1.6767475549632168e-17",
         "6.706990219852867e-17",
         "-6.87466497534919e-17",
         "4.2337875762821225e-17",
         "1.3833167328446539e-17",
         "5.051202009326691e-17",
         "-5.2817547981341334e-17"
        ],
        [
         "std",
         "497257.7578864578",
         "1.0000147491537683",
         "1.000014749153768",
         "1.000014749153768",
         "1.000014749153768",
         "1.000014749153768",
         "1.000014749153768",
         "1.0000147491537676",
         "1.000014749153768",
         "1.000014749153768",
         "1.000014749153768",
         "1.000014749153768",
         "1.0000147491537683",
         "1.0000147491537683",
         "1.0000147491537683"
        ],
        [
         "min",
         "2.0",
         "-0.7249991155796471",
         "-0.8265040433099933",
         "-0.6005255545376533",
         "-0.7614815784022432",
         "-0.42476740421456943",
         "-0.659183536029106",
         "-0.024296117978775573",
         "-0.9726080222112394",
         "-0.658310668757496",
         "-0.43878726373716664",
         "-0.43433699263462755",
         "-0.526473038087416",
         "-0.23162117133134713",
         "-0.5059295000852397"
        ],
        [
         "25%",
         "681348.0",
         "-0.7249991155796471",
         "-0.8265040433099933",
         "-0.6005255545376533",
         "-0.7614815784022432",
         "-0.42476740421456943",
         "-0.659183536029106",
         "-0.024296117978775573",
         "-0.9726080222112394",
         "-0.658310668757496",
         "-0.43878726373716664",
         "-0.43433699263462755",
         "-0.526473038087416",
         "-0.23162117133134713",
         "-0.5059295000852397"
        ],
        [
         "50%",
         "1043907.0",
         "-0.33087566874106117",
         "-0.11681296222663468",
         "-0.6005255545376533",
         "-0.13123800154135065",
         "-0.42476740421456943",
         "-0.659183536029106",
         "-0.024296117978775573",
         "-0.39906220052493796",
         "-0.3811534768974833",
         "-0.43878726373716664",
         "-0.43433699263462755",
         "-0.526473038087416",
         "-0.23162117133134713",
         "-0.5059295000852397"
        ],
        [
         "75%",
         "1451159.0",
         "0.45737122493611065",
         "0.5928781188567239",
         "0.18035806421041867",
         "0.4990055753195418",
         "-0.42476740421456943",
         "-0.010385564802966997",
         "-0.024296117978775573",
         "0.7480294428476651",
         "0.17316090682254212",
         "-0.43878726373716664",
         "-0.43433699263462755",
         "0.16947153204924742",
         "-0.23162117133134713",
         "0.5194189370625536"
        ],
        [
         "max",
         "2103039.0",
         "7.551593268030658",
         "3.4316424431901584",
         "9.290666949604592",
         "9.322415651372037",
         "5.953516858421538",
         "7.7751900899107005",
         "41.158838661944756",
         "5.145214075775977",
         "6.824933511462848",
         "5.2474998264591965",
         "7.249770944612189",
         "12.000529224372524",
         "10.769951772771027",
         "5.646161122801519"
        ]
       ],
       "shape": {
        "columns": 15,
        "rows": 8
       }
      },
      "text/html": [
       "<div>\n",
       "<style scoped>\n",
       "    .dataframe tbody tr th:only-of-type {\n",
       "        vertical-align: middle;\n",
       "    }\n",
       "\n",
       "    .dataframe tbody tr th {\n",
       "        vertical-align: top;\n",
       "    }\n",
       "\n",
       "    .dataframe thead th {\n",
       "        text-align: right;\n",
       "    }\n",
       "</style>\n",
       "<table border=\"1\" class=\"dataframe\">\n",
       "  <thead>\n",
       "    <tr style=\"text-align: right;\">\n",
       "      <th></th>\n",
       "      <th>user</th>\n",
       "      <th>Database</th>\n",
       "      <th>Python</th>\n",
       "      <th>CloudComputing</th>\n",
       "      <th>DataAnalysis</th>\n",
       "      <th>Containers</th>\n",
       "      <th>MachineLearning</th>\n",
       "      <th>ComputerVision</th>\n",
       "      <th>DataScience</th>\n",
       "      <th>BigData</th>\n",
       "      <th>Chatbot</th>\n",
       "      <th>R</th>\n",
       "      <th>BackendDev</th>\n",
       "      <th>FrontendDev</th>\n",
       "      <th>Blockchain</th>\n",
       "    </tr>\n",
       "  </thead>\n",
       "  <tbody>\n",
       "    <tr>\n",
       "      <th>count</th>\n",
       "      <td>3.390100e+04</td>\n",
       "      <td>3.390100e+04</td>\n",
       "      <td>3.390100e+04</td>\n",
       "      <td>3.390100e+04</td>\n",
       "      <td>3.390100e+04</td>\n",
       "      <td>3.390100e+04</td>\n",
       "      <td>3.390100e+04</td>\n",
       "      <td>3.390100e+04</td>\n",
       "      <td>3.390100e+04</td>\n",
       "      <td>3.390100e+04</td>\n",
       "      <td>3.390100e+04</td>\n",
       "      <td>3.390100e+04</td>\n",
       "      <td>3.390100e+04</td>\n",
       "      <td>3.390100e+04</td>\n",
       "      <td>3.390100e+04</td>\n",
       "    </tr>\n",
       "    <tr>\n",
       "      <th>mean</th>\n",
       "      <td>1.064064e+06</td>\n",
       "      <td>-3.353495e-17</td>\n",
       "      <td>-5.700942e-17</td>\n",
       "      <td>-3.521170e-17</td>\n",
       "      <td>-7.671120e-17</td>\n",
       "      <td>3.353495e-18</td>\n",
       "      <td>3.688845e-17</td>\n",
       "      <td>-1.509073e-17</td>\n",
       "      <td>-1.676748e-17</td>\n",
       "      <td>6.706990e-17</td>\n",
       "      <td>-6.874665e-17</td>\n",
       "      <td>4.233788e-17</td>\n",
       "      <td>1.383317e-17</td>\n",
       "      <td>5.051202e-17</td>\n",
       "      <td>-5.281755e-17</td>\n",
       "    </tr>\n",
       "    <tr>\n",
       "      <th>std</th>\n",
       "      <td>4.972578e+05</td>\n",
       "      <td>1.000015e+00</td>\n",
       "      <td>1.000015e+00</td>\n",
       "      <td>1.000015e+00</td>\n",
       "      <td>1.000015e+00</td>\n",
       "      <td>1.000015e+00</td>\n",
       "      <td>1.000015e+00</td>\n",
       "      <td>1.000015e+00</td>\n",
       "      <td>1.000015e+00</td>\n",
       "      <td>1.000015e+00</td>\n",
       "      <td>1.000015e+00</td>\n",
       "      <td>1.000015e+00</td>\n",
       "      <td>1.000015e+00</td>\n",
       "      <td>1.000015e+00</td>\n",
       "      <td>1.000015e+00</td>\n",
       "    </tr>\n",
       "    <tr>\n",
       "      <th>min</th>\n",
       "      <td>2.000000e+00</td>\n",
       "      <td>-7.249991e-01</td>\n",
       "      <td>-8.265040e-01</td>\n",
       "      <td>-6.005256e-01</td>\n",
       "      <td>-7.614816e-01</td>\n",
       "      <td>-4.247674e-01</td>\n",
       "      <td>-6.591835e-01</td>\n",
       "      <td>-2.429612e-02</td>\n",
       "      <td>-9.726080e-01</td>\n",
       "      <td>-6.583107e-01</td>\n",
       "      <td>-4.387873e-01</td>\n",
       "      <td>-4.343370e-01</td>\n",
       "      <td>-5.264730e-01</td>\n",
       "      <td>-2.316212e-01</td>\n",
       "      <td>-5.059295e-01</td>\n",
       "    </tr>\n",
       "    <tr>\n",
       "      <th>25%</th>\n",
       "      <td>6.813480e+05</td>\n",
       "      <td>-7.249991e-01</td>\n",
       "      <td>-8.265040e-01</td>\n",
       "      <td>-6.005256e-01</td>\n",
       "      <td>-7.614816e-01</td>\n",
       "      <td>-4.247674e-01</td>\n",
       "      <td>-6.591835e-01</td>\n",
       "      <td>-2.429612e-02</td>\n",
       "      <td>-9.726080e-01</td>\n",
       "      <td>-6.583107e-01</td>\n",
       "      <td>-4.387873e-01</td>\n",
       "      <td>-4.343370e-01</td>\n",
       "      <td>-5.264730e-01</td>\n",
       "      <td>-2.316212e-01</td>\n",
       "      <td>-5.059295e-01</td>\n",
       "    </tr>\n",
       "    <tr>\n",
       "      <th>50%</th>\n",
       "      <td>1.043907e+06</td>\n",
       "      <td>-3.308757e-01</td>\n",
       "      <td>-1.168130e-01</td>\n",
       "      <td>-6.005256e-01</td>\n",
       "      <td>-1.312380e-01</td>\n",
       "      <td>-4.247674e-01</td>\n",
       "      <td>-6.591835e-01</td>\n",
       "      <td>-2.429612e-02</td>\n",
       "      <td>-3.990622e-01</td>\n",
       "      <td>-3.811535e-01</td>\n",
       "      <td>-4.387873e-01</td>\n",
       "      <td>-4.343370e-01</td>\n",
       "      <td>-5.264730e-01</td>\n",
       "      <td>-2.316212e-01</td>\n",
       "      <td>-5.059295e-01</td>\n",
       "    </tr>\n",
       "    <tr>\n",
       "      <th>75%</th>\n",
       "      <td>1.451159e+06</td>\n",
       "      <td>4.573712e-01</td>\n",
       "      <td>5.928781e-01</td>\n",
       "      <td>1.803581e-01</td>\n",
       "      <td>4.990056e-01</td>\n",
       "      <td>-4.247674e-01</td>\n",
       "      <td>-1.038556e-02</td>\n",
       "      <td>-2.429612e-02</td>\n",
       "      <td>7.480294e-01</td>\n",
       "      <td>1.731609e-01</td>\n",
       "      <td>-4.387873e-01</td>\n",
       "      <td>-4.343370e-01</td>\n",
       "      <td>1.694715e-01</td>\n",
       "      <td>-2.316212e-01</td>\n",
       "      <td>5.194189e-01</td>\n",
       "    </tr>\n",
       "    <tr>\n",
       "      <th>max</th>\n",
       "      <td>2.103039e+06</td>\n",
       "      <td>7.551593e+00</td>\n",
       "      <td>3.431642e+00</td>\n",
       "      <td>9.290667e+00</td>\n",
       "      <td>9.322416e+00</td>\n",
       "      <td>5.953517e+00</td>\n",
       "      <td>7.775190e+00</td>\n",
       "      <td>4.115884e+01</td>\n",
       "      <td>5.145214e+00</td>\n",
       "      <td>6.824934e+00</td>\n",
       "      <td>5.247500e+00</td>\n",
       "      <td>7.249771e+00</td>\n",
       "      <td>1.200053e+01</td>\n",
       "      <td>1.076995e+01</td>\n",
       "      <td>5.646161e+00</td>\n",
       "    </tr>\n",
       "  </tbody>\n",
       "</table>\n",
       "</div>"
      ],
      "text/plain": [
       "               user      Database        Python  CloudComputing  DataAnalysis  \\\n",
       "count  3.390100e+04  3.390100e+04  3.390100e+04    3.390100e+04  3.390100e+04   \n",
       "mean   1.064064e+06 -3.353495e-17 -5.700942e-17   -3.521170e-17 -7.671120e-17   \n",
       "std    4.972578e+05  1.000015e+00  1.000015e+00    1.000015e+00  1.000015e+00   \n",
       "min    2.000000e+00 -7.249991e-01 -8.265040e-01   -6.005256e-01 -7.614816e-01   \n",
       "25%    6.813480e+05 -7.249991e-01 -8.265040e-01   -6.005256e-01 -7.614816e-01   \n",
       "50%    1.043907e+06 -3.308757e-01 -1.168130e-01   -6.005256e-01 -1.312380e-01   \n",
       "75%    1.451159e+06  4.573712e-01  5.928781e-01    1.803581e-01  4.990056e-01   \n",
       "max    2.103039e+06  7.551593e+00  3.431642e+00    9.290667e+00  9.322416e+00   \n",
       "\n",
       "         Containers  MachineLearning  ComputerVision   DataScience  \\\n",
       "count  3.390100e+04     3.390100e+04    3.390100e+04  3.390100e+04   \n",
       "mean   3.353495e-18     3.688845e-17   -1.509073e-17 -1.676748e-17   \n",
       "std    1.000015e+00     1.000015e+00    1.000015e+00  1.000015e+00   \n",
       "min   -4.247674e-01    -6.591835e-01   -2.429612e-02 -9.726080e-01   \n",
       "25%   -4.247674e-01    -6.591835e-01   -2.429612e-02 -9.726080e-01   \n",
       "50%   -4.247674e-01    -6.591835e-01   -2.429612e-02 -3.990622e-01   \n",
       "75%   -4.247674e-01    -1.038556e-02   -2.429612e-02  7.480294e-01   \n",
       "max    5.953517e+00     7.775190e+00    4.115884e+01  5.145214e+00   \n",
       "\n",
       "            BigData       Chatbot             R    BackendDev   FrontendDev  \\\n",
       "count  3.390100e+04  3.390100e+04  3.390100e+04  3.390100e+04  3.390100e+04   \n",
       "mean   6.706990e-17 -6.874665e-17  4.233788e-17  1.383317e-17  5.051202e-17   \n",
       "std    1.000015e+00  1.000015e+00  1.000015e+00  1.000015e+00  1.000015e+00   \n",
       "min   -6.583107e-01 -4.387873e-01 -4.343370e-01 -5.264730e-01 -2.316212e-01   \n",
       "25%   -6.583107e-01 -4.387873e-01 -4.343370e-01 -5.264730e-01 -2.316212e-01   \n",
       "50%   -3.811535e-01 -4.387873e-01 -4.343370e-01 -5.264730e-01 -2.316212e-01   \n",
       "75%    1.731609e-01 -4.387873e-01 -4.343370e-01  1.694715e-01 -2.316212e-01   \n",
       "max    6.824934e+00  5.247500e+00  7.249771e+00  1.200053e+01  1.076995e+01   \n",
       "\n",
       "         Blockchain  \n",
       "count  3.390100e+04  \n",
       "mean  -5.281755e-17  \n",
       "std    1.000015e+00  \n",
       "min   -5.059295e-01  \n",
       "25%   -5.059295e-01  \n",
       "50%   -5.059295e-01  \n",
       "75%    5.194189e-01  \n",
       "max    5.646161e+00  "
      ]
     },
     "execution_count": 65,
     "metadata": {},
     "output_type": "execute_result"
    }
   ],
   "source": [
    "user_profile_df.describe()"
   ]
  },
  {
   "cell_type": "markdown",
   "id": "edb16bbb-4078-4570-b9e6-1c32f8103750",
   "metadata": {},
   "source": [
    "The normalized user profile features are: \n"
   ]
  },
  {
   "cell_type": "code",
   "execution_count": 6,
   "id": "885bc899-5b81-424a-9600-74c6771c62e3",
   "metadata": {},
   "outputs": [
    {
     "data": {
      "application/vnd.microsoft.datawrangler.viewer.v0+json": {
       "columns": [
        {
         "name": "index",
         "rawType": "int64",
         "type": "integer"
        },
        {
         "name": "Database",
         "rawType": "float64",
         "type": "float"
        },
        {
         "name": "Python",
         "rawType": "float64",
         "type": "float"
        },
        {
         "name": "CloudComputing",
         "rawType": "float64",
         "type": "float"
        },
        {
         "name": "DataAnalysis",
         "rawType": "float64",
         "type": "float"
        },
        {
         "name": "Containers",
         "rawType": "float64",
         "type": "float"
        },
        {
         "name": "MachineLearning",
         "rawType": "float64",
         "type": "float"
        },
        {
         "name": "ComputerVision",
         "rawType": "float64",
         "type": "float"
        },
        {
         "name": "DataScience",
         "rawType": "float64",
         "type": "float"
        },
        {
         "name": "BigData",
         "rawType": "float64",
         "type": "float"
        },
        {
         "name": "Chatbot",
         "rawType": "float64",
         "type": "float"
        },
        {
         "name": "R",
         "rawType": "float64",
         "type": "float"
        },
        {
         "name": "BackendDev",
         "rawType": "float64",
         "type": "float"
        },
        {
         "name": "FrontendDev",
         "rawType": "float64",
         "type": "float"
        },
        {
         "name": "Blockchain",
         "rawType": "float64",
         "type": "float"
        }
       ],
       "ref": "9340e94f-be59-4510-897a-321070419b08",
       "rows": [
        [
         "0",
         "6.106473962955842",
         "2.485387668412347",
         "0.9612416829584906",
         "8.272009689937216",
         "0.850889448312652",
         "6.477594147458423",
         "-0.024296117978775573",
         "4.571668254089675",
         "5.0234117643727645",
         "1.4566417663282878",
         "7.249770944612189",
         "7.360898756794769",
         "6.369322595130077",
         "2.5701158113581397"
        ],
        [
         "1",
         "4.529980175601499",
         "-0.3533766559210875",
         "0.44065260379310933",
         "5.120791805632754",
         "-0.42476740421456943",
         "2.368540329692876",
         "-0.024296117978775573",
         "2.851030789030771",
         "2.6675756335626564",
         "-0.43878726373716664",
         "2.127032319780978",
         "0.8654161021859108",
         "-0.23162117133134713",
         "0.5194189370625536"
        ],
        [
         "2",
         "2.4279884591290406",
         "1.0660055062456297",
         "4.084776157950778",
         "4.280467036484897",
         "-0.42476740421456943",
         "5.828796176232284",
         "-0.024296117978775573",
         "3.233394670154972",
         "1.281789674262593",
         "1.4566417663282878",
         "5.542191403001785",
         "5.505046569763667",
         "2.702131613762619",
         "2.5701158113581397"
        ],
        [
         "3",
         "-0.4622501510205898",
         "-0.8265040433099933",
         "-0.6005255545376533",
         "-0.3413191938283148",
         "-0.42476740421456943",
         "-0.659183536029106",
         "-0.024296117978775573",
         "-0.9726080222112394",
         "-0.3811534768974833",
         "-0.43878726373716664",
         "-0.43433699263462755",
         "-0.526473038087416",
         "-0.23162117133134713",
         "-0.5059295000852397"
        ],
        [
         "4",
         "0.06324777809752474",
         "-0.8265040433099933",
         "-0.6005255545376533",
         "0.07884319074561352",
         "-0.42476740421456943",
         "-0.659183536029106",
         "-0.024296117978775573",
         "-0.9726080222112394",
         "0.17316090682254212",
         "-0.43878726373716664",
         "0.41945277817057425",
         "-0.526473038087416",
         "-0.23162117133134713",
         "-0.5059295000852397"
        ],
        [
         "5",
         "1.3769926008928113",
         "-0.8265040433099933",
         "-0.6005255545376533",
         "0.4990055753195418",
         "-0.42476740421456943",
         "-0.22665155521167998",
         "-0.024296117978775573",
         "-0.9726080222112394",
         "1.281789674262593",
         "1.4566417663282878",
         "0.41945277817057425",
         "-0.526473038087416",
         "-0.23162117133134713",
         "-0.5059295000852397"
        ],
        [
         "6",
         "0.06324777809752474",
         "-0.3533766559210875",
         "-0.6005255545376533",
         "0.9191679598934701",
         "-0.42476740421456943",
         "0.20588042560574601",
         "-0.024296117978775573",
         "-0.2078802599628374",
         "0.17316090682254212",
         "1.4566417663282878",
         "-0.43433699263462755",
         "-0.06250999132964037",
         "1.2352552212156358",
         "0.5194189370625536"
        ],
        [
         "7",
         "0.8514946717746966",
         "1.0660055062456297",
         "-0.6005255545376533",
         "0.4990055753195418",
         "-0.42476740421456943",
         "1.0709443872405982",
         "-0.024296117978775573",
         "0.5568475022855647",
         "1.0046324824025803",
         "-0.43878726373716664",
         "-0.43433699263462755",
         "0.16947153204924742",
         "-0.23162117133134713",
         "1.0320931556364503"
        ],
        [
         "8",
         "-0.7249991155796471",
         "-0.8265040433099933",
         "-0.6005255545376533",
         "-0.7614815784022432",
         "-0.42476740421456943",
         "-0.22665155521167998",
         "-0.024296117978775573",
         "-0.9726080222112394",
         "-0.658310668757496",
         "-0.43878726373716664",
         "-0.43433699263462755",
         "-0.526473038087416",
         "-0.23162117133134713",
         "-0.5059295000852397"
        ],
        [
         "9",
         "-0.4622501510205898",
         "-0.8265040433099933",
         "-0.6005255545376533",
         "-0.7614815784022432",
         "-0.42476740421456943",
         "-0.659183536029106",
         "-0.024296117978775573",
         "-0.9726080222112394",
         "-0.10399628503747059",
         "-0.43878726373716664",
         "-0.43433699263462755",
         "-0.06250999132964037",
         "-0.23162117133134713",
         "-0.5059295000852397"
        ],
        [
         "10",
         "-0.7249991155796471",
         "-0.8265040433099933",
         "-0.6005255545376533",
         "-0.7614815784022432",
         "-0.42476740421456943",
         "-0.22665155521167998",
         "-0.024296117978775573",
         "-0.9726080222112394",
         "-0.658310668757496",
         "-0.43878726373716664",
         "-0.43433699263462755",
         "-0.06250999132964037",
         "1.2352552212156358",
         "-0.5059295000852397"
        ],
        [
         "11",
         "-0.4622501510205898",
         "-0.8265040433099933",
         "-0.6005255545376533",
         "-0.7614815784022432",
         "-0.42476740421456943",
         "-0.659183536029106",
         "-0.024296117978775573",
         "-0.9726080222112394",
         "-0.3811534768974833",
         "-0.43878726373716664",
         "-0.43433699263462755",
         "-0.526473038087416",
         "-0.23162117133134713",
         "-0.5059295000852397"
        ],
        [
         "12",
         "-0.7249991155796471",
         "-0.3533766559210875",
         "-0.6005255545376533",
         "-0.7614815784022432",
         "-0.42476740421456943",
         "-0.22665155521167998",
         "-0.024296117978775573",
         "-0.5902441410870385",
         "-0.658310668757496",
         "-0.43878726373716664",
         "0.41945277817057425",
         "-0.526473038087416",
         "-0.23162117133134713",
         "-0.5059295000852397"
        ],
        [
         "13",
         "-0.19950118646153253",
         "-0.3533766559210875",
         "-0.6005255545376533",
         "0.4990055753195418",
         "-0.42476740421456943",
         "0.20588042560574601",
         "-0.024296117978775573",
         "-0.2078802599628374",
         "-0.10399628503747059",
         "-0.43878726373716664",
         "-0.43433699263462755",
         "-0.526473038087416",
         "-0.23162117133134713",
         "-0.5059295000852397"
        ],
        [
         "14",
         "1.114243636333754",
         "-0.8265040433099933",
         "-0.07993647537227198",
         "1.3393303444673985",
         "-0.42476740421456943",
         "-0.22665155521167998",
         "-0.024296117978775573",
         "-0.2078802599628374",
         "1.0046324824025803",
         "-0.43878726373716664",
         "-0.43433699263462755",
         "0.8654161021859108",
         "-0.23162117133134713",
         "0.5194189370625536"
        ],
        [
         "15",
         "-0.4622501510205898",
         "-0.8265040433099933",
         "-0.6005255545376533",
         "-0.7614815784022432",
         "-0.42476740421456943",
         "-0.659183536029106",
         "-0.024296117978775573",
         "-0.9726080222112394",
         "-0.658310668757496",
         "-0.43878726373716664",
         "-0.43433699263462755",
         "-0.526473038087416",
         "-0.23162117133134713",
         "-0.5059295000852397"
        ],
        [
         "16",
         "-0.4622501510205898",
         "-0.8265040433099933",
         "-0.6005255545376533",
         "-0.3413191938283148",
         "-0.42476740421456943",
         "-0.22665155521167998",
         "-0.024296117978775573",
         "-0.9726080222112394",
         "-0.658310668757496",
         "-0.43878726373716664",
         "0.41945277817057425",
         "-0.06250999132964037",
         "1.2352552212156358",
         "-0.5059295000852397"
        ],
        [
         "17",
         "1.6397415654518686",
         "-0.3533766559210875",
         "-0.07993647537227198",
         "2.1796551136152553",
         "-0.42476740421456943",
         "1.0709443872405982",
         "-0.024296117978775573",
         "1.3215752645339667",
         "1.8361040579826184",
         "-0.43878726373716664",
         "2.127032319780978",
         "-0.526473038087416",
         "-0.23162117133134713",
         "-0.5059295000852397"
        ],
        [
         "18",
         "-0.4622501510205898",
         "-0.8265040433099933",
         "-0.6005255545376533",
         "-0.3413191938283148",
         "-0.42476740421456943",
         "0.20588042560574601",
         "-0.024296117978775573",
         "-0.2078802599628374",
         "-0.3811534768974833",
         "-0.43878726373716664",
         "-0.43433699263462755",
         "-0.526473038087416",
         "-0.23162117133134713",
         "-0.5059295000852397"
        ],
        [
         "19",
         "-0.4622501510205898",
         "-0.8265040433099933",
         "-0.6005255545376533",
         "-0.7614815784022432",
         "-0.42476740421456943",
         "1.0709443872405982",
         "-0.024296117978775573",
         "0.5568475022855647",
         "-0.3811534768974833",
         "-0.43878726373716664",
         "-0.43433699263462755",
         "-0.526473038087416",
         "-0.23162117133134713",
         "-0.5059295000852397"
        ],
        [
         "20",
         "-0.4622501510205898",
         "-0.8265040433099933",
         "-0.6005255545376533",
         "-0.3413191938283148",
         "-0.42476740421456943",
         "-0.659183536029106",
         "-0.024296117978775573",
         "-0.9726080222112394",
         "-0.3811534768974833",
         "-0.43878726373716664",
         "-0.43433699263462755",
         "-0.526473038087416",
         "-0.23162117133134713",
         "-0.5059295000852397"
        ],
        [
         "21",
         "-0.4622501510205898",
         "-0.8265040433099933",
         "-0.6005255545376533",
         "-0.7614815784022432",
         "-0.42476740421456943",
         "-0.659183536029106",
         "-0.024296117978775573",
         "-0.9726080222112394",
         "-0.3811534768974833",
         "-0.43878726373716664",
         "-0.43433699263462755",
         "-0.526473038087416",
         "-0.23162117133134713",
         "-0.5059295000852397"
        ],
        [
         "22",
         "-0.19950118646153253",
         "-0.8265040433099933",
         "-0.07993647537227198",
         "0.07884319074561352",
         "-0.42476740421456943",
         "-0.659183536029106",
         "-0.024296117978775573",
         "-0.9726080222112394",
         "-0.10399628503747059",
         "-0.43878726373716664",
         "-0.43433699263462755",
         "-0.526473038087416",
         "-0.23162117133134713",
         "-0.5059295000852397"
        ],
        [
         "23",
         "-0.19950118646153253",
         "-0.8265040433099933",
         "-0.07993647537227198",
         "0.4990055753195418",
         "-0.42476740421456943",
         "-0.659183536029106",
         "-0.024296117978775573",
         "-0.9726080222112394",
         "-0.10399628503747059",
         "-0.43878726373716664",
         "1.273242548975776",
         "-0.526473038087416",
         "-0.23162117133134713",
         "-0.5059295000852397"
        ],
        [
         "24",
         "0.06324777809752474",
         "-0.8265040433099933",
         "-0.6005255545376533",
         "0.4990055753195418",
         "-0.42476740421456943",
         "-0.22665155521167998",
         "-0.024296117978775573",
         "-0.2078802599628374",
         "-0.3811534768974833",
         "1.4566417663282878",
         "-0.43433699263462755",
         "-0.526473038087416",
         "-0.23162117133134713",
         "-0.5059295000852397"
        ],
        [
         "25",
         "0.325996742656582",
         "-0.8265040433099933",
         "-0.07993647537227198",
         "0.4990055753195418",
         "-0.42476740421456943",
         "-0.659183536029106",
         "-0.024296117978775573",
         "-0.9726080222112394",
         "-0.10399628503747059",
         "-0.43878726373716664",
         "1.273242548975776",
         "-0.526473038087416",
         "-0.23162117133134713",
         "-0.5059295000852397"
        ],
        [
         "26",
         "0.06324777809752474",
         "-0.8265040433099933",
         "-0.07993647537227198",
         "0.07884319074561352",
         "-0.42476740421456943",
         "-0.659183536029106",
         "-0.024296117978775573",
         "-0.9726080222112394",
         "0.17316090682254212",
         "-0.43878726373716664",
         "-0.43433699263462755",
         "-0.526473038087416",
         "-0.23162117133134713",
         "-0.5059295000852397"
        ],
        [
         "27",
         "-0.19950118646153253",
         "-0.8265040433099933",
         "-0.6005255545376533",
         "-0.3413191938283148",
         "-0.42476740421456943",
         "-0.659183536029106",
         "-0.024296117978775573",
         "-0.9726080222112394",
         "-0.10399628503747059",
         "-0.43878726373716664",
         "-0.43433699263462755",
         "-0.526473038087416",
         "-0.23162117133134713",
         "-0.5059295000852397"
        ],
        [
         "28",
         "-0.7249991155796471",
         "-0.8265040433099933",
         "-0.6005255545376533",
         "-0.3413191938283148",
         "-0.42476740421456943",
         "-0.659183536029106",
         "-0.024296117978775573",
         "-0.9726080222112394",
         "-0.658310668757496",
         "-0.43878726373716664",
         "-0.43433699263462755",
         "-0.526473038087416",
         "-0.23162117133134713",
         "-0.5059295000852397"
        ],
        [
         "29",
         "0.06324777809752474",
         "-0.8265040433099933",
         "-0.07993647537227198",
         "0.07884319074561352",
         "-0.42476740421456943",
         "-0.659183536029106",
         "-0.024296117978775573",
         "-0.9726080222112394",
         "0.17316090682254212",
         "-0.43878726373716664",
         "-0.43433699263462755",
         "-0.526473038087416",
         "-0.23162117133134713",
         "-0.5059295000852397"
        ],
        [
         "30",
         "0.06324777809752474",
         "-0.8265040433099933",
         "-0.6005255545376533",
         "-0.3413191938283148",
         "-0.42476740421456943",
         "-0.659183536029106",
         "-0.024296117978775573",
         "-0.9726080222112394",
         "0.17316090682254212",
         "-0.43878726373716664",
         "0.41945277817057425",
         "-0.526473038087416",
         "-0.23162117133134713",
         "-0.5059295000852397"
        ],
        [
         "31",
         "0.06324777809752474",
         "-0.8265040433099933",
         "-0.07993647537227198",
         "0.07884319074561352",
         "-0.42476740421456943",
         "-0.659183536029106",
         "-0.024296117978775573",
         "-0.9726080222112394",
         "0.17316090682254212",
         "-0.43878726373716664",
         "-0.43433699263462755",
         "-0.526473038087416",
         "-0.23162117133134713",
         "-0.5059295000852397"
        ],
        [
         "32",
         "0.325996742656582",
         "-0.8265040433099933",
         "-0.07993647537227198",
         "0.07884319074561352",
         "-0.42476740421456943",
         "-0.659183536029106",
         "-0.024296117978775573",
         "-0.9726080222112394",
         "0.45031809868255485",
         "-0.43878726373716664",
         "-0.43433699263462755",
         "-0.526473038087416",
         "-0.23162117133134713",
         "-0.5059295000852397"
        ],
        [
         "33",
         "0.06324777809752474",
         "-0.8265040433099933",
         "-0.07993647537227198",
         "0.07884319074561352",
         "-0.42476740421456943",
         "-0.659183536029106",
         "-0.024296117978775573",
         "-0.9726080222112394",
         "0.17316090682254212",
         "-0.43878726373716664",
         "0.41945277817057425",
         "-0.526473038087416",
         "-0.23162117133134713",
         "-0.5059295000852397"
        ],
        [
         "34",
         "-0.4622501510205898",
         "-0.3533766559210875",
         "-0.6005255545376533",
         "-0.3413191938283148",
         "-0.42476740421456943",
         "-0.22665155521167998",
         "-0.024296117978775573",
         "-0.2078802599628374",
         "-0.3811534768974833",
         "-0.43878726373716664",
         "0.41945277817057425",
         "-0.526473038087416",
         "-0.23162117133134713",
         "-0.5059295000852397"
        ],
        [
         "35",
         "-0.4622501510205898",
         "-0.8265040433099933",
         "-0.6005255545376533",
         "-0.7614815784022432",
         "-0.42476740421456943",
         "-0.659183536029106",
         "-0.024296117978775573",
         "-0.9726080222112394",
         "-0.3811534768974833",
         "-0.43878726373716664",
         "-0.43433699263462755",
         "-0.526473038087416",
         "-0.23162117133134713",
         "-0.5059295000852397"
        ],
        [
         "36",
         "-0.7249991155796471",
         "-0.8265040433099933",
         "-0.6005255545376533",
         "-0.7614815784022432",
         "-0.42476740421456943",
         "-0.659183536029106",
         "-0.024296117978775573",
         "-0.9726080222112394",
         "-0.658310668757496",
         "-0.43878726373716664",
         "0.41945277817057425",
         "-0.526473038087416",
         "-0.23162117133134713",
         "-0.5059295000852397"
        ],
        [
         "37",
         "-0.4622501510205898",
         "-0.8265040433099933",
         "-0.07993647537227198",
         "-0.3413191938283148",
         "-0.42476740421456943",
         "-0.659183536029106",
         "-0.024296117978775573",
         "-0.9726080222112394",
         "-0.3811534768974833",
         "-0.43878726373716664",
         "0.41945277817057425",
         "-0.526473038087416",
         "-0.23162117133134713",
         "-0.5059295000852397"
        ],
        [
         "38",
         "-0.4622501510205898",
         "-0.8265040433099933",
         "-0.07993647537227198",
         "-0.3413191938283148",
         "-0.42476740421456943",
         "-0.659183536029106",
         "-0.024296117978775573",
         "-0.9726080222112394",
         "-0.3811534768974833",
         "-0.43878726373716664",
         "-0.43433699263462755",
         "-0.526473038087416",
         "-0.23162117133134713",
         "-0.5059295000852397"
        ],
        [
         "39",
         "-0.7249991155796471",
         "-0.8265040433099933",
         "-0.07993647537227198",
         "-0.3413191938283148",
         "-0.42476740421456943",
         "-0.659183536029106",
         "-0.024296117978775573",
         "-0.9726080222112394",
         "-0.658310668757496",
         "-0.43878726373716664",
         "-0.43433699263462755",
         "-0.526473038087416",
         "-0.23162117133134713",
         "-0.5059295000852397"
        ],
        [
         "40",
         "-0.4622501510205898",
         "-0.8265040433099933",
         "-0.07993647537227198",
         "-0.3413191938283148",
         "-0.42476740421456943",
         "-0.659183536029106",
         "-0.024296117978775573",
         "-0.9726080222112394",
         "-0.3811534768974833",
         "-0.43878726373716664",
         "-0.43433699263462755",
         "-0.526473038087416",
         "-0.23162117133134713",
         "-0.5059295000852397"
        ],
        [
         "41",
         "0.06324777809752474",
         "-0.8265040433099933",
         "-0.07993647537227198",
         "0.07884319074561352",
         "-0.42476740421456943",
         "-0.659183536029106",
         "-0.024296117978775573",
         "-0.9726080222112394",
         "0.17316090682254212",
         "-0.43878726373716664",
         "-0.43433699263462755",
         "-0.526473038087416",
         "-0.23162117133134713",
         "-0.5059295000852397"
        ],
        [
         "42",
         "-0.4622501510205898",
         "-0.8265040433099933",
         "-0.6005255545376533",
         "-0.7614815784022432",
         "-0.42476740421456943",
         "-0.659183536029106",
         "-0.024296117978775573",
         "-0.9726080222112394",
         "-0.3811534768974833",
         "-0.43878726373716664",
         "-0.43433699263462755",
         "-0.526473038087416",
         "-0.23162117133134713",
         "-0.5059295000852397"
        ],
        [
         "43",
         "-0.19950118646153253",
         "-0.3533766559210875",
         "-0.07993647537227198",
         "-0.3413191938283148",
         "-0.42476740421456943",
         "-0.010385564802966997",
         "-0.024296117978775573",
         "1.7039391456581678",
         "0.31173950275254847",
         "-0.43878726373716664",
         "1.7001374343783768",
         "-0.526473038087416",
         "-0.23162117133134713",
         "1.0320931556364503"
        ],
        [
         "44",
         "-0.4622501510205898",
         "-0.8265040433099933",
         "-0.6005255545376533",
         "-0.7614815784022432",
         "-0.42476740421456943",
         "-0.659183536029106",
         "-0.024296117978775573",
         "-0.9726080222112394",
         "-0.3811534768974833",
         "-0.43878726373716664",
         "-0.43433699263462755",
         "-0.526473038087416",
         "-0.23162117133134713",
         "-0.5059295000852397"
        ],
        [
         "45",
         "-0.7249991155796471",
         "-0.8265040433099933",
         "-0.07993647537227198",
         "0.07884319074561352",
         "-0.42476740421456943",
         "-0.659183536029106",
         "-0.024296117978775573",
         "-0.9726080222112394",
         "-0.658310668757496",
         "-0.43878726373716664",
         "-0.43433699263462755",
         "-0.526473038087416",
         "-0.23162117133134713",
         "-0.5059295000852397"
        ],
        [
         "46",
         "3.4789843173652697",
         "-0.3533766559210875",
         "0.44065260379310933",
         "3.4401422673370403",
         "-0.42476740421456943",
         "1.0709443872405982",
         "-0.024296117978775573",
         "0.9392113834097657",
         "2.6675756335626564",
         "-0.43878726373716664",
         "1.273242548975776",
         "0.8654161021859108",
         "-0.23162117133134713",
         "0.5194189370625536"
        ],
        [
         "47",
         "-0.4622501510205898",
         "-0.8265040433099933",
         "-0.07993647537227198",
         "-0.3413191938283148",
         "-0.42476740421456943",
         "-0.659183536029106",
         "-0.024296117978775573",
         "-0.9726080222112394",
         "-0.3811534768974833",
         "-0.43878726373716664",
         "-0.43433699263462755",
         "-0.526473038087416",
         "-0.23162117133134713",
         "-0.5059295000852397"
        ],
        [
         "48",
         "2.4279884591290406",
         "-0.3533766559210875",
         "-0.07993647537227198",
         "2.5998174981891835",
         "-0.42476740421456943",
         "-0.22665155521167998",
         "-0.024296117978775573",
         "-0.5902441410870385",
         "1.0046324824025803",
         "-0.43878726373716664",
         "0.41945277817057425",
         "0.4014530554281352",
         "-0.23162117133134713",
         "0.5194189370625536"
        ],
        [
         "49",
         "-0.4622501510205898",
         "-0.8265040433099933",
         "-0.6005255545376533",
         "-0.7614815784022432",
         "-0.42476740421456943",
         "-0.659183536029106",
         "-0.024296117978775573",
         "-0.9726080222112394",
         "-0.3811534768974833",
         "-0.43878726373716664",
         "-0.43433699263462755",
         "-0.526473038087416",
         "-0.23162117133134713",
         "-0.5059295000852397"
        ]
       ],
       "shape": {
        "columns": 14,
        "rows": 33901
       }
      },
      "text/html": [
       "<div>\n",
       "<style scoped>\n",
       "    .dataframe tbody tr th:only-of-type {\n",
       "        vertical-align: middle;\n",
       "    }\n",
       "\n",
       "    .dataframe tbody tr th {\n",
       "        vertical-align: top;\n",
       "    }\n",
       "\n",
       "    .dataframe thead th {\n",
       "        text-align: right;\n",
       "    }\n",
       "</style>\n",
       "<table border=\"1\" class=\"dataframe\">\n",
       "  <thead>\n",
       "    <tr style=\"text-align: right;\">\n",
       "      <th></th>\n",
       "      <th>Database</th>\n",
       "      <th>Python</th>\n",
       "      <th>CloudComputing</th>\n",
       "      <th>DataAnalysis</th>\n",
       "      <th>Containers</th>\n",
       "      <th>MachineLearning</th>\n",
       "      <th>ComputerVision</th>\n",
       "      <th>DataScience</th>\n",
       "      <th>BigData</th>\n",
       "      <th>Chatbot</th>\n",
       "      <th>R</th>\n",
       "      <th>BackendDev</th>\n",
       "      <th>FrontendDev</th>\n",
       "      <th>Blockchain</th>\n",
       "    </tr>\n",
       "  </thead>\n",
       "  <tbody>\n",
       "    <tr>\n",
       "      <th>0</th>\n",
       "      <td>6.106474</td>\n",
       "      <td>2.485388</td>\n",
       "      <td>0.961242</td>\n",
       "      <td>8.272010</td>\n",
       "      <td>0.850889</td>\n",
       "      <td>6.477594</td>\n",
       "      <td>-0.024296</td>\n",
       "      <td>4.571668</td>\n",
       "      <td>5.023412</td>\n",
       "      <td>1.456642</td>\n",
       "      <td>7.249771</td>\n",
       "      <td>7.360899</td>\n",
       "      <td>6.369323</td>\n",
       "      <td>2.570116</td>\n",
       "    </tr>\n",
       "    <tr>\n",
       "      <th>1</th>\n",
       "      <td>4.529980</td>\n",
       "      <td>-0.353377</td>\n",
       "      <td>0.440653</td>\n",
       "      <td>5.120792</td>\n",
       "      <td>-0.424767</td>\n",
       "      <td>2.368540</td>\n",
       "      <td>-0.024296</td>\n",
       "      <td>2.851031</td>\n",
       "      <td>2.667576</td>\n",
       "      <td>-0.438787</td>\n",
       "      <td>2.127032</td>\n",
       "      <td>0.865416</td>\n",
       "      <td>-0.231621</td>\n",
       "      <td>0.519419</td>\n",
       "    </tr>\n",
       "    <tr>\n",
       "      <th>2</th>\n",
       "      <td>2.427988</td>\n",
       "      <td>1.066006</td>\n",
       "      <td>4.084776</td>\n",
       "      <td>4.280467</td>\n",
       "      <td>-0.424767</td>\n",
       "      <td>5.828796</td>\n",
       "      <td>-0.024296</td>\n",
       "      <td>3.233395</td>\n",
       "      <td>1.281790</td>\n",
       "      <td>1.456642</td>\n",
       "      <td>5.542191</td>\n",
       "      <td>5.505047</td>\n",
       "      <td>2.702132</td>\n",
       "      <td>2.570116</td>\n",
       "    </tr>\n",
       "    <tr>\n",
       "      <th>3</th>\n",
       "      <td>-0.462250</td>\n",
       "      <td>-0.826504</td>\n",
       "      <td>-0.600526</td>\n",
       "      <td>-0.341319</td>\n",
       "      <td>-0.424767</td>\n",
       "      <td>-0.659184</td>\n",
       "      <td>-0.024296</td>\n",
       "      <td>-0.972608</td>\n",
       "      <td>-0.381153</td>\n",
       "      <td>-0.438787</td>\n",
       "      <td>-0.434337</td>\n",
       "      <td>-0.526473</td>\n",
       "      <td>-0.231621</td>\n",
       "      <td>-0.505930</td>\n",
       "    </tr>\n",
       "    <tr>\n",
       "      <th>4</th>\n",
       "      <td>0.063248</td>\n",
       "      <td>-0.826504</td>\n",
       "      <td>-0.600526</td>\n",
       "      <td>0.078843</td>\n",
       "      <td>-0.424767</td>\n",
       "      <td>-0.659184</td>\n",
       "      <td>-0.024296</td>\n",
       "      <td>-0.972608</td>\n",
       "      <td>0.173161</td>\n",
       "      <td>-0.438787</td>\n",
       "      <td>0.419453</td>\n",
       "      <td>-0.526473</td>\n",
       "      <td>-0.231621</td>\n",
       "      <td>-0.505930</td>\n",
       "    </tr>\n",
       "    <tr>\n",
       "      <th>...</th>\n",
       "      <td>...</td>\n",
       "      <td>...</td>\n",
       "      <td>...</td>\n",
       "      <td>...</td>\n",
       "      <td>...</td>\n",
       "      <td>...</td>\n",
       "      <td>...</td>\n",
       "      <td>...</td>\n",
       "      <td>...</td>\n",
       "      <td>...</td>\n",
       "      <td>...</td>\n",
       "      <td>...</td>\n",
       "      <td>...</td>\n",
       "      <td>...</td>\n",
       "    </tr>\n",
       "    <tr>\n",
       "      <th>33896</th>\n",
       "      <td>-0.330876</td>\n",
       "      <td>-0.116813</td>\n",
       "      <td>0.180358</td>\n",
       "      <td>0.499006</td>\n",
       "      <td>-0.424767</td>\n",
       "      <td>-0.659184</td>\n",
       "      <td>-0.024296</td>\n",
       "      <td>0.174484</td>\n",
       "      <td>-0.658311</td>\n",
       "      <td>-0.438787</td>\n",
       "      <td>2.127032</td>\n",
       "      <td>0.865416</td>\n",
       "      <td>-0.231621</td>\n",
       "      <td>1.032093</td>\n",
       "    </tr>\n",
       "    <tr>\n",
       "      <th>33897</th>\n",
       "      <td>-0.724999</td>\n",
       "      <td>-0.826504</td>\n",
       "      <td>-0.079936</td>\n",
       "      <td>-0.761482</td>\n",
       "      <td>-0.424767</td>\n",
       "      <td>-0.659184</td>\n",
       "      <td>-0.024296</td>\n",
       "      <td>-0.972608</td>\n",
       "      <td>-0.658311</td>\n",
       "      <td>-0.438787</td>\n",
       "      <td>-0.434337</td>\n",
       "      <td>-0.526473</td>\n",
       "      <td>-0.231621</td>\n",
       "      <td>-0.505930</td>\n",
       "    </tr>\n",
       "    <tr>\n",
       "      <th>33898</th>\n",
       "      <td>-0.330876</td>\n",
       "      <td>0.592878</td>\n",
       "      <td>0.961242</td>\n",
       "      <td>-0.761482</td>\n",
       "      <td>-0.424767</td>\n",
       "      <td>2.368540</td>\n",
       "      <td>-0.024296</td>\n",
       "      <td>0.748029</td>\n",
       "      <td>-0.658311</td>\n",
       "      <td>-0.438787</td>\n",
       "      <td>0.846348</td>\n",
       "      <td>-0.526473</td>\n",
       "      <td>-0.231621</td>\n",
       "      <td>-0.505930</td>\n",
       "    </tr>\n",
       "    <tr>\n",
       "      <th>33899</th>\n",
       "      <td>-0.724999</td>\n",
       "      <td>-0.826504</td>\n",
       "      <td>-0.600526</td>\n",
       "      <td>-0.761482</td>\n",
       "      <td>-0.424767</td>\n",
       "      <td>-0.226652</td>\n",
       "      <td>-0.024296</td>\n",
       "      <td>-0.972608</td>\n",
       "      <td>-0.658311</td>\n",
       "      <td>-0.438787</td>\n",
       "      <td>-0.434337</td>\n",
       "      <td>-0.526473</td>\n",
       "      <td>-0.231621</td>\n",
       "      <td>-0.505930</td>\n",
       "    </tr>\n",
       "    <tr>\n",
       "      <th>33900</th>\n",
       "      <td>-0.724999</td>\n",
       "      <td>-0.826504</td>\n",
       "      <td>-0.600526</td>\n",
       "      <td>-0.761482</td>\n",
       "      <td>-0.424767</td>\n",
       "      <td>-0.226652</td>\n",
       "      <td>-0.024296</td>\n",
       "      <td>-0.972608</td>\n",
       "      <td>-0.658311</td>\n",
       "      <td>-0.438787</td>\n",
       "      <td>-0.434337</td>\n",
       "      <td>-0.526473</td>\n",
       "      <td>-0.231621</td>\n",
       "      <td>-0.505930</td>\n",
       "    </tr>\n",
       "  </tbody>\n",
       "</table>\n",
       "<p>33901 rows × 14 columns</p>\n",
       "</div>"
      ],
      "text/plain": [
       "       Database    Python  CloudComputing  DataAnalysis  Containers  \\\n",
       "0      6.106474  2.485388        0.961242      8.272010    0.850889   \n",
       "1      4.529980 -0.353377        0.440653      5.120792   -0.424767   \n",
       "2      2.427988  1.066006        4.084776      4.280467   -0.424767   \n",
       "3     -0.462250 -0.826504       -0.600526     -0.341319   -0.424767   \n",
       "4      0.063248 -0.826504       -0.600526      0.078843   -0.424767   \n",
       "...         ...       ...             ...           ...         ...   \n",
       "33896 -0.330876 -0.116813        0.180358      0.499006   -0.424767   \n",
       "33897 -0.724999 -0.826504       -0.079936     -0.761482   -0.424767   \n",
       "33898 -0.330876  0.592878        0.961242     -0.761482   -0.424767   \n",
       "33899 -0.724999 -0.826504       -0.600526     -0.761482   -0.424767   \n",
       "33900 -0.724999 -0.826504       -0.600526     -0.761482   -0.424767   \n",
       "\n",
       "       MachineLearning  ComputerVision  DataScience   BigData   Chatbot  \\\n",
       "0             6.477594       -0.024296     4.571668  5.023412  1.456642   \n",
       "1             2.368540       -0.024296     2.851031  2.667576 -0.438787   \n",
       "2             5.828796       -0.024296     3.233395  1.281790  1.456642   \n",
       "3            -0.659184       -0.024296    -0.972608 -0.381153 -0.438787   \n",
       "4            -0.659184       -0.024296    -0.972608  0.173161 -0.438787   \n",
       "...                ...             ...          ...       ...       ...   \n",
       "33896        -0.659184       -0.024296     0.174484 -0.658311 -0.438787   \n",
       "33897        -0.659184       -0.024296    -0.972608 -0.658311 -0.438787   \n",
       "33898         2.368540       -0.024296     0.748029 -0.658311 -0.438787   \n",
       "33899        -0.226652       -0.024296    -0.972608 -0.658311 -0.438787   \n",
       "33900        -0.226652       -0.024296    -0.972608 -0.658311 -0.438787   \n",
       "\n",
       "              R  BackendDev  FrontendDev  Blockchain  \n",
       "0      7.249771    7.360899     6.369323    2.570116  \n",
       "1      2.127032    0.865416    -0.231621    0.519419  \n",
       "2      5.542191    5.505047     2.702132    2.570116  \n",
       "3     -0.434337   -0.526473    -0.231621   -0.505930  \n",
       "4      0.419453   -0.526473    -0.231621   -0.505930  \n",
       "...         ...         ...          ...         ...  \n",
       "33896  2.127032    0.865416    -0.231621    1.032093  \n",
       "33897 -0.434337   -0.526473    -0.231621   -0.505930  \n",
       "33898  0.846348   -0.526473    -0.231621   -0.505930  \n",
       "33899 -0.434337   -0.526473    -0.231621   -0.505930  \n",
       "33900 -0.434337   -0.526473    -0.231621   -0.505930  \n",
       "\n",
       "[33901 rows x 14 columns]"
      ]
     },
     "execution_count": 6,
     "metadata": {},
     "output_type": "execute_result"
    }
   ],
   "source": [
    "features = user_profile_df.loc[:, user_profile_df.columns != 'user']\n",
    "features"
   ]
  },
  {
   "cell_type": "markdown",
   "id": "3910de57-5c3f-4bb2-8089-b02a58277b47",
   "metadata": {},
   "source": [
    "we can also save the user ids for later recommendation tasks:\n"
   ]
  },
  {
   "cell_type": "code",
   "execution_count": 7,
   "id": "7673fdf7-a5e3-48f9-ad64-03a42622916c",
   "metadata": {},
   "outputs": [
    {
     "data": {
      "application/vnd.microsoft.datawrangler.viewer.v0+json": {
       "columns": [
        {
         "name": "index",
         "rawType": "int64",
         "type": "integer"
        },
        {
         "name": "user",
         "rawType": "int64",
         "type": "integer"
        }
       ],
       "ref": "31bd8880-4556-49dc-8cf0-0baa0b89cf55",
       "rows": [
        [
         "0",
         "2"
        ],
        [
         "1",
         "4"
        ],
        [
         "2",
         "5"
        ],
        [
         "3",
         "7"
        ],
        [
         "4",
         "8"
        ],
        [
         "5",
         "9"
        ],
        [
         "6",
         "12"
        ],
        [
         "7",
         "16"
        ],
        [
         "8",
         "17"
        ],
        [
         "9",
         "19"
        ],
        [
         "10",
         "20"
        ],
        [
         "11",
         "21"
        ],
        [
         "12",
         "22"
        ],
        [
         "13",
         "23"
        ],
        [
         "14",
         "25"
        ],
        [
         "15",
         "26"
        ],
        [
         "16",
         "27"
        ],
        [
         "17",
         "28"
        ],
        [
         "18",
         "29"
        ],
        [
         "19",
         "30"
        ],
        [
         "20",
         "33"
        ],
        [
         "21",
         "34"
        ],
        [
         "22",
         "35"
        ],
        [
         "23",
         "36"
        ],
        [
         "24",
         "38"
        ],
        [
         "25",
         "39"
        ],
        [
         "26",
         "40"
        ],
        [
         "27",
         "41"
        ],
        [
         "28",
         "42"
        ],
        [
         "29",
         "43"
        ],
        [
         "30",
         "44"
        ],
        [
         "31",
         "45"
        ],
        [
         "32",
         "46"
        ],
        [
         "33",
         "47"
        ],
        [
         "34",
         "48"
        ],
        [
         "35",
         "49"
        ],
        [
         "36",
         "51"
        ],
        [
         "37",
         "52"
        ],
        [
         "38",
         "53"
        ],
        [
         "39",
         "54"
        ],
        [
         "40",
         "55"
        ],
        [
         "41",
         "56"
        ],
        [
         "42",
         "57"
        ],
        [
         "43",
         "58"
        ],
        [
         "44",
         "59"
        ],
        [
         "45",
         "60"
        ],
        [
         "46",
         "61"
        ],
        [
         "47",
         "62"
        ],
        [
         "48",
         "63"
        ],
        [
         "49",
         "64"
        ]
       ],
       "shape": {
        "columns": 1,
        "rows": 33901
       }
      },
      "text/html": [
       "<div>\n",
       "<style scoped>\n",
       "    .dataframe tbody tr th:only-of-type {\n",
       "        vertical-align: middle;\n",
       "    }\n",
       "\n",
       "    .dataframe tbody tr th {\n",
       "        vertical-align: top;\n",
       "    }\n",
       "\n",
       "    .dataframe thead th {\n",
       "        text-align: right;\n",
       "    }\n",
       "</style>\n",
       "<table border=\"1\" class=\"dataframe\">\n",
       "  <thead>\n",
       "    <tr style=\"text-align: right;\">\n",
       "      <th></th>\n",
       "      <th>user</th>\n",
       "    </tr>\n",
       "  </thead>\n",
       "  <tbody>\n",
       "    <tr>\n",
       "      <th>0</th>\n",
       "      <td>2</td>\n",
       "    </tr>\n",
       "    <tr>\n",
       "      <th>1</th>\n",
       "      <td>4</td>\n",
       "    </tr>\n",
       "    <tr>\n",
       "      <th>2</th>\n",
       "      <td>5</td>\n",
       "    </tr>\n",
       "    <tr>\n",
       "      <th>3</th>\n",
       "      <td>7</td>\n",
       "    </tr>\n",
       "    <tr>\n",
       "      <th>4</th>\n",
       "      <td>8</td>\n",
       "    </tr>\n",
       "    <tr>\n",
       "      <th>...</th>\n",
       "      <td>...</td>\n",
       "    </tr>\n",
       "    <tr>\n",
       "      <th>33896</th>\n",
       "      <td>2102054</td>\n",
       "    </tr>\n",
       "    <tr>\n",
       "      <th>33897</th>\n",
       "      <td>2102356</td>\n",
       "    </tr>\n",
       "    <tr>\n",
       "      <th>33898</th>\n",
       "      <td>2102680</td>\n",
       "    </tr>\n",
       "    <tr>\n",
       "      <th>33899</th>\n",
       "      <td>2102983</td>\n",
       "    </tr>\n",
       "    <tr>\n",
       "      <th>33900</th>\n",
       "      <td>2103039</td>\n",
       "    </tr>\n",
       "  </tbody>\n",
       "</table>\n",
       "<p>33901 rows × 1 columns</p>\n",
       "</div>"
      ],
      "text/plain": [
       "          user\n",
       "0            2\n",
       "1            4\n",
       "2            5\n",
       "3            7\n",
       "4            8\n",
       "...        ...\n",
       "33896  2102054\n",
       "33897  2102356\n",
       "33898  2102680\n",
       "33899  2102983\n",
       "33900  2103039\n",
       "\n",
       "[33901 rows x 1 columns]"
      ]
     },
     "execution_count": 7,
     "metadata": {},
     "output_type": "execute_result"
    }
   ],
   "source": [
    "user_ids = user_profile_df.loc[:, user_profile_df.columns == 'user']\n",
    "user_ids"
   ]
  },
  {
   "cell_type": "code",
   "execution_count": 68,
   "metadata": {},
   "outputs": [
    {
     "data": {
      "text/plain": [
       "33901"
      ]
     },
     "execution_count": 68,
     "metadata": {},
     "output_type": "execute_result"
    }
   ],
   "source": [
    "len(user_ids)"
   ]
  },
  {
   "cell_type": "markdown",
   "id": "823cadd4-654f-4f0c-bf4f-db81f4617fcb",
   "metadata": {},
   "source": [
    "### TASK: Perform K-means clustering algorithm on the user profile feature vectors\n"
   ]
  },
  {
   "cell_type": "markdown",
   "id": "4679e176-b3d3-4b3f-ad31-d82c7830f763",
   "metadata": {},
   "source": [
    "With the user profile dataset ready, you need to use the `KMeans` class provided by scikit-learn library to perform clustering on the user profile feature vectors. \n"
   ]
  },
  {
   "cell_type": "markdown",
   "id": "07b29375-6e1c-40f3-ba7b-79c968bf5468",
   "metadata": {},
   "source": [
    "For `KMeans` algorithm, one important hyperparameter is the number of clusters `n_cluster`, and a good way to find the optimized `n_cluster` is using to grid search a list of candidates and find the one with the best or optimized clustering evaluation metrics such as minimal `sum of squared distance`:\n"
   ]
  },
  {
   "cell_type": "markdown",
   "id": "fe9bad37-0e03-4b9c-be38-8627ea5a1a4a",
   "metadata": {},
   "source": [
    "_TODO: grid search the optimized n_cluster for KMeans() model_\n"
   ]
  },
  {
   "cell_type": "code",
   "execution_count": 8,
   "id": "d28a646e-6143-4e02-abb8-6cf17325b435",
   "metadata": {},
   "outputs": [],
   "source": [
    "# WRITE YOUR CODE HERE\n",
    "inertias=[]\n",
    "for k in range(1,30):\n",
    "    km=KMeans(n_clusters=k, random_state=rs).fit(features)\n",
    "    inertias.append(km.inertia_)\n",
    "# Find an optimized number of neighors k from a candidate list such as list_k = list(range(1, 30))\n"
   ]
  },
  {
   "cell_type": "code",
   "execution_count": 9,
   "metadata": {},
   "outputs": [],
   "source": [
    "cluster=[]\n",
    "for i in range(1,30):\n",
    "    cluster.append(i)"
   ]
  },
  {
   "cell_type": "code",
   "execution_count": 10,
   "metadata": {},
   "outputs": [
    {
     "data": {
      "image/png": "[encoded data removed]",
      "text/plain": [
       "<Figure size 640x480 with 1 Axes>"
      ]
     },
     "metadata": {},
     "output_type": "display_data"
    }
   ],
   "source": [
    "plt.plot(cluster, inertias,'bo-')\n",
    "plt.xlabel(\"Number of clusters\")\n",
    "plt.ylabel(\"Inertia\")\n",
    "plt.show()"
   ]
  },
  {
   "cell_type": "markdown",
   "id": "c5c29d2e-1d80-4912-90e6-f7acd84c59bc",
   "metadata": {},
   "source": [
    "<details>\n",
    "    <summary>Click here for Hints</summary>\n",
    "    \n",
    "Create a list that will hold the the sum of square distances for each fitted model. For each k in `n_clusters` make a model by calling `KMeans(n_clusters=k, random_state=rs).fit(features)` ans append `model.inertia_` to the list. Plot square distances against the k values.  \n",
    "\n",
    "</details>\n"
   ]
  },
  {
   "cell_type": "markdown",
   "id": "b34e380f-98e0-4816-8040-6ab8ee1988f3",
   "metadata": {},
   "source": [
    "If you plot the grid search process, you may get a elbow plot like the following:\n"
   ]
  },
  {
   "cell_type": "markdown",
   "id": "d04f028d-3691-439a-945d-01e079609cd1",
   "metadata": {},
   "source": [
    "![](https://cf-courses-data.s3.us.cloud-object-storage.appdomain.cloud/IBM-ML321EN-SkillsNetwork/labs/module_3/images/clusters_elbow.png)\n"
   ]
  },
  {
   "cell_type": "markdown",
   "id": "0a38db1e-7481-4845-b393-814ed8784f22",
   "metadata": {},
   "source": [
    "From the elbow plot, you should visualy identify the point where the metric starting to be flatten, which indicates the optimized number of clusters.\n"
   ]
  },
  {
   "cell_type": "markdown",
   "id": "889111c4-a876-4901-9e14-fbafa3e986ee",
   "metadata": {},
   "source": [
    "Once you have identified the best number of clusters, you can apply `KMeans()` again to generate cluster label for all users.\n"
   ]
  },
  {
   "cell_type": "code",
   "execution_count": 11,
   "id": "0f620ce6-d5a7-4626-be4a-c617d3021853",
   "metadata": {},
   "outputs": [],
   "source": [
    "cluster_labels = [None] * len(user_ids)"
   ]
  },
  {
   "cell_type": "markdown",
   "id": "61a8b73e-c3ec-41ae-8bcb-5b3907bf595d",
   "metadata": {},
   "source": [
    "_TODO: Apply KMeans() on the features with optimized n_cluster parameter after model fitting, you can find output cluster labels in `model.labels_` attribute_\n"
   ]
  },
  {
   "cell_type": "code",
   "execution_count": 44,
   "metadata": {},
   "outputs": [
    {
     "data": {
      "text/html": [
       "<style>#sk-container-id-2 {\n",
       "  /* Definition of color scheme common for light and dark mode */\n",
       "  --sklearn-color-text: #000;\n",
       "  --sklearn-color-text-muted: #666;\n",
       "  --sklearn-color-line: gray;\n",
       "  /* Definition of color scheme for unfitted estimators */\n",
       "  --sklearn-color-unfitted-level-0: #fff5e6;\n",
       "  --sklearn-color-unfitted-level-1: #f6e4d2;\n",
       "  --sklearn-color-unfitted-level-2: #ffe0b3;\n",
       "  --sklearn-color-unfitted-level-3: chocolate;\n",
       "  /* Definition of color scheme for fitted estimators */\n",
       "  --sklearn-color-fitted-level-0: #f0f8ff;\n",
       "  --sklearn-color-fitted-level-1: #d4ebff;\n",
       "  --sklearn-color-fitted-level-2: #b3dbfd;\n",
       "  --sklearn-color-fitted-level-3: cornflowerblue;\n",
       "\n",
       "  /* Specific color for light theme */\n",
       "  --sklearn-color-text-on-default-background: var(--sg-text-color, var(--theme-code-foreground, var(--jp-content-font-color1, black)));\n",
       "  --sklearn-color-background: var(--sg-background-color, var(--theme-background, var(--jp-layout-color0, white)));\n",
       "  --sklearn-color-border-box: var(--sg-text-color, var(--theme-code-foreground, var(--jp-content-font-color1, black)));\n",
       "  --sklearn-color-icon: #696969;\n",
       "\n",
       "  @media (prefers-color-scheme: dark) {\n",
       "    /* Redefinition of color scheme for dark theme */\n",
       "    --sklearn-color-text-on-default-background: var(--sg-text-color, var(--theme-code-foreground, var(--jp-content-font-color1, white)));\n",
       "    --sklearn-color-background: var(--sg-background-color, var(--theme-background, var(--jp-layout-color0, #111)));\n",
       "    --sklearn-color-border-box: var(--sg-text-color, var(--theme-code-foreground, var(--jp-content-font-color1, white)));\n",
       "    --sklearn-color-icon: #878787;\n",
       "  }\n",
       "}\n",
       "\n",
       "#sk-container-id-2 {\n",
       "  color: var(--sklearn-color-text);\n",
       "}\n",
       "\n",
       "#sk-container-id-2 pre {\n",
       "  padding: 0;\n",
       "}\n",
       "\n",
       "#sk-container-id-2 input.sk-hidden--visually {\n",
       "  border: 0;\n",
       "  clip: rect(1px 1px 1px 1px);\n",
       "  clip: rect(1px, 1px, 1px, 1px);\n",
       "  height: 1px;\n",
       "  margin: -1px;\n",
       "  overflow: hidden;\n",
       "  padding: 0;\n",
       "  position: absolute;\n",
       "  width: 1px;\n",
       "}\n",
       "\n",
       "#sk-container-id-2 div.sk-dashed-wrapped {\n",
       "  border: 1px dashed var(--sklearn-color-line);\n",
       "  margin: 0 0.4em 0.5em 0.4em;\n",
       "  box-sizing: border-box;\n",
       "  padding-bottom: 0.4em;\n",
       "  background-color: var(--sklearn-color-background);\n",
       "}\n",
       "\n",
       "#sk-container-id-2 div.sk-container {\n",
       "  /* jupyter's `normalize.less` sets `[hidden] { display: none; }`\n",
       "     but bootstrap.min.css set `[hidden] { display: none !important; }`\n",
       "     so we also need the `!important` here to be able to override the\n",
       "     default hidden behavior on the sphinx rendered scikit-learn.org.\n",
       "     See: https://github.com/scikit-learn/scikit-learn/issues/21755 */\n",
       "  display: inline-block !important;\n",
       "  position: relative;\n",
       "}\n",
       "\n",
       "#sk-container-id-2 div.sk-text-repr-fallback {\n",
       "  display: none;\n",
       "}\n",
       "\n",
       "div.sk-parallel-item,\n",
       "div.sk-serial,\n",
       "div.sk-item {\n",
       "  /* draw centered vertical line to link estimators */\n",
       "  background-image: linear-gradient(var(--sklearn-color-text-on-default-background), var(--sklearn-color-text-on-default-background));\n",
       "  background-size: 2px 100%;\n",
       "  background-repeat: no-repeat;\n",
       "  background-position: center center;\n",
       "}\n",
       "\n",
       "/* Parallel-specific style estimator block */\n",
       "\n",
       "#sk-container-id-2 div.sk-parallel-item::after {\n",
       "  content: \"\";\n",
       "  width: 100%;\n",
       "  border-bottom: 2px solid var(--sklearn-color-text-on-default-background);\n",
       "  flex-grow: 1;\n",
       "}\n",
       "\n",
       "#sk-container-id-2 div.sk-parallel {\n",
       "  display: flex;\n",
       "  align-items: stretch;\n",
       "  justify-content: center;\n",
       "  background-color: var(--sklearn-color-background);\n",
       "  position: relative;\n",
       "}\n",
       "\n",
       "#sk-container-id-2 div.sk-parallel-item {\n",
       "  display: flex;\n",
       "  flex-direction: column;\n",
       "}\n",
       "\n",
       "#sk-container-id-2 div.sk-parallel-item:first-child::after {\n",
       "  align-self: flex-end;\n",
       "  width: 50%;\n",
       "}\n",
       "\n",
       "#sk-container-id-2 div.sk-parallel-item:last-child::after {\n",
       "  align-self: flex-start;\n",
       "  width: 50%;\n",
       "}\n",
       "\n",
       "#sk-container-id-2 div.sk-parallel-item:only-child::after {\n",
       "  width: 0;\n",
       "}\n",
       "\n",
       "/* Serial-specific style estimator block */\n",
       "\n",
       "#sk-container-id-2 div.sk-serial {\n",
       "  display: flex;\n",
       "  flex-direction: column;\n",
       "  align-items: center;\n",
       "  background-color: var(--sklearn-color-background);\n",
       "  padding-right: 1em;\n",
       "  padding-left: 1em;\n",
       "}\n",
       "\n",
       "\n",
       "/* Toggleable style: style used for estimator/Pipeline/ColumnTransformer box that is\n",
       "clickable and can be expanded/collapsed.\n",
       "- Pipeline and ColumnTransformer use this feature and define the default style\n",
       "- Estimators will overwrite some part of the style using the `sk-estimator` class\n",
       "*/\n",
       "\n",
       "/* Pipeline and ColumnTransformer style (default) */\n",
       "\n",
       "#sk-container-id-2 div.sk-toggleable {\n",
       "  /* Default theme specific background. It is overwritten whether we have a\n",
       "  specific estimator or a Pipeline/ColumnTransformer */\n",
       "  background-color: var(--sklearn-color-background);\n",
       "}\n",
       "\n",
       "/* Toggleable label */\n",
       "#sk-container-id-2 label.sk-toggleable__label {\n",
       "  cursor: pointer;\n",
       "  display: flex;\n",
       "  width: 100%;\n",
       "  margin-bottom: 0;\n",
       "  padding: 0.5em;\n",
       "  box-sizing: border-box;\n",
       "  text-align: center;\n",
       "  align-items: start;\n",
       "  justify-content: space-between;\n",
       "  gap: 0.5em;\n",
       "}\n",
       "\n",
       "#sk-container-id-2 label.sk-toggleable__label .caption {\n",
       "  font-size: 0.6rem;\n",
       "  font-weight: lighter;\n",
       "  color: var(--sklearn-color-text-muted);\n",
       "}\n",
       "\n",
       "#sk-container-id-2 label.sk-toggleable__label-arrow:before {\n",
       "  /* Arrow on the left of the label */\n",
       "  content: \"▸\";\n",
       "  float: left;\n",
       "  margin-right: 0.25em;\n",
       "  color: var(--sklearn-color-icon);\n",
       "}\n",
       "\n",
       "#sk-container-id-2 label.sk-toggleable__label-arrow:hover:before {\n",
       "  color: var(--sklearn-color-text);\n",
       "}\n",
       "\n",
       "/* Toggleable content - dropdown */\n",
       "\n",
       "#sk-container-id-2 div.sk-toggleable__content {\n",
       "  display: none;\n",
       "  text-align: left;\n",
       "  /* unfitted */\n",
       "  background-color: var(--sklearn-color-unfitted-level-0);\n",
       "}\n",
       "\n",
       "#sk-container-id-2 div.sk-toggleable__content.fitted {\n",
       "  /* fitted */\n",
       "  background-color: var(--sklearn-color-fitted-level-0);\n",
       "}\n",
       "\n",
       "#sk-container-id-2 div.sk-toggleable__content pre {\n",
       "  margin: 0.2em;\n",
       "  border-radius: 0.25em;\n",
       "  color: var(--sklearn-color-text);\n",
       "  /* unfitted */\n",
       "  background-color: var(--sklearn-color-unfitted-level-0);\n",
       "}\n",
       "\n",
       "#sk-container-id-2 div.sk-toggleable__content.fitted pre {\n",
       "  /* unfitted */\n",
       "  background-color: var(--sklearn-color-fitted-level-0);\n",
       "}\n",
       "\n",
       "#sk-container-id-2 input.sk-toggleable__control:checked~div.sk-toggleable__content {\n",
       "  /* Expand drop-down */\n",
       "  display: block;\n",
       "  width: 100%;\n",
       "  overflow: visible;\n",
       "}\n",
       "\n",
       "#sk-container-id-2 input.sk-toggleable__control:checked~label.sk-toggleable__label-arrow:before {\n",
       "  content: \"▾\";\n",
       "}\n",
       "\n",
       "/* Pipeline/ColumnTransformer-specific style */\n",
       "\n",
       "#sk-container-id-2 div.sk-label input.sk-toggleable__control:checked~label.sk-toggleable__label {\n",
       "  color: var(--sklearn-color-text);\n",
       "  background-color: var(--sklearn-color-unfitted-level-2);\n",
       "}\n",
       "\n",
       "#sk-container-id-2 div.sk-label.fitted input.sk-toggleable__control:checked~label.sk-toggleable__label {\n",
       "  background-color: var(--sklearn-color-fitted-level-2);\n",
       "}\n",
       "\n",
       "/* Estimator-specific style */\n",
       "\n",
       "/* Colorize estimator box */\n",
       "#sk-container-id-2 div.sk-estimator input.sk-toggleable__control:checked~label.sk-toggleable__label {\n",
       "  /* unfitted */\n",
       "  background-color: var(--sklearn-color-unfitted-level-2);\n",
       "}\n",
       "\n",
       "#sk-container-id-2 div.sk-estimator.fitted input.sk-toggleable__control:checked~label.sk-toggleable__label {\n",
       "  /* fitted */\n",
       "  background-color: var(--sklearn-color-fitted-level-2);\n",
       "}\n",
       "\n",
       "#sk-container-id-2 div.sk-label label.sk-toggleable__label,\n",
       "#sk-container-id-2 div.sk-label label {\n",
       "  /* The background is the default theme color */\n",
       "  color: var(--sklearn-color-text-on-default-background);\n",
       "}\n",
       "\n",
       "/* On hover, darken the color of the background */\n",
       "#sk-container-id-2 div.sk-label:hover label.sk-toggleable__label {\n",
       "  color: var(--sklearn-color-text);\n",
       "  background-color: var(--sklearn-color-unfitted-level-2);\n",
       "}\n",
       "\n",
       "/* Label box, darken color on hover, fitted */\n",
       "#sk-container-id-2 div.sk-label.fitted:hover label.sk-toggleable__label.fitted {\n",
       "  color: var(--sklearn-color-text);\n",
       "  background-color: var(--sklearn-color-fitted-level-2);\n",
       "}\n",
       "\n",
       "/* Estimator label */\n",
       "\n",
       "#sk-container-id-2 div.sk-label label {\n",
       "  font-family: monospace;\n",
       "  font-weight: bold;\n",
       "  display: inline-block;\n",
       "  line-height: 1.2em;\n",
       "}\n",
       "\n",
       "#sk-container-id-2 div.sk-label-container {\n",
       "  text-align: center;\n",
       "}\n",
       "\n",
       "/* Estimator-specific */\n",
       "#sk-container-id-2 div.sk-estimator {\n",
       "  font-family: monospace;\n",
       "  border: 1px dotted var(--sklearn-color-border-box);\n",
       "  border-radius: 0.25em;\n",
       "  box-sizing: border-box;\n",
       "  margin-bottom: 0.5em;\n",
       "  /* unfitted */\n",
       "  background-color: var(--sklearn-color-unfitted-level-0);\n",
       "}\n",
       "\n",
       "#sk-container-id-2 div.sk-estimator.fitted {\n",
       "  /* fitted */\n",
       "  background-color: var(--sklearn-color-fitted-level-0);\n",
       "}\n",
       "\n",
       "/* on hover */\n",
       "#sk-container-id-2 div.sk-estimator:hover {\n",
       "  /* unfitted */\n",
       "  background-color: var(--sklearn-color-unfitted-level-2);\n",
       "}\n",
       "\n",
       "#sk-container-id-2 div.sk-estimator.fitted:hover {\n",
       "  /* fitted */\n",
       "  background-color: var(--sklearn-color-fitted-level-2);\n",
       "}\n",
       "\n",
       "/* Specification for estimator info (e.g. \"i\" and \"?\") */\n",
       "\n",
       "/* Common style for \"i\" and \"?\" */\n",
       "\n",
       ".sk-estimator-doc-link,\n",
       "a:link.sk-estimator-doc-link,\n",
       "a:visited.sk-estimator-doc-link {\n",
       "  float: right;\n",
       "  font-size: smaller;\n",
       "  line-height: 1em;\n",
       "  font-family: monospace;\n",
       "  background-color: var(--sklearn-color-background);\n",
       "  border-radius: 1em;\n",
       "  height: 1em;\n",
       "  width: 1em;\n",
       "  text-decoration: none !important;\n",
       "  margin-left: 0.5em;\n",
       "  text-align: center;\n",
       "  /* unfitted */\n",
       "  border: var(--sklearn-color-unfitted-level-1) 1pt solid;\n",
       "  color: var(--sklearn-color-unfitted-level-1);\n",
       "}\n",
       "\n",
       ".sk-estimator-doc-link.fitted,\n",
       "a:link.sk-estimator-doc-link.fitted,\n",
       "a:visited.sk-estimator-doc-link.fitted {\n",
       "  /* fitted */\n",
       "  border: var(--sklearn-color-fitted-level-1) 1pt solid;\n",
       "  color: var(--sklearn-color-fitted-level-1);\n",
       "}\n",
       "\n",
       "/* On hover */\n",
       "div.sk-estimator:hover .sk-estimator-doc-link:hover,\n",
       ".sk-estimator-doc-link:hover,\n",
       "div.sk-label-container:hover .sk-estimator-doc-link:hover,\n",
       ".sk-estimator-doc-link:hover {\n",
       "  /* unfitted */\n",
       "  background-color: var(--sklearn-color-unfitted-level-3);\n",
       "  color: var(--sklearn-color-background);\n",
       "  text-decoration: none;\n",
       "}\n",
       "\n",
       "div.sk-estimator.fitted:hover .sk-estimator-doc-link.fitted:hover,\n",
       ".sk-estimator-doc-link.fitted:hover,\n",
       "div.sk-label-container:hover .sk-estimator-doc-link.fitted:hover,\n",
       ".sk-estimator-doc-link.fitted:hover {\n",
       "  /* fitted */\n",
       "  background-color: var(--sklearn-color-fitted-level-3);\n",
       "  color: var(--sklearn-color-background);\n",
       "  text-decoration: none;\n",
       "}\n",
       "\n",
       "/* Span, style for the box shown on hovering the info icon */\n",
       ".sk-estimator-doc-link span {\n",
       "  display: none;\n",
       "  z-index: 9999;\n",
       "  position: relative;\n",
       "  font-weight: normal;\n",
       "  right: .2ex;\n",
       "  padding: .5ex;\n",
       "  margin: .5ex;\n",
       "  width: min-content;\n",
       "  min-width: 20ex;\n",
       "  max-width: 50ex;\n",
       "  color: var(--sklearn-color-text);\n",
       "  box-shadow: 2pt 2pt 4pt #999;\n",
       "  /* unfitted */\n",
       "  background: var(--sklearn-color-unfitted-level-0);\n",
       "  border: .5pt solid var(--sklearn-color-unfitted-level-3);\n",
       "}\n",
       "\n",
       ".sk-estimator-doc-link.fitted span {\n",
       "  /* fitted */\n",
       "  background: var(--sklearn-color-fitted-level-0);\n",
       "  border: var(--sklearn-color-fitted-level-3);\n",
       "}\n",
       "\n",
       ".sk-estimator-doc-link:hover span {\n",
       "  display: block;\n",
       "}\n",
       "\n",
       "/* \"?\"-specific style due to the `<a>` HTML tag */\n",
       "\n",
       "#sk-container-id-2 a.estimator_doc_link {\n",
       "  float: right;\n",
       "  font-size: 1rem;\n",
       "  line-height: 1em;\n",
       "  font-family: monospace;\n",
       "  background-color: var(--sklearn-color-background);\n",
       "  border-radius: 1rem;\n",
       "  height: 1rem;\n",
       "  width: 1rem;\n",
       "  text-decoration: none;\n",
       "  /* unfitted */\n",
       "  color: var(--sklearn-color-unfitted-level-1);\n",
       "  border: var(--sklearn-color-unfitted-level-1) 1pt solid;\n",
       "}\n",
       "\n",
       "#sk-container-id-2 a.estimator_doc_link.fitted {\n",
       "  /* fitted */\n",
       "  border: var(--sklearn-color-fitted-level-1) 1pt solid;\n",
       "  color: var(--sklearn-color-fitted-level-1);\n",
       "}\n",
       "\n",
       "/* On hover */\n",
       "#sk-container-id-2 a.estimator_doc_link:hover {\n",
       "  /* unfitted */\n",
       "  background-color: var(--sklearn-color-unfitted-level-3);\n",
       "  color: var(--sklearn-color-background);\n",
       "  text-decoration: none;\n",
       "}\n",
       "\n",
       "#sk-container-id-2 a.estimator_doc_link.fitted:hover {\n",
       "  /* fitted */\n",
       "  background-color: var(--sklearn-color-fitted-level-3);\n",
       "}\n",
       "\n",
       ".estimator-table summary {\n",
       "    padding: .5rem;\n",
       "    font-family: monospace;\n",
       "    cursor: pointer;\n",
       "}\n",
       "\n",
       ".estimator-table details[open] {\n",
       "    padding-left: 0.1rem;\n",
       "    padding-right: 0.1rem;\n",
       "    padding-bottom: 0.3rem;\n",
       "}\n",
       "\n",
       ".estimator-table .parameters-table {\n",
       "    margin-left: auto !important;\n",
       "    margin-right: auto !important;\n",
       "}\n",
       "\n",
       ".estimator-table .parameters-table tr:nth-child(odd) {\n",
       "    background-color: #fff;\n",
       "}\n",
       "\n",
       ".estimator-table .parameters-table tr:nth-child(even) {\n",
       "    background-color: #f6f6f6;\n",
       "}\n",
       "\n",
       ".estimator-table .parameters-table tr:hover {\n",
       "    background-color: #e0e0e0;\n",
       "}\n",
       "\n",
       ".estimator-table table td {\n",
       "    border: 1px solid rgba(106, 105, 104, 0.232);\n",
       "}\n",
       "\n",
       ".user-set td {\n",
       "    color:rgb(255, 94, 0);\n",
       "    text-align: left;\n",
       "}\n",
       "\n",
       ".user-set td.value pre {\n",
       "    color:rgb(255, 94, 0) !important;\n",
       "    background-color: transparent !important;\n",
       "}\n",
       "\n",
       ".default td {\n",
       "    color: black;\n",
       "    text-align: left;\n",
       "}\n",
       "\n",
       ".user-set td i,\n",
       ".default td i {\n",
       "    color: black;\n",
       "}\n",
       "\n",
       ".copy-paste-icon {\n",
       "    background-image: url(data:image/svg+xml;base64,PHN2ZyB4bWxucz0iaHR0cDovL3d3dy53My5vcmcvMjAwMC9zdmciIHZpZXdCb3g9IjAgMCA0NDggNTEyIj48IS0tIUZvbnQgQXdlc29tZSBGcmVlIDYuNy4yIGJ5IEBmb250YXdlc29tZSAtIGh0dHBzOi8vZm9udGF3ZXNvbWUuY29tIExpY2Vuc2UgLSBodHRwczovL2ZvbnRhd2Vzb21lLmNvbS9saWNlbnNlL2ZyZWUgQ29weXJpZ2h0IDIwMjUgRm9udGljb25zLCBJbmMuLS0+PHBhdGggZD0iTTIwOCAwTDMzMi4xIDBjMTIuNyAwIDI0LjkgNS4xIDMzLjkgMTQuMWw2Ny45IDY3LjljOSA5IDE0LjEgMjEuMiAxNC4xIDMzLjlMNDQ4IDMzNmMwIDI2LjUtMjEuNSA0OC00OCA0OGwtMTkyIDBjLTI2LjUgMC00OC0yMS41LTQ4LTQ4bDAtMjg4YzAtMjYuNSAyMS41LTQ4IDQ4LTQ4ek00OCAxMjhsODAgMCAwIDY0LTY0IDAgMCAyNTYgMTkyIDAgMC0zMiA2NCAwIDAgNDhjMCAyNi41LTIxLjUgNDgtNDggNDhMNDggNTEyYy0yNi41IDAtNDgtMjEuNS00OC00OEwwIDE3NmMwLTI2LjUgMjEuNS00OCA0OC00OHoiLz48L3N2Zz4=);\n",
       "    background-repeat: no-repeat;\n",
       "    background-size: 14px 14px;\n",
       "    background-position: 0;\n",
       "    display: inline-block;\n",
       "    width: 14px;\n",
       "    height: 14px;\n",
       "    cursor: pointer;\n",
       "}\n",
       "</style><body><div id=\"sk-container-id-2\" class=\"sk-top-container\"><div class=\"sk-text-repr-fallback\"><pre>KMeans(n_clusters=20, random_state=123)</pre><b>In a Jupyter environment, please rerun this cell to show the HTML representation or trust the notebook. <br />On GitHub, the HTML representation is unable to render, please try loading this page with nbviewer.org.</b></div><div class=\"sk-container\" hidden><div class=\"sk-item\"><div class=\"sk-estimator fitted sk-toggleable\"><input class=\"sk-toggleable__control sk-hidden--visually\" id=\"sk-estimator-id-2\" type=\"checkbox\" checked><label for=\"sk-estimator-id-2\" class=\"sk-toggleable__label fitted sk-toggleable__label-arrow\"><div><div>KMeans</div></div><div><a class=\"sk-estimator-doc-link fitted\" rel=\"noreferrer\" target=\"_blank\" href=\"https://scikit-learn.org/1.7/modules/generated/sklearn.cluster.KMeans.html\">?<span>Documentation for KMeans</span></a><span class=\"sk-estimator-doc-link fitted\">i<span>Fitted</span></span></div></label><div class=\"sk-toggleable__content fitted\" data-param-prefix=\"\">\n",
       "        <div class=\"estimator-table\">\n",
       "            <details>\n",
       "                <summary>Parameters</summary>\n",
       "                <table class=\"parameters-table\">\n",
       "                  <tbody>\n",
       "                    \n",
       "        <tr class=\"user-set\">\n",
       "            <td><i class=\"copy-paste-icon\"\n",
       "                 onclick=\"copyToClipboard('n_clusters',\n",
       "                          this.parentElement.nextElementSibling)\"\n",
       "            ></i></td>\n",
       "            <td class=\"param\">n_clusters&nbsp;</td>\n",
       "            <td class=\"value\">20</td>\n",
       "        </tr>\n",
       "    \n",
       "\n",
       "        <tr class=\"default\">\n",
       "            <td><i class=\"copy-paste-icon\"\n",
       "                 onclick=\"copyToClipboard('init',\n",
       "                          this.parentElement.nextElementSibling)\"\n",
       "            ></i></td>\n",
       "            <td class=\"param\">init&nbsp;</td>\n",
       "            <td class=\"value\">&#x27;k-means++&#x27;</td>\n",
       "        </tr>\n",
       "    \n",
       "\n",
       "        <tr class=\"default\">\n",
       "            <td><i class=\"copy-paste-icon\"\n",
       "                 onclick=\"copyToClipboard('n_init',\n",
       "                          this.parentElement.nextElementSibling)\"\n",
       "            ></i></td>\n",
       "            <td class=\"param\">n_init&nbsp;</td>\n",
       "            <td class=\"value\">&#x27;auto&#x27;</td>\n",
       "        </tr>\n",
       "    \n",
       "\n",
       "        <tr class=\"default\">\n",
       "            <td><i class=\"copy-paste-icon\"\n",
       "                 onclick=\"copyToClipboard('max_iter',\n",
       "                          this.parentElement.nextElementSibling)\"\n",
       "            ></i></td>\n",
       "            <td class=\"param\">max_iter&nbsp;</td>\n",
       "            <td class=\"value\">300</td>\n",
       "        </tr>\n",
       "    \n",
       "\n",
       "        <tr class=\"default\">\n",
       "            <td><i class=\"copy-paste-icon\"\n",
       "                 onclick=\"copyToClipboard('tol',\n",
       "                          this.parentElement.nextElementSibling)\"\n",
       "            ></i></td>\n",
       "            <td class=\"param\">tol&nbsp;</td>\n",
       "            <td class=\"value\">0.0001</td>\n",
       "        </tr>\n",
       "    \n",
       "\n",
       "        <tr class=\"default\">\n",
       "            <td><i class=\"copy-paste-icon\"\n",
       "                 onclick=\"copyToClipboard('verbose',\n",
       "                          this.parentElement.nextElementSibling)\"\n",
       "            ></i></td>\n",
       "            <td class=\"param\">verbose&nbsp;</td>\n",
       "            <td class=\"value\">0</td>\n",
       "        </tr>\n",
       "    \n",
       "\n",
       "        <tr class=\"user-set\">\n",
       "            <td><i class=\"copy-paste-icon\"\n",
       "                 onclick=\"copyToClipboard('random_state',\n",
       "                          this.parentElement.nextElementSibling)\"\n",
       "            ></i></td>\n",
       "            <td class=\"param\">random_state&nbsp;</td>\n",
       "            <td class=\"value\">123</td>\n",
       "        </tr>\n",
       "    \n",
       "\n",
       "        <tr class=\"default\">\n",
       "            <td><i class=\"copy-paste-icon\"\n",
       "                 onclick=\"copyToClipboard('copy_x',\n",
       "                          this.parentElement.nextElementSibling)\"\n",
       "            ></i></td>\n",
       "            <td class=\"param\">copy_x&nbsp;</td>\n",
       "            <td class=\"value\">True</td>\n",
       "        </tr>\n",
       "    \n",
       "\n",
       "        <tr class=\"default\">\n",
       "            <td><i class=\"copy-paste-icon\"\n",
       "                 onclick=\"copyToClipboard('algorithm',\n",
       "                          this.parentElement.nextElementSibling)\"\n",
       "            ></i></td>\n",
       "            <td class=\"param\">algorithm&nbsp;</td>\n",
       "            <td class=\"value\">&#x27;lloyd&#x27;</td>\n",
       "        </tr>\n",
       "    \n",
       "                  </tbody>\n",
       "                </table>\n",
       "            </details>\n",
       "        </div>\n",
       "    </div></div></div></div></div><script>function copyToClipboard(text, element) {\n",
       "    // Get the parameter prefix from the closest toggleable content\n",
       "    const toggleableContent = element.closest('.sk-toggleable__content');\n",
       "    const paramPrefix = toggleableContent ? toggleableContent.dataset.paramPrefix : '';\n",
       "    const fullParamName = paramPrefix ? `${paramPrefix}${text}` : text;\n",
       "\n",
       "    const originalStyle = element.style;\n",
       "    const computedStyle = window.getComputedStyle(element);\n",
       "    const originalWidth = computedStyle.width;\n",
       "    const originalHTML = element.innerHTML.replace('Copied!', '');\n",
       "\n",
       "    navigator.clipboard.writeText(fullParamName)\n",
       "        .then(() => {\n",
       "            element.style.width = originalWidth;\n",
       "            element.style.color = 'green';\n",
       "            element.innerHTML = \"Copied!\";\n",
       "\n",
       "            setTimeout(() => {\n",
       "                element.innerHTML = originalHTML;\n",
       "                element.style = originalStyle;\n",
       "            }, 2000);\n",
       "        })\n",
       "        .catch(err => {\n",
       "            console.error('Failed to copy:', err);\n",
       "            element.style.color = 'red';\n",
       "            element.innerHTML = \"Failed!\";\n",
       "            setTimeout(() => {\n",
       "                element.innerHTML = originalHTML;\n",
       "                element.style = originalStyle;\n",
       "            }, 2000);\n",
       "        });\n",
       "    return false;\n",
       "}\n",
       "\n",
       "document.querySelectorAll('.fa-regular.fa-copy').forEach(function(element) {\n",
       "    const toggleableContent = element.closest('.sk-toggleable__content');\n",
       "    const paramPrefix = toggleableContent ? toggleableContent.dataset.paramPrefix : '';\n",
       "    const paramName = element.parentElement.nextElementSibling.textContent.trim();\n",
       "    const fullParamName = paramPrefix ? `${paramPrefix}${paramName}` : paramName;\n",
       "\n",
       "    element.setAttribute('title', fullParamName);\n",
       "});\n",
       "</script></body>"
      ],
      "text/plain": [
       "KMeans(n_clusters=20, random_state=123)"
      ]
     },
     "execution_count": 44,
     "metadata": {},
     "output_type": "execute_result"
    }
   ],
   "source": [
    "km=KMeans(n_clusters=20,random_state=rs)\n",
    "km.fit(features)\n"
   ]
  },
  {
   "cell_type": "code",
   "execution_count": 45,
   "metadata": {},
   "outputs": [],
   "source": [
    "cluster_labels=km.labels_"
   ]
  },
  {
   "cell_type": "code",
   "execution_count": null,
   "id": "ad0273f9-3205-4fd5-8745-2d9b67be5a43",
   "metadata": {},
   "outputs": [],
   "source": [
    "## WRITE YOUR CODE HERE\n",
    "\n",
    "## ...\n",
    "## cluster_labels = model.labels\n",
    "## ...\n"
   ]
  },
  {
   "cell_type": "markdown",
   "id": "a45e74e5-bb19-432e-98a4-e913465c4098",
   "metadata": {},
   "source": [
    "<details>\n",
    "    <summary>Click here for Hints</summary>\n",
    "    \n",
    "Create  a model by calling `KMeans(n_clusters=k, random_state=rs).fit(features)`. Save the labels by accessing `model.labels`.\n",
    "\n",
    "</details>\n"
   ]
  },
  {
   "cell_type": "markdown",
   "id": "642a8b37-e74f-48b2-aa52-13ce19903448",
   "metadata": {},
   "source": [
    "The cluster labels you generated is a list of integers indicating cluster indices. You may use the following utility method to combine the cluster labels and user ids to a dataframe, so that you know which cluster a user belongs:\n"
   ]
  },
  {
   "cell_type": "code",
   "execution_count": 46,
   "id": "1aa4fd27-1dad-4235-af74-20c6ca9ece7f",
   "metadata": {},
   "outputs": [],
   "source": [
    "def combine_cluster_labels(user_ids, labels):\n",
    "    # Convert labels to a DataFrame\n",
    "    labels_df = pd.DataFrame(labels)    \n",
    "    # Merge user_ids DataFrame with labels DataFrame based on index\n",
    "    cluster_df = pd.merge(user_ids, labels_df, left_index=True, right_index=True)\n",
    "    # Rename columns to 'user' and 'cluster'\n",
    "    cluster_df.columns = ['user', 'cluster']\n",
    "    return cluster_df"
   ]
  },
  {
   "cell_type": "code",
   "execution_count": 47,
   "metadata": {},
   "outputs": [
    {
     "data": {
      "application/vnd.microsoft.datawrangler.viewer.v0+json": {
       "columns": [
        {
         "name": "index",
         "rawType": "int64",
         "type": "integer"
        },
        {
         "name": "user",
         "rawType": "int64",
         "type": "integer"
        },
        {
         "name": "cluster",
         "rawType": "int32",
         "type": "integer"
        }
       ],
       "ref": "1caa8b07-959c-4f2a-8c72-0c5de1247482",
       "rows": [
        [
         "0",
         "2",
         "7"
        ],
        [
         "1",
         "4",
         "11"
        ],
        [
         "2",
         "5",
         "7"
        ],
        [
         "3",
         "7",
         "6"
        ],
        [
         "4",
         "8",
         "15"
        ],
        [
         "5",
         "9",
         "19"
        ],
        [
         "6",
         "12",
         "18"
        ],
        [
         "7",
         "16",
         "1"
        ],
        [
         "8",
         "17",
         "6"
        ],
        [
         "9",
         "19",
         "6"
        ],
        [
         "10",
         "20",
         "6"
        ],
        [
         "11",
         "21",
         "6"
        ],
        [
         "12",
         "22",
         "6"
        ],
        [
         "13",
         "23",
         "15"
        ],
        [
         "14",
         "25",
         "15"
        ],
        [
         "15",
         "26",
         "6"
        ],
        [
         "16",
         "27",
         "6"
        ],
        [
         "17",
         "28",
         "0"
        ],
        [
         "18",
         "29",
         "6"
        ],
        [
         "19",
         "30",
         "10"
        ],
        [
         "20",
         "33",
         "6"
        ],
        [
         "21",
         "34",
         "6"
        ],
        [
         "22",
         "35",
         "6"
        ],
        [
         "23",
         "36",
         "15"
        ],
        [
         "24",
         "38",
         "17"
        ],
        [
         "25",
         "39",
         "15"
        ],
        [
         "26",
         "40",
         "15"
        ],
        [
         "27",
         "41",
         "6"
        ],
        [
         "28",
         "42",
         "6"
        ],
        [
         "29",
         "43",
         "15"
        ],
        [
         "30",
         "44",
         "6"
        ],
        [
         "31",
         "45",
         "15"
        ],
        [
         "32",
         "46",
         "15"
        ],
        [
         "33",
         "47",
         "15"
        ],
        [
         "34",
         "48",
         "6"
        ],
        [
         "35",
         "49",
         "6"
        ],
        [
         "36",
         "51",
         "6"
        ],
        [
         "37",
         "52",
         "6"
        ],
        [
         "38",
         "53",
         "6"
        ],
        [
         "39",
         "54",
         "6"
        ],
        [
         "40",
         "55",
         "6"
        ],
        [
         "41",
         "56",
         "15"
        ],
        [
         "42",
         "57",
         "6"
        ],
        [
         "43",
         "58",
         "5"
        ],
        [
         "44",
         "59",
         "6"
        ],
        [
         "45",
         "60",
         "6"
        ],
        [
         "46",
         "61",
         "0"
        ],
        [
         "47",
         "62",
         "6"
        ],
        [
         "48",
         "63",
         "0"
        ],
        [
         "49",
         "64",
         "6"
        ]
       ],
       "shape": {
        "columns": 2,
        "rows": 33901
       }
      },
      "text/html": [
       "<div>\n",
       "<style scoped>\n",
       "    .dataframe tbody tr th:only-of-type {\n",
       "        vertical-align: middle;\n",
       "    }\n",
       "\n",
       "    .dataframe tbody tr th {\n",
       "        vertical-align: top;\n",
       "    }\n",
       "\n",
       "    .dataframe thead th {\n",
       "        text-align: right;\n",
       "    }\n",
       "</style>\n",
       "<table border=\"1\" class=\"dataframe\">\n",
       "  <thead>\n",
       "    <tr style=\"text-align: right;\">\n",
       "      <th></th>\n",
       "      <th>user</th>\n",
       "      <th>cluster</th>\n",
       "    </tr>\n",
       "  </thead>\n",
       "  <tbody>\n",
       "    <tr>\n",
       "      <th>0</th>\n",
       "      <td>2</td>\n",
       "      <td>7</td>\n",
       "    </tr>\n",
       "    <tr>\n",
       "      <th>1</th>\n",
       "      <td>4</td>\n",
       "      <td>11</td>\n",
       "    </tr>\n",
       "    <tr>\n",
       "      <th>2</th>\n",
       "      <td>5</td>\n",
       "      <td>7</td>\n",
       "    </tr>\n",
       "    <tr>\n",
       "      <th>3</th>\n",
       "      <td>7</td>\n",
       "      <td>6</td>\n",
       "    </tr>\n",
       "    <tr>\n",
       "      <th>4</th>\n",
       "      <td>8</td>\n",
       "      <td>15</td>\n",
       "    </tr>\n",
       "    <tr>\n",
       "      <th>...</th>\n",
       "      <td>...</td>\n",
       "      <td>...</td>\n",
       "    </tr>\n",
       "    <tr>\n",
       "      <th>33896</th>\n",
       "      <td>2102054</td>\n",
       "      <td>5</td>\n",
       "    </tr>\n",
       "    <tr>\n",
       "      <th>33897</th>\n",
       "      <td>2102356</td>\n",
       "      <td>6</td>\n",
       "    </tr>\n",
       "    <tr>\n",
       "      <th>33898</th>\n",
       "      <td>2102680</td>\n",
       "      <td>1</td>\n",
       "    </tr>\n",
       "    <tr>\n",
       "      <th>33899</th>\n",
       "      <td>2102983</td>\n",
       "      <td>6</td>\n",
       "    </tr>\n",
       "    <tr>\n",
       "      <th>33900</th>\n",
       "      <td>2103039</td>\n",
       "      <td>6</td>\n",
       "    </tr>\n",
       "  </tbody>\n",
       "</table>\n",
       "<p>33901 rows × 2 columns</p>\n",
       "</div>"
      ],
      "text/plain": [
       "          user  cluster\n",
       "0            2        7\n",
       "1            4       11\n",
       "2            5        7\n",
       "3            7        6\n",
       "4            8       15\n",
       "...        ...      ...\n",
       "33896  2102054        5\n",
       "33897  2102356        6\n",
       "33898  2102680        1\n",
       "33899  2102983        6\n",
       "33900  2103039        6\n",
       "\n",
       "[33901 rows x 2 columns]"
      ]
     },
     "execution_count": 47,
     "metadata": {},
     "output_type": "execute_result"
    }
   ],
   "source": [
    "combine_cluster_labels(user_ids,cluster_labels)"
   ]
  },
  {
   "cell_type": "markdown",
   "id": "c2c6b98d-0b1e-45ca-a3a8-d83bbb050cbf",
   "metadata": {},
   "source": [
    "Your clustering results may look like the following screenshot:\n"
   ]
  },
  {
   "cell_type": "markdown",
   "id": "5e82188d-6d39-4bab-a39e-e9c7812f9daf",
   "metadata": {},
   "source": [
    "![](https://cf-courses-data.s3.us.cloud-object-storage.appdomain.cloud/IBM-ML321EN-SkillsNetwork/labs/module_3/images/cluster_labels.png)\n"
   ]
  },
  {
   "cell_type": "markdown",
   "id": "89fe99cc-1a23-4bee-917d-366a4fdb45ee",
   "metadata": {},
   "source": [
    "Now, each user finds its own cluster or we can say we have created many clusters of learning communities. Learners within each community share very similar learning interests.\n"
   ]
  },
  {
   "cell_type": "markdown",
   "id": "1bbed6af-b2b7-4a50-aac9-ba73ff777e95",
   "metadata": {},
   "source": [
    "### TASK: Apply PCA on user profile feature vectors to reduce dimensions\n"
   ]
  },
  {
   "cell_type": "markdown",
   "id": "92d1c921-2ae4-4d24-8f9e-fb326ecd7ab7",
   "metadata": {},
   "source": [
    "In the previous step, we applied `KMeans` on the original user profile feature vectors which have 14 original features (the course genres).\n"
   ]
  },
  {
   "cell_type": "code",
   "execution_count": 48,
   "id": "38a00c72-5073-474e-ae40-21d064b2b2c4",
   "metadata": {},
   "outputs": [],
   "source": [
    "# Extracting features from the user_profile_df DataFrame, excluding the 'user' column\n",
    "features = user_profile_df.loc[:, user_profile_df.columns != 'user']\n",
    "\n",
    "# Extracting user IDs from the user_profile_df DataFrame\n",
    "user_ids = user_profile_df.loc[:, user_profile_df.columns == 'user']\n",
    "\n",
    "# Creating a list of feature names by excluding the 'user' column name\n",
    "feature_names = list(user_profile_df.columns[1:])"
   ]
  },
  {
   "cell_type": "code",
   "execution_count": 49,
   "id": "84603b4c-582d-434a-878a-da3d52d20dd2",
   "metadata": {},
   "outputs": [
    {
     "name": "stdout",
     "output_type": "stream",
     "text": [
      "There are 14 features for each user profile.\n"
     ]
    }
   ],
   "source": [
    "print(f\"There are {len(feature_names)} features for each user profile.\")"
   ]
  },
  {
   "cell_type": "markdown",
   "id": "58f334b7-4f72-43b3-84d5-7bad4c418eaa",
   "metadata": {},
   "source": [
    "If we plot a covariance matrix of the user profile feature vectors with 14 features, we can observe that some features are actually correlated:\n"
   ]
  },
  {
   "cell_type": "code",
   "execution_count": 50,
   "id": "c28ab680-e0d0-4157-bab8-7155339a2edc",
   "metadata": {},
   "outputs": [
    {
     "data": {
      "image/png": "[encoded data removed]",
      "text/plain": [
       "<Figure size 1100x900 with 2 Axes>"
      ]
     },
     "metadata": {},
     "output_type": "display_data"
    }
   ],
   "source": [
    "sns.set_theme(style=\"white\")\n",
    "\n",
    "# Compute the correlation matrix\n",
    "corr = features.cov()\n",
    "\n",
    "# Generate a mask for the upper triangle\n",
    "mask = np.triu(np.ones_like(corr, dtype=bool))\n",
    "\n",
    "# Set up the matplotlib figure\n",
    "f, ax = plt.subplots(figsize=(11, 9))\n",
    "\n",
    "# Generate a custom diverging colormap\n",
    "cmap = sns.diverging_palette(230, 20, as_cmap=True)\n",
    "\n",
    "# Draw the heatmap with the mask and correct aspect ratio\n",
    "sns.heatmap(corr, mask=mask, cmap=cmap, vmax=.3, center=0,\n",
    "            square=True, linewidths=.5, cbar_kws={\"shrink\": .5})\n",
    "\n",
    "\n",
    "plt.show()"
   ]
  },
  {
   "cell_type": "markdown",
   "id": "aca0dbff-afee-42a7-8972-58c371906690",
   "metadata": {},
   "source": [
    "For example, the feature `MachineLearning` and the feature `DataScience` are correlated. Such covariances among features may indicate that we can apply PCA to find its main components (eigenvectors with max eigenvalues on the covariance matrix). \n",
    "\n",
    "If we only keep the independent main components, then we can reduce the dimensions of our user profile feature vectors.\n"
   ]
  },
  {
   "cell_type": "markdown",
   "id": "fa061530-c2ac-446e-b9a2-db8bd7965789",
   "metadata": {},
   "source": [
    "Now let's apply the `PCA()` provided by  `scikit-learn` to find the main components in user profile feature vectors and see if we can reduce its dimensions by only keeping the main components.\n"
   ]
  },
  {
   "cell_type": "markdown",
   "id": "4ecb8c08-21cf-4743-85fd-a798174b933d",
   "metadata": {},
   "source": [
    "Note that when calling the  `PCA()` class, there is also an import argument called `n_components` which indicates how many components you want to keep in the PCA result. One way to find an optimized `n_components` is to do a grid search on a list of argument candidates (such as `range(1, 15)`) and calculate the ratio of the accumulated variance for each candidate. \n",
    "\n",
    "If the accumulated variances ratio of a candidate `n_components` is larger than a threshold, e.g., 90%, then we can say the transformed `n_components` could explain about 90% of variances of the original data variance and can be considered as an optimized components size.\n"
   ]
  },
  {
   "cell_type": "markdown",
   "id": "65264986-25b8-491e-a79f-b4d78778efc7",
   "metadata": {},
   "source": [
    "_TODO: Find the optimized `n_components` for PCA_\n"
   ]
  },
  {
   "cell_type": "code",
   "execution_count": 20,
   "id": "80758de6-a9a7-46ff-a59e-cdf2c13fa0ab",
   "metadata": {},
   "outputs": [
    {
     "data": {
      "image/png": "[encoded data removed]",
      "text/plain": [
       "<Figure size 640x480 with 1 Axes>"
      ]
     },
     "metadata": {},
     "output_type": "display_data"
    }
   ],
   "source": [
    "# WRITE YOUR CODE HERE\n",
    "n_comp=[]\n",
    "exp_var=[]\n",
    "for i in range(1,15):\n",
    "    n_comp.append(i)\n",
    "    pca=PCA(n_components=i).fit(features)\n",
    "    exp_var.append(pca.explained_variance_ratio_.sum())\n",
    "plt.plot(n_comp,exp_var)\n",
    "plt.show()\n",
    "# - For a list of candidate `n_components` arguments such as 1 to 14, find out the minimal `n` that can explain accumulated 90% variances of previous data\n",
    "# - In the fitted PCA() model, you can find explained_variance_ratio_ and use the sum() function to add them to get the accumulated variance ratio\n"
   ]
  },
  {
   "cell_type": "code",
   "execution_count": 21,
   "metadata": {},
   "outputs": [
    {
     "data": {
      "text/plain": [
       "0.9272695591307679"
      ]
     },
     "execution_count": 21,
     "metadata": {},
     "output_type": "execute_result"
    }
   ],
   "source": [
    "pca=PCA(n_components=9).fit(features)\n",
    "pca.explained_variance_ratio_.sum()"
   ]
  },
  {
   "cell_type": "code",
   "execution_count": 22,
   "metadata": {},
   "outputs": [],
   "source": [
    "red_features=pca.transform(features)"
   ]
  },
  {
   "cell_type": "markdown",
   "id": "d747f0bd-b9c9-4c55-ae35-29608171c002",
   "metadata": {},
   "source": [
    "<details>\n",
    "    <summary>Click here for Hints</summary>\n",
    "    \n",
    "* For each `n_components` from 1 to 14 you can call `PCA=PCA(n_components=component)`, then you can simply fit it by callsing `pca.fit_transform(features)` where `features = user_profile_df.loc[:, user_profile_df.columns != 'user']`. \n",
    "* Then you can find `accumulated_variance_ratios` by applying `sum()` to `pca.explained_variance_ratio_`. \n",
    "* Then find the smallest n_components value for which `accumulated_variance_ratios >= 0.9` and return it.\n",
    "</details>\n"
   ]
  },
  {
   "cell_type": "markdown",
   "id": "18f3f6d5-3261-4d55-8b36-580c27a0df60",
   "metadata": {},
   "source": [
    "If you visualize your hyperparameter searching process, you may get a trend line like the following:\n"
   ]
  },
  {
   "cell_type": "markdown",
   "id": "507ddc2e-4325-40db-a2b8-c4e4d701f944",
   "metadata": {},
   "source": [
    "![](https://cf-courses-data.s3.us.cloud-object-storage.appdomain.cloud/IBM-ML321EN-SkillsNetwork/labs/module_3/images/pca.png)\n"
   ]
  },
  {
   "cell_type": "markdown",
   "id": "89298617-d944-43c5-8ddd-2abe125fc150",
   "metadata": {},
   "source": [
    "Once you found the optimized `n_component` argument value, you can apply PCA on the user profile feature vectors and reduce the  14 features into  `n_component` features.\n"
   ]
  },
  {
   "cell_type": "markdown",
   "id": "76d685f0-7ea6-4e19-bd45-f5700de73ab8",
   "metadata": {},
   "source": [
    "_TODO: Perform PCA to transform original user profile features_\n"
   ]
  },
  {
   "cell_type": "code",
   "execution_count": 23,
   "id": "b7d25e56-5b01-4868-85df-2da8890ac9cd",
   "metadata": {},
   "outputs": [
    {
     "data": {
      "application/vnd.microsoft.datawrangler.viewer.v0+json": {
       "columns": [
        {
         "name": "index",
         "rawType": "int64",
         "type": "integer"
        },
        {
         "name": "user",
         "rawType": "int64",
         "type": "integer"
        },
        {
         "name": "0",
         "rawType": "float64",
         "type": "float"
        },
        {
         "name": "1",
         "rawType": "float64",
         "type": "float"
        },
        {
         "name": "2",
         "rawType": "float64",
         "type": "float"
        },
        {
         "name": "3",
         "rawType": "float64",
         "type": "float"
        },
        {
         "name": "4",
         "rawType": "float64",
         "type": "float"
        },
        {
         "name": "5",
         "rawType": "float64",
         "type": "float"
        },
        {
         "name": "6",
         "rawType": "float64",
         "type": "float"
        },
        {
         "name": "7",
         "rawType": "float64",
         "type": "float"
        },
        {
         "name": "8",
         "rawType": "float64",
         "type": "float"
        }
       ],
       "ref": "283b846c-d406-4321-b651-3be345def9b7",
       "rows": [
        [
         "0",
         "2",
         "17.77249438742095",
         "0.20068140754276248",
         "1.730609272553922",
         "2.567359236080097",
         "-3.825813978489503",
         "-2.7071544385736375",
         "0.6810420011437478",
         "2.312613038930702",
         "0.8682715140851943"
        ],
        [
         "1",
         "4",
         "7.145198627086369",
         "-2.8474812103406726",
         "2.3586356011434826",
         "-0.5766536375206244",
         "0.39880315808514855",
         "0.13453283489129816",
         "0.549769326098389",
         "0.46903346249767575",
         "0.03340486988356773"
        ],
        [
         "2",
         "5",
         "11.363269851278822",
         "1.8736191965694915",
         "-1.5220773763155826",
         "1.076144402318266",
         "-1.7116882647381944",
         "-0.8832122147808482",
         "1.677582341488603",
         "2.937668701582083",
         "2.0976385792611176"
        ],
        [
         "3",
         "7",
         "-1.834032786523113",
         "-0.2774622192817468",
         "0.5649051435866161",
         "0.05347006651763825",
         "-0.06444017634244976",
         "-0.16575672393884835",
         "0.030956256434034577",
         "0.03951904558380614",
         "0.21088682894072763"
        ],
        [
         "4",
         "8",
         "-1.0491246126956715",
         "-0.6847673269475802",
         "1.072765171348801",
         "0.006371258016478754",
         "-0.005695390051349956",
         "-0.1186858805668662",
         "0.11855922896826329",
         "0.5592918425730523",
         "0.1863790459293862"
        ],
        [
         "5",
         "9",
         "0.27903766473297986",
         "-1.03100572138478",
         "1.7560074879449035",
         "1.0110705594769445",
         "-0.12845230450828535",
         "1.4673989894627881",
         "-0.7938777712247485",
         "0.6366183579317927",
         "0.21944499006294274"
        ],
        [
         "6",
         "12",
         "0.4523349864707678",
         "0.09736547532836871",
         "0.05889024658355408",
         "1.5566589452709336",
         "-1.0495561491268666",
         "0.5983429509270162",
         "-0.24488035508256328",
         "-0.21641698827458403",
         "-0.14112854274537678"
        ],
        [
         "7",
         "16",
         "1.5586758860202956",
         "-0.8901787889517171",
         "0.1057047247073635",
         "0.07974732278774933",
         "-0.013580073758968829",
         "0.1516667265303006",
         "0.7811999123287422",
         "-1.514683082907067",
         "0.40675388792483375"
        ],
        [
         "8",
         "17",
         "-2.0368318696099936",
         "-0.15353382690226464",
         "0.16285225901662861",
         "0.08265105828834796",
         "-0.12641853743153833",
         "-0.2551092403240668",
         "0.07249638320779753",
         "0.11374974810341337",
         "0.6228995777021713"
        ],
        [
         "9",
         "19",
         "-1.7756202253799036",
         "-0.032868924195083964",
         "0.771088226345505",
         "0.14612567942033675",
         "-0.1402481710380282",
         "-0.17783680854887132",
         "0.07318871443479105",
         "0.02904762747093442",
         "0.2715644510282485"
        ],
        [
         "10",
         "20",
         "-1.6914575824911915",
         "0.5416025307449134",
         "0.3352027414844825",
         "0.6175767691947395",
         "-0.9451566679669381",
         "-1.023912216142165",
         "-0.07698802738813795",
         "0.11383088972689467",
         "0.45290570677457803"
        ],
        [
         "11",
         "21",
         "-2.005616691547761",
         "-0.18614968441403504",
         "0.5644699013921952",
         "0.06939070688219451",
         "-0.06765767203839142",
         "-0.15579909824980417",
         "0.06387570930642086",
         "0.08522717159174818",
         "0.26203663504938024"
        ],
        [
         "12",
         "22",
         "-1.5305725503327383",
         "-0.4721948425930415",
         "-0.21053906670065287",
         "-0.03068158776637996",
         "-0.126706283301295",
         "-0.45449086307231423",
         "0.21592797888619816",
         "0.6050462789479389",
         "0.3917908087317841"
        ],
        [
         "13",
         "23",
         "-0.6207583609469534",
         "-0.8497599522559149",
         "0.17324487523531962",
         "-0.06342059222601999",
         "-0.049735710371189804",
         "-0.29061810276885147",
         "-0.13213340870733023",
         "-0.31149056281093535",
         "0.3634215732269454"
        ],
        [
         "14",
         "25",
         "0.9673712565367635",
         "-0.1317752649522455",
         "1.7708276435405048",
         "0.10904157281601265",
         "0.024529512163853195",
         "0.3015752231976361",
         "0.604784019615475",
         "-0.6154816422997416",
         "-0.0701175540078684"
        ],
        [
         "15",
         "26",
         "-2.0955103604666223",
         "-0.14680823193473957",
         "0.41519153291134214",
         "0.06700047338196097",
         "-0.08549412892496555",
         "-0.19827359589050267",
         "0.08471963875732871",
         "0.11868580308737514",
         "0.2567029059749717"
        ],
        [
         "16",
         "27",
         "-1.1790894152617106",
         "0.24890792204843398",
         "0.4135836116015741",
         "0.5646105447469701",
         "-0.9385647967876268",
         "-1.0994034691715755",
         "0.06506013249785933",
         "0.7227981522246392",
         "0.42724515787641154"
        ],
        [
         "17",
         "28",
         "2.9894640781926083",
         "-2.3811877111765627",
         "1.2571523196240768",
         "-0.5249895378794173",
         "0.2822948024978061",
         "-0.2668901682743251",
         "0.08554984881467939",
         "1.2876036873727665",
         "0.1892074732793703"
        ],
        [
         "18",
         "29",
         "-1.2784300017266421",
         "-0.5145500030769979",
         "0.1031048321136428",
         "-0.006657896058521308",
         "-0.09328108926928869",
         "-0.30490930116115805",
         "0.04220511250141016",
         "0.057542636211058255",
         "0.5477789462782559"
        ],
        [
         "19",
         "30",
         "-0.8944111219548196",
         "-0.6603252520045373",
         "-0.35913072155375153",
         "-0.0508652182701246",
         "-0.1253394978920693",
         "-0.4341042526944236",
         "0.08637342144117191",
         "0.12127435284625238",
         "0.9358208697244372"
        ],
        [
         "20",
         "33",
         "-1.834032786523113",
         "-0.2774622192817468",
         "0.5649051435866161",
         "0.05347006651763825",
         "-0.06444017634244976",
         "-0.16575672393884835",
         "0.030956256434034577",
         "0.03951904558380614",
         "0.21088682894072763"
        ],
        [
         "21",
         "34",
         "-2.005616691547761",
         "-0.18614968441403504",
         "0.5644699013921952",
         "0.06939070688219451",
         "-0.06765767203839142",
         "-0.15579909824980417",
         "0.06387570930642086",
         "0.08522717159174818",
         "0.26203663504938024"
        ],
        [
         "22",
         "35",
         "-1.3868781192250823",
         "-0.1981054655709683",
         "0.8059994212121131",
         "-0.11307146077490207",
         "0.10014898917105931",
         "-0.04338125174278598",
         "-0.08662828378036105",
         "-0.011178791457146774",
         "0.14977580228253543"
        ],
        [
         "23",
         "36",
         "-0.7192310273112458",
         "-0.6203269600746892",
         "0.7004810778851014",
         "-0.20525716719817022",
         "0.07715523315645942",
         "-0.259632334352554",
         "0.25590214576392534",
         "1.297018264580773",
         "0.16863389511883908"
        ],
        [
         "24",
         "38",
         "-0.719378820463236",
         "-0.6016459624758622",
         "0.03973536135324632",
         "0.9358239164929657",
         "-0.2847175252566354",
         "1.026925735883808",
         "-0.7315424694115304",
         "0.34425367409851065",
         "-0.1764597141389136"
        ],
        [
         "25",
         "39",
         "-0.5337256897907691",
         "-0.6921821480962153",
         "0.9623259192518752",
         "-0.20308326930588455",
         "0.11011523583374011",
         "-0.18440613211256274",
         "0.2303874888640199",
         "1.252463859546284",
         "0.14960451059485508"
        ],
        [
         "26",
         "40",
         "-1.2042317815459829",
         "-0.27337451206102686",
         "1.086200210376353",
         "-0.10959427832852567",
         "0.1344654473962738",
         "0.036706347017908106",
         "-0.12022954168122166",
         "-0.06691462547001827",
         "0.1455948390949519"
        ],
        [
         "27",
         "41",
         "-1.6513864488440133",
         "-0.35273126577180536",
         "0.8451059327508562",
         "0.056947248964014596",
         "-0.030123718117235226",
         "-0.08566912517815424",
         "-0.0026450014668260254",
         "-0.01621678842906531",
         "0.20670586575314417"
        ],
        [
         "28",
         "42",
         "-2.0166791242022124",
         "-0.20219317279168827",
         "0.2847043544223762",
         "0.049992884071261845",
         "-0.09875663456766426",
         "-0.2458443226995425",
         "0.06455751433489512",
         "0.09525487959667767",
         "0.21506779212831115"
        ],
        [
         "29",
         "43",
         "-1.2042317815459829",
         "-0.27337451206102686",
         "1.086200210376353",
         "-0.10959427832852567",
         "0.1344654473962738",
         "0.036706347017908106",
         "-0.12022954168122166",
         "-0.06691462547001827",
         "0.1455948390949519"
        ],
        [
         "30",
         "44",
         "-1.2207085177203199",
         "-0.5934547920798684",
         "1.07232992915438",
         "0.02229189838103507",
         "-0.008912885747291552",
         "-0.10872825487782202",
         "0.1514786818406497",
         "0.6049999685809943",
         "0.2375288520380388"
        ],
        [
         "31",
         "45",
         "-1.2042317815459829",
         "-0.27337451206102686",
         "1.086200210376353",
         "-0.10959427832852567",
         "0.1344654473962738",
         "0.036706347017908106",
         "-0.12022954168122166",
         "-0.06691462547001827",
         "0.1455948390949519"
        ],
        [
         "32",
         "46",
         "-1.0215854438668832",
         "-0.34864355855108536",
         "1.3664009995405928",
         "-0.10611709588214926",
         "0.16878190562148837",
         "0.11679394577860228",
         "-0.15383079958208215",
         "-0.12265045948288973",
         "0.14141387590736845"
        ],
        [
         "33",
         "47",
         "-0.9562001881013886",
         "-0.4388289918790314",
         "1.033223417615637",
         "-0.1477268113578816",
         "0.12135982154100308",
         "-0.06644038144245379",
         "0.06749539952711456",
         "0.6100379655529128",
         "0.18059878856743006"
        ],
        [
         "34",
         "48",
         "-1.049972074847622",
         "-0.7146671268701493",
         "-0.03938633786715208",
         "-0.08992656082516946",
         "-0.07914837867562587",
         "-0.43471463529825066",
         "0.1800122801461231",
         "0.5398273717419578",
         "0.14822411863910448"
        ],
        [
         "35",
         "49",
         "-2.005616691547761",
         "-0.18614968441403504",
         "0.5644699013921952",
         "0.06939070688219451",
         "-0.06765767203839142",
         "-0.15579909824980417",
         "0.06387570930642086",
         "0.08522717159174818",
         "0.26203663504938024"
        ],
        [
         "36",
         "51",
         "-1.9402314357822668",
         "-0.2763351177419811",
         "0.23129231946723883",
         "0.027780991406462174",
         "-0.11507975611887661",
         "-0.33903342547086024",
         "0.28520190841561777",
         "0.8179155966275509",
         "0.3012215477094418"
        ],
        [
         "37",
         "52",
         "-1.493076768484236",
         "-0.19697836403120259",
         "0.47238659709273567",
         "-0.1387605358860781",
         "0.049509409394632435",
         "-0.21665795327479784",
         "0.16761736820122217",
         "0.7672177595865979",
         "0.24011052105124964"
        ],
        [
         "38",
         "53",
         "-1.7411083619288301",
         "-0.03152388421319804",
         "0.5253633898534519",
         "-0.10062800285672216",
         "0.06261503524990322",
         "-0.11351122481443592",
         "-0.020107573007114212",
         "0.09026516856366679",
         "0.2051065715787715"
        ],
        [
         "39",
         "54",
         "-1.9237546996079296",
         "0.04374516227686045",
         "0.24516260068921208",
         "-0.10410518530309856",
         "0.028298577024688677",
         "-0.19359882357513006",
         "0.013493684893746393",
         "0.1460010025765383",
         "0.209287534766355"
        ],
        [
         "40",
         "55",
         "-1.7411083619288301",
         "-0.03152388421319804",
         "0.5253633898534519",
         "-0.10062800285672216",
         "0.06261503524990322",
         "-0.11351122481443592",
         "-0.020107573007114212",
         "0.09026516856366679",
         "0.2051065715787715"
        ],
        [
         "41",
         "56",
         "-1.2042317815459829",
         "-0.27337451206102686",
         "1.086200210376353",
         "-0.10959427832852567",
         "0.1344654473962738",
         "0.036706347017908106",
         "-0.12022954168122166",
         "-0.06691462547001827",
         "0.1455948390949519"
        ],
        [
         "42",
         "57",
         "-2.005616691547761",
         "-0.18614968441403504",
         "0.5644699013921952",
         "0.06939070688219451",
         "-0.06765767203839142",
         "-0.15579909824980417",
         "0.06387570930642086",
         "0.08522717159174818",
         "0.26203663504938024"
        ],
        [
         "43",
         "58",
         "0.7275727611132242",
         "-0.8112125329508223",
         "-0.4421591172137471",
         "-0.3567338729217725",
         "0.18220645025201038",
         "-0.159271111428124",
         "1.7021526459989165",
         "1.369049168569058",
         "-0.6135658856464493"
        ],
        [
         "44",
         "59",
         "-2.005616691547761",
         "-0.18614968441403504",
         "0.5644699013921952",
         "0.06939070688219451",
         "-0.06765767203839142",
         "-0.15579909824980417",
         "0.06387570930642086",
         "0.08522717159174818",
         "0.26203663504938024"
        ],
        [
         "45",
         "60",
         "-1.7521707945832812",
         "-0.047567372590851274",
         "0.24559784288363307",
         "-0.12002582566765482",
         "0.0315160727206303",
         "-0.20355644926417424",
         "-0.0194257679786399",
         "0.1002928765685962",
         "0.1581377286577024"
        ],
        [
         "46",
         "61",
         "4.753676095744786",
         "-1.6656531334772162",
         "2.7978488146527476",
         "-0.2953913646721561",
         "0.35633226378332367",
         "0.4364940180564917",
         "0.46666820201200176",
         "-0.035463305995051694",
         "0.11219257948026255"
        ],
        [
         "47",
         "62",
         "-1.7411083619288301",
         "-0.03152388421319804",
         "0.5253633898534519",
         "-0.10062800285672216",
         "0.06261503524990322",
         "-0.11351122481443592",
         "-0.020107573007114212",
         "0.09026516856366679",
         "0.2051065715787715"
        ],
        [
         "48",
         "63",
         "2.0593023718774224",
         "-0.9448526621595446",
         "2.2149807964012838",
         "-0.02735995835835955",
         "0.18667331455230812",
         "0.4256059275171726",
         "0.494303655781332",
         "-0.42242469506974295",
         "-0.12997144792574628"
        ],
        [
         "49",
         "64",
         "-2.005616691547761",
         "-0.18614968441403504",
         "0.5644699013921952",
         "0.06939070688219451",
         "-0.06765767203839142",
         "-0.15579909824980417",
         "0.06387570930642086",
         "0.08522717159174818",
         "0.26203663504938024"
        ]
       ],
       "shape": {
        "columns": 10,
        "rows": 33901
       }
      },
      "text/html": [
       "<div>\n",
       "<style scoped>\n",
       "    .dataframe tbody tr th:only-of-type {\n",
       "        vertical-align: middle;\n",
       "    }\n",
       "\n",
       "    .dataframe tbody tr th {\n",
       "        vertical-align: top;\n",
       "    }\n",
       "\n",
       "    .dataframe thead th {\n",
       "        text-align: right;\n",
       "    }\n",
       "</style>\n",
       "<table border=\"1\" class=\"dataframe\">\n",
       "  <thead>\n",
       "    <tr style=\"text-align: right;\">\n",
       "      <th></th>\n",
       "      <th>user</th>\n",
       "      <th>0</th>\n",
       "      <th>1</th>\n",
       "      <th>2</th>\n",
       "      <th>3</th>\n",
       "      <th>4</th>\n",
       "      <th>5</th>\n",
       "      <th>6</th>\n",
       "      <th>7</th>\n",
       "      <th>8</th>\n",
       "    </tr>\n",
       "  </thead>\n",
       "  <tbody>\n",
       "    <tr>\n",
       "      <th>0</th>\n",
       "      <td>2</td>\n",
       "      <td>17.772494</td>\n",
       "      <td>0.200681</td>\n",
       "      <td>1.730609</td>\n",
       "      <td>2.567359</td>\n",
       "      <td>-3.825814</td>\n",
       "      <td>-2.707154</td>\n",
       "      <td>0.681042</td>\n",
       "      <td>2.312613</td>\n",
       "      <td>0.868272</td>\n",
       "    </tr>\n",
       "    <tr>\n",
       "      <th>1</th>\n",
       "      <td>4</td>\n",
       "      <td>7.145199</td>\n",
       "      <td>-2.847481</td>\n",
       "      <td>2.358636</td>\n",
       "      <td>-0.576654</td>\n",
       "      <td>0.398803</td>\n",
       "      <td>0.134533</td>\n",
       "      <td>0.549769</td>\n",
       "      <td>0.469033</td>\n",
       "      <td>0.033405</td>\n",
       "    </tr>\n",
       "    <tr>\n",
       "      <th>2</th>\n",
       "      <td>5</td>\n",
       "      <td>11.363270</td>\n",
       "      <td>1.873619</td>\n",
       "      <td>-1.522077</td>\n",
       "      <td>1.076144</td>\n",
       "      <td>-1.711688</td>\n",
       "      <td>-0.883212</td>\n",
       "      <td>1.677582</td>\n",
       "      <td>2.937669</td>\n",
       "      <td>2.097639</td>\n",
       "    </tr>\n",
       "    <tr>\n",
       "      <th>3</th>\n",
       "      <td>7</td>\n",
       "      <td>-1.834033</td>\n",
       "      <td>-0.277462</td>\n",
       "      <td>0.564905</td>\n",
       "      <td>0.053470</td>\n",
       "      <td>-0.064440</td>\n",
       "      <td>-0.165757</td>\n",
       "      <td>0.030956</td>\n",
       "      <td>0.039519</td>\n",
       "      <td>0.210887</td>\n",
       "    </tr>\n",
       "    <tr>\n",
       "      <th>4</th>\n",
       "      <td>8</td>\n",
       "      <td>-1.049125</td>\n",
       "      <td>-0.684767</td>\n",
       "      <td>1.072765</td>\n",
       "      <td>0.006371</td>\n",
       "      <td>-0.005695</td>\n",
       "      <td>-0.118686</td>\n",
       "      <td>0.118559</td>\n",
       "      <td>0.559292</td>\n",
       "      <td>0.186379</td>\n",
       "    </tr>\n",
       "    <tr>\n",
       "      <th>...</th>\n",
       "      <td>...</td>\n",
       "      <td>...</td>\n",
       "      <td>...</td>\n",
       "      <td>...</td>\n",
       "      <td>...</td>\n",
       "      <td>...</td>\n",
       "      <td>...</td>\n",
       "      <td>...</td>\n",
       "      <td>...</td>\n",
       "      <td>...</td>\n",
       "    </tr>\n",
       "    <tr>\n",
       "      <th>33896</th>\n",
       "      <td>2102054</td>\n",
       "      <td>0.633824</td>\n",
       "      <td>0.108815</td>\n",
       "      <td>-0.388871</td>\n",
       "      <td>-0.122665</td>\n",
       "      <td>-0.098364</td>\n",
       "      <td>-0.358333</td>\n",
       "      <td>1.752049</td>\n",
       "      <td>1.486542</td>\n",
       "      <td>-0.523600</td>\n",
       "    </tr>\n",
       "    <tr>\n",
       "      <th>33897</th>\n",
       "      <td>2102356</td>\n",
       "      <td>-2.095339</td>\n",
       "      <td>0.135058</td>\n",
       "      <td>0.244727</td>\n",
       "      <td>-0.088185</td>\n",
       "      <td>0.025081</td>\n",
       "      <td>-0.183641</td>\n",
       "      <td>0.046413</td>\n",
       "      <td>0.191709</td>\n",
       "      <td>0.260437</td>\n",
       "    </tr>\n",
       "    <tr>\n",
       "      <th>33898</th>\n",
       "      <td>2102680</td>\n",
       "      <td>0.625943</td>\n",
       "      <td>-0.547167</td>\n",
       "      <td>-1.692824</td>\n",
       "      <td>-0.630589</td>\n",
       "      <td>0.166632</td>\n",
       "      <td>-0.676244</td>\n",
       "      <td>-0.055100</td>\n",
       "      <td>0.582091</td>\n",
       "      <td>1.703193</td>\n",
       "    </tr>\n",
       "    <tr>\n",
       "      <th>33899</th>\n",
       "      <td>2102983</td>\n",
       "      <td>-2.036832</td>\n",
       "      <td>-0.153534</td>\n",
       "      <td>0.162852</td>\n",
       "      <td>0.082651</td>\n",
       "      <td>-0.126419</td>\n",
       "      <td>-0.255109</td>\n",
       "      <td>0.072496</td>\n",
       "      <td>0.113750</td>\n",
       "      <td>0.622900</td>\n",
       "    </tr>\n",
       "    <tr>\n",
       "      <th>33900</th>\n",
       "      <td>2103039</td>\n",
       "      <td>-2.036832</td>\n",
       "      <td>-0.153534</td>\n",
       "      <td>0.162852</td>\n",
       "      <td>0.082651</td>\n",
       "      <td>-0.126419</td>\n",
       "      <td>-0.255109</td>\n",
       "      <td>0.072496</td>\n",
       "      <td>0.113750</td>\n",
       "      <td>0.622900</td>\n",
       "    </tr>\n",
       "  </tbody>\n",
       "</table>\n",
       "<p>33901 rows × 10 columns</p>\n",
       "</div>"
      ],
      "text/plain": [
       "          user          0         1         2         3         4         5  \\\n",
       "0            2  17.772494  0.200681  1.730609  2.567359 -3.825814 -2.707154   \n",
       "1            4   7.145199 -2.847481  2.358636 -0.576654  0.398803  0.134533   \n",
       "2            5  11.363270  1.873619 -1.522077  1.076144 -1.711688 -0.883212   \n",
       "3            7  -1.834033 -0.277462  0.564905  0.053470 -0.064440 -0.165757   \n",
       "4            8  -1.049125 -0.684767  1.072765  0.006371 -0.005695 -0.118686   \n",
       "...        ...        ...       ...       ...       ...       ...       ...   \n",
       "33896  2102054   0.633824  0.108815 -0.388871 -0.122665 -0.098364 -0.358333   \n",
       "33897  2102356  -2.095339  0.135058  0.244727 -0.088185  0.025081 -0.183641   \n",
       "33898  2102680   0.625943 -0.547167 -1.692824 -0.630589  0.166632 -0.676244   \n",
       "33899  2102983  -2.036832 -0.153534  0.162852  0.082651 -0.126419 -0.255109   \n",
       "33900  2103039  -2.036832 -0.153534  0.162852  0.082651 -0.126419 -0.255109   \n",
       "\n",
       "              6         7         8  \n",
       "0      0.681042  2.312613  0.868272  \n",
       "1      0.549769  0.469033  0.033405  \n",
       "2      1.677582  2.937669  2.097639  \n",
       "3      0.030956  0.039519  0.210887  \n",
       "4      0.118559  0.559292  0.186379  \n",
       "...         ...       ...       ...  \n",
       "33896  1.752049  1.486542 -0.523600  \n",
       "33897  0.046413  0.191709  0.260437  \n",
       "33898 -0.055100  0.582091  1.703193  \n",
       "33899  0.072496  0.113750  0.622900  \n",
       "33900  0.072496  0.113750  0.622900  \n",
       "\n",
       "[33901 rows x 10 columns]"
      ]
     },
     "execution_count": 23,
     "metadata": {},
     "output_type": "execute_result"
    }
   ],
   "source": [
    "# WRITE YOUR CODE HERE\n",
    "\n",
    "# - For a list of candidate `n_components` arguments such as 1 to 14, find out the minimal `n` that can explain accumulated 90% variances of previous data\n",
    "# - In the fitted PCA() model, you can find explained_variance_ratio_ and use the sum() function to add them to get the accumulated variance ratio\n",
    "# - Merge the user ids and transformed features into a new dataframe\n",
    "red_df=pd.DataFrame(data=red_features)\n",
    "red_df=pd.merge(user_ids,red_df,left_index=True, right_index=True)\n",
    "red_df"
   ]
  },
  {
   "cell_type": "markdown",
   "id": "734fd28c-ea39-4ca8-90e8-0202c9531ea5",
   "metadata": {},
   "source": [
    "<details>\n",
    "    <summary>Click here for Hints</summary>\n",
    "    \n",
    "* Call PCA class as `pca = PCA(n_components=n_components)` \n",
    "* Fit PCA model using predefined `features` variable as only parameter\n",
    "* Get the components by calling `pca.fit_transform(features)` \n",
    "* Create a `pd.DataFrame(data=components)` and use `pd.merge` to merge it with `user_ids` don't forget to specify `left_index=True, right_index=True` in `merge` function parameters.\n",
    "    \n",
    "</details> \n",
    "    \n"
   ]
  },
  {
   "cell_type": "markdown",
   "id": "cd7f337a-9cb5-4c94-8553-5e58d9831838",
   "metadata": {},
   "source": [
    "Your PCA transformed dataframe may look like the following:\n"
   ]
  },
  {
   "cell_type": "markdown",
   "id": "50f886bd-7cb1-43e9-91fd-fc5d77167414",
   "metadata": {},
   "source": [
    "![](https://cf-courses-data.s3.us.cloud-object-storage.appdomain.cloud/IBM-ML321EN-SkillsNetwork/labs/module_3/images/pca_res.png)\n"
   ]
  },
  {
   "cell_type": "markdown",
   "id": "81bb81ad-f12f-4131-93c4-dfe16990470a",
   "metadata": {},
   "source": [
    "### TASK: Perform k-means clustering on the PCA transformed feature vectors\n"
   ]
  },
  {
   "cell_type": "markdown",
   "id": "d3704b34-a4cb-4051-832b-c568e69629c3",
   "metadata": {},
   "source": [
    "Now, you have the PCA  components of the original profile vectors. You can perform k-means on them again:\n"
   ]
  },
  {
   "cell_type": "markdown",
   "id": "891869ec-cf73-4d3c-a11e-c87f252849a1",
   "metadata": {},
   "source": [
    "_TODO: Perform K-means on the PCA transformed features_\n"
   ]
  },
  {
   "cell_type": "code",
   "execution_count": 51,
   "id": "73752fc6-3fe1-4830-9148-d45a781e067d",
   "metadata": {},
   "outputs": [
    {
     "data": {
      "text/plain": [
       "array([12, 14, 12, ...,  1, 19, 19])"
      ]
     },
     "execution_count": 51,
     "metadata": {},
     "output_type": "execute_result"
    }
   ],
   "source": [
    "## WRITE YOUR CODE HERE\n",
    "\n",
    "## - Apply KMeans() on the PCA features\n",
    "## - Obtain the cluster label lists from model.labels_ attribute\n",
    "## - Assign each user a cluster label by combining user ids and cluster labels\n",
    "km.fit(red_features)\n",
    "km.labels_"
   ]
  },
  {
   "cell_type": "code",
   "execution_count": 52,
   "metadata": {},
   "outputs": [
    {
     "data": {
      "application/vnd.microsoft.datawrangler.viewer.v0+json": {
       "columns": [
        {
         "name": "index",
         "rawType": "int64",
         "type": "integer"
        },
        {
         "name": "user",
         "rawType": "int64",
         "type": "integer"
        },
        {
         "name": "cluster",
         "rawType": "int32",
         "type": "integer"
        }
       ],
       "ref": "5d272a0d-1f50-4842-a3ea-074c307414d0",
       "rows": [
        [
         "0",
         "2",
         "12"
        ],
        [
         "1",
         "4",
         "14"
        ],
        [
         "2",
         "5",
         "12"
        ],
        [
         "3",
         "7",
         "19"
        ],
        [
         "4",
         "8",
         "9"
        ],
        [
         "5",
         "9",
         "17"
        ],
        [
         "6",
         "12",
         "11"
        ],
        [
         "7",
         "16",
         "6"
        ],
        [
         "8",
         "17",
         "19"
        ],
        [
         "9",
         "19",
         "19"
        ],
        [
         "10",
         "20",
         "19"
        ],
        [
         "11",
         "21",
         "19"
        ],
        [
         "12",
         "22",
         "19"
        ],
        [
         "13",
         "23",
         "9"
        ],
        [
         "14",
         "25",
         "17"
        ],
        [
         "15",
         "26",
         "19"
        ],
        [
         "16",
         "27",
         "19"
        ],
        [
         "17",
         "28",
         "7"
        ],
        [
         "18",
         "29",
         "19"
        ],
        [
         "19",
         "30",
         "1"
        ],
        [
         "20",
         "33",
         "19"
        ],
        [
         "21",
         "34",
         "19"
        ],
        [
         "22",
         "35",
         "19"
        ],
        [
         "23",
         "36",
         "9"
        ],
        [
         "24",
         "38",
         "11"
        ],
        [
         "25",
         "39",
         "9"
        ],
        [
         "26",
         "40",
         "19"
        ],
        [
         "27",
         "41",
         "19"
        ],
        [
         "28",
         "42",
         "19"
        ],
        [
         "29",
         "43",
         "19"
        ],
        [
         "30",
         "44",
         "19"
        ],
        [
         "31",
         "45",
         "19"
        ],
        [
         "32",
         "46",
         "17"
        ],
        [
         "33",
         "47",
         "9"
        ],
        [
         "34",
         "48",
         "9"
        ],
        [
         "35",
         "49",
         "19"
        ],
        [
         "36",
         "51",
         "19"
        ],
        [
         "37",
         "52",
         "19"
        ],
        [
         "38",
         "53",
         "19"
        ],
        [
         "39",
         "54",
         "19"
        ],
        [
         "40",
         "55",
         "19"
        ],
        [
         "41",
         "56",
         "19"
        ],
        [
         "42",
         "57",
         "19"
        ],
        [
         "43",
         "58",
         "13"
        ],
        [
         "44",
         "59",
         "19"
        ],
        [
         "45",
         "60",
         "19"
        ],
        [
         "46",
         "61",
         "0"
        ],
        [
         "47",
         "62",
         "19"
        ],
        [
         "48",
         "63",
         "0"
        ],
        [
         "49",
         "64",
         "19"
        ]
       ],
       "shape": {
        "columns": 2,
        "rows": 33901
       }
      },
      "text/html": [
       "<div>\n",
       "<style scoped>\n",
       "    .dataframe tbody tr th:only-of-type {\n",
       "        vertical-align: middle;\n",
       "    }\n",
       "\n",
       "    .dataframe tbody tr th {\n",
       "        vertical-align: top;\n",
       "    }\n",
       "\n",
       "    .dataframe thead th {\n",
       "        text-align: right;\n",
       "    }\n",
       "</style>\n",
       "<table border=\"1\" class=\"dataframe\">\n",
       "  <thead>\n",
       "    <tr style=\"text-align: right;\">\n",
       "      <th></th>\n",
       "      <th>user</th>\n",
       "      <th>cluster</th>\n",
       "    </tr>\n",
       "  </thead>\n",
       "  <tbody>\n",
       "    <tr>\n",
       "      <th>0</th>\n",
       "      <td>2</td>\n",
       "      <td>12</td>\n",
       "    </tr>\n",
       "    <tr>\n",
       "      <th>1</th>\n",
       "      <td>4</td>\n",
       "      <td>14</td>\n",
       "    </tr>\n",
       "    <tr>\n",
       "      <th>2</th>\n",
       "      <td>5</td>\n",
       "      <td>12</td>\n",
       "    </tr>\n",
       "    <tr>\n",
       "      <th>3</th>\n",
       "      <td>7</td>\n",
       "      <td>19</td>\n",
       "    </tr>\n",
       "    <tr>\n",
       "      <th>4</th>\n",
       "      <td>8</td>\n",
       "      <td>9</td>\n",
       "    </tr>\n",
       "    <tr>\n",
       "      <th>...</th>\n",
       "      <td>...</td>\n",
       "      <td>...</td>\n",
       "    </tr>\n",
       "    <tr>\n",
       "      <th>33896</th>\n",
       "      <td>2102054</td>\n",
       "      <td>13</td>\n",
       "    </tr>\n",
       "    <tr>\n",
       "      <th>33897</th>\n",
       "      <td>2102356</td>\n",
       "      <td>19</td>\n",
       "    </tr>\n",
       "    <tr>\n",
       "      <th>33898</th>\n",
       "      <td>2102680</td>\n",
       "      <td>1</td>\n",
       "    </tr>\n",
       "    <tr>\n",
       "      <th>33899</th>\n",
       "      <td>2102983</td>\n",
       "      <td>19</td>\n",
       "    </tr>\n",
       "    <tr>\n",
       "      <th>33900</th>\n",
       "      <td>2103039</td>\n",
       "      <td>19</td>\n",
       "    </tr>\n",
       "  </tbody>\n",
       "</table>\n",
       "<p>33901 rows × 2 columns</p>\n",
       "</div>"
      ],
      "text/plain": [
       "          user  cluster\n",
       "0            2       12\n",
       "1            4       14\n",
       "2            5       12\n",
       "3            7       19\n",
       "4            8        9\n",
       "...        ...      ...\n",
       "33896  2102054       13\n",
       "33897  2102356       19\n",
       "33898  2102680        1\n",
       "33899  2102983       19\n",
       "33900  2103039       19\n",
       "\n",
       "[33901 rows x 2 columns]"
      ]
     },
     "execution_count": 52,
     "metadata": {},
     "output_type": "execute_result"
    }
   ],
   "source": [
    "cluster_df=combine_cluster_labels(user_ids, km.labels_)\n",
    "cluster_df"
   ]
  },
  {
   "cell_type": "code",
   "execution_count": 58,
   "metadata": {},
   "outputs": [
    {
     "name": "stdout",
     "output_type": "stream",
     "text": [
      "877\n",
      "1794\n",
      "2583\n",
      "171\n",
      "2061\n",
      "20\n",
      "2988\n",
      "903\n",
      "495\n",
      "3247\n",
      "449\n",
      "1866\n",
      "143\n",
      "1674\n",
      "278\n",
      "1092\n",
      "1152\n",
      "3173\n",
      "929\n",
      "8006\n"
     ]
    }
   ],
   "source": [
    "for i in range(0,20):\n",
    "    print(len(cluster_df.loc[cluster_df['cluster']==i]))"
   ]
  },
  {
   "cell_type": "markdown",
   "id": "a99099a4-7bbb-4c01-b2c2-b3072449101e",
   "metadata": {},
   "source": [
    "Your clustering results should have the same format as the k-means on the original dataset:\n"
   ]
  },
  {
   "cell_type": "markdown",
   "id": "e1ffaa7e-4613-4a3d-a3f1-b388056b63aa",
   "metadata": {},
   "source": [
    "![](https://cf-courses-data.s3.us.cloud-object-storage.appdomain.cloud/IBM-ML321EN-SkillsNetwork/labs/module_3/images/cluster_labels.png)\n"
   ]
  },
  {
   "cell_type": "markdown",
   "id": "95629637-1a21-48f5-bcf2-3bec0045d5e5",
   "metadata": {},
   "source": [
    "Great, now all users find their learning interest groups, either based on their original or the PCA transformed user profile features. \n"
   ]
  },
  {
   "cell_type": "markdown",
   "id": "92661ff4-aea0-4f04-b973-c3e544b54067",
   "metadata": {},
   "source": [
    "When a user is in a group or a community, it is very likely that the user will be interested in the courses enrolled by other members within the same group.\n"
   ]
  },
  {
   "cell_type": "markdown",
   "id": "69a00bd3-7ee4-4bfe-8a75-502cb80c0c6e",
   "metadata": {},
   "source": [
    "### TASK: Generate course recommendations based on the popular courses in the same cluster\n"
   ]
  },
  {
   "cell_type": "markdown",
   "id": "8bded704-16dc-4010-b9a5-f5ea2af5c109",
   "metadata": {},
   "source": [
    "The Intuition of clustering-based course recommendation is very simple and can be illustrated via the following example:\n"
   ]
  },
  {
   "cell_type": "markdown",
   "id": "c700b235-c0e2-469a-9472-66366a0da7dd",
   "metadata": {},
   "source": [
    "Suppose a user has joined a machine learning group (via clustering algorithm). In the group, he/she finds that the top-3 courses enrolled by all other group members are `Machine Learning for Everyone`, `Machine Learning with Python`, `Machine Learning with Scikit-learn`. Since the user has already completed the `Machine Learning for Everyone` earlier, he/she decides to trust the group members' choices and enroll in other two unselected courses `Machine Learning with Python` and `Machine Learning with Scikit-learn`.\n"
   ]
  },
  {
   "cell_type": "markdown",
   "id": "45c50ae2-ad3b-4a3c-b1e2-21bdd7e43c21",
   "metadata": {},
   "source": [
    "In summary, the clustering-based recommender system first groups all users based on their profiles, and maintains a popular courses list for each group. \n",
    "\n",
    "For any group member who needs course recommendations, the algorithm recommends the unselected courses from the popular course lists.\n"
   ]
  },
  {
   "cell_type": "markdown",
   "id": "c7624dc6-c1b7-430a-be3c-47aefba9355a",
   "metadata": {},
   "source": [
    "Next, suppose we have a set of test users, and we want to recommend new courses to them using a clustering-based recommender system:\n"
   ]
  },
  {
   "cell_type": "code",
   "execution_count": 27,
   "id": "c588ad04-ed38-48d6-9ea5-a3ce359c4161",
   "metadata": {},
   "outputs": [
    {
     "data": {
      "application/vnd.microsoft.datawrangler.viewer.v0+json": {
       "columns": [
        {
         "name": "index",
         "rawType": "int64",
         "type": "integer"
        },
        {
         "name": "user",
         "rawType": "int64",
         "type": "integer"
        },
        {
         "name": "item",
         "rawType": "object",
         "type": "string"
        }
       ],
       "ref": "e67d8f32-7c52-4fc4-8cc9-3f47eccbf012",
       "rows": [
        [
         "0",
         "1889878",
         "CC0101EN"
        ],
        [
         "1",
         "1342067",
         "CL0101EN"
        ],
        [
         "2",
         "1990814",
         "ML0120ENv3"
        ],
        [
         "3",
         "380098",
         "BD0211EN"
        ],
        [
         "4",
         "779563",
         "DS0101EN"
        ]
       ],
       "shape": {
        "columns": 2,
        "rows": 5
       }
      },
      "text/html": [
       "<div>\n",
       "<style scoped>\n",
       "    .dataframe tbody tr th:only-of-type {\n",
       "        vertical-align: middle;\n",
       "    }\n",
       "\n",
       "    .dataframe tbody tr th {\n",
       "        vertical-align: top;\n",
       "    }\n",
       "\n",
       "    .dataframe thead th {\n",
       "        text-align: right;\n",
       "    }\n",
       "</style>\n",
       "<table border=\"1\" class=\"dataframe\">\n",
       "  <thead>\n",
       "    <tr style=\"text-align: right;\">\n",
       "      <th></th>\n",
       "      <th>user</th>\n",
       "      <th>item</th>\n",
       "    </tr>\n",
       "  </thead>\n",
       "  <tbody>\n",
       "    <tr>\n",
       "      <th>0</th>\n",
       "      <td>1889878</td>\n",
       "      <td>CC0101EN</td>\n",
       "    </tr>\n",
       "    <tr>\n",
       "      <th>1</th>\n",
       "      <td>1342067</td>\n",
       "      <td>CL0101EN</td>\n",
       "    </tr>\n",
       "    <tr>\n",
       "      <th>2</th>\n",
       "      <td>1990814</td>\n",
       "      <td>ML0120ENv3</td>\n",
       "    </tr>\n",
       "    <tr>\n",
       "      <th>3</th>\n",
       "      <td>380098</td>\n",
       "      <td>BD0211EN</td>\n",
       "    </tr>\n",
       "    <tr>\n",
       "      <th>4</th>\n",
       "      <td>779563</td>\n",
       "      <td>DS0101EN</td>\n",
       "    </tr>\n",
       "  </tbody>\n",
       "</table>\n",
       "</div>"
      ],
      "text/plain": [
       "      user        item\n",
       "0  1889878    CC0101EN\n",
       "1  1342067    CL0101EN\n",
       "2  1990814  ML0120ENv3\n",
       "3   380098    BD0211EN\n",
       "4   779563    DS0101EN"
      ]
     },
     "execution_count": 27,
     "metadata": {},
     "output_type": "execute_result"
    }
   ],
   "source": [
    "test_user_url = \"https://cf-courses-data.s3.us.cloud-object-storage.appdomain.cloud/IBMSkillsNetwork-ML0321EN-Coursera/labs/v2/module_3/ratings.csv\"\n",
    "\n",
    "# Reading the test user data CSV file into a pandas DataFrame\n",
    "# Selecting only the 'user' and 'item' columns using indexing\n",
    "test_users_df = pd.read_csv(test_user_url)[['user', 'item']]\n",
    "\n",
    "# Displaying the first few rows of the DataFrame to inspect its contents\n",
    "test_users_df.head()"
   ]
  },
  {
   "cell_type": "markdown",
   "id": "762b77e1-957d-452b-8a7e-009ab91572c5",
   "metadata": {},
   "source": [
    "The test users dataset has only two columns, the user id and the enrolled course id. \n"
   ]
  },
  {
   "cell_type": "markdown",
   "id": "650d2448-01b0-4ca2-86c1-f69c462419d1",
   "metadata": {},
   "source": [
    "For each user, let's find its cluster label using the k-means results you have performed in previous steps, assuming it is named `cluster_df`.\n"
   ]
  },
  {
   "cell_type": "markdown",
   "id": "5278003a-c5d2-4d56-93d0-912ae03e27ed",
   "metadata": {},
   "source": [
    "You can assign the cluster label to all test users via merging the clustering labels (`cluster_df`:):\n"
   ]
  },
  {
   "cell_type": "code",
   "execution_count": 59,
   "id": "d99fb326-1957-4ce9-9b9e-2db62c2c61d4",
   "metadata": {},
   "outputs": [
    {
     "data": {
      "application/vnd.microsoft.datawrangler.viewer.v0+json": {
       "columns": [
        {
         "name": "index",
         "rawType": "int64",
         "type": "integer"
        },
        {
         "name": "user",
         "rawType": "int64",
         "type": "integer"
        },
        {
         "name": "item",
         "rawType": "object",
         "type": "string"
        },
        {
         "name": "cluster",
         "rawType": "int32",
         "type": "integer"
        }
       ],
       "ref": "ac23d4a4-1395-4e5f-aac0-cd69dd62f8a3",
       "rows": [
        [
         "0",
         "1889878",
         "CC0101EN",
         "8"
        ],
        [
         "1",
         "1342067",
         "CL0101EN",
         "17"
        ],
        [
         "2",
         "1990814",
         "ML0120ENv3",
         "14"
        ],
        [
         "3",
         "380098",
         "BD0211EN",
         "8"
        ],
        [
         "4",
         "779563",
         "DS0101EN",
         "6"
        ],
        [
         "5",
         "1390655",
         "ST0101EN",
         "6"
        ],
        [
         "6",
         "367075",
         "DS0301EN",
         "13"
        ],
        [
         "7",
         "1858700",
         "CC0101EN",
         "2"
        ],
        [
         "8",
         "600100",
         "BD0211EN",
         "9"
        ],
        [
         "9",
         "623377",
         "DS0105EN",
         "9"
        ],
        [
         "10",
         "766893",
         "BD0141EN",
         "12"
        ],
        [
         "11",
         "1248617",
         "CO0201EN",
         "4"
        ],
        [
         "12",
         "1633385",
         "CB0103EN",
         "8"
        ],
        [
         "13",
         "1706535",
         "DV0101EN",
         "6"
        ],
        [
         "14",
         "1804498",
         "DV0101EN",
         "6"
        ],
        [
         "15",
         "1474302",
         "DS0103EN",
         "6"
        ],
        [
         "16",
         "1602482",
         "DS0105EN",
         "14"
        ],
        [
         "17",
         "301887",
         "DS0103EN",
         "13"
        ],
        [
         "18",
         "633216",
         "CB0103EN",
         "19"
        ],
        [
         "19",
         "1794016",
         "BD0123EN",
         "10"
        ],
        [
         "20",
         "2098743",
         "DV0101EN",
         "6"
        ],
        [
         "21",
         "1143622",
         "BC0101EN",
         "7"
        ],
        [
         "22",
         "1007849",
         "BD0211EN",
         "6"
        ],
        [
         "23",
         "1555457",
         "TA0105EN",
         "15"
        ],
        [
         "24",
         "946915",
         "CO0201EN",
         "15"
        ],
        [
         "25",
         "892274",
         "DV0101EN",
         "11"
        ],
        [
         "26",
         "551690",
         "ML0151EN",
         "7"
        ],
        [
         "27",
         "750076",
         "BD0101EN",
         "11"
        ],
        [
         "28",
         "789341",
         "BD0111EN",
         "2"
        ],
        [
         "29",
         "773165",
         "BC0201EN",
         "18"
        ],
        [
         "30",
         "794886",
         "BC0101EN",
         "11"
        ],
        [
         "31",
         "1342117",
         "ML0122ENv1",
         "8"
        ],
        [
         "32",
         "640330",
         "BD0131EN",
         "0"
        ],
        [
         "33",
         "1034313",
         "BC0101EN",
         "16"
        ],
        [
         "34",
         "961488",
         "BD0121EN",
         "17"
        ],
        [
         "35",
         "1246308",
         "PY0101EN",
         "6"
        ],
        [
         "36",
         "979308",
         "CL0101EN",
         "2"
        ],
        [
         "37",
         "634975",
         "DV0101EN",
         "8"
        ],
        [
         "38",
         "1383971",
         "BD0145EN",
         "9"
        ],
        [
         "39",
         "685972",
         "ML0101EN",
         "1"
        ],
        [
         "40",
         "630451",
         "DS0101EN",
         "9"
        ],
        [
         "41",
         "1516838",
         "CO0301EN",
         "18"
        ],
        [
         "42",
         "1132926",
         "DS0101EN",
         "6"
        ],
        [
         "43",
         "1281219",
         "ML0101ENv3",
         "1"
        ],
        [
         "44",
         "1741605",
         "DS0103EN",
         "9"
        ],
        [
         "45",
         "526671",
         "DB0151EN",
         "14"
        ],
        [
         "46",
         "1319023",
         "CO0101EN",
         "4"
        ],
        [
         "47",
         "1208933",
         "ML0101ENv3",
         "6"
        ],
        [
         "48",
         "784113",
         "PY0101EN",
         "7"
        ],
        [
         "49",
         "1470621",
         "DS0105EN",
         "6"
        ]
       ],
       "shape": {
        "columns": 3,
        "rows": 233306
       }
      },
      "text/html": [
       "<div>\n",
       "<style scoped>\n",
       "    .dataframe tbody tr th:only-of-type {\n",
       "        vertical-align: middle;\n",
       "    }\n",
       "\n",
       "    .dataframe tbody tr th {\n",
       "        vertical-align: top;\n",
       "    }\n",
       "\n",
       "    .dataframe thead th {\n",
       "        text-align: right;\n",
       "    }\n",
       "</style>\n",
       "<table border=\"1\" class=\"dataframe\">\n",
       "  <thead>\n",
       "    <tr style=\"text-align: right;\">\n",
       "      <th></th>\n",
       "      <th>user</th>\n",
       "      <th>item</th>\n",
       "      <th>cluster</th>\n",
       "    </tr>\n",
       "  </thead>\n",
       "  <tbody>\n",
       "    <tr>\n",
       "      <th>0</th>\n",
       "      <td>1889878</td>\n",
       "      <td>CC0101EN</td>\n",
       "      <td>8</td>\n",
       "    </tr>\n",
       "    <tr>\n",
       "      <th>1</th>\n",
       "      <td>1342067</td>\n",
       "      <td>CL0101EN</td>\n",
       "      <td>17</td>\n",
       "    </tr>\n",
       "    <tr>\n",
       "      <th>2</th>\n",
       "      <td>1990814</td>\n",
       "      <td>ML0120ENv3</td>\n",
       "      <td>14</td>\n",
       "    </tr>\n",
       "    <tr>\n",
       "      <th>3</th>\n",
       "      <td>380098</td>\n",
       "      <td>BD0211EN</td>\n",
       "      <td>8</td>\n",
       "    </tr>\n",
       "    <tr>\n",
       "      <th>4</th>\n",
       "      <td>779563</td>\n",
       "      <td>DS0101EN</td>\n",
       "      <td>6</td>\n",
       "    </tr>\n",
       "    <tr>\n",
       "      <th>...</th>\n",
       "      <td>...</td>\n",
       "      <td>...</td>\n",
       "      <td>...</td>\n",
       "    </tr>\n",
       "    <tr>\n",
       "      <th>233301</th>\n",
       "      <td>1540125</td>\n",
       "      <td>DS0101EN</td>\n",
       "      <td>17</td>\n",
       "    </tr>\n",
       "    <tr>\n",
       "      <th>233302</th>\n",
       "      <td>1250651</td>\n",
       "      <td>PY0101EN</td>\n",
       "      <td>9</td>\n",
       "    </tr>\n",
       "    <tr>\n",
       "      <th>233303</th>\n",
       "      <td>1003832</td>\n",
       "      <td>CB0105ENv1</td>\n",
       "      <td>18</td>\n",
       "    </tr>\n",
       "    <tr>\n",
       "      <th>233304</th>\n",
       "      <td>922065</td>\n",
       "      <td>BD0141EN</td>\n",
       "      <td>0</td>\n",
       "    </tr>\n",
       "    <tr>\n",
       "      <th>233305</th>\n",
       "      <td>1596120</td>\n",
       "      <td>DS0301EN</td>\n",
       "      <td>11</td>\n",
       "    </tr>\n",
       "  </tbody>\n",
       "</table>\n",
       "<p>233306 rows × 3 columns</p>\n",
       "</div>"
      ],
      "text/plain": [
       "           user        item  cluster\n",
       "0       1889878    CC0101EN        8\n",
       "1       1342067    CL0101EN       17\n",
       "2       1990814  ML0120ENv3       14\n",
       "3        380098    BD0211EN        8\n",
       "4        779563    DS0101EN        6\n",
       "...         ...         ...      ...\n",
       "233301  1540125    DS0101EN       17\n",
       "233302  1250651    PY0101EN        9\n",
       "233303  1003832  CB0105ENv1       18\n",
       "233304   922065    BD0141EN        0\n",
       "233305  1596120    DS0301EN       11\n",
       "\n",
       "[233306 rows x 3 columns]"
      ]
     },
     "execution_count": 59,
     "metadata": {},
     "output_type": "execute_result"
    }
   ],
   "source": [
    "test_users_labelled = pd.merge(test_users_df, cluster_df, left_on='user', right_on='user')\n",
    "test_users_labelled"
   ]
  },
  {
   "cell_type": "code",
   "execution_count": 60,
   "metadata": {},
   "outputs": [
    {
     "data": {
      "text/plain": [
       "33901"
      ]
     },
     "execution_count": 60,
     "metadata": {},
     "output_type": "execute_result"
    }
   ],
   "source": [
    "len(test_users_labelled['user'].unique())"
   ]
  },
  {
   "cell_type": "markdown",
   "id": "6c5df9e4-215e-4c75-ad02-31cba0f958e7",
   "metadata": {},
   "source": [
    "The merged the test dataset may look like the following:\n"
   ]
  },
  {
   "cell_type": "markdown",
   "id": "bc4790c8-5162-4932-9699-62ac7789cd2e",
   "metadata": {},
   "source": [
    "![](https://cf-courses-data.s3.us.cloud-object-storage.appdomain.cloud/IBM-ML321EN-SkillsNetwork/labs/module_3/images/test_users_label.png)\n"
   ]
  },
  {
   "cell_type": "markdown",
   "id": "12a93141-04a5-44b4-863e-b399efc1b6d2",
   "metadata": {},
   "source": [
    "From the above dataframe, we know each user's enrolled courses and its cluster index.\n"
   ]
  },
  {
   "cell_type": "markdown",
   "id": "546d33bf-3743-43bb-9cf8-5a44849a5ece",
   "metadata": {},
   "source": [
    "If we use a `groupby`  and `sum` aggregation, we can get the enrollments count for each course in each group, like the following code snippet:\n"
   ]
  },
  {
   "cell_type": "code",
   "execution_count": 61,
   "id": "28951b79-a110-4cf1-bb5f-febfcf57cd6e",
   "metadata": {},
   "outputs": [],
   "source": [
    "# Extracting the 'item' and 'cluster' columns from the test_users_labelled DataFrame\n",
    "courses_cluster = test_users_labelled[['item', 'cluster']]\n",
    "\n",
    "# Adding a new column 'count' with a value of 1 for each row in the courses_cluster DataFrame\n",
    "courses_cluster['count'] = [1] * len(courses_cluster)\n",
    "\n",
    "# Grouping the DataFrame by 'cluster' and 'item', aggregating the 'count' column with the sum function,\n",
    "# and resetting the index to make the result more readable\n",
    "courses_cluster_grouped = courses_cluster.groupby(['cluster','item']).agg(enrollments=('count','sum')).reset_index()"
   ]
  },
  {
   "cell_type": "code",
   "execution_count": 62,
   "metadata": {},
   "outputs": [
    {
     "data": {
      "text/plain": [
       "137"
      ]
     },
     "execution_count": 62,
     "metadata": {},
     "output_type": "execute_result"
    }
   ],
   "source": [
    "list(courses_cluster_grouped.loc[courses_cluster_grouped['cluster']==0].loc[courses_cluster_grouped['item']=='BC0101EN']['enrollments'])[0]"
   ]
  },
  {
   "cell_type": "markdown",
   "id": "34877b41-19fe-4a44-9baa-b3f00c5e2f8e",
   "metadata": {},
   "source": [
    "_TODO: For each test user, try to recommend any unseen courses based on the popular courses in his/her cluster. You may use an enrollment count threshold (such as larger than 10) to determine if it is a popular course in the cluster_ \n"
   ]
  },
  {
   "cell_type": "code",
   "execution_count": 90,
   "metadata": {},
   "outputs": [
    {
     "data": {
      "application/vnd.microsoft.datawrangler.viewer.v0+json": {
       "columns": [
        {
         "name": "index",
         "rawType": "int64",
         "type": "integer"
        },
        {
         "name": "user",
         "rawType": "int64",
         "type": "integer"
        }
       ],
       "ref": "973cfa2f-f171-4587-b81a-d553d2991626",
       "rows": [
        [
         "0",
         "2"
        ],
        [
         "1",
         "4"
        ],
        [
         "2",
         "5"
        ],
        [
         "3",
         "7"
        ],
        [
         "4",
         "8"
        ],
        [
         "5",
         "9"
        ],
        [
         "6",
         "12"
        ],
        [
         "7",
         "16"
        ],
        [
         "8",
         "17"
        ],
        [
         "9",
         "19"
        ],
        [
         "10",
         "20"
        ],
        [
         "11",
         "21"
        ],
        [
         "12",
         "22"
        ],
        [
         "13",
         "23"
        ],
        [
         "14",
         "25"
        ],
        [
         "15",
         "26"
        ],
        [
         "16",
         "27"
        ],
        [
         "17",
         "28"
        ],
        [
         "18",
         "29"
        ],
        [
         "19",
         "30"
        ],
        [
         "20",
         "33"
        ],
        [
         "21",
         "34"
        ],
        [
         "22",
         "35"
        ],
        [
         "23",
         "36"
        ],
        [
         "24",
         "38"
        ],
        [
         "25",
         "39"
        ],
        [
         "26",
         "40"
        ],
        [
         "27",
         "41"
        ],
        [
         "28",
         "42"
        ],
        [
         "29",
         "43"
        ],
        [
         "30",
         "44"
        ],
        [
         "31",
         "45"
        ],
        [
         "32",
         "46"
        ],
        [
         "33",
         "47"
        ],
        [
         "34",
         "48"
        ],
        [
         "35",
         "49"
        ],
        [
         "36",
         "51"
        ],
        [
         "37",
         "52"
        ],
        [
         "38",
         "53"
        ],
        [
         "39",
         "54"
        ],
        [
         "40",
         "55"
        ],
        [
         "41",
         "56"
        ],
        [
         "42",
         "57"
        ],
        [
         "43",
         "58"
        ],
        [
         "44",
         "59"
        ],
        [
         "45",
         "60"
        ],
        [
         "46",
         "61"
        ],
        [
         "47",
         "62"
        ],
        [
         "48",
         "63"
        ],
        [
         "49",
         "64"
        ]
       ],
       "shape": {
        "columns": 1,
        "rows": 33901
       }
      },
      "text/html": [
       "<div>\n",
       "<style scoped>\n",
       "    .dataframe tbody tr th:only-of-type {\n",
       "        vertical-align: middle;\n",
       "    }\n",
       "\n",
       "    .dataframe tbody tr th {\n",
       "        vertical-align: top;\n",
       "    }\n",
       "\n",
       "    .dataframe thead th {\n",
       "        text-align: right;\n",
       "    }\n",
       "</style>\n",
       "<table border=\"1\" class=\"dataframe\">\n",
       "  <thead>\n",
       "    <tr style=\"text-align: right;\">\n",
       "      <th></th>\n",
       "      <th>user</th>\n",
       "    </tr>\n",
       "  </thead>\n",
       "  <tbody>\n",
       "    <tr>\n",
       "      <th>0</th>\n",
       "      <td>2</td>\n",
       "    </tr>\n",
       "    <tr>\n",
       "      <th>1</th>\n",
       "      <td>4</td>\n",
       "    </tr>\n",
       "    <tr>\n",
       "      <th>2</th>\n",
       "      <td>5</td>\n",
       "    </tr>\n",
       "    <tr>\n",
       "      <th>3</th>\n",
       "      <td>7</td>\n",
       "    </tr>\n",
       "    <tr>\n",
       "      <th>4</th>\n",
       "      <td>8</td>\n",
       "    </tr>\n",
       "    <tr>\n",
       "      <th>...</th>\n",
       "      <td>...</td>\n",
       "    </tr>\n",
       "    <tr>\n",
       "      <th>33896</th>\n",
       "      <td>2102054</td>\n",
       "    </tr>\n",
       "    <tr>\n",
       "      <th>33897</th>\n",
       "      <td>2102356</td>\n",
       "    </tr>\n",
       "    <tr>\n",
       "      <th>33898</th>\n",
       "      <td>2102680</td>\n",
       "    </tr>\n",
       "    <tr>\n",
       "      <th>33899</th>\n",
       "      <td>2102983</td>\n",
       "    </tr>\n",
       "    <tr>\n",
       "      <th>33900</th>\n",
       "      <td>2103039</td>\n",
       "    </tr>\n",
       "  </tbody>\n",
       "</table>\n",
       "<p>33901 rows × 1 columns</p>\n",
       "</div>"
      ],
      "text/plain": [
       "          user\n",
       "0            2\n",
       "1            4\n",
       "2            5\n",
       "3            7\n",
       "4            8\n",
       "...        ...\n",
       "33896  2102054\n",
       "33897  2102356\n",
       "33898  2102680\n",
       "33899  2102983\n",
       "33900  2103039\n",
       "\n",
       "[33901 rows x 1 columns]"
      ]
     },
     "execution_count": 90,
     "metadata": {},
     "output_type": "execute_result"
    }
   ],
   "source": [
    "user_ids"
   ]
  },
  {
   "cell_type": "code",
   "execution_count": 121,
   "metadata": {},
   "outputs": [
    {
     "name": "stdout",
     "output_type": "stream",
     "text": [
      "65 65\n"
     ]
    }
   ],
   "source": [
    "us=[]\n",
    "rec=[]\n",
    "user_id=4\n",
    "user_subset=test_users_labelled[test_users_labelled['user']==user_id]\n",
    "cluster_id=user_subset['cluster'].iloc[0]\n",
    "## - First get all courses belonging to the same cluster and figure out what are the popular ones (such as course enrollments beyond a threshold like 100)\n",
    "courses_per_cluster=set(test_users_labelled[test_users_labelled['cluster']==cluster_id]['item'])\n",
    "## - Get the user's current enrolled courses\n",
    "enrolled_courses=set(user_subset['item'])\n",
    "## - Check if there are any courses on the popular course list which are new/unseen to the user. \n",
    "unseen_courses=courses_per_cluster.difference(enrolled_courses)\n",
    "for unseen_course in unseen_courses:\n",
    "    if list(courses_cluster_grouped.loc[courses_cluster_grouped['cluster']==cluster_id].loc[courses_cluster_grouped['item']==unseen_course]['enrollments'])[0]>10:\n",
    "        us.append(user_id)\n",
    "        rec.append(unseen_course)\n",
    "print(len(rec),len(us))"
   ]
  },
  {
   "cell_type": "code",
   "execution_count": 99,
   "metadata": {},
   "outputs": [
    {
     "data": {
      "text/plain": [
       "40"
      ]
     },
     "execution_count": 99,
     "metadata": {},
     "output_type": "execute_result"
    }
   ],
   "source": [
    "len(rec)"
   ]
  },
  {
   "cell_type": "code",
   "execution_count": 127,
   "metadata": {},
   "outputs": [
    {
     "data": {
      "text/plain": [
       "1000"
      ]
     },
     "execution_count": 127,
     "metadata": {},
     "output_type": "execute_result"
    }
   ],
   "source": [
    "len(user_ids['user'][0:1000])"
   ]
  },
  {
   "cell_type": "code",
   "execution_count": 63,
   "id": "daf4d497-486c-4a58-9942-3c0e1620cde6",
   "metadata": {},
   "outputs": [],
   "source": [
    "## WRITE YOUR CODE HERE\n",
    "us=[]\n",
    "rec=[]\n",
    "## - For each user, first finds its cluster label\n",
    "for user_id in user_ids['user'][0:5000]:\n",
    "    user_subset=test_users_labelled[test_users_labelled['user']==user_id]\n",
    "    cluster_id=user_subset['cluster'].iloc[0]\n",
    "    ## - First get all courses belonging to the same cluster and figure out what are the popular ones (such as course enrollments beyond a threshold like 100)\n",
    "    courses_per_cluster=set(test_users_labelled[test_users_labelled['cluster']==cluster_id]['item'])\n",
    "    ## - Get the user's current enrolled courses\n",
    "    enrolled_courses=set(user_subset['item'])\n",
    "    ## - Check if there are any courses on the popular course list which are new/unseen to the user. \n",
    "    unseen_courses=courses_per_cluster.difference(enrolled_courses)\n",
    "    for unseen_course in unseen_courses:\n",
    "        if list(courses_cluster_grouped.loc[courses_cluster_grouped['cluster']==cluster_id].loc[courses_cluster_grouped['item']==unseen_course]['enrollments'])[0]>10:\n",
    "            us.append(user_id)\n",
    "            rec.append(unseen_course)\n",
    "    ## If yes, make those unseen and popular courses as recommendation results for the user\n"
   ]
  },
  {
   "cell_type": "code",
   "execution_count": 64,
   "metadata": {},
   "outputs": [
    {
     "data": {
      "application/vnd.microsoft.datawrangler.viewer.v0+json": {
       "columns": [
        {
         "name": "index",
         "rawType": "int64",
         "type": "integer"
        },
        {
         "name": "user",
         "rawType": "int64",
         "type": "integer"
        },
        {
         "name": "Recommendation",
         "rawType": "object",
         "type": "string"
        }
       ],
       "ref": "c0aa132f-a3e8-4624-a6a4-6418f3342352",
       "rows": [
        [
         "0",
         "2",
         "CC0250EN"
        ],
        [
         "1",
         "2",
         "CB0105ENv1"
        ],
        [
         "2",
         "2",
         "ML0111EN"
        ],
        [
         "3",
         "2",
         "CC0210EN"
        ],
        [
         "4",
         "2",
         "HCC104EN"
        ],
        [
         "5",
         "2",
         "COM001EN"
        ],
        [
         "6",
         "2",
         "ML0151EN"
        ],
        [
         "7",
         "2",
         "IT0101EN"
        ],
        [
         "8",
         "2",
         "DE0205EN"
        ],
        [
         "9",
         "2",
         "ML0201EN"
        ],
        [
         "10",
         "2",
         "DS0105EN"
        ],
        [
         "11",
         "2",
         "PHPM002EN"
        ],
        [
         "12",
         "2",
         "DS0101EN"
        ],
        [
         "13",
         "2",
         "CO0201EN"
        ],
        [
         "14",
         "2",
         "CC0201EN"
        ],
        [
         "15",
         "2",
         "AI0111EN"
        ],
        [
         "16",
         "2",
         "ML0120ENv3"
        ],
        [
         "17",
         "2",
         "SW0101EN"
        ],
        [
         "18",
         "2",
         "SECM03EN"
        ],
        [
         "19",
         "2",
         "ML0122ENv3"
        ],
        [
         "20",
         "2",
         "CO0401EN"
        ],
        [
         "21",
         "2",
         "EE0101EN"
        ],
        [
         "22",
         "2",
         "CC0101EN"
        ],
        [
         "23",
         "2",
         "ML0101ENv3"
        ],
        [
         "24",
         "2",
         "SW0201EN"
        ],
        [
         "25",
         "2",
         "CC0150EN"
        ],
        [
         "26",
         "2",
         "HCC105EN"
        ],
        [
         "27",
         "2",
         "BC0201EN"
        ],
        [
         "28",
         "2",
         "BD0115EN"
        ],
        [
         "29",
         "2",
         "BC0202EN"
        ],
        [
         "30",
         "2",
         "CC0103EN"
        ],
        [
         "31",
         "2",
         "CO0301EN"
        ],
        [
         "32",
         "2",
         "TA0105EN"
        ],
        [
         "33",
         "2",
         "DS0201EN"
        ],
        [
         "34",
         "2",
         "DS0110EN"
        ],
        [
         "35",
         "2",
         "CNSC02EN"
        ],
        [
         "36",
         "2",
         "DW0101EN"
        ],
        [
         "37",
         "2",
         "DB0151EN"
        ],
        [
         "38",
         "4",
         "CB0105ENv1"
        ],
        [
         "39",
         "4",
         "ML0111EN"
        ],
        [
         "40",
         "4",
         "BD0223EN"
        ],
        [
         "41",
         "4",
         "LB0101ENv1"
        ],
        [
         "42",
         "4",
         "DV0101EN"
        ],
        [
         "43",
         "4",
         "ML0151EN"
        ],
        [
         "44",
         "4",
         "IT0101EN"
        ],
        [
         "45",
         "4",
         "TA0106EN"
        ],
        [
         "46",
         "4",
         "RP0103"
        ],
        [
         "47",
         "4",
         "ML0101EN"
        ],
        [
         "48",
         "4",
         "CO0201EN"
        ],
        [
         "49",
         "4",
         "CC0201EN"
        ]
       ],
       "shape": {
        "columns": 2,
        "rows": 268575
       }
      },
      "text/html": [
       "<div>\n",
       "<style scoped>\n",
       "    .dataframe tbody tr th:only-of-type {\n",
       "        vertical-align: middle;\n",
       "    }\n",
       "\n",
       "    .dataframe tbody tr th {\n",
       "        vertical-align: top;\n",
       "    }\n",
       "\n",
       "    .dataframe thead th {\n",
       "        text-align: right;\n",
       "    }\n",
       "</style>\n",
       "<table border=\"1\" class=\"dataframe\">\n",
       "  <thead>\n",
       "    <tr style=\"text-align: right;\">\n",
       "      <th></th>\n",
       "      <th>user</th>\n",
       "      <th>Recommendation</th>\n",
       "    </tr>\n",
       "  </thead>\n",
       "  <tbody>\n",
       "    <tr>\n",
       "      <th>0</th>\n",
       "      <td>2</td>\n",
       "      <td>CC0250EN</td>\n",
       "    </tr>\n",
       "    <tr>\n",
       "      <th>1</th>\n",
       "      <td>2</td>\n",
       "      <td>CB0105ENv1</td>\n",
       "    </tr>\n",
       "    <tr>\n",
       "      <th>2</th>\n",
       "      <td>2</td>\n",
       "      <td>ML0111EN</td>\n",
       "    </tr>\n",
       "    <tr>\n",
       "      <th>3</th>\n",
       "      <td>2</td>\n",
       "      <td>CC0210EN</td>\n",
       "    </tr>\n",
       "    <tr>\n",
       "      <th>4</th>\n",
       "      <td>2</td>\n",
       "      <td>HCC104EN</td>\n",
       "    </tr>\n",
       "    <tr>\n",
       "      <th>...</th>\n",
       "      <td>...</td>\n",
       "      <td>...</td>\n",
       "    </tr>\n",
       "    <tr>\n",
       "      <th>268570</th>\n",
       "      <td>510747</td>\n",
       "      <td>DS0110EN</td>\n",
       "    </tr>\n",
       "    <tr>\n",
       "      <th>268571</th>\n",
       "      <td>510747</td>\n",
       "      <td>CNSC02EN</td>\n",
       "    </tr>\n",
       "    <tr>\n",
       "      <th>268572</th>\n",
       "      <td>510747</td>\n",
       "      <td>ML0122EN</td>\n",
       "    </tr>\n",
       "    <tr>\n",
       "      <th>268573</th>\n",
       "      <td>510747</td>\n",
       "      <td>DW0101EN</td>\n",
       "    </tr>\n",
       "    <tr>\n",
       "      <th>268574</th>\n",
       "      <td>510747</td>\n",
       "      <td>DB0151EN</td>\n",
       "    </tr>\n",
       "  </tbody>\n",
       "</table>\n",
       "<p>268575 rows × 2 columns</p>\n",
       "</div>"
      ],
      "text/plain": [
       "          user Recommendation\n",
       "0            2       CC0250EN\n",
       "1            2     CB0105ENv1\n",
       "2            2       ML0111EN\n",
       "3            2       CC0210EN\n",
       "4            2       HCC104EN\n",
       "...        ...            ...\n",
       "268570  510747       DS0110EN\n",
       "268571  510747       CNSC02EN\n",
       "268572  510747       ML0122EN\n",
       "268573  510747       DW0101EN\n",
       "268574  510747       DB0151EN\n",
       "\n",
       "[268575 rows x 2 columns]"
      ]
     },
     "execution_count": 64,
     "metadata": {},
     "output_type": "execute_result"
    }
   ],
   "source": [
    "rec_df=pd.DataFrame(us).rename(columns={0: 'user'})\n",
    "rec_df['Recommendation']=rec\n",
    "rec_df"
   ]
  },
  {
   "cell_type": "code",
   "execution_count": 65,
   "metadata": {},
   "outputs": [
    {
     "data": {
      "text/plain": [
       "5000"
      ]
     },
     "execution_count": 65,
     "metadata": {},
     "output_type": "execute_result"
    }
   ],
   "source": [
    "len(rec_df['user'].unique())"
   ]
  },
  {
   "cell_type": "code",
   "execution_count": 66,
   "metadata": {},
   "outputs": [
    {
     "data": {
      "text/plain": [
       "53.715"
      ]
     },
     "execution_count": 66,
     "metadata": {},
     "output_type": "execute_result"
    }
   ],
   "source": [
    "#Average number of recomender courses\n",
    "len(rec_df['Recommendation'])/len(rec_df['user'].unique())"
   ]
  },
  {
   "cell_type": "code",
   "execution_count": 67,
   "metadata": {},
   "outputs": [],
   "source": [
    "course_genre_url = \"https://cf-courses-data.s3.us.cloud-object-storage.appdomain.cloud/IBM-ML321EN-SkillsNetwork/labs/datasets/course_genre.csv\"\n",
    "course_df = pd.read_csv(course_genre_url)"
   ]
  },
  {
   "cell_type": "code",
   "execution_count": 68,
   "metadata": {},
   "outputs": [
    {
     "data": {
      "application/vnd.microsoft.datawrangler.viewer.v0+json": {
       "columns": [
        {
         "name": "index",
         "rawType": "int64",
         "type": "integer"
        },
        {
         "name": "Counts",
         "rawType": "int64",
         "type": "integer"
        },
        {
         "name": "TITLE",
         "rawType": "object",
         "type": "string"
        }
       ],
       "ref": "3b816ec8-8929-4f40-84eb-01d00d6882cb",
       "rows": [
        [
         "0",
         "4908",
         "ibm cloud essentials   v3"
        ],
        [
         "1",
         "4907",
         "introduction to machine learning with sound"
        ],
        [
         "2",
         "4869",
         "deep learning with tensorflow"
        ],
        [
         "3",
         "4860",
         "introduction to cloud"
        ],
        [
         "4",
         "4851",
         "ibm cloud essentials"
        ],
        [
         "5",
         "4812",
         "sql and relational databases 101"
        ],
        [
         "6",
         "4804",
         "machine learning with r"
        ],
        [
         "7",
         "4769",
         "docker essentials  a developer introduction"
        ],
        [
         "8",
         "4731",
         "data science with scala"
        ],
        [
         "9",
         "4699",
         "machine learning with python"
        ]
       ],
       "shape": {
        "columns": 2,
        "rows": 10
       }
      },
      "text/html": [
       "<div>\n",
       "<style scoped>\n",
       "    .dataframe tbody tr th:only-of-type {\n",
       "        vertical-align: middle;\n",
       "    }\n",
       "\n",
       "    .dataframe tbody tr th {\n",
       "        vertical-align: top;\n",
       "    }\n",
       "\n",
       "    .dataframe thead th {\n",
       "        text-align: right;\n",
       "    }\n",
       "</style>\n",
       "<table border=\"1\" class=\"dataframe\">\n",
       "  <thead>\n",
       "    <tr style=\"text-align: right;\">\n",
       "      <th></th>\n",
       "      <th>Counts</th>\n",
       "      <th>TITLE</th>\n",
       "    </tr>\n",
       "  </thead>\n",
       "  <tbody>\n",
       "    <tr>\n",
       "      <th>0</th>\n",
       "      <td>4908</td>\n",
       "      <td>ibm cloud essentials   v3</td>\n",
       "    </tr>\n",
       "    <tr>\n",
       "      <th>1</th>\n",
       "      <td>4907</td>\n",
       "      <td>introduction to machine learning with sound</td>\n",
       "    </tr>\n",
       "    <tr>\n",
       "      <th>2</th>\n",
       "      <td>4869</td>\n",
       "      <td>deep learning with tensorflow</td>\n",
       "    </tr>\n",
       "    <tr>\n",
       "      <th>3</th>\n",
       "      <td>4860</td>\n",
       "      <td>introduction to cloud</td>\n",
       "    </tr>\n",
       "    <tr>\n",
       "      <th>4</th>\n",
       "      <td>4851</td>\n",
       "      <td>ibm cloud essentials</td>\n",
       "    </tr>\n",
       "    <tr>\n",
       "      <th>5</th>\n",
       "      <td>4812</td>\n",
       "      <td>sql and relational databases 101</td>\n",
       "    </tr>\n",
       "    <tr>\n",
       "      <th>6</th>\n",
       "      <td>4804</td>\n",
       "      <td>machine learning with r</td>\n",
       "    </tr>\n",
       "    <tr>\n",
       "      <th>7</th>\n",
       "      <td>4769</td>\n",
       "      <td>docker essentials  a developer introduction</td>\n",
       "    </tr>\n",
       "    <tr>\n",
       "      <th>8</th>\n",
       "      <td>4731</td>\n",
       "      <td>data science with scala</td>\n",
       "    </tr>\n",
       "    <tr>\n",
       "      <th>9</th>\n",
       "      <td>4699</td>\n",
       "      <td>machine learning with python</td>\n",
       "    </tr>\n",
       "  </tbody>\n",
       "</table>\n",
       "</div>"
      ],
      "text/plain": [
       "   Counts                                        TITLE\n",
       "0    4908                    ibm cloud essentials   v3\n",
       "1    4907  introduction to machine learning with sound\n",
       "2    4869                deep learning with tensorflow\n",
       "3    4860                        introduction to cloud\n",
       "4    4851                         ibm cloud essentials\n",
       "5    4812             sql and relational databases 101\n",
       "6    4804                      machine learning with r\n",
       "7    4769  docker essentials  a developer introduction\n",
       "8    4731                      data science with scala\n",
       "9    4699                 machine learning with python"
      ]
     },
     "execution_count": 68,
     "metadata": {},
     "output_type": "execute_result"
    }
   ],
   "source": [
    "top10=rec_df.groupby(\"Recommendation\").size().sort_values(ascending=False).iloc[:10]\n",
    "top10=pd.DataFrame(top10)\n",
    "top10=top10.rename(columns={0: \"Counts\"})\n",
    "course_title=course_df[['COURSE_ID','TITLE']]\n",
    "top10_courses=pd.merge(top10,course_title,how='left',left_on='Recommendation',right_on='COURSE_ID')\n",
    "top10_courses\n",
    "top10_courses.drop(columns='COURSE_ID')"
   ]
  },
  {
   "cell_type": "markdown",
   "id": "78c793c2-f8cd-4162-9066-5cdcec57ca5c",
   "metadata": {},
   "source": [
    "<details>\n",
    "    <summary>Click here for Hints</summary>\n",
    "    \n",
    "* First of all, create a `user_subset` of  `test_users_labelled` where `test_users_labelled['user'] == user_id`. \n",
    "* Get the enrolled courses by  simply accessing `['item']` column of `user_subset`\n",
    "* Find its cluster label by accessing `['cluster']` column of `user_subset`. You can just use the first one (`.iloc[0]`) since every value in the column is the same for an individual user.\n",
    "* You can find all courses in the same cluster, by simply accessing `['item']` column of a subset of `test_users_labelled` where `test_users_labelled[test_users_labelled['cluster'] == cluster_id]`\n",
    "* You can find new/unseen courses to the user by taking a set difference between courses in cluster and enrolled_courses by using `.difference` method (dont forget to convert 2 lists in to sets before calling the method). \n",
    "* Use `courses_cluster` data set to find popularity of new/unseen courses and make unseen and popular courses as recommendation results for the user\n",
    "    \n",
    "</details> \n"
   ]
  },
  {
   "cell_type": "markdown",
   "id": "f9872996-42bc-4412-8af9-47872048fdbd",
   "metadata": {},
   "source": [
    "With the recommendation results, you also need to write some analytic code to answer the following two questions:\n"
   ]
  },
  {
   "cell_type": "markdown",
   "id": "d34290b5-52d3-4fdf-b3b1-ceca88dfcb9f",
   "metadata": {},
   "source": [
    "- On average, how many new/unseen courses have been recommended to each user?\n",
    "- What are the most frequently recommended courses? Return the top-10 commonly recommended courses across all users.\n"
   ]
  },
  {
   "cell_type": "markdown",
   "id": "c3e83028-247c-478c-a878-f9cc64a58918",
   "metadata": {},
   "source": [
    "For example, suppose we have only 3 test users, each user receives the following recommendations:\n"
   ]
  },
  {
   "cell_type": "markdown",
   "id": "c7a64177-ea02-4e39-96e3-06d500847f88",
   "metadata": {},
   "source": [
    "- User1: ['course1', 'course2']\n",
    "- User2: ['course3', 'course4']\n",
    "- User3: ['course3', 'course4', 'course5']\n"
   ]
  },
  {
   "cell_type": "markdown",
   "id": "cbdd2c47-d098-4f04-8aa4-654031b20071",
   "metadata": {},
   "source": [
    "Then, the average recommended courses per user is $(2 + 2 + 3) / 3 = 2.33$. The top-2 recommended courses are: `course3`: 2 times, and `course4`: 2 times.\n"
   ]
  },
  {
   "cell_type": "markdown",
   "id": "d8684d73-f25d-4dc1-92b3-5a5c26f41ec3",
   "metadata": {},
   "source": [
    "Note that the answers will depend on how you compute the popular courses for each cluster. A lower threshold yields more recommended courses but with smaller confidence so that some test users may receive very long course recommendation lists and feel overwhelmed. \n",
    "\n",
    "Ideally, we should limit the maximum course recommendations for each user to be less than 20 courses per user.\n"
   ]
  },
  {
   "cell_type": "markdown",
   "id": "e107dbb2-ca31-4507-888b-f981f9b7a5b4",
   "metadata": {},
   "source": [
    "### Explore other clustering algorithms\n"
   ]
  },
  {
   "cell_type": "markdown",
   "id": "77073b18-6965-4536-9b03-a93c4319b2b5",
   "metadata": {},
   "source": [
    "As you have learned in previous unsupervised learning course, there are many other clustering algorithms such as `DBSCAN` and `Hierarchical Clustering`. You are encouraged to try them on the user profile feature vectors and compare the results with K-means.\n"
   ]
  },
  {
   "cell_type": "markdown",
   "id": "c91f1e96-e6e1-42be-a406-8fb18fa94b97",
   "metadata": {},
   "source": [
    "### Summary\n"
   ]
  },
  {
   "cell_type": "markdown",
   "id": "b7482d91-8cd1-4323-aac0-b8e7ea27a5f0",
   "metadata": {},
   "source": [
    "Congratulations! In this lab, you have applied clustering algorithms to group users with similar interests and also tried PCA to reduce the dimensions of user feature vectors.\n",
    "\n",
    "Furthermore, with each user finding its learning interest group, you have also implemented clustering-based course recommender system to make recommendations based on his/her group members' popular courses choices.\n"
   ]
  },
  {
   "cell_type": "markdown",
   "id": "a4b3f6d7-4a7a-470c-b53f-8c9cf6be00c4",
   "metadata": {},
   "source": [
    "## Authors\n"
   ]
  },
  {
   "cell_type": "markdown",
   "id": "330ddf3b-a1b4-491d-ad06-fb73c9112765",
   "metadata": {},
   "source": [
    "[Yan Luo]((https://www.linkedin.com/in/yan-luo-96288783/)\n"
   ]
  },
  {
   "cell_type": "markdown",
   "id": "81682b9b-042c-4ad7-80b6-ba3601dced5b",
   "metadata": {},
   "source": [
    "### Other Contributors\n"
   ]
  },
  {
   "cell_type": "markdown",
   "id": "23446596-d311-48d7-bf14-bb510c483abe",
   "metadata": {},
   "source": [
    "```toggle## Change Log\n",
    "```\n"
   ]
  },
  {
   "cell_type": "markdown",
   "id": "ef32739e-e87a-4985-83aa-a5525295fd83",
   "metadata": {},
   "source": [
    "```toggle|Date (YYYY-MM-DD)|Version|Changed By|Change Description|\n",
    "```\n",
    "```toggle|-|-|-|-|\n",
    "```\n",
    "```toggle|2021-10-25|1.0|Yan|Created the initial version|\n",
    "```\n"
   ]
  },
  {
   "cell_type": "markdown",
   "id": "da5051c2-e6a8-460a-b51f-bef8d7440a6b",
   "metadata": {},
   "source": [
    "Copyright © 2021 IBM Corporation. All rights reserved.\n"
   ]
  }
 ],
 "metadata": {
  "kernelspec": {
   "display_name": "Python 3",
   "language": "python",
   "name": "python3"
  },
  "language_info": {
   "codemirror_mode": {
    "name": "ipython",
    "version": 3
   },
   "file_extension": ".py",
   "mimetype": "text/x-python",
   "name": "python",
   "nbconvert_exporter": "python",
   "pygments_lexer": "ipython3",
   "version": "3.11.9"
  },
  "prev_pub_hash": "8442e44f2ac29be84710753cc991f204c166b3b857ac092163592cc13ebd1da0"
 },
 "nbformat": 4,
 "nbformat_minor": 4
}
