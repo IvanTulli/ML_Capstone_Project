{
 "cells": [
  {
   "cell_type": "markdown",
   "id": "7c84bb3d-382a-4f35-b7d2-c323ef8d4adb",
   "metadata": {},
   "source": [
    "<p style=\"text-align:center\">\n",
    "    <a href=\"https://skills.network/?utm_medium=Exinfluencer&utm_source=Exinfluencer&utm_content=000026UJ&utm_term=10006555&utm_id=NA-SkillsNetwork-Channel-SkillsNetworkCoursesIBMML321ENSkillsNetwork817-2022-01-01\" target=\"_blank\">\n",
    "    <img src=\"https://cf-courses-data.s3.us.cloud-object-storage.appdomain.cloud/assets/logos/SN_web_lightmode.png\" width=\"200\" alt=\"Skills Network Logo\">\n",
    "    </a>\n",
    "</p>\n"
   ]
  },
  {
   "cell_type": "markdown",
   "id": "e2421e13-53ca-4bea-9371-53cc02dd7c5b",
   "metadata": {},
   "source": [
    "# **Calculate Course Similarity using BoW Features**\n"
   ]
  },
  {
   "cell_type": "markdown",
   "id": "04f328a5-fddf-4da7-af8d-1e50814f707b",
   "metadata": {},
   "source": [
    "Estimated time needed: **45** minutes\n"
   ]
  },
  {
   "cell_type": "markdown",
   "id": "dac6ec54-2c6b-4652-aa7c-2df4736a1da9",
   "metadata": {},
   "source": [
    "Similarity measurement between items is the foundation of many recommendation algorithms, especially for content-based recommendation algorithms. For example, if a new course is similar to user's enrolled courses, we could recommend that new similar course to the user. Or If user A is similar to user B, then we can recommend some of user B's courses to user A (the unseen courses) because user A and user B may have similar interests.\n"
   ]
  },
  {
   "cell_type": "markdown",
   "id": "a849240f-dacd-4ab3-a395-a812364d6ee5",
   "metadata": {},
   "source": [
    "In a previous course, you learned many similarity measurements such as `consine`, `jaccard index`, or `euclidean distance`, and these methods need to work on either two vectors or two sets (sometimes even matrices or tensors). \n",
    "\n",
    "In previous labs, we extracted the BoW features from course textual content. Given the course BoW feature vectors, we can easily apply similarity measurement to calculate the course similarity as shown in the below figure.\n"
   ]
  },
  {
   "cell_type": "markdown",
   "id": "5d886e45-5fe1-4ed7-9c13-292527348918",
   "metadata": {},
   "source": [
    "![](https://cf-courses-data.s3.us.cloud-object-storage.appdomain.cloud/IBM-ML321EN-SkillsNetwork/labs/module_2/images/course_sim.png)\n"
   ]
  },
  {
   "cell_type": "markdown",
   "id": "a3bc614e-8df1-49dc-b641-72534e548405",
   "metadata": {},
   "source": [
    "## Objectives\n"
   ]
  },
  {
   "cell_type": "markdown",
   "id": "e752bd61-a57f-4acf-8680-86130872a3b9",
   "metadata": {},
   "source": [
    "After completing this lab you will be able to:\n"
   ]
  },
  {
   "cell_type": "markdown",
   "id": "de05cafc-83b8-4f3f-a7ca-9f2a834a6614",
   "metadata": {},
   "source": [
    "* Calculate the similarity between any two courses using BoW feature vectors\n"
   ]
  },
  {
   "cell_type": "markdown",
   "id": "fe62377b-e547-4b42-a698-08d4652b7832",
   "metadata": {},
   "source": [
    "----\n"
   ]
  },
  {
   "cell_type": "markdown",
   "id": "759afdcb-5754-47b5-80ee-fb45fc64f3a2",
   "metadata": {},
   "source": [
    "## Prepare and setup lab environment\n"
   ]
  },
  {
   "cell_type": "markdown",
   "id": "b300b51b-8ec2-4bb5-b953-ffe3c084ed15",
   "metadata": {},
   "source": [
    "First let's install and import required libraries:\n"
   ]
  },
  {
   "cell_type": "code",
   "execution_count": null,
   "id": "961036e2-0ab6-4358-bd53-e74f42c47cd2",
   "metadata": {},
   "outputs": [],
   "source": [
    "!pip install nltk\n",
    "!pip install gensim\n",
    "!pip install scipy==1.10\n",
    "!pip install pandas\n",
    "!pip install matplotlib\n",
    "!pip install seaborn"
   ]
  },
  {
   "cell_type": "code",
   "execution_count": 1,
   "id": "b16a12b5-906b-490d-b9cf-9a1affaa29c0",
   "metadata": {},
   "outputs": [],
   "source": [
    "import seaborn as sns\n",
    "import matplotlib.pyplot as plt\n",
    "import pandas as pd\n",
    "import numpy as np\n",
    "import gensim\n",
    "import pandas as pd\n",
    "import nltk as nltk\n",
    "\n",
    "from scipy.spatial.distance import cosine\n",
    "from nltk.corpus import stopwords\n",
    "from nltk.tokenize import word_tokenize\n",
    "from nltk import ngrams\n",
    "from gensim import corpora\n",
    "\n",
    "%matplotlib inline"
   ]
  },
  {
   "cell_type": "code",
   "execution_count": 2,
   "id": "a0784984-8fdb-4cfd-8390-b18d293103d2",
   "metadata": {},
   "outputs": [],
   "source": [
    "# also set a random state\n",
    "rs = 123"
   ]
  },
  {
   "cell_type": "markdown",
   "id": "d74ac1ee-4137-46fe-8672-612cadee389e",
   "metadata": {},
   "source": [
    "### Calculate the consine similarity between two example courses\n"
   ]
  },
  {
   "cell_type": "markdown",
   "id": "2f915110-3915-4eca-b05d-70a9c0303920",
   "metadata": {},
   "source": [
    "Suppose we have two simple example courses:\n"
   ]
  },
  {
   "cell_type": "code",
   "execution_count": 3,
   "id": "149b4bb6-487e-49da-bd23-04a6676fc73c",
   "metadata": {},
   "outputs": [],
   "source": [
    "course1 = \"machine learning for everyone\""
   ]
  },
  {
   "cell_type": "code",
   "execution_count": 4,
   "id": "1ac93031-15f3-46a0-a7b5-6f7e8d2b3554",
   "metadata": {},
   "outputs": [],
   "source": [
    "course2 = \"machine learning for beginners\""
   ]
  },
  {
   "cell_type": "markdown",
   "id": "f9ccd072-19b4-4542-ab36-9ca42f400680",
   "metadata": {},
   "source": [
    "Next we can quickly tokenize them using the split() method (or using `word_tokenize()` method provided in `nltk` as we did in the previous lab).\n"
   ]
  },
  {
   "cell_type": "code",
   "execution_count": 5,
   "id": "d5f9ed61-ea0e-46cb-a704-1289ee0abfab",
   "metadata": {},
   "outputs": [],
   "source": [
    "tokens = set(course1.split() + course2.split())"
   ]
  },
  {
   "cell_type": "code",
   "execution_count": 6,
   "metadata": {},
   "outputs": [
    {
     "data": {
      "text/plain": [
       "{'beginners', 'everyone', 'for', 'learning', 'machine'}"
      ]
     },
     "execution_count": 6,
     "metadata": {},
     "output_type": "execute_result"
    }
   ],
   "source": [
    "tokens"
   ]
  },
  {
   "cell_type": "code",
   "execution_count": 7,
   "id": "f6e8fe44-b52a-4c41-9ce4-98db55521ab2",
   "metadata": {},
   "outputs": [
    {
     "data": {
      "text/plain": [
       "['for', 'machine', 'learning', 'beginners', 'everyone']"
      ]
     },
     "execution_count": 7,
     "metadata": {},
     "output_type": "execute_result"
    }
   ],
   "source": [
    "tokens = list(tokens)\n",
    "tokens"
   ]
  },
  {
   "cell_type": "markdown",
   "id": "f8eae2b3-d94a-4248-93da-96fbb91f0a28",
   "metadata": {},
   "source": [
    "then generate BoW features (token counts) for these two courses (or using `tokens_dict.doc2bow()` method provided in `nltk`, similar to what we did in the previous lab).\n"
   ]
  },
  {
   "cell_type": "code",
   "execution_count": 12,
   "id": "4a05e47b-2e8c-441a-84b0-1194d1dc851c",
   "metadata": {},
   "outputs": [],
   "source": [
    "def generate_sparse_bow(course):\n",
    "    \"\"\"\n",
    "    Generate a sparse bag-of-words (BoW) representation for a given course.\n",
    "\n",
    "    Parameters:\n",
    "    course (str): The input course text to generate the BoW representation for.\n",
    "\n",
    "    Returns:\n",
    "    list: A sparse BoW representation where each element corresponds to the presence (1) or absence (0)\n",
    "    of a word in the input course text.\n",
    "    \"\"\"\n",
    "\n",
    "    # Initialize an empty list to store the BoW vector\n",
    "    bow_vector = []\n",
    "\n",
    "    # Tokenize the course text by splitting it into words\n",
    "    words = course.split()\n",
    "\n",
    "    # Iterate through all unique words (tokens) in the course\n",
    "    for token in set(tokens):\n",
    "        # Check if the token is present in the course text\n",
    "        if token in words:\n",
    "            # If the token is present, append 1 to the BoW vector\n",
    "            bow_vector.append(1)\n",
    "        else:\n",
    "            # If the token is not present, append 0 to the BoW vector\n",
    "            bow_vector.append(0)\n",
    "\n",
    "    # Return the sparse BoW vector\n",
    "    return bow_vector\n"
   ]
  },
  {
   "cell_type": "code",
   "execution_count": 13,
   "id": "140557ea-844d-4317-98f1-fc763f87db6f",
   "metadata": {},
   "outputs": [
    {
     "data": {
      "text/plain": [
       "[1, 1, 1, 0, 1]"
      ]
     },
     "execution_count": 13,
     "metadata": {},
     "output_type": "execute_result"
    }
   ],
   "source": [
    "bow1 = generate_sparse_bow(course1)\n",
    "bow1"
   ]
  },
  {
   "cell_type": "code",
   "execution_count": 14,
   "id": "22dc2887-9eab-46d1-8dec-49bab76d8519",
   "metadata": {},
   "outputs": [
    {
     "data": {
      "text/plain": [
       "[1, 1, 1, 1, 0]"
      ]
     },
     "execution_count": 14,
     "metadata": {},
     "output_type": "execute_result"
    }
   ],
   "source": [
    "bow2 = generate_sparse_bow(course2)\n",
    "bow2"
   ]
  },
  {
   "cell_type": "markdown",
   "id": "7d5262b6-3821-4fc6-8ee1-0f1c6090842b",
   "metadata": {},
   "source": [
    "From the above cell outputs, we can see the two vectors are very similar. Only two dimensions are different.\n"
   ]
  },
  {
   "cell_type": "markdown",
   "id": "a78f3107-0c44-478d-a02b-97d6376a9df1",
   "metadata": {},
   "source": [
    "Now we can quickly apply the cosine similarity measurement on the two vectors:\n"
   ]
  },
  {
   "cell_type": "code",
   "execution_count": 15,
   "id": "d8c672c7-02b3-4965-bdff-46c20dcad065",
   "metadata": {},
   "outputs": [],
   "source": [
    "cos_sim = 1 - cosine(bow1, bow2)"
   ]
  },
  {
   "cell_type": "code",
   "execution_count": 16,
   "id": "c4dd7da3-83ba-4c37-8233-e3bcea951de6",
   "metadata": {},
   "outputs": [
    {
     "name": "stdout",
     "output_type": "stream",
     "text": [
      "The cosine similarity between course `machine learning for everyone` and course `machine learning for beginners` is 75.0%\n"
     ]
    }
   ],
   "source": [
    "print(f\"The cosine similarity between course `{course1}` and course `{course2}` is {round(cos_sim, 2) * 100}%\")"
   ]
  },
  {
   "cell_type": "markdown",
   "id": "c767b37e-a6da-4f11-9c6d-461ffe2a264a",
   "metadata": {},
   "source": [
    "_Practice: Try other similarity measurements such as Euclidean Distance or Jaccard index._\n"
   ]
  },
  {
   "cell_type": "code",
   "execution_count": 21,
   "id": "7154863a-06d4-4715-ad02-6137f0c86385",
   "metadata": {},
   "outputs": [
    {
     "data": {
      "text/plain": [
       "0.4"
      ]
     },
     "execution_count": 21,
     "metadata": {},
     "output_type": "execute_result"
    }
   ],
   "source": [
    "# WRITE YOUR CODE HERE\n",
    "from scipy.spatial.distance import euclidean, jaccard\n",
    "euclidean(bow1,bow2)\n",
    "jaccard(bow1,bow2)"
   ]
  },
  {
   "cell_type": "markdown",
   "id": "dfa0b5b2-dc94-4b84-a4e7-b80d1332b14b",
   "metadata": {},
   "source": [
    "For Example: Euclidean distance between 2 points $p$ and $q$ can be summarized by this equation: $d(p,q)={\\sqrt {(p_{1}-q_{1})^{2}+(p_{2}-q_{2})^{2}+(p_{3}-q_{3})^{2}}}$. You can use `euclidean(p,q)` function from ```scipy``` package to calculate it. \n"
   ]
  },
  {
   "cell_type": "markdown",
   "id": "2b01370d-58d7-4764-a172-75558f0c0a66",
   "metadata": {},
   "source": [
    "### TASK: Find similar courses to the course `Machine Learning with Python`\n"
   ]
  },
  {
   "cell_type": "markdown",
   "id": "e6ce3baf-a501-478b-a5eb-7bffeadd0b6f",
   "metadata": {},
   "source": [
    "Now you have learned how to calculate cosine similarity between two sample BoW feature vectors. Let's work on some real course BoW feature vectors.\n"
   ]
  },
  {
   "cell_type": "code",
   "execution_count": 22,
   "id": "1033134f-67d2-4b81-bc22-aac12ebbe249",
   "metadata": {},
   "outputs": [],
   "source": [
    "# Load the BoW features as Pandas dataframe\n",
    "bows_url = \"https://cf-courses-data.s3.us.cloud-object-storage.appdomain.cloud/IBM-ML321EN-SkillsNetwork/labs/datasets/courses_bows.csv\"\n",
    "bows_df = pd.read_csv(bows_url)\n",
    "bows_df = bows_df[['doc_id', 'token', 'bow']]"
   ]
  },
  {
   "cell_type": "code",
   "execution_count": 23,
   "id": "ac68bef8-2453-45b0-88a5-5bec3e315238",
   "metadata": {},
   "outputs": [
    {
     "data": {
      "application/vnd.microsoft.datawrangler.viewer.v0+json": {
       "columns": [
        {
         "name": "index",
         "rawType": "int64",
         "type": "integer"
        },
        {
         "name": "doc_id",
         "rawType": "object",
         "type": "string"
        },
        {
         "name": "token",
         "rawType": "object",
         "type": "string"
        },
        {
         "name": "bow",
         "rawType": "int64",
         "type": "integer"
        }
       ],
       "ref": "c6e90c97-287f-4b53-b92f-736d0de2fe00",
       "rows": [
        [
         "0",
         "ML0201EN",
         "ai",
         "2"
        ],
        [
         "1",
         "ML0201EN",
         "apps",
         "2"
        ],
        [
         "2",
         "ML0201EN",
         "build",
         "2"
        ],
        [
         "3",
         "ML0201EN",
         "cloud",
         "1"
        ],
        [
         "4",
         "ML0201EN",
         "coming",
         "1"
        ],
        [
         "5",
         "ML0201EN",
         "create",
         "1"
        ],
        [
         "6",
         "ML0201EN",
         "data",
         "1"
        ],
        [
         "7",
         "ML0201EN",
         "developer",
         "1"
        ],
        [
         "8",
         "ML0201EN",
         "found",
         "1"
        ],
        [
         "9",
         "ML0201EN",
         "fun",
         "1"
        ]
       ],
       "shape": {
        "columns": 3,
        "rows": 10
       }
      },
      "text/html": [
       "<div>\n",
       "<style scoped>\n",
       "    .dataframe tbody tr th:only-of-type {\n",
       "        vertical-align: middle;\n",
       "    }\n",
       "\n",
       "    .dataframe tbody tr th {\n",
       "        vertical-align: top;\n",
       "    }\n",
       "\n",
       "    .dataframe thead th {\n",
       "        text-align: right;\n",
       "    }\n",
       "</style>\n",
       "<table border=\"1\" class=\"dataframe\">\n",
       "  <thead>\n",
       "    <tr style=\"text-align: right;\">\n",
       "      <th></th>\n",
       "      <th>doc_id</th>\n",
       "      <th>token</th>\n",
       "      <th>bow</th>\n",
       "    </tr>\n",
       "  </thead>\n",
       "  <tbody>\n",
       "    <tr>\n",
       "      <th>0</th>\n",
       "      <td>ML0201EN</td>\n",
       "      <td>ai</td>\n",
       "      <td>2</td>\n",
       "    </tr>\n",
       "    <tr>\n",
       "      <th>1</th>\n",
       "      <td>ML0201EN</td>\n",
       "      <td>apps</td>\n",
       "      <td>2</td>\n",
       "    </tr>\n",
       "    <tr>\n",
       "      <th>2</th>\n",
       "      <td>ML0201EN</td>\n",
       "      <td>build</td>\n",
       "      <td>2</td>\n",
       "    </tr>\n",
       "    <tr>\n",
       "      <th>3</th>\n",
       "      <td>ML0201EN</td>\n",
       "      <td>cloud</td>\n",
       "      <td>1</td>\n",
       "    </tr>\n",
       "    <tr>\n",
       "      <th>4</th>\n",
       "      <td>ML0201EN</td>\n",
       "      <td>coming</td>\n",
       "      <td>1</td>\n",
       "    </tr>\n",
       "    <tr>\n",
       "      <th>5</th>\n",
       "      <td>ML0201EN</td>\n",
       "      <td>create</td>\n",
       "      <td>1</td>\n",
       "    </tr>\n",
       "    <tr>\n",
       "      <th>6</th>\n",
       "      <td>ML0201EN</td>\n",
       "      <td>data</td>\n",
       "      <td>1</td>\n",
       "    </tr>\n",
       "    <tr>\n",
       "      <th>7</th>\n",
       "      <td>ML0201EN</td>\n",
       "      <td>developer</td>\n",
       "      <td>1</td>\n",
       "    </tr>\n",
       "    <tr>\n",
       "      <th>8</th>\n",
       "      <td>ML0201EN</td>\n",
       "      <td>found</td>\n",
       "      <td>1</td>\n",
       "    </tr>\n",
       "    <tr>\n",
       "      <th>9</th>\n",
       "      <td>ML0201EN</td>\n",
       "      <td>fun</td>\n",
       "      <td>1</td>\n",
       "    </tr>\n",
       "  </tbody>\n",
       "</table>\n",
       "</div>"
      ],
      "text/plain": [
       "     doc_id      token  bow\n",
       "0  ML0201EN         ai    2\n",
       "1  ML0201EN       apps    2\n",
       "2  ML0201EN      build    2\n",
       "3  ML0201EN      cloud    1\n",
       "4  ML0201EN     coming    1\n",
       "5  ML0201EN     create    1\n",
       "6  ML0201EN       data    1\n",
       "7  ML0201EN  developer    1\n",
       "8  ML0201EN      found    1\n",
       "9  ML0201EN        fun    1"
      ]
     },
     "execution_count": 23,
     "metadata": {},
     "output_type": "execute_result"
    }
   ],
   "source": [
    "bows_df.head(10)"
   ]
  },
  {
   "cell_type": "markdown",
   "id": "3bf447ec-228c-4a85-8abe-8d263252d560",
   "metadata": {},
   "source": [
    "The `bows_df` dataframe contains the BoW features vectors for each course, in a vertical and dense format. It has three columns `doc_id` represents the course id, `token` represents the token value, and `bow` represents the BoW value (token count).\n"
   ]
  },
  {
   "cell_type": "markdown",
   "id": "7b2a15b6-376b-41c5-8343-3d0ee988f410",
   "metadata": {},
   "source": [
    "Then, let's load another course content dataset which contains the course title and description:\n"
   ]
  },
  {
   "cell_type": "code",
   "execution_count": 24,
   "id": "8144652d-8166-468e-8c43-51f273b5953d",
   "metadata": {},
   "outputs": [],
   "source": [
    "# Load the course dataframe\n",
    "course_url = \"https://cf-courses-data.s3.us.cloud-object-storage.appdomain.cloud/IBM-ML321EN-SkillsNetwork/labs/datasets/course_processed.csv\"\n",
    "course_df = pd.read_csv(course_url)"
   ]
  },
  {
   "cell_type": "code",
   "execution_count": 25,
   "id": "031e4a56-88b8-46c4-bc77-51b7cc93e9e6",
   "metadata": {},
   "outputs": [
    {
     "data": {
      "application/vnd.microsoft.datawrangler.viewer.v0+json": {
       "columns": [
        {
         "name": "index",
         "rawType": "int64",
         "type": "integer"
        },
        {
         "name": "COURSE_ID",
         "rawType": "object",
         "type": "string"
        },
        {
         "name": "TITLE",
         "rawType": "object",
         "type": "string"
        },
        {
         "name": "DESCRIPTION",
         "rawType": "object",
         "type": "string"
        }
       ],
       "ref": "3541c77c-5849-4b51-a40e-8f1cc875ba16",
       "rows": [
        [
         "0",
         "ML0201EN",
         "robots are coming  build iot apps with watson  swift  and node red",
         "have fun with iot and learn along the way  if you re a swift developer and want to learn more about iot and watson ai services in the cloud  raspberry pi   and node red  you ve found the right place  you ll build iot apps to read temperature data  take pictures with a raspcam  use ai to recognize the objects in those pictures  and program an irobot create 2 robot  "
        ],
        [
         "1",
         "ML0122EN",
         "accelerating deep learning with gpu",
         "training complex deep learning models with large datasets takes along time  in this course  you will learn how to use accelerated gpu hardware to overcome the scalability problem in deep learning \nyou can use accelerated hardware such as google s tensor processing unit  tpu  or nvidia gpu to accelerate your convolutional neural network computations time on the cloud  these chips are specifically designed to support the training of neural networks  as well as the use of trained networks  inference   accelerated hardware has recently been proven to significantly reduce training time \nbut the problem is that your data might be sensitiveand you may not feel comfortable uploading it on a public cloud  preferring to analyze it on premise  in this case  you need to use an in house system with gpu support  one solution is to use ibm s power systems with nvidia gpu and power ai  the power ai platform supports popular machine learning libraries and dependencies including tensorflow  caffe  torch  and theano \nin this course  you ll understand what gpu based accelerated hardware is and how it can benefit your deep learning scaling needs  you ll also deploy deep learning networks on gpu accelerated hardware for several problems  including the classification of images and videos "
        ],
        [
         "2",
         "GPXX0ZG0EN",
         "consuming restful services using the reactive jax rs client",
         "learn how to use a reactive jax rs client to asynchronously invoke restful microservices over http "
        ],
        [
         "3",
         "RP0105EN",
         "analyzing big data in r using apache spark",
         "apache spark is a popular cluster computing framework used for performing large scale data analysis  sparkr provides a distributed data frame api that enables structured data processing with a syntax familiar to r users \n"
        ],
        [
         "4",
         "GPXX0Z2PEN",
         "containerizing  packaging  and running a spring boot application",
         "learn how to containerize  package  and run a spring boot application on an open liberty server without modification "
        ],
        [
         "5",
         "CNSC02EN",
         "cloud native security conference   data security",
         "introduction to data security on cloud"
        ],
        [
         "6",
         "DX0106EN",
         "data science bootcamp with r for university proffesors",
         "a multi day intensive  in person data science bootcamp offered by big data university"
        ],
        [
         "7",
         "GPXX0FTCEN",
         "learn how to use docker containers for iterative development",
         "learn how to use docker containers for iterative development "
        ],
        [
         "8",
         "RAVSCTEST1",
         "scorm test 1",
         "scron test course"
        ],
        [
         "9",
         "GPXX06RFEN",
         "create your first mongodb database",
         "in this guided project  you will get started with mongodb by creating your first database  working with collections  and doing basic document management  "
        ]
       ],
       "shape": {
        "columns": 3,
        "rows": 10
       }
      },
      "text/html": [
       "<div>\n",
       "<style scoped>\n",
       "    .dataframe tbody tr th:only-of-type {\n",
       "        vertical-align: middle;\n",
       "    }\n",
       "\n",
       "    .dataframe tbody tr th {\n",
       "        vertical-align: top;\n",
       "    }\n",
       "\n",
       "    .dataframe thead th {\n",
       "        text-align: right;\n",
       "    }\n",
       "</style>\n",
       "<table border=\"1\" class=\"dataframe\">\n",
       "  <thead>\n",
       "    <tr style=\"text-align: right;\">\n",
       "      <th></th>\n",
       "      <th>COURSE_ID</th>\n",
       "      <th>TITLE</th>\n",
       "      <th>DESCRIPTION</th>\n",
       "    </tr>\n",
       "  </thead>\n",
       "  <tbody>\n",
       "    <tr>\n",
       "      <th>0</th>\n",
       "      <td>ML0201EN</td>\n",
       "      <td>robots are coming  build iot apps with watson ...</td>\n",
       "      <td>have fun with iot and learn along the way  if ...</td>\n",
       "    </tr>\n",
       "    <tr>\n",
       "      <th>1</th>\n",
       "      <td>ML0122EN</td>\n",
       "      <td>accelerating deep learning with gpu</td>\n",
       "      <td>training complex deep learning models with lar...</td>\n",
       "    </tr>\n",
       "    <tr>\n",
       "      <th>2</th>\n",
       "      <td>GPXX0ZG0EN</td>\n",
       "      <td>consuming restful services using the reactive ...</td>\n",
       "      <td>learn how to use a reactive jax rs client to a...</td>\n",
       "    </tr>\n",
       "    <tr>\n",
       "      <th>3</th>\n",
       "      <td>RP0105EN</td>\n",
       "      <td>analyzing big data in r using apache spark</td>\n",
       "      <td>apache spark is a popular cluster computing fr...</td>\n",
       "    </tr>\n",
       "    <tr>\n",
       "      <th>4</th>\n",
       "      <td>GPXX0Z2PEN</td>\n",
       "      <td>containerizing  packaging  and running a sprin...</td>\n",
       "      <td>learn how to containerize  package  and run a ...</td>\n",
       "    </tr>\n",
       "    <tr>\n",
       "      <th>5</th>\n",
       "      <td>CNSC02EN</td>\n",
       "      <td>cloud native security conference   data security</td>\n",
       "      <td>introduction to data security on cloud</td>\n",
       "    </tr>\n",
       "    <tr>\n",
       "      <th>6</th>\n",
       "      <td>DX0106EN</td>\n",
       "      <td>data science bootcamp with r for university pr...</td>\n",
       "      <td>a multi day intensive  in person data science ...</td>\n",
       "    </tr>\n",
       "    <tr>\n",
       "      <th>7</th>\n",
       "      <td>GPXX0FTCEN</td>\n",
       "      <td>learn how to use docker containers for iterati...</td>\n",
       "      <td>learn how to use docker containers for iterati...</td>\n",
       "    </tr>\n",
       "    <tr>\n",
       "      <th>8</th>\n",
       "      <td>RAVSCTEST1</td>\n",
       "      <td>scorm test 1</td>\n",
       "      <td>scron test course</td>\n",
       "    </tr>\n",
       "    <tr>\n",
       "      <th>9</th>\n",
       "      <td>GPXX06RFEN</td>\n",
       "      <td>create your first mongodb database</td>\n",
       "      <td>in this guided project  you will get started w...</td>\n",
       "    </tr>\n",
       "  </tbody>\n",
       "</table>\n",
       "</div>"
      ],
      "text/plain": [
       "    COURSE_ID                                              TITLE  \\\n",
       "0    ML0201EN  robots are coming  build iot apps with watson ...   \n",
       "1    ML0122EN                accelerating deep learning with gpu   \n",
       "2  GPXX0ZG0EN  consuming restful services using the reactive ...   \n",
       "3    RP0105EN         analyzing big data in r using apache spark   \n",
       "4  GPXX0Z2PEN  containerizing  packaging  and running a sprin...   \n",
       "5    CNSC02EN   cloud native security conference   data security   \n",
       "6    DX0106EN  data science bootcamp with r for university pr...   \n",
       "7  GPXX0FTCEN  learn how to use docker containers for iterati...   \n",
       "8  RAVSCTEST1                                       scorm test 1   \n",
       "9  GPXX06RFEN                 create your first mongodb database   \n",
       "\n",
       "                                         DESCRIPTION  \n",
       "0  have fun with iot and learn along the way  if ...  \n",
       "1  training complex deep learning models with lar...  \n",
       "2  learn how to use a reactive jax rs client to a...  \n",
       "3  apache spark is a popular cluster computing fr...  \n",
       "4  learn how to containerize  package  and run a ...  \n",
       "5             introduction to data security on cloud  \n",
       "6  a multi day intensive  in person data science ...  \n",
       "7  learn how to use docker containers for iterati...  \n",
       "8                                  scron test course  \n",
       "9  in this guided project  you will get started w...  "
      ]
     },
     "execution_count": 25,
     "metadata": {},
     "output_type": "execute_result"
    }
   ],
   "source": [
    "course_df.head(10)"
   ]
  },
  {
   "cell_type": "markdown",
   "id": "75e51723-8337-480a-8670-d37c089afe5f",
   "metadata": {},
   "source": [
    "Given course ID `ML0101ENv3`, let's find out its title and description:\n"
   ]
  },
  {
   "cell_type": "code",
   "execution_count": 27,
   "id": "7dea9a56-9d93-467e-a8e3-2e43a7df899b",
   "metadata": {},
   "outputs": [
    {
     "data": {
      "application/vnd.microsoft.datawrangler.viewer.v0+json": {
       "columns": [
        {
         "name": "index",
         "rawType": "int64",
         "type": "integer"
        },
        {
         "name": "COURSE_ID",
         "rawType": "object",
         "type": "string"
        },
        {
         "name": "TITLE",
         "rawType": "object",
         "type": "string"
        },
        {
         "name": "DESCRIPTION",
         "rawType": "object",
         "type": "string"
        }
       ],
       "ref": "17120762-f9d7-4df0-b6ac-f9a7f5ef3596",
       "rows": [
        [
         "158",
         "ML0101ENv3",
         "machine learning with python",
         "machine learning can be an incredibly beneficial tool to uncover hidden insights and predict future trends  this free machine learning with python course will give you all the tools you need to get started with supervised and unsupervised learning "
        ]
       ],
       "shape": {
        "columns": 3,
        "rows": 1
       }
      },
      "text/html": [
       "<div>\n",
       "<style scoped>\n",
       "    .dataframe tbody tr th:only-of-type {\n",
       "        vertical-align: middle;\n",
       "    }\n",
       "\n",
       "    .dataframe tbody tr th {\n",
       "        vertical-align: top;\n",
       "    }\n",
       "\n",
       "    .dataframe thead th {\n",
       "        text-align: right;\n",
       "    }\n",
       "</style>\n",
       "<table border=\"1\" class=\"dataframe\">\n",
       "  <thead>\n",
       "    <tr style=\"text-align: right;\">\n",
       "      <th></th>\n",
       "      <th>COURSE_ID</th>\n",
       "      <th>TITLE</th>\n",
       "      <th>DESCRIPTION</th>\n",
       "    </tr>\n",
       "  </thead>\n",
       "  <tbody>\n",
       "    <tr>\n",
       "      <th>158</th>\n",
       "      <td>ML0101ENv3</td>\n",
       "      <td>machine learning with python</td>\n",
       "      <td>machine learning can be an incredibly benefici...</td>\n",
       "    </tr>\n",
       "  </tbody>\n",
       "</table>\n",
       "</div>"
      ],
      "text/plain": [
       "      COURSE_ID                         TITLE  \\\n",
       "158  ML0101ENv3  machine learning with python   \n",
       "\n",
       "                                           DESCRIPTION  \n",
       "158  machine learning can be an incredibly benefici...  "
      ]
     },
     "execution_count": 27,
     "metadata": {},
     "output_type": "execute_result"
    }
   ],
   "source": [
    "course_df[course_df['COURSE_ID'] == 'ML0101ENv3']"
   ]
  },
  {
   "cell_type": "markdown",
   "id": "d79a716c-c930-4a56-8bc8-f2317651a7eb",
   "metadata": {},
   "source": [
    "We can see it is a machine learning with Python course so we can expect any machine learning or Python related courses would be similar.\n"
   ]
  },
  {
   "cell_type": "markdown",
   "id": "cb91d7e3-18aa-4401-a43f-bf64b08e278e",
   "metadata": {},
   "source": [
    "Then, let's print its associated BoW features:\n"
   ]
  },
  {
   "cell_type": "code",
   "execution_count": 28,
   "id": "9638f356-0e15-4bce-985e-8cc3eb9f3c5e",
   "metadata": {},
   "outputs": [
    {
     "data": {
      "application/vnd.microsoft.datawrangler.viewer.v0+json": {
       "columns": [
        {
         "name": "index",
         "rawType": "int64",
         "type": "integer"
        },
        {
         "name": "doc_id",
         "rawType": "object",
         "type": "string"
        },
        {
         "name": "token",
         "rawType": "object",
         "type": "string"
        },
        {
         "name": "bow",
         "rawType": "int64",
         "type": "integer"
        }
       ],
       "ref": "ea8c2a9f-578b-47a2-824d-d82969753066",
       "rows": [
        [
         "2747",
         "ML0101ENv3",
         "course",
         "1"
        ],
        [
         "2748",
         "ML0101ENv3",
         "learning",
         "4"
        ],
        [
         "2749",
         "ML0101ENv3",
         "machine",
         "3"
        ],
        [
         "2750",
         "ML0101ENv3",
         "need",
         "1"
        ],
        [
         "2751",
         "ML0101ENv3",
         "get",
         "1"
        ],
        [
         "2752",
         "ML0101ENv3",
         "started",
         "1"
        ],
        [
         "2753",
         "ML0101ENv3",
         "python",
         "2"
        ],
        [
         "2754",
         "ML0101ENv3",
         "tool",
         "1"
        ],
        [
         "2755",
         "ML0101ENv3",
         "tools",
         "1"
        ],
        [
         "2756",
         "ML0101ENv3",
         "predict",
         "1"
        ],
        [
         "2757",
         "ML0101ENv3",
         "free",
         "1"
        ],
        [
         "2758",
         "ML0101ENv3",
         "hidden",
         "1"
        ],
        [
         "2759",
         "ML0101ENv3",
         "insights",
         "1"
        ],
        [
         "2760",
         "ML0101ENv3",
         "beneficial",
         "1"
        ],
        [
         "2761",
         "ML0101ENv3",
         "future",
         "1"
        ],
        [
         "2762",
         "ML0101ENv3",
         "trends",
         "1"
        ],
        [
         "2763",
         "ML0101ENv3",
         "give",
         "1"
        ],
        [
         "2764",
         "ML0101ENv3",
         "supervised",
         "1"
        ],
        [
         "2765",
         "ML0101ENv3",
         "unsupervised",
         "1"
        ]
       ],
       "shape": {
        "columns": 3,
        "rows": 19
       }
      },
      "text/html": [
       "<div>\n",
       "<style scoped>\n",
       "    .dataframe tbody tr th:only-of-type {\n",
       "        vertical-align: middle;\n",
       "    }\n",
       "\n",
       "    .dataframe tbody tr th {\n",
       "        vertical-align: top;\n",
       "    }\n",
       "\n",
       "    .dataframe thead th {\n",
       "        text-align: right;\n",
       "    }\n",
       "</style>\n",
       "<table border=\"1\" class=\"dataframe\">\n",
       "  <thead>\n",
       "    <tr style=\"text-align: right;\">\n",
       "      <th></th>\n",
       "      <th>doc_id</th>\n",
       "      <th>token</th>\n",
       "      <th>bow</th>\n",
       "    </tr>\n",
       "  </thead>\n",
       "  <tbody>\n",
       "    <tr>\n",
       "      <th>2747</th>\n",
       "      <td>ML0101ENv3</td>\n",
       "      <td>course</td>\n",
       "      <td>1</td>\n",
       "    </tr>\n",
       "    <tr>\n",
       "      <th>2748</th>\n",
       "      <td>ML0101ENv3</td>\n",
       "      <td>learning</td>\n",
       "      <td>4</td>\n",
       "    </tr>\n",
       "    <tr>\n",
       "      <th>2749</th>\n",
       "      <td>ML0101ENv3</td>\n",
       "      <td>machine</td>\n",
       "      <td>3</td>\n",
       "    </tr>\n",
       "    <tr>\n",
       "      <th>2750</th>\n",
       "      <td>ML0101ENv3</td>\n",
       "      <td>need</td>\n",
       "      <td>1</td>\n",
       "    </tr>\n",
       "    <tr>\n",
       "      <th>2751</th>\n",
       "      <td>ML0101ENv3</td>\n",
       "      <td>get</td>\n",
       "      <td>1</td>\n",
       "    </tr>\n",
       "    <tr>\n",
       "      <th>2752</th>\n",
       "      <td>ML0101ENv3</td>\n",
       "      <td>started</td>\n",
       "      <td>1</td>\n",
       "    </tr>\n",
       "    <tr>\n",
       "      <th>2753</th>\n",
       "      <td>ML0101ENv3</td>\n",
       "      <td>python</td>\n",
       "      <td>2</td>\n",
       "    </tr>\n",
       "    <tr>\n",
       "      <th>2754</th>\n",
       "      <td>ML0101ENv3</td>\n",
       "      <td>tool</td>\n",
       "      <td>1</td>\n",
       "    </tr>\n",
       "    <tr>\n",
       "      <th>2755</th>\n",
       "      <td>ML0101ENv3</td>\n",
       "      <td>tools</td>\n",
       "      <td>1</td>\n",
       "    </tr>\n",
       "    <tr>\n",
       "      <th>2756</th>\n",
       "      <td>ML0101ENv3</td>\n",
       "      <td>predict</td>\n",
       "      <td>1</td>\n",
       "    </tr>\n",
       "    <tr>\n",
       "      <th>2757</th>\n",
       "      <td>ML0101ENv3</td>\n",
       "      <td>free</td>\n",
       "      <td>1</td>\n",
       "    </tr>\n",
       "    <tr>\n",
       "      <th>2758</th>\n",
       "      <td>ML0101ENv3</td>\n",
       "      <td>hidden</td>\n",
       "      <td>1</td>\n",
       "    </tr>\n",
       "    <tr>\n",
       "      <th>2759</th>\n",
       "      <td>ML0101ENv3</td>\n",
       "      <td>insights</td>\n",
       "      <td>1</td>\n",
       "    </tr>\n",
       "    <tr>\n",
       "      <th>2760</th>\n",
       "      <td>ML0101ENv3</td>\n",
       "      <td>beneficial</td>\n",
       "      <td>1</td>\n",
       "    </tr>\n",
       "    <tr>\n",
       "      <th>2761</th>\n",
       "      <td>ML0101ENv3</td>\n",
       "      <td>future</td>\n",
       "      <td>1</td>\n",
       "    </tr>\n",
       "    <tr>\n",
       "      <th>2762</th>\n",
       "      <td>ML0101ENv3</td>\n",
       "      <td>trends</td>\n",
       "      <td>1</td>\n",
       "    </tr>\n",
       "    <tr>\n",
       "      <th>2763</th>\n",
       "      <td>ML0101ENv3</td>\n",
       "      <td>give</td>\n",
       "      <td>1</td>\n",
       "    </tr>\n",
       "    <tr>\n",
       "      <th>2764</th>\n",
       "      <td>ML0101ENv3</td>\n",
       "      <td>supervised</td>\n",
       "      <td>1</td>\n",
       "    </tr>\n",
       "    <tr>\n",
       "      <th>2765</th>\n",
       "      <td>ML0101ENv3</td>\n",
       "      <td>unsupervised</td>\n",
       "      <td>1</td>\n",
       "    </tr>\n",
       "  </tbody>\n",
       "</table>\n",
       "</div>"
      ],
      "text/plain": [
       "          doc_id         token  bow\n",
       "2747  ML0101ENv3        course    1\n",
       "2748  ML0101ENv3      learning    4\n",
       "2749  ML0101ENv3       machine    3\n",
       "2750  ML0101ENv3          need    1\n",
       "2751  ML0101ENv3           get    1\n",
       "2752  ML0101ENv3       started    1\n",
       "2753  ML0101ENv3        python    2\n",
       "2754  ML0101ENv3          tool    1\n",
       "2755  ML0101ENv3         tools    1\n",
       "2756  ML0101ENv3       predict    1\n",
       "2757  ML0101ENv3          free    1\n",
       "2758  ML0101ENv3        hidden    1\n",
       "2759  ML0101ENv3      insights    1\n",
       "2760  ML0101ENv3    beneficial    1\n",
       "2761  ML0101ENv3        future    1\n",
       "2762  ML0101ENv3        trends    1\n",
       "2763  ML0101ENv3          give    1\n",
       "2764  ML0101ENv3    supervised    1\n",
       "2765  ML0101ENv3  unsupervised    1"
      ]
     },
     "execution_count": 28,
     "metadata": {},
     "output_type": "execute_result"
    }
   ],
   "source": [
    "ml_course = bows_df[bows_df['doc_id'] == 'ML0101ENv3']\n",
    "ml_course"
   ]
  },
  {
   "cell_type": "markdown",
   "id": "23a4e5ac-7898-451c-91d8-aaece6ce83ec",
   "metadata": {},
   "source": [
    "We can see the BoW feature vector is in vertical format but normally feature vectors are in horizontal format. One way to transpose the feature vector from vertical to horizontal is to use the Pandas `pivot()` method:\n"
   ]
  },
  {
   "cell_type": "code",
   "execution_count": 29,
   "id": "c621f3f1-3a4d-4bd4-b73d-d7568b9585a4",
   "metadata": {},
   "outputs": [
    {
     "data": {
      "application/vnd.microsoft.datawrangler.viewer.v0+json": {
       "columns": [
        {
         "name": "index",
         "rawType": "int64",
         "type": "integer"
        },
        {
         "name": "('doc_id', '')",
         "rawType": "object",
         "type": "string"
        },
        {
         "name": "('bow', 'beneficial')",
         "rawType": "int64",
         "type": "integer"
        },
        {
         "name": "('bow', 'course')",
         "rawType": "int64",
         "type": "integer"
        },
        {
         "name": "('bow', 'free')",
         "rawType": "int64",
         "type": "integer"
        },
        {
         "name": "('bow', 'future')",
         "rawType": "int64",
         "type": "integer"
        },
        {
         "name": "('bow', 'get')",
         "rawType": "int64",
         "type": "integer"
        },
        {
         "name": "('bow', 'give')",
         "rawType": "int64",
         "type": "integer"
        },
        {
         "name": "('bow', 'hidden')",
         "rawType": "int64",
         "type": "integer"
        },
        {
         "name": "('bow', 'insights')",
         "rawType": "int64",
         "type": "integer"
        },
        {
         "name": "('bow', 'learning')",
         "rawType": "int64",
         "type": "integer"
        },
        {
         "name": "('bow', 'machine')",
         "rawType": "int64",
         "type": "integer"
        },
        {
         "name": "('bow', 'need')",
         "rawType": "int64",
         "type": "integer"
        },
        {
         "name": "('bow', 'predict')",
         "rawType": "int64",
         "type": "integer"
        },
        {
         "name": "('bow', 'python')",
         "rawType": "int64",
         "type": "integer"
        },
        {
         "name": "('bow', 'started')",
         "rawType": "int64",
         "type": "integer"
        },
        {
         "name": "('bow', 'supervised')",
         "rawType": "int64",
         "type": "integer"
        },
        {
         "name": "('bow', 'tool')",
         "rawType": "int64",
         "type": "integer"
        },
        {
         "name": "('bow', 'tools')",
         "rawType": "int64",
         "type": "integer"
        },
        {
         "name": "('bow', 'trends')",
         "rawType": "int64",
         "type": "integer"
        },
        {
         "name": "('bow', 'unsupervised')",
         "rawType": "int64",
         "type": "integer"
        }
       ],
       "ref": "0e801a88-9f44-4d16-9d28-d0e8840a49e0",
       "rows": [
        [
         "0",
         "ML0101ENv3",
         "1",
         "1",
         "1",
         "1",
         "1",
         "1",
         "1",
         "1",
         "4",
         "3",
         "1",
         "1",
         "2",
         "1",
         "1",
         "1",
         "1",
         "1",
         "1"
        ]
       ],
       "shape": {
        "columns": 20,
        "rows": 1
       }
      },
      "text/html": [
       "<div>\n",
       "<style scoped>\n",
       "    .dataframe tbody tr th:only-of-type {\n",
       "        vertical-align: middle;\n",
       "    }\n",
       "\n",
       "    .dataframe tbody tr th {\n",
       "        vertical-align: top;\n",
       "    }\n",
       "\n",
       "    .dataframe thead tr th {\n",
       "        text-align: left;\n",
       "    }\n",
       "</style>\n",
       "<table border=\"1\" class=\"dataframe\">\n",
       "  <thead>\n",
       "    <tr>\n",
       "      <th></th>\n",
       "      <th>doc_id</th>\n",
       "      <th colspan=\"19\" halign=\"left\">bow</th>\n",
       "    </tr>\n",
       "    <tr>\n",
       "      <th>token</th>\n",
       "      <th></th>\n",
       "      <th>beneficial</th>\n",
       "      <th>course</th>\n",
       "      <th>free</th>\n",
       "      <th>future</th>\n",
       "      <th>get</th>\n",
       "      <th>give</th>\n",
       "      <th>hidden</th>\n",
       "      <th>insights</th>\n",
       "      <th>learning</th>\n",
       "      <th>machine</th>\n",
       "      <th>need</th>\n",
       "      <th>predict</th>\n",
       "      <th>python</th>\n",
       "      <th>started</th>\n",
       "      <th>supervised</th>\n",
       "      <th>tool</th>\n",
       "      <th>tools</th>\n",
       "      <th>trends</th>\n",
       "      <th>unsupervised</th>\n",
       "    </tr>\n",
       "  </thead>\n",
       "  <tbody>\n",
       "    <tr>\n",
       "      <th>0</th>\n",
       "      <td>ML0101ENv3</td>\n",
       "      <td>1</td>\n",
       "      <td>1</td>\n",
       "      <td>1</td>\n",
       "      <td>1</td>\n",
       "      <td>1</td>\n",
       "      <td>1</td>\n",
       "      <td>1</td>\n",
       "      <td>1</td>\n",
       "      <td>4</td>\n",
       "      <td>3</td>\n",
       "      <td>1</td>\n",
       "      <td>1</td>\n",
       "      <td>2</td>\n",
       "      <td>1</td>\n",
       "      <td>1</td>\n",
       "      <td>1</td>\n",
       "      <td>1</td>\n",
       "      <td>1</td>\n",
       "      <td>1</td>\n",
       "    </tr>\n",
       "  </tbody>\n",
       "</table>\n",
       "</div>"
      ],
      "text/plain": [
       "           doc_id        bow                                              \\\n",
       "token             beneficial course free future get give hidden insights   \n",
       "0      ML0101ENv3          1      1    1      1   1    1      1        1   \n",
       "\n",
       "                                                                          \\\n",
       "token learning machine need predict python started supervised tool tools   \n",
       "0            4       3    1       1      2       1          1    1     1   \n",
       "\n",
       "                           \n",
       "token trends unsupervised  \n",
       "0          1            1  "
      ]
     },
     "execution_count": 29,
     "metadata": {},
     "output_type": "execute_result"
    }
   ],
   "source": [
    "ml_courseT = ml_course.pivot(index=['doc_id'], columns='token').reset_index(level=[0])\n",
    "ml_courseT"
   ]
  },
  {
   "cell_type": "markdown",
   "id": "c2e49023-eb0e-4c53-9e88-e350dcf92a91",
   "metadata": {},
   "source": [
    "To compare the BoWs of any two courses, which normally have a different set of tokens, we need to create a union token set and then transpose them. We have provided a method called `pivot_two_bows` as follows:\n"
   ]
  },
  {
   "cell_type": "code",
   "execution_count": 30,
   "id": "700a0e36-07ee-447f-a69c-fbe47ab71d5b",
   "metadata": {},
   "outputs": [],
   "source": [
    "def pivot_two_bows(basedoc, comparedoc):\n",
    "    \"\"\"\n",
    "    Pivot two bag-of-words (BoW) representations for comparison.\n",
    "\n",
    "    Parameters:\n",
    "    basedoc (DataFrame): DataFrame containing the bag-of-words representation for the base document.\n",
    "    comparedoc (DataFrame): DataFrame containing the bag-of-words representation for the document to compare.\n",
    "\n",
    "    Returns:\n",
    "    DataFrame: A DataFrame with pivoted BoW representations for the base and compared documents,\n",
    "    facilitating direct comparison of word occurrences between the two documents.\n",
    "    \"\"\"\n",
    "\n",
    "    # Create copies of the input DataFrames to avoid modifying the originals\n",
    "    base = basedoc.copy()\n",
    "    base['type'] = 'base'  # Add a 'type' column indicating base document\n",
    "    compare = comparedoc.copy()\n",
    "    compare['type'] = 'compare'  # Add a 'type' column indicating compared document\n",
    "\n",
    "    # Concatenate the two DataFrames vertically\n",
    "    join = pd.concat([base, compare])\n",
    "\n",
    "    # Pivot the concatenated DataFrame based on 'doc_id' and 'type', with words as columns\n",
    "    joinT = join.pivot(index=['doc_id', 'type'], columns='token').fillna(0).reset_index(level=[0, 1])\n",
    "\n",
    "    # Assign meaningful column names to the pivoted DataFrame\n",
    "    joinT.columns = ['doc_id', 'type'] + [t[1] for t in joinT.columns][2:]\n",
    "\n",
    "    # Return the pivoted DataFrame for comparison\n",
    "    return joinT\n"
   ]
  },
  {
   "cell_type": "code",
   "execution_count": 31,
   "id": "32a71208-f1a8-4185-bd15-74f0ddc2caea",
   "metadata": {},
   "outputs": [],
   "source": [
    "course1 = bows_df[bows_df['doc_id'] == 'ML0151EN']\n",
    "course2 = bows_df[bows_df['doc_id'] == 'ML0101ENv3']"
   ]
  },
  {
   "cell_type": "code",
   "execution_count": 32,
   "id": "ef728a6a-2c8a-40a3-a8e9-63c3d99c76ac",
   "metadata": {},
   "outputs": [
    {
     "data": {
      "application/vnd.microsoft.datawrangler.viewer.v0+json": {
       "columns": [
        {
         "name": "index",
         "rawType": "int64",
         "type": "integer"
        },
        {
         "name": "doc_id",
         "rawType": "object",
         "type": "string"
        },
        {
         "name": "type",
         "rawType": "object",
         "type": "string"
        },
        {
         "name": "approachable",
         "rawType": "float64",
         "type": "float"
        },
        {
         "name": "basics",
         "rawType": "float64",
         "type": "float"
        },
        {
         "name": "beneficial",
         "rawType": "float64",
         "type": "float"
        },
        {
         "name": "comparison",
         "rawType": "float64",
         "type": "float"
        },
        {
         "name": "course",
         "rawType": "float64",
         "type": "float"
        },
        {
         "name": "dives",
         "rawType": "float64",
         "type": "float"
        },
        {
         "name": "free",
         "rawType": "float64",
         "type": "float"
        },
        {
         "name": "future",
         "rawType": "float64",
         "type": "float"
        },
        {
         "name": "get",
         "rawType": "float64",
         "type": "float"
        },
        {
         "name": "give",
         "rawType": "float64",
         "type": "float"
        },
        {
         "name": "hidden",
         "rawType": "float64",
         "type": "float"
        },
        {
         "name": "insights",
         "rawType": "float64",
         "type": "float"
        },
        {
         "name": "known",
         "rawType": "float64",
         "type": "float"
        },
        {
         "name": "language",
         "rawType": "float64",
         "type": "float"
        },
        {
         "name": "learn",
         "rawType": "float64",
         "type": "float"
        },
        {
         "name": "learning",
         "rawType": "float64",
         "type": "float"
        },
        {
         "name": "look",
         "rawType": "float64",
         "type": "float"
        },
        {
         "name": "machine",
         "rawType": "float64",
         "type": "float"
        },
        {
         "name": "modeling",
         "rawType": "float64",
         "type": "float"
        },
        {
         "name": "need",
         "rawType": "float64",
         "type": "float"
        },
        {
         "name": "predict",
         "rawType": "float64",
         "type": "float"
        },
        {
         "name": "programming",
         "rawType": "float64",
         "type": "float"
        },
        {
         "name": "python",
         "rawType": "float64",
         "type": "float"
        },
        {
         "name": "r",
         "rawType": "float64",
         "type": "float"
        },
        {
         "name": "relates",
         "rawType": "float64",
         "type": "float"
        },
        {
         "name": "started",
         "rawType": "float64",
         "type": "float"
        },
        {
         "name": "statistical",
         "rawType": "float64",
         "type": "float"
        },
        {
         "name": "supervised",
         "rawType": "float64",
         "type": "float"
        },
        {
         "name": "tool",
         "rawType": "float64",
         "type": "float"
        },
        {
         "name": "tools",
         "rawType": "float64",
         "type": "float"
        },
        {
         "name": "trends",
         "rawType": "float64",
         "type": "float"
        },
        {
         "name": "unsupervised",
         "rawType": "float64",
         "type": "float"
        },
        {
         "name": "using",
         "rawType": "float64",
         "type": "float"
        },
        {
         "name": "vs",
         "rawType": "float64",
         "type": "float"
        }
       ],
       "ref": "b6161933-24a6-4bb0-aede-cc3d1c6b4544",
       "rows": [
        [
         "0",
         "ML0101ENv3",
         "compare",
         "0.0",
         "0.0",
         "1.0",
         "0.0",
         "1.0",
         "0.0",
         "1.0",
         "1.0",
         "1.0",
         "1.0",
         "1.0",
         "1.0",
         "0.0",
         "0.0",
         "0.0",
         "4.0",
         "0.0",
         "3.0",
         "0.0",
         "1.0",
         "1.0",
         "0.0",
         "2.0",
         "0.0",
         "0.0",
         "1.0",
         "0.0",
         "1.0",
         "1.0",
         "1.0",
         "1.0",
         "1.0",
         "0.0",
         "0.0"
        ],
        [
         "1",
         "ML0151EN",
         "base",
         "1.0",
         "1.0",
         "0.0",
         "1.0",
         "1.0",
         "1.0",
         "0.0",
         "0.0",
         "0.0",
         "0.0",
         "0.0",
         "0.0",
         "1.0",
         "1.0",
         "1.0",
         "5.0",
         "1.0",
         "4.0",
         "1.0",
         "0.0",
         "0.0",
         "1.0",
         "0.0",
         "2.0",
         "1.0",
         "0.0",
         "1.0",
         "1.0",
         "0.0",
         "0.0",
         "0.0",
         "1.0",
         "1.0",
         "1.0"
        ]
       ],
       "shape": {
        "columns": 36,
        "rows": 2
       }
      },
      "text/html": [
       "<div>\n",
       "<style scoped>\n",
       "    .dataframe tbody tr th:only-of-type {\n",
       "        vertical-align: middle;\n",
       "    }\n",
       "\n",
       "    .dataframe tbody tr th {\n",
       "        vertical-align: top;\n",
       "    }\n",
       "\n",
       "    .dataframe thead th {\n",
       "        text-align: right;\n",
       "    }\n",
       "</style>\n",
       "<table border=\"1\" class=\"dataframe\">\n",
       "  <thead>\n",
       "    <tr style=\"text-align: right;\">\n",
       "      <th></th>\n",
       "      <th>doc_id</th>\n",
       "      <th>type</th>\n",
       "      <th>approachable</th>\n",
       "      <th>basics</th>\n",
       "      <th>beneficial</th>\n",
       "      <th>comparison</th>\n",
       "      <th>course</th>\n",
       "      <th>dives</th>\n",
       "      <th>free</th>\n",
       "      <th>future</th>\n",
       "      <th>...</th>\n",
       "      <th>relates</th>\n",
       "      <th>started</th>\n",
       "      <th>statistical</th>\n",
       "      <th>supervised</th>\n",
       "      <th>tool</th>\n",
       "      <th>tools</th>\n",
       "      <th>trends</th>\n",
       "      <th>unsupervised</th>\n",
       "      <th>using</th>\n",
       "      <th>vs</th>\n",
       "    </tr>\n",
       "  </thead>\n",
       "  <tbody>\n",
       "    <tr>\n",
       "      <th>0</th>\n",
       "      <td>ML0101ENv3</td>\n",
       "      <td>compare</td>\n",
       "      <td>0.0</td>\n",
       "      <td>0.0</td>\n",
       "      <td>1.0</td>\n",
       "      <td>0.0</td>\n",
       "      <td>1.0</td>\n",
       "      <td>0.0</td>\n",
       "      <td>1.0</td>\n",
       "      <td>1.0</td>\n",
       "      <td>...</td>\n",
       "      <td>0.0</td>\n",
       "      <td>1.0</td>\n",
       "      <td>0.0</td>\n",
       "      <td>1.0</td>\n",
       "      <td>1.0</td>\n",
       "      <td>1.0</td>\n",
       "      <td>1.0</td>\n",
       "      <td>1.0</td>\n",
       "      <td>0.0</td>\n",
       "      <td>0.0</td>\n",
       "    </tr>\n",
       "    <tr>\n",
       "      <th>1</th>\n",
       "      <td>ML0151EN</td>\n",
       "      <td>base</td>\n",
       "      <td>1.0</td>\n",
       "      <td>1.0</td>\n",
       "      <td>0.0</td>\n",
       "      <td>1.0</td>\n",
       "      <td>1.0</td>\n",
       "      <td>1.0</td>\n",
       "      <td>0.0</td>\n",
       "      <td>0.0</td>\n",
       "      <td>...</td>\n",
       "      <td>1.0</td>\n",
       "      <td>0.0</td>\n",
       "      <td>1.0</td>\n",
       "      <td>1.0</td>\n",
       "      <td>0.0</td>\n",
       "      <td>0.0</td>\n",
       "      <td>0.0</td>\n",
       "      <td>1.0</td>\n",
       "      <td>1.0</td>\n",
       "      <td>1.0</td>\n",
       "    </tr>\n",
       "  </tbody>\n",
       "</table>\n",
       "<p>2 rows × 36 columns</p>\n",
       "</div>"
      ],
      "text/plain": [
       "       doc_id     type  approachable  basics  beneficial  comparison  course  \\\n",
       "0  ML0101ENv3  compare           0.0     0.0         1.0         0.0     1.0   \n",
       "1    ML0151EN     base           1.0     1.0         0.0         1.0     1.0   \n",
       "\n",
       "   dives  free  future  ...  relates  started  statistical  supervised  tool  \\\n",
       "0    0.0   1.0     1.0  ...      0.0      1.0          0.0         1.0   1.0   \n",
       "1    1.0   0.0     0.0  ...      1.0      0.0          1.0         1.0   0.0   \n",
       "\n",
       "   tools  trends  unsupervised  using   vs  \n",
       "0    1.0     1.0           1.0    0.0  0.0  \n",
       "1    0.0     0.0           1.0    1.0  1.0  \n",
       "\n",
       "[2 rows x 36 columns]"
      ]
     },
     "execution_count": 32,
     "metadata": {},
     "output_type": "execute_result"
    }
   ],
   "source": [
    "bow_vectors = pivot_two_bows(course1, course2)\n",
    "bow_vectors"
   ]
  },
  {
   "cell_type": "markdown",
   "id": "e8ea2803-0814-42fa-b1c5-f4230bea9541",
   "metadata": {},
   "source": [
    "Similarly, we can use the cosine method to calculate their similarity:\n"
   ]
  },
  {
   "cell_type": "code",
   "execution_count": 33,
   "id": "94741395-c961-47f7-b27d-b6c0dd828137",
   "metadata": {},
   "outputs": [
    {
     "data": {
      "text/plain": [
       "0.662622139954909"
      ]
     },
     "execution_count": 33,
     "metadata": {},
     "output_type": "execute_result"
    }
   ],
   "source": [
    "similarity = 1 - cosine(bow_vectors.iloc[0, 2:], bow_vectors.iloc[1, 2:])\n",
    "similarity"
   ]
  },
  {
   "cell_type": "markdown",
   "id": "b79342d2-4ece-48eb-89ae-f8d3b1c7bfab",
   "metadata": {},
   "source": [
    "Now it's your turn to perform a task of finding all courses similar to the course `Machine Learning with Python`:\n"
   ]
  },
  {
   "cell_type": "code",
   "execution_count": 34,
   "id": "4a89e57e-de70-4748-915e-68e78de628e3",
   "metadata": {},
   "outputs": [
    {
     "data": {
      "application/vnd.microsoft.datawrangler.viewer.v0+json": {
       "columns": [
        {
         "name": "index",
         "rawType": "int64",
         "type": "integer"
        },
        {
         "name": "COURSE_ID",
         "rawType": "object",
         "type": "string"
        },
        {
         "name": "TITLE",
         "rawType": "object",
         "type": "string"
        },
        {
         "name": "DESCRIPTION",
         "rawType": "object",
         "type": "string"
        }
       ],
       "ref": "a9aec473-f485-47bd-838f-e0e483d447b3",
       "rows": [
        [
         "158",
         "ML0101ENv3",
         "machine learning with python",
         "machine learning can be an incredibly beneficial tool to uncover hidden insights and predict future trends  this free machine learning with python course will give you all the tools you need to get started with supervised and unsupervised learning "
        ]
       ],
       "shape": {
        "columns": 3,
        "rows": 1
       }
      },
      "text/html": [
       "<div>\n",
       "<style scoped>\n",
       "    .dataframe tbody tr th:only-of-type {\n",
       "        vertical-align: middle;\n",
       "    }\n",
       "\n",
       "    .dataframe tbody tr th {\n",
       "        vertical-align: top;\n",
       "    }\n",
       "\n",
       "    .dataframe thead th {\n",
       "        text-align: right;\n",
       "    }\n",
       "</style>\n",
       "<table border=\"1\" class=\"dataframe\">\n",
       "  <thead>\n",
       "    <tr style=\"text-align: right;\">\n",
       "      <th></th>\n",
       "      <th>COURSE_ID</th>\n",
       "      <th>TITLE</th>\n",
       "      <th>DESCRIPTION</th>\n",
       "    </tr>\n",
       "  </thead>\n",
       "  <tbody>\n",
       "    <tr>\n",
       "      <th>158</th>\n",
       "      <td>ML0101ENv3</td>\n",
       "      <td>machine learning with python</td>\n",
       "      <td>machine learning can be an incredibly benefici...</td>\n",
       "    </tr>\n",
       "  </tbody>\n",
       "</table>\n",
       "</div>"
      ],
      "text/plain": [
       "      COURSE_ID                         TITLE  \\\n",
       "158  ML0101ENv3  machine learning with python   \n",
       "\n",
       "                                           DESCRIPTION  \n",
       "158  machine learning can be an incredibly benefici...  "
      ]
     },
     "execution_count": 34,
     "metadata": {},
     "output_type": "execute_result"
    }
   ],
   "source": [
    "course_df[course_df['COURSE_ID'] == 'ML0101ENv3']"
   ]
  },
  {
   "cell_type": "markdown",
   "id": "0086ed19-8197-46af-ae67-4c8611e58c54",
   "metadata": {},
   "source": [
    "You can set a similarity threshold such as 0.5 to determine if two courses are similar enough.\n"
   ]
  },
  {
   "cell_type": "markdown",
   "id": "45090fd3-2245-42af-89c7-cada23067687",
   "metadata": {},
   "source": [
    "_TODO: Find courses which are similar to course `Machine Learning with Python (ML0101ENv3)`, you also need to show the title and descriptions of those courses._\n"
   ]
  },
  {
   "cell_type": "code",
   "execution_count": 38,
   "metadata": {},
   "outputs": [
    {
     "data": {
      "application/vnd.microsoft.datawrangler.viewer.v0+json": {
       "columns": [
        {
         "name": "index",
         "rawType": "int64",
         "type": "integer"
        },
        {
         "name": "doc_id",
         "rawType": "object",
         "type": "string"
        },
        {
         "name": "token",
         "rawType": "object",
         "type": "string"
        },
        {
         "name": "bow",
         "rawType": "int64",
         "type": "integer"
        }
       ],
       "ref": "1479f778-31ce-4468-b43d-3ae5de9e66e2",
       "rows": [
        [
         "0",
         "ML0201EN",
         "ai",
         "2"
        ],
        [
         "1",
         "ML0201EN",
         "apps",
         "2"
        ],
        [
         "2",
         "ML0201EN",
         "build",
         "2"
        ],
        [
         "3",
         "ML0201EN",
         "cloud",
         "1"
        ],
        [
         "4",
         "ML0201EN",
         "coming",
         "1"
        ],
        [
         "5",
         "ML0201EN",
         "create",
         "1"
        ],
        [
         "6",
         "ML0201EN",
         "data",
         "1"
        ],
        [
         "7",
         "ML0201EN",
         "developer",
         "1"
        ],
        [
         "8",
         "ML0201EN",
         "found",
         "1"
        ],
        [
         "9",
         "ML0201EN",
         "fun",
         "1"
        ],
        [
         "10",
         "ML0201EN",
         "iot",
         "4"
        ],
        [
         "11",
         "ML0201EN",
         "irobot",
         "1"
        ],
        [
         "12",
         "ML0201EN",
         "learn",
         "2"
        ],
        [
         "13",
         "ML0201EN",
         "node",
         "1"
        ],
        [
         "14",
         "ML0201EN",
         "objects",
         "1"
        ],
        [
         "15",
         "ML0201EN",
         "pi",
         "1"
        ],
        [
         "16",
         "ML0201EN",
         "pictures",
         "2"
        ],
        [
         "17",
         "ML0201EN",
         "place",
         "1"
        ],
        [
         "18",
         "ML0201EN",
         "program",
         "1"
        ],
        [
         "19",
         "ML0201EN",
         "raspberry",
         "1"
        ],
        [
         "20",
         "ML0201EN",
         "raspcam",
         "1"
        ],
        [
         "21",
         "ML0201EN",
         "read",
         "1"
        ],
        [
         "22",
         "ML0201EN",
         "recognize",
         "1"
        ],
        [
         "23",
         "ML0201EN",
         "red",
         "2"
        ],
        [
         "24",
         "ML0201EN",
         "robot",
         "1"
        ],
        [
         "25",
         "ML0201EN",
         "robots",
         "1"
        ],
        [
         "26",
         "ML0201EN",
         "services",
         "1"
        ],
        [
         "27",
         "ML0201EN",
         "swift",
         "2"
        ],
        [
         "28",
         "ML0201EN",
         "take",
         "1"
        ],
        [
         "29",
         "ML0201EN",
         "temperature",
         "1"
        ],
        [
         "30",
         "ML0201EN",
         "use",
         "1"
        ],
        [
         "31",
         "ML0201EN",
         "want",
         "1"
        ],
        [
         "32",
         "ML0201EN",
         "watson",
         "2"
        ],
        [
         "33",
         "ML0201EN",
         "way",
         "1"
        ],
        [
         "34",
         "ML0122EN",
         "ai",
         "2"
        ],
        [
         "35",
         "ML0122EN",
         "cloud",
         "2"
        ],
        [
         "36",
         "ML0122EN",
         "data",
         "1"
        ],
        [
         "37",
         "ML0122EN",
         "learn",
         "1"
        ],
        [
         "38",
         "ML0122EN",
         "use",
         "4"
        ],
        [
         "39",
         "ML0122EN",
         "accelerate",
         "1"
        ],
        [
         "40",
         "ML0122EN",
         "accelerated",
         "5"
        ],
        [
         "41",
         "ML0122EN",
         "accelerating",
         "1"
        ],
        [
         "42",
         "ML0122EN",
         "analyze",
         "1"
        ],
        [
         "43",
         "ML0122EN",
         "based",
         "1"
        ],
        [
         "44",
         "ML0122EN",
         "benefit",
         "1"
        ],
        [
         "45",
         "ML0122EN",
         "caffe",
         "1"
        ],
        [
         "46",
         "ML0122EN",
         "case",
         "1"
        ],
        [
         "47",
         "ML0122EN",
         "chips",
         "1"
        ],
        [
         "48",
         "ML0122EN",
         "classification",
         "1"
        ],
        [
         "49",
         "ML0122EN",
         "comfortable",
         "1"
        ]
       ],
       "shape": {
        "columns": 3,
        "rows": 10366
       }
      },
      "text/html": [
       "<div>\n",
       "<style scoped>\n",
       "    .dataframe tbody tr th:only-of-type {\n",
       "        vertical-align: middle;\n",
       "    }\n",
       "\n",
       "    .dataframe tbody tr th {\n",
       "        vertical-align: top;\n",
       "    }\n",
       "\n",
       "    .dataframe thead th {\n",
       "        text-align: right;\n",
       "    }\n",
       "</style>\n",
       "<table border=\"1\" class=\"dataframe\">\n",
       "  <thead>\n",
       "    <tr style=\"text-align: right;\">\n",
       "      <th></th>\n",
       "      <th>doc_id</th>\n",
       "      <th>token</th>\n",
       "      <th>bow</th>\n",
       "    </tr>\n",
       "  </thead>\n",
       "  <tbody>\n",
       "    <tr>\n",
       "      <th>0</th>\n",
       "      <td>ML0201EN</td>\n",
       "      <td>ai</td>\n",
       "      <td>2</td>\n",
       "    </tr>\n",
       "    <tr>\n",
       "      <th>1</th>\n",
       "      <td>ML0201EN</td>\n",
       "      <td>apps</td>\n",
       "      <td>2</td>\n",
       "    </tr>\n",
       "    <tr>\n",
       "      <th>2</th>\n",
       "      <td>ML0201EN</td>\n",
       "      <td>build</td>\n",
       "      <td>2</td>\n",
       "    </tr>\n",
       "    <tr>\n",
       "      <th>3</th>\n",
       "      <td>ML0201EN</td>\n",
       "      <td>cloud</td>\n",
       "      <td>1</td>\n",
       "    </tr>\n",
       "    <tr>\n",
       "      <th>4</th>\n",
       "      <td>ML0201EN</td>\n",
       "      <td>coming</td>\n",
       "      <td>1</td>\n",
       "    </tr>\n",
       "    <tr>\n",
       "      <th>...</th>\n",
       "      <td>...</td>\n",
       "      <td>...</td>\n",
       "      <td>...</td>\n",
       "    </tr>\n",
       "    <tr>\n",
       "      <th>10361</th>\n",
       "      <td>excourse93</td>\n",
       "      <td>modifying</td>\n",
       "      <td>1</td>\n",
       "    </tr>\n",
       "    <tr>\n",
       "      <th>10362</th>\n",
       "      <td>excourse93</td>\n",
       "      <td>objectives</td>\n",
       "      <td>1</td>\n",
       "    </tr>\n",
       "    <tr>\n",
       "      <th>10363</th>\n",
       "      <td>excourse93</td>\n",
       "      <td>pieces</td>\n",
       "      <td>1</td>\n",
       "    </tr>\n",
       "    <tr>\n",
       "      <th>10364</th>\n",
       "      <td>excourse93</td>\n",
       "      <td>plugins</td>\n",
       "      <td>1</td>\n",
       "    </tr>\n",
       "    <tr>\n",
       "      <th>10365</th>\n",
       "      <td>excourse93</td>\n",
       "      <td>populate</td>\n",
       "      <td>1</td>\n",
       "    </tr>\n",
       "  </tbody>\n",
       "</table>\n",
       "<p>10366 rows × 3 columns</p>\n",
       "</div>"
      ],
      "text/plain": [
       "           doc_id       token  bow\n",
       "0        ML0201EN          ai    2\n",
       "1        ML0201EN        apps    2\n",
       "2        ML0201EN       build    2\n",
       "3        ML0201EN       cloud    1\n",
       "4        ML0201EN      coming    1\n",
       "...           ...         ...  ...\n",
       "10361  excourse93   modifying    1\n",
       "10362  excourse93  objectives    1\n",
       "10363  excourse93      pieces    1\n",
       "10364  excourse93     plugins    1\n",
       "10365  excourse93    populate    1\n",
       "\n",
       "[10366 rows x 3 columns]"
      ]
     },
     "execution_count": 38,
     "metadata": {},
     "output_type": "execute_result"
    }
   ],
   "source": [
    "bows_df"
   ]
  },
  {
   "cell_type": "code",
   "execution_count": 41,
   "metadata": {},
   "outputs": [],
   "source": [
    "course_id=bows_df.doc_id\n",
    "course_id=set(course_id)"
   ]
  },
  {
   "cell_type": "code",
   "execution_count": 58,
   "metadata": {},
   "outputs": [
    {
     "data": {
      "application/vnd.microsoft.datawrangler.viewer.v0+json": {
       "columns": [
        {
         "name": "index",
         "rawType": "int64",
         "type": "integer"
        },
        {
         "name": "COURSE_ID",
         "rawType": "object",
         "type": "string"
        },
        {
         "name": "TITLE",
         "rawType": "object",
         "type": "string"
        },
        {
         "name": "DESCRIPTION",
         "rawType": "object",
         "type": "string"
        }
       ],
       "ref": "8bd95151-179d-4e72-94be-cfdce1ba1e50",
       "rows": [
        [
         "0",
         "ML0201EN",
         "robots are coming  build iot apps with watson  swift  and node red",
         "have fun with iot and learn along the way  if you re a swift developer and want to learn more about iot and watson ai services in the cloud  raspberry pi   and node red  you ve found the right place  you ll build iot apps to read temperature data  take pictures with a raspcam  use ai to recognize the objects in those pictures  and program an irobot create 2 robot  "
        ],
        [
         "1",
         "ML0122EN",
         "accelerating deep learning with gpu",
         "training complex deep learning models with large datasets takes along time  in this course  you will learn how to use accelerated gpu hardware to overcome the scalability problem in deep learning \nyou can use accelerated hardware such as google s tensor processing unit  tpu  or nvidia gpu to accelerate your convolutional neural network computations time on the cloud  these chips are specifically designed to support the training of neural networks  as well as the use of trained networks  inference   accelerated hardware has recently been proven to significantly reduce training time \nbut the problem is that your data might be sensitiveand you may not feel comfortable uploading it on a public cloud  preferring to analyze it on premise  in this case  you need to use an in house system with gpu support  one solution is to use ibm s power systems with nvidia gpu and power ai  the power ai platform supports popular machine learning libraries and dependencies including tensorflow  caffe  torch  and theano \nin this course  you ll understand what gpu based accelerated hardware is and how it can benefit your deep learning scaling needs  you ll also deploy deep learning networks on gpu accelerated hardware for several problems  including the classification of images and videos "
        ],
        [
         "2",
         "GPXX0ZG0EN",
         "consuming restful services using the reactive jax rs client",
         "learn how to use a reactive jax rs client to asynchronously invoke restful microservices over http "
        ],
        [
         "3",
         "RP0105EN",
         "analyzing big data in r using apache spark",
         "apache spark is a popular cluster computing framework used for performing large scale data analysis  sparkr provides a distributed data frame api that enables structured data processing with a syntax familiar to r users \n"
        ],
        [
         "4",
         "GPXX0Z2PEN",
         "containerizing  packaging  and running a spring boot application",
         "learn how to containerize  package  and run a spring boot application on an open liberty server without modification "
        ],
        [
         "5",
         "CNSC02EN",
         "cloud native security conference   data security",
         "introduction to data security on cloud"
        ],
        [
         "6",
         "DX0106EN",
         "data science bootcamp with r for university proffesors",
         "a multi day intensive  in person data science bootcamp offered by big data university"
        ],
        [
         "7",
         "GPXX0FTCEN",
         "learn how to use docker containers for iterative development",
         "learn how to use docker containers for iterative development "
        ],
        [
         "8",
         "RAVSCTEST1",
         "scorm test 1",
         "scron test course"
        ],
        [
         "9",
         "GPXX06RFEN",
         "create your first mongodb database",
         "in this guided project  you will get started with mongodb by creating your first database  working with collections  and doing basic document management  "
        ],
        [
         "10",
         "GPXX0SDXEN",
         "testing microservices with the arquillian managed container",
         "learn how to develop tests for your microservices with the arquillian managed container and run the tests on open liberty "
        ],
        [
         "11",
         "CC0271EN",
         "cloud pak for integration essentials",
         "in this short course  you will demonstrate the hands on experience with a comprehensive cloud integration solution using ibm cloud pak for integration that you received from attending the digital developer conference  aiops   integration  "
        ],
        [
         "12",
         "WA0103EN",
         "watson analytics for social media",
         "watson analytics for social media fundamentals teaches you the basics of watson analytics for social media on the cloud   in this course you will learn how to setup a project to analyze social data within watson analytics   you will learn how smart topic suggestions service enables you to refine and improve your project   you will learn about how about the base line reports with watson analytics for social media as well as how you can further use the dataset in watson analytics explore and assemble   "
        ],
        [
         "13",
         "DX0108EN",
         "data science bootcamp with python for university professors  advance ",
         "data science bootcamp with python for university professors  advance "
        ],
        [
         "14",
         "GPXX0PICEN",
         "create a cryptocurrency trading algorithm in python",
         "earning money while you sleep  that may sound too good to be true  but with the right cryptocurrency trading algorithm you can do just that  in this project  you will take a first dive into the world of algorithmic trading with python "
        ],
        [
         "15",
         "DAI101EN",
         "data   ai essentials",
         "data and ai essentials course"
        ],
        [
         "16",
         "GPXX0W7KEN",
         "securing java microservices with eclipse microprofile json web token  microprofile jwt ",
         "you will explore how to control user and role access to microservices with microprofile json web token  microprofile jwt  "
        ],
        [
         "17",
         "GPXX0QR3EN",
         "enabling distributed tracing in microservices with zipkin",
         "explore how to enable and customize tracing of jax rs and non jax rs methods by using microprofile opentracing and the zipkin tracing system "
        ],
        [
         "18",
         "BD0145EN",
         "sql access for hadoop",
         "big sql is another tool to work with your hadoop data  big sql provides a common and familiar syntax for those that are already using sql with their relational data to work with their big data  there is no learning curve here  big sql is about applying sql to your existing data ‚äì there are no proprietary storage formats \n\nthis course will help you understand the big sql architecture and show the different methods for working with big sql  the course will list and explain the big sql data types and show how to create big sql schemas and table  the course will also cover the different file formats supported by big sql such as parquet and orc \nin the lab exercises  you will get a chance to learn how to connect to the big sql server and load in some sample data  then you will see how easy it is to use big sql to work with the data "
        ],
        [
         "19",
         "HCC105EN",
         "hybrid cloud conference  ai pipelines lab",
         "hybrid cloud conference  ai pipelines lab"
        ],
        [
         "20",
         "DE0205EN",
         "dataops methodology",
         "data ops course"
        ],
        [
         "21",
         "DS0132EN",
         "data   ai  jumpstart your journey",
         "introduce you to data and ai"
        ],
        [
         "22",
         "OS0101EN",
         "introduction to open source",
         "this course introduces you to open source software  you ll learn the key concepts  tools  and processes to contribute to any open source project "
        ],
        [
         "23",
         "DS0201EN",
         "end to end data science on cloudpak for data",
         "end to end data science on cloudpak for data"
        ],
        [
         "24",
         "BENTEST4",
         "ai for everyone  master the basics",
         "learn what artificial intelligence  ai  is by understanding its applications and key concepts including machine learning  deep learning and neural networks "
        ],
        [
         "25",
         "CC0210EN",
         "serverless computing using cloud functions   developer i",
         "this course is designed to teach you serverless computing essentials which include how to develop serverless applications composed of loosely coupled  microservice like functions  "
        ],
        [
         "26",
         "PA0103EN",
         "predicting customer satisfaction",
         "predict customer satisfactions with machine learning moddels"
        ],
        [
         "27",
         "HCC104EN",
         "hybrid cloud conference serverless lab",
         "hybrid cloud conference serverless lab"
        ],
        [
         "28",
         "GPXX0A1YEN",
         "validating constraints for javabeans in java microservices",
         "explore the use of bean validation to validate user input data for microservices "
        ],
        [
         "29",
         "TMP0105EN",
         "getting started with the data  apache spark makers build",
         "apache spark is an open source processing engine built around speed  ease of use  and analytics  if you have large amounts of data that requires low latency processing that a typical map reduce program cannot provide  spark is the alternative  spark performs at speeds up to 100 times faster than map reduce for iterative algorithms or interactive data mining  spark provides in memory cluster computing for lightning fast speed and supports java  scala  and python apis for ease of development \n\nspark combines sql  streaming and complex analytics together seamlessly in the same application to handle a wide range of data processing scenarios  spark runs on top of hadoop  mesos  standalone  or in the cloud  it can access diverse data sources such as hdfs  cassandra  hbase  or s3 "
        ],
        [
         "30",
         "PA0107EN",
         "predicting financial performance of a company",
         "predict financial performance of a company using machine learning models"
        ],
        [
         "31",
         "DB0113EN",
         "db2 fundamentals i",
         "db2 database course"
        ],
        [
         "32",
         "PA0109EN",
         "using clustering methods for investment portfolio analysis",
         "using clustering methods for investment portfolio analysis"
        ],
        [
         "33",
         "PHPM002EN",
         "php web application on a lamp stack",
         "this tutorial walks you through the creation of an ubuntu linux virtual server with apache web server  mysql database and php scripting  "
        ],
        [
         "34",
         "GPXX03HFEN",
         "fundamentals of javascript through rock paper scissors",
         "in this hands on project you will be recreating the game of rock  paper  scissors using the versatile and popular programming language  javascript "
        ],
        [
         "35",
         "RP0103",
         "using r with databases",
         "the intent of this course is to teach you how to unlock the power and magic of r to analyze data in relational databases  it will show you how to connect to relational databases  access and query the database  update and modify the data  analyze it and perform simple visualizations "
        ],
        [
         "36",
         "RP0103EN",
         "using r with databases",
         "using r with databases teaches you how to access and perform data analysis using r when your data is stored in a relational database mangement system  rdbms   in the course we will focus on using rodbc as our interface and we will use db2 express c and blu acceleration for cloud as our database server environment "
        ],
        [
         "37",
         "BD0212EN",
         "spark fundamentals ii",
         "building on your foundational knowledge of spark  take this opportunity to move your skills to the next level  with a focus on spark resilient distributed data set operations this course exposes you to concepts that are critical to your success in this field "
        ],
        [
         "38",
         "GPXX0IBEN",
         "data science in insurance  basic statistical analysis ",
         "in this guided project you will learn how to calculate basic descriptive statistics using apache spark "
        ],
        [
         "39",
         "SECM03EN",
         "apply end to end security to a cloud application",
         "this mini course walks you through key security services available in the ibm cloud‚ñ¢ catalog and how to use them together  an application that provides file sharing will put security concepts into practice "
        ],
        [
         "40",
         "SC0103EN",
         "spark overview for scala analytics",
         "the ‚  spark overview for scala analytics‚äù course will cover the history of spark and how it came to be  how to build applications with spark  establish an understanding of rdds and dataframes  and other advanced spark topics  apache spark‚ñ¢ is a fast and general engine for large scale data processing  with built in modules for streaming  sql  machine learning and graph processing  having finished this class  a student would be prepared to leverage the core rdd and dataframe apis to perform analytics on datasets \nthis course is meant to be an overview of spark and its associated ecosystem   for deeper understanding of spark  we recommend that students take the spark fundamentals courses i and ii "
        ],
        [
         "41",
         "GPXX0YXHEN",
         "testing a microprofile or jakarta ee application using microshed testing with an open liberty docker container",
         "learn how to use microshed testing to test a microprofile or jakarta ee application "
        ],
        [
         "42",
         "RP0151EN",
         "r 101",
         "in this introduction to r  you will master the basics of this beautiful open source language  including factors  lists and data frames  with the knowledge gained in this course  you will be ready to undertake your first very own data analysis  with over 2 million users worldwide r is rapidly becoming the leading programming language in statistics and data science  every year  the number of r users grows by 40  and an increasing number of organizations are using it in their day to day activities  leverage the power of r by completing this free r online course today "
        ],
        [
         "43",
         "TA0105",
         "text analytics 101",
         "analyze text data using analytics and machine learning models"
        ],
        [
         "44",
         "SW0201EN",
         "how to build watson ai and swift apis and make money",
         "expose your cool swift microservices to the world and build a platform to monetize those apis  by using server side swift and your mobile apps  you ll also learn to be a better full stack developer  "
        ],
        [
         "45",
         "TMP0106",
         "data science bootcamp",
         "a multi day intensive  in person data science bootcamp offered by big data university"
        ],
        [
         "46",
         "GPXX0BUBEN",
         "insurance risk assessment with montecarlo method using apache spark ",
         "learn about the monte carlo method and calculate the ruin probability of an insurance company using apache spark "
        ],
        [
         "47",
         "ST0201EN",
         "statistics 201",
         "statistics courses teaching basic statistical anlysis methods"
        ],
        [
         "48",
         "ST0301EN",
         "statistics 301",
         "statistics courses teaching advanced statistical anlysis methods"
        ],
        [
         "49",
         "SW0101EN",
         "build swift mobile apps with watson ai services",
         "build three ai ios apps in the cloud by using watson services so that you can analyze the emotion and sentiment in text  recognize what s in a photo  and convert text to speech "
        ]
       ],
       "shape": {
        "columns": 3,
        "rows": 307
       }
      },
      "text/html": [
       "<div>\n",
       "<style scoped>\n",
       "    .dataframe tbody tr th:only-of-type {\n",
       "        vertical-align: middle;\n",
       "    }\n",
       "\n",
       "    .dataframe tbody tr th {\n",
       "        vertical-align: top;\n",
       "    }\n",
       "\n",
       "    .dataframe thead th {\n",
       "        text-align: right;\n",
       "    }\n",
       "</style>\n",
       "<table border=\"1\" class=\"dataframe\">\n",
       "  <thead>\n",
       "    <tr style=\"text-align: right;\">\n",
       "      <th></th>\n",
       "      <th>COURSE_ID</th>\n",
       "      <th>TITLE</th>\n",
       "      <th>DESCRIPTION</th>\n",
       "    </tr>\n",
       "  </thead>\n",
       "  <tbody>\n",
       "    <tr>\n",
       "      <th>0</th>\n",
       "      <td>ML0201EN</td>\n",
       "      <td>robots are coming  build iot apps with watson ...</td>\n",
       "      <td>have fun with iot and learn along the way  if ...</td>\n",
       "    </tr>\n",
       "    <tr>\n",
       "      <th>1</th>\n",
       "      <td>ML0122EN</td>\n",
       "      <td>accelerating deep learning with gpu</td>\n",
       "      <td>training complex deep learning models with lar...</td>\n",
       "    </tr>\n",
       "    <tr>\n",
       "      <th>2</th>\n",
       "      <td>GPXX0ZG0EN</td>\n",
       "      <td>consuming restful services using the reactive ...</td>\n",
       "      <td>learn how to use a reactive jax rs client to a...</td>\n",
       "    </tr>\n",
       "    <tr>\n",
       "      <th>3</th>\n",
       "      <td>RP0105EN</td>\n",
       "      <td>analyzing big data in r using apache spark</td>\n",
       "      <td>apache spark is a popular cluster computing fr...</td>\n",
       "    </tr>\n",
       "    <tr>\n",
       "      <th>4</th>\n",
       "      <td>GPXX0Z2PEN</td>\n",
       "      <td>containerizing  packaging  and running a sprin...</td>\n",
       "      <td>learn how to containerize  package  and run a ...</td>\n",
       "    </tr>\n",
       "    <tr>\n",
       "      <th>...</th>\n",
       "      <td>...</td>\n",
       "      <td>...</td>\n",
       "      <td>...</td>\n",
       "    </tr>\n",
       "    <tr>\n",
       "      <th>302</th>\n",
       "      <td>excourse89</td>\n",
       "      <td>javascript  jquery  and json</td>\n",
       "      <td>in this course  we ll look at the javascript l...</td>\n",
       "    </tr>\n",
       "    <tr>\n",
       "      <th>303</th>\n",
       "      <td>excourse90</td>\n",
       "      <td>programming foundations with javascript  html ...</td>\n",
       "      <td>learn foundational programming concepts  e g  ...</td>\n",
       "    </tr>\n",
       "    <tr>\n",
       "      <th>304</th>\n",
       "      <td>excourse91</td>\n",
       "      <td>front end web development with react</td>\n",
       "      <td>this course explores javascript based front en...</td>\n",
       "    </tr>\n",
       "    <tr>\n",
       "      <th>305</th>\n",
       "      <td>excourse92</td>\n",
       "      <td>introduction to web development</td>\n",
       "      <td>this course is designed to start you on a path...</td>\n",
       "    </tr>\n",
       "    <tr>\n",
       "      <th>306</th>\n",
       "      <td>excourse93</td>\n",
       "      <td>interactivity with javascript and jquery</td>\n",
       "      <td>this course is the third in our javascript for...</td>\n",
       "    </tr>\n",
       "  </tbody>\n",
       "</table>\n",
       "<p>307 rows × 3 columns</p>\n",
       "</div>"
      ],
      "text/plain": [
       "      COURSE_ID                                              TITLE  \\\n",
       "0      ML0201EN  robots are coming  build iot apps with watson ...   \n",
       "1      ML0122EN                accelerating deep learning with gpu   \n",
       "2    GPXX0ZG0EN  consuming restful services using the reactive ...   \n",
       "3      RP0105EN         analyzing big data in r using apache spark   \n",
       "4    GPXX0Z2PEN  containerizing  packaging  and running a sprin...   \n",
       "..          ...                                                ...   \n",
       "302  excourse89                       javascript  jquery  and json   \n",
       "303  excourse90  programming foundations with javascript  html ...   \n",
       "304  excourse91               front end web development with react   \n",
       "305  excourse92                    introduction to web development   \n",
       "306  excourse93           interactivity with javascript and jquery   \n",
       "\n",
       "                                           DESCRIPTION  \n",
       "0    have fun with iot and learn along the way  if ...  \n",
       "1    training complex deep learning models with lar...  \n",
       "2    learn how to use a reactive jax rs client to a...  \n",
       "3    apache spark is a popular cluster computing fr...  \n",
       "4    learn how to containerize  package  and run a ...  \n",
       "..                                                 ...  \n",
       "302  in this course  we ll look at the javascript l...  \n",
       "303  learn foundational programming concepts  e g  ...  \n",
       "304  this course explores javascript based front en...  \n",
       "305  this course is designed to start you on a path...  \n",
       "306  this course is the third in our javascript for...  \n",
       "\n",
       "[307 rows x 3 columns]"
      ]
     },
     "execution_count": 58,
     "metadata": {},
     "output_type": "execute_result"
    }
   ],
   "source": [
    "course_df"
   ]
  },
  {
   "cell_type": "code",
   "execution_count": 59,
   "metadata": {},
   "outputs": [
    {
     "data": {
      "text/plain": [
       "'machine learning can be an incredibly beneficial tool to uncover hidden insights and predict future trends  this free machine learning with python course will give you all the tools you need to get started with supervised and unsupervised learning '"
      ]
     },
     "execution_count": 59,
     "metadata": {},
     "output_type": "execute_result"
    }
   ],
   "source": [
    "course_df[course_df['COURSE_ID'] == \"ML0101ENv3\"]['DESCRIPTION'].iloc[0]"
   ]
  },
  {
   "cell_type": "code",
   "execution_count": 61,
   "metadata": {},
   "outputs": [
    {
     "data": {
      "text/plain": [
       "[[0.0,\n",
       "  'building fault tolerant microservices with the  fallback annotation',\n",
       "  'explore how to manage the impact of failures by using microprofile and istio fault tolerance to add retry and fallback behaviours to microservices '],\n",
       " [0.01957400731715675,\n",
       "  'text analytics at scale',\n",
       "  'a continuation of text analytics getting results with systemt  this course shows how early information extraction systems based on a standard formalism of cascading grammars suffer from fundamental limitations in both expressivity and runtime performance  the class explains in detail how these limitations are addressed via the declarative principles in the systemt information extraction system  resulting in extractors that are scalable  accurate and easy to maintain and enhance for a new domain '],\n",
       " [0.23287732645686554,\n",
       "  'deep learning applications for computer vision',\n",
       "  'this course can be taken for academic credit as part of cu boulder s master of science in data science  ms ds  degree offered on the coursera platform  the ms ds is an interdisciplinary degree that brings together faculty from cu boulder s departments of applied mathematics  computer science  information science  and others  with performance based admissions and no application process  the ms ds is ideal for individuals with a broad range of undergraduate education and or professional experience in computer science  information science  mathematics  and statistics \\n\\nin this course  you ll be learning about computer vision as a field of study and research  first we ll be exploring several computer vision tasks and suggested approaches  from the classic computer vision perspective  then we ll introduce deep learning methods and apply them to some of the same problems  we will analyze the results and discuss advantages and drawbacks of both types of methods  we ll use tutorials to let you explore hands on some of the modern machine learning tools and software libraries  examples of computer vision tasks where deep learning can be applied include  image classification  image classification with localization  object detection  object segmentation  facial recognition  and activity or pose estimation'],\n",
       " [0.06741998624632417,\n",
       "  'data journalism  first steps  skills and tools',\n",
       "  'this free data journalism course presents a holistic approach to data journalism  and answers fundamental questions about data journalism '],\n",
       " [0.0,\n",
       "  'building a simple restful java microservice using jax rs and json b',\n",
       "  'learn how to create a rest service with jax rs  json b  and open liberty '],\n",
       " [0.08466675133346035,\n",
       "  'data science fundamentals for data analysts',\n",
       "  'in this course we re going to guide you through the fundamental building blocks of data science  one of the fastest growing fields in the world  \\n\\nwith the help of our industry leading data scientists  we ve designed this course to build ready to apply data science skills in just 15 hours of learning  first  we ll give you a quick introduction to data science   what it is and how it is used to solve real world problems  for the rest of the course  we ll teach you the skills you need to apply foundational data science concepts and techniques to solve these real world problems  \\n\\nby the end of this course  you ll be able to leverage your existing data analysis skills to design  execute  assess  and communicate the results of your very own data science projects    \\ndata science capstone    the capstone project class will allow students to create a usable public data product that can be used to show your skills to potential employers  projects will be drawn from real world problems and will be conducted with industry  government  and academic partners '],\n",
       " [0.0,\n",
       "  'data science bootcamp with r for university proffesors',\n",
       "  'a multi day intensive  in person data science bootcamp offered by big data university'],\n",
       " [0.10087879693899393,\n",
       "  'relational database systems',\n",
       "  'welcome to the specialization course relational database systems  this course will be completed on six weeks  it will be supported with videos and various documents that will allow you to learn in a very simple way how several types of information systems and databases are available to solve different problems and needs of the companies  objective  a learner will be able to design  test  and implement analytical  transactional or nosql database systems according to business requirements by programming reliable  scalable and maintainable applications and resources using sql and hadoop ecosystem  programming languages  for course 1 you will use the mysql language  software to download  mysql workbench in case you have a mac   ios operating system you will need to use a virtual machine  virtualbox  vmware  '],\n",
       " [0.3229875967499696,\n",
       "  'accelerating deep learning with gpus',\n",
       "  'training complex deep learning models with large datasets takes along time  in this course  you will learn how to use accelerated gpu hardware to overcome the scalability problem in deep learning '],\n",
       " [0.0, 'watson analytics 101', 'welcome to watson analytics 101 '],\n",
       " [0.23939494881986934,\n",
       "  'data science in health care  advanced machine learning classification',\n",
       "  'learn to apply an advanced analysis of big data to the spread of covid 19 in the world  '],\n",
       " [0.6347547807096177,\n",
       "  'machine learning for all',\n",
       "  'machine learning  often called artificial intelligence or ai  is one of the most exciting areas of technology at the moment  we see daily news stories that herald new breakthroughs in facial recognition technology  self driving cars or computers that can have a conversation just like a real person  machine learning technology is set to revolutionise almost any area of human life and work  and so will affect all our lives  and so you are likely to want to find out more about it  machine learning has a reputation for being one of the most complex areas of computer science  requiring advanced mathematics and engineering skills to understand it  while it is true that working as a machine learning engineer does involve a lot of mathematics and programming  we believe that anyone can understand the basic concepts of machine learning  and given the importance of this technology  everyone should  the big ai breakthroughs sound like science fiction  but they come down to a simple idea  the use of data to train statistical algorithms  in this course you will learn to understand the basic idea of machine learning  even if you don t have any background in math or programming  not only that  you will get hands on and use user friendly tools developed at goldsmiths  university of london to actually do a machine learning project  training a computer to recognise images  this course is for a lot of different people  it could be a good first step into a technical career in machine learning  after all it is always better to start with the high level concepts before the technical details  but it is also great if your role is non technical  you might be a manager or other non technical role in a company that is considering using machine learning  you really need to understand this technology  and this course is a great place to get that understanding  or you might just be following the news reports about ai and interested in finding out more about the hottest new technology of the moment  whoever you are  we are looking forward to guiding you through you first machine learning project \\n\\nnb this course is designed to introduce you to machine learning without needing any programming  that means that we don t cover the programming based machine learning tools like python and tensorflow    \\nintroduction to machine learning    this course will provide you a foundational understanding of machine learning models  logistic regression  multilayer perceptrons  convolutional neural networks  natural language processing  etc   as well as demonstrate how these models can solve complex problems in a variety of industries  from medical diagnostics to image recognition to text prediction  in addition  we have designed practice exercises that will give you hands on experience implementing these data science models on data sets  these practice exercises will teach you how to implement machine learning algorithms with pytorch  open source libraries used by leading tech companies in the machine learning field  e g   google  nvidia  cocacola  ebay  snapchat  uber and many more '],\n",
       " [0.0,\n",
       "  'hybrid cloud conference serverless lab',\n",
       "  'hybrid cloud conference serverless lab'],\n",
       " [0.06117752903214979,\n",
       "  'fundamentals of cloud computing',\n",
       "  'this course is the second of a series that aims to prepare you for a role working in data analytics  in this course  you will be introduced to many of the core concepts of cloud computing  you will learn about the primary deployment models  we  ll go through the common cloud computing service models  the hands on material offers the opportunity to review and configure a cloud account  this course covers a wide variety of topics that are critical for understanding cloud computing and are designed to give you an introduction and overview as you begin to build relevant knowledge and skills \\n'],\n",
       " [0.08964214570007956,\n",
       "  'getting started with data visualization in r',\n",
       "  'data visualization is a critical skill for anyone that routinely using quantitative data in his or her work   which is to say that data visualization is a tool that almost every worker needs today  one of the critical tools for data visualization today is the r statistical programming language  especially in conjunction with the tidyverse software packages  r has become an extremely powerful and flexible platform for making figures  tables  and reproducible reports  however  r can be intimidating for first time users  and there are so many resources online that it can be difficult to sort through without guidance \\n\\nto fill that need  this course is intended for learners who have little or no experience with r but who are looking for an introduction to this tool  by the end of this course  students will be able to import data into r  manipulate that data using tools from the popular tidyverse package  and make simple reports using r markdown  the course is designed for students with good basic computing skills  but limited if any experience with programming'],\n",
       " [0.0,\n",
       "  'project  deploy a serverless app for image processing',\n",
       "  'in this project you will learn about serverless computing  will practice deploying a real application to a serverless environment based on ibm cloud code engine powered by kubernetes and knative open source projects  '],\n",
       " [0.15891043154093198,\n",
       "  'deep learning with tensorflow',\n",
       "  'majority of data in the world are unlabeled and unstructured data  for instance images  sound  and text data  shallow neural networks cannot easily capture relevant structure in these kind of data  but deep networks are capable of discovering hidden structures within¬†these data  in this course  you will use tensorflow library to apply deep learning on different data types to solve real world problems '],\n",
       " [0.2910427500435996,\n",
       "  'using r for regression and machine learning in investment ',\n",
       "  'in this course  the instructor will discuss various uses of regression in investment problems  and she will extend the discussion to logistic  lasso  and ridge regressions  at the same time  the instructor will introduce various concepts of machine learning  you can consider this course as the first step toward using machine learning methodologies in solving investment problems  the course will cover investment analysis topics  but at the same time  make you practice it using r programming  this course s focus is to train you to use various regression methodologies for investment management that you might need to do in your job every day and make you ready for more advanced topics in machine learning  \\n\\nthe course is designed with the assumption that most students already have a little bit of knowledge in financial economics and r programming  students are expected to have heard about stocks and bonds and balance sheets  earnings  etc   and know the introductory statistics level  such as mean  median  distribution  regression  etc  students are also expected to know of the instructors  1st course   fundamental of data driven investment  \\n\\nthe instructor will explain the detail of r programming  it will be an excellent course for you to improve your programming skills but you must have basic knowledge in r  if you are very good at r programming  it will provide you with an excellent opportunity to practice again with finance and investment examples'],\n",
       " [0.029200191991893498,\n",
       "  'fundamentals of digital image and video processing',\n",
       "  'in this class you will learn the basic principles and tools used to process images and videos  and how to apply them in solving practical problems of commercial and scientific interests \\n\\ndigital images and videos are everywhere these days – in thousands of scientific  e g   astronomical  bio medical   consumer  industrial  and artistic applications  moreover they come in a wide range of the electromagnetic spectrum   from visible light and infrared to gamma rays and beyond  the ability to process image and video signals is therefore an incredibly important skill to master for engineering science students  software developers  and practicing scientists    digital image and video processing continues to enable the multimedia technology revolution we are experiencing today  some important examples of image and video processing include the removal of degradations images suffer during acquisition  e g   removing blur from a picture of a fast moving car   and the compression and transmission of images and videos  if you watch videos online  or share photos via a social media website  you use this everyday    for economical storage and efficient transmission  \\n\\nthis course will cover the fundamentals of image and video processing   we will provide a mathematical framework to describe and analyze images and videos as two  and three dimensional signals in the spatial  spatio temporal  and frequency domains  in this class not only will you learn the theory behind fundamental processing tasks including image video enhancement  recovery  and compression   but you will also learn how to perform these key processing tasks in practice using state of the art techniques and tools  we will introduce and use a wide variety of such tools – from optimization toolboxes to statistical techniques  emphasis on the special role sparsity plays in modern image and video processing will also be given   in all cases  example images and videos pertaining to specific application domains will be utilized'],\n",
       " [0.0,\n",
       "  'docker essentials  a developer introduction',\n",
       "  'learn how to use containers for your applications  create and run your first docker container  then  learn how to run containers in production and solve problems of orchestration such as high availability  service discovery  and reconciliation '],\n",
       " [0.0, 'data   ai  jumpstart your journey', 'introduce you to data and ai'],\n",
       " [0.45939997439275637,\n",
       "  'introduction to machine learning in production',\n",
       "  'in the first course of machine learning engineering for production specialization  you will identify the various components and design an ml production system end to end  project scoping  data needs  modeling strategies  and deployment constraints and requirements  and learn how to establish a model baseline  address concept drift  and prototype the process for developing  deploying  and continuously improving a productionized ml application \\n\\nunderstanding machine learning and deep learning concepts is essential  but if you re looking to build an effective ai career  you need production engineering capabilities as well  machine learning engineering for production combines the foundational concepts of machine learning with the functional expertise of modern software development and engineering roles to help you develop production ready skills  '],\n",
       " [0.038173222287591235,\n",
       "  'reactive architecture  introduction to reactive systems',\n",
       "  'this course teaches the core principles behind reactive architecture  it introduces students to why we need reactive systems  and what problems they are trying to solve  it also contrasts reactive architectures with reactive programming  showing how they relate  and how they are different '],\n",
       " [0.05536365323582659,\n",
       "  'introduction to open source',\n",
       "  'this course introduces you to open source software  you ll learn the key concepts  tools  and processes to contribute to any open source project '],\n",
       " [0.07936757901325453,\n",
       "  'statistics 101',\n",
       "  'take this course and you won t fail statistics  welcome to the statistics 101 course  taught by murtaza haider  assistant professor at ryerson university  statistics is one of the most challenging topics to learn  but murtaza brings a gentle introduction to statistics in practice  learn about descriptive statistics  variance  probability  correlation  and data visualization  this course ends with a fully guided statistics exercise exploring the ‚  hot‚äù topic of  do good looking professors get better teaching evaluations  a free trial of spss statistics is included in this course     '],\n",
       " [0.42163702135578396,\n",
       "  'machine learning with python',\n",
       "  'are the phrases ‚  it is certain    ‚  yes you may rely on it    ‚  reply hazy try again   common in your predictions  make room on your shelf for your magic eight ball and take this opportunity to see how machine learning can be a beneficial tool for predicting future trends  all with a bit more than oil and blue die  all signs point to yes as an indicator you will benefit from this experience '],\n",
       " [0.026882594618183764,\n",
       "  'views in postgresql',\n",
       "  'in this project  you will learn how to create and execute views and materialized views in the postgresql database service using the pgadmin graphical user interface  gui  tool  materialized views behave differently compared to regular views  in materialized views  result set is materialized or saved for future use  you can t insert  update  or delete rows like in regular views  materialized views can improve performance '],\n",
       " [0.07205628352785287,\n",
       "  'docker  basics',\n",
       "  'the docker basics course will introduce you at a fundamental level to one of the technologies in currently highest demand \\n\\nthe course takes 5 weeks  the course program includes lectures and videos   you can choose between text and video — whatever fits you best  at the end of each week  you take a test and a practical drill  the fifth training week is devoted to the implementation of the final project \\nin this course  you will learn how to work with docker images and volumes  configure the docker daemon and environment variables  forward ports inside a container  and much more  having completed this course  you will be able to work with docker at a basic level and apply it to your projects '],\n",
       " [0.07586432418108813,\n",
       "  'data analysis using python',\n",
       "  'this course provides an introduction to basic data science techniques using python   students are introduced to core concepts like data frames and joining data  and learn how to use data analysis libraries like pandas  numpy  and matplotlib   this course provides an overview of loading  inspecting  and querying real world data  and how to answer basic questions about that data   students will gain skills in data aggregation and summarization  as well as basic data visualization \\n'],\n",
       " [0.0,\n",
       "  'executive data science capstone',\n",
       "  'the executive data science capstone  the specialization s culminating project  is an opportunity for people who have completed all four eds courses to apply what they ve learned to a real world scenario developed in collaboration with zillow  a data driven online real estate and rental marketplace  and datacamp  a web based platform for data science programming  your task will be to lead a virtual data science team and make key decisions along the way to demonstrate that you have what it takes to shepherd a complex analysis project from start to finish   for the final project  you will prepare and submit a presentation  which will be evaluated and graded by your fellow capstone participants'],\n",
       " [0.0,\n",
       "  'working with databases in ibm cloudant',\n",
       "  'in this guided project  you will explore database operations in ibm cloud by working with real estate data '],\n",
       " [0.0,\n",
       "  'enabling distributed tracing in microservices with zipkin',\n",
       "  'explore how to enable and customize tracing of jax rs and non jax rs methods by using microprofile opentracing and the zipkin tracing system '],\n",
       " [0.02594996480538414,\n",
       "  'kubernetes operators advanced',\n",
       "  'this course covers advanced operator topics including reconciliation  use of operator lifecycle manager to deploy and upgrade operators  and use of scorecard to test operators '],\n",
       " [0.048507125007266616,\n",
       "  'scala 101',\n",
       "  'the typesafe scala 101 for data science curricula is designed to give experienced data developers and data science the know¬≠how to confidently start programming in scala for data science tasks  the course ensures they will have a solid understanding of the fundamentals of the language  the tooling and the development process as well as a good appreciation of the more advanced features  if students already have scala programming experience  then this course could be a useful refresher  yet no previous knowledge of scala is assumed '],\n",
       " [0.15891043154093198,\n",
       "  'deep learning with tensorflow',\n",
       "  'majority of data in the world are unlabeled and unstructured data  for instance images  sound  and text data  shallow neural networks cannot easily capture relevant structure in these kind of data  but deep networks are capable of discovering hidden structures within¬†these data  in this course  you will use tensorflow library to apply deep learning on different data types to solve real world problems '],\n",
       " [0.0,\n",
       "  'containerizing and running java microservices in docker containers',\n",
       "  'learn how to containerize and run your microservices with open liberty using docker '],\n",
       " [0.0,\n",
       "  'build swift mobile apps with watson ai services',\n",
       "  'build three ai ios apps in the cloud by using watson services so that you can analyze the emotion and sentiment in text  recognize what s in a photo  and convert text to speech '],\n",
       " [0.042988761329106895,\n",
       "  'big data modeling and management systems',\n",
       "  'once you ve identified a big data issue to analyze  how do you collect  store and organize your data using big data solutions   in this course  you will experience various data genres and management tools appropriate for each   you will be able to describe the reasons behind the evolving plethora of new big data platforms from the perspective of big data management systems and analytical tools   through guided hands on tutorials  you will become familiar with techniques using real time and semi structured data examples   systems and tools discussed include  asterixdb  hp vertica  impala  neo4j  redis  sparksql  this course provides techniques to extract value from existing untapped data sources and discovering new data sources \\n\\nat the end of this course  you will be able to \\n   recognize different data elements in your own work and in everyday life problems\\n   explain why your team needs to design a big data infrastructure plan and information system design\\n   identify the frequent data operations required for various types of data\\n   select a data model to suit the characteristics of your data \\n   apply techniques to handle streaming data\\n   differentiate between a traditional database management system and a big data management system\\n   appreciate why there are so many data management systems\\n   design a big data information system for an online game company\\n\\nthis course is for those new to data science   completion of intro to big data is recommended   no prior programming experience is needed  although the ability to install applications and utilize a virtual machine is necessary to complete the hands on assignments   refer to the specialization technical requirements for complete hardware and software specifications    \\nbig data integration and processing    at the end of the course  you will be able to \\n\\n retrieve data from example database and big data management systems \\n describe the connections between data management operations and the big data processing patterns needed to utilize them in large scale analytical applications\\n identify when a big data problem needs data integration\\n execute simple big data integration and processing on hadoop and spark platforms'],\n",
       " [0.0,\n",
       "  'performing table and crud operations with cassandra',\n",
       "  'in this guided project  you will create a table and perform create  read  update  delete  crud  operations in cassandra using the cql shell  cqlsh  command line interface '],\n",
       " [0.0,\n",
       "  'data science in health care  basic statistical analysis ',\n",
       "  'in this guided project you will learn how to download  pre preparate and make statistical analysis of elisa tests and collected information about igg and igm  vaccination influenza  vaccination tuberculosis and previous diseases and blood groups '],\n",
       " [0.02357022603955161,\n",
       "  'getting started with mysql command line',\n",
       "  'in this project  you will use the mysql command line interface  cli  to create a database and to restore the structure and contents of tables  then you will learn how to explore and query tables  finally  you will learn how to dump backup tables from database '],\n",
       " [0.15159800894236586,\n",
       "  'using databases with python',\n",
       "  'this course will introduce students to the basics of the structured query language  sql  as well as basic database design for storing data as part of a multi step data gathering  analysis  and processing effort   the course will use sqlite3 as its database   we will also build web crawlers and multi step data gathering and visualization processes   we will use the d3 js library to do basic data visualization   this course will cover chapters 14 15 of the book   python for everybody    to succeed in this course  you should be familiar with the material covered in chapters 1 13 of the textbook and the first three courses in this specialization  this course covers python 3 \\n'],\n",
       " [0.029235267310234292,\n",
       "  'data science in health care  advanced prognostication using neural networks',\n",
       "  'learn to predict the covid 19 spread dynamics in the world using neural networks of different structures  '],\n",
       " [0.3555555555555556,\n",
       "  'introduction to machine learning with sound',\n",
       "  'get hands on experience creating and training machine learning models so that you can predict what animal is making a specific sound  like a cat purring or a dog barking  integrate those models in a simple web page that you build in node red  then  add visual recognition so that you can identify the image of an animal   '],\n",
       " [0.012830005981991688,\n",
       "  'watson analytics for social media',\n",
       "  'watson analytics for social media fundamentals teaches you the basics of watson analytics for social media on the cloud   in this course you will learn how to setup a project to analyze social data within watson analytics   you will learn how smart topic suggestions service enables you to refine and improve your project   you will learn about how about the base line reports with watson analytics for social media as well as how you can further use the dataset in watson analytics explore and assemble   '],\n",
       " [0.2095290887308735,\n",
       "  'python for data science',\n",
       "  'this beginner friendly python course will take you from zero to programming in python in a matter of hours  you ll be able to write your own python scripts and perform basic hands on data analysis using our jupyter based lab environment '],\n",
       " [0.05536365323582659,\n",
       "  'modernizing java ee applications',\n",
       "  'learn about the techniques and tools available to take existing applications and update them to run on cloud native computing platforms  complete this course to level up in your understanding of modernization and migration options and earn an ibm badge '],\n",
       " [0.0,\n",
       "  'statistics 201',\n",
       "  'statistics courses teaching basic statistical anlysis methods'],\n",
       " [0.0,\n",
       "  'insurance risk assessment with montecarlo method using apache spark ',\n",
       "  'learn about the monte carlo method and calculate the ruin probability of an insurance company using apache spark '],\n",
       " [0.038924947208076155,\n",
       "  'nosql systems',\n",
       "  'welcome to the specialization course of nosql systems  \\n\\nthis course will be completed on six weeks  it will be supported with videos and exercises that will allow you to identify the differences between the relational and nosql databases  \\nas part of these alternative technologies the student will learn the main characteristics and how to implement the typical nosql databases  such as key value  columnar  document and graph  \\nlet s start \\n\\nafter completing this course  a learner will be able to\\nidentify what type of nosql database to implement based on business requirements  key value  document  full text  graph  etc  \\napply nosql data modeling from application specific queries\\nuse atomic aggregates and denormalization as data modelling techniques to optimize query processing\\n\\nsoftware to download \\nmongodb\\nneo4j\\nsapiq\\ncassandra'],\n",
       " [0.0,\n",
       "  'node red  basics to bots',\n",
       "  'create cognitive web apps with node red to translate text  analyze tone  and send tweets  build a chatbot with watson assistant  formerly conversation  and facebook messenger '],\n",
       " [0.0,\n",
       "  'build your own chatbot',\n",
       "  'learn how to build chatbots without having to write any code by leveraging watson assistant  then deploy your chatbot to a real site in less than five minutes '],\n",
       " [0.12253577034896801,\n",
       "  'how to create and publish guided projects and hands on labs',\n",
       "  'in this preview version of the course  only the lab instructions are available to get you started with creating hands on labs and guided projects  in the coming weeks  we will enhance the course with videos  assessments  and a course certificate '],\n",
       " [0.22338875108890432,\n",
       "  'python basics',\n",
       "  'this course introduces the basics of python 3  including conditional execution and iteration as control structures  and strings and lists as data structures  you ll program an on screen turtle to draw pretty pictures  you ll also learn to draw reference diagrams as a way to reason about program executions  which will help to build up your debugging skills  the course has no prerequisites  it will cover chapters 1 9 of the textbook   fundamentals of python programming    which is the accompanying text  optional and free  for this course \\n\\nthe course is for you if you re a newcomer to python programming  if you need a refresher on python basics  or if you may have had some exposure to python programming but want a more in depth exposition and vocabulary for describing and reasoning about programs '],\n",
       " [0.026882594618183764,\n",
       "  'the nature of data and relational database design',\n",
       "  'this course provides a comprehensive overview of data  various data types  design of databases for storage of data  and creation and manipulation of data in databases using sql  by the end of this course  students will be able to describe what business intelligence is and how it  s different from business analytics and data science  conduct a basic descriptive statistical analysis and articulate the findings  and differentiate between types of statistics  they will also be able to define normalization and etl  create an erd that shows progression from conceptual to logical to physical design  define ddl  dml  dcl  and tcl  and write sql scripts to create a database and associated tables \\n'],\n",
       " [0.11610675844909546,\n",
       "  'a crash course in data science',\n",
       "  'by now you have definitely heard about data science and big data  in this one week class  we will provide a crash course in what these terms mean and how they play a role in successful organizations  this class is for anyone who wants to learn what all the data science action is about  including those who will eventually need to manage data scientists  the goal is to get you up to speed as quickly as possible on data science without all the fluff  we ve designed this course to be as convenient as possible without sacrificing any of the essentials \\n\\nthis is a focused course designed to rapidly get you up to speed on the field of data science  our goal was to make this as convenient as possible for you without sacrificing any essential content  we ve left the technical information aside so that you can focus on managing your team and moving it forward \\n\\nafter completing this course you will know  \\n\\n1  how to describe the role data science plays in various contexts\\n2  how statistics  machine learning  and software engineering play a role in data science\\n3  how to describe the structure of a data science project\\n4  know the key terms and tools used by data scientists\\n5  how to identify a successful and an unsuccessful data science project\\n3  the role of a data science manager'],\n",
       " [0.3595732599803958,\n",
       "  'predicting customer satisfaction',\n",
       "  'predict customer satisfactions with machine learning moddels'],\n",
       " [0.04332891224131208,\n",
       "  'front end web development with react',\n",
       "  'this course explores javascript based front end application development  and in particular the react library  currently ver  16 3   this course will use javascript es6 for developing react application  you will also get an introduction to the use of reactstrap for bootstrap 4 based responsive ui design  you will be introduced to various aspects of react components  you will learn about react router and its use in developing single page applications  you will also learn about designing controlled forms  you will be introduced to the flux architecture and redux  you will explore various aspects of redux and use it to develop react redux powered applications  you will then learn to use fetch for client server communication and the use of rest api on the server side  a quick tour through react animation support and testing rounds off the course  you must have preferably completed the previous course in the specialization on bootstrap 4  or have a working knowledge of bootstrap 4 to be able to navigate this course  also a good working knowledge of javascript  especially es 5 is strongly recommended \\n\\nat the end of this course you will \\n\\n  be familiar with client side javascript application development and the react library\\n  be able to implement single page applications in react\\n  be able to use various react features including components and forms\\n  be able to implement a functional front end web application using react\\n  be able to use reactstrap for designing responsive react applications\\n  be able to use redux to design the architecture for a react redux application'],\n",
       " [0.06452586373243185,\n",
       "  'introduction to data analytics',\n",
       "  'this course presents a gentle introduction into the concepts of data analysis  the role of a data analyst  and the tools that are used to perform daily functions  you will gain an understanding of the data ecosystem and the fundamentals of data analysis  such as data gathering or data mining   you will then learn the soft skills that are required to effectively communicate your data to stakeholders  and how mastering these skills can give you the option to become a data driven decision maker \\n\\nthis course will help you to differentiate between the roles of a data analyst  data scientist  and data engineer  you will learn the responsibilities of a data analyst and exactly what data analysis entails  you will be able to summarize the data ecosystem  such as databases and data warehouses  you will then uncover the major vendors within the data ecosystem and explore the various tools on premise and in the cloud  continue this exciting journey and discover big data platforms such as hadoop  hive  and spark  by the end of this course you will be able to visualize the daily life of a data analyst  understand the different career paths that are available for data analytics  and identify the many resources available for mastering this profession \\n\\n     throughout this course you will learn the key aspects to data analysis  you will begin to explore the fundamentals of gathering data  and learning how to identify your data sources  you will then learn how to clean  analyze  and share your data with the use of visualizations and dashboard tools  this all comes together in the final project where it will test your knowledge of the course material  explore what it means to be a data analyst  and provide a real world scenario of data analysis  '],\n",
       " [0.26358191018878574,\n",
       "  'introduction to data science in python',\n",
       "  'this course will introduce the learner to the basics of the python programming environment  including fundamental python programming techniques such as lambdas  reading and manipulating csv files  and the numpy library  the course will introduce data manipulation and cleaning techniques using the popular python pandas data science library and introduce the abstraction of the series and dataframe as the central data structures for data analysis  along with tutorials on how to use functions such as groupby  merge  and pivot tables effectively  by the end of this course  students will be able to take tabular data  clean it  manipulate it  and run basic inferential statistical analyses  \\n\\nthis course should be taken before any of the other applied data science with python courses  applied plotting  charting   data representation in python  applied machine learning in python  applied text mining in python  applied social network analysis in python'],\n",
       " [0.05872202195147036,\n",
       "  'getting started with node js',\n",
       "  'have you heard of node js before  node js is one of the most popular technology to create server side apps  why  because if you know javascript  you build both the frontend and the backend using javascript  take this guided project to get started on node js '],\n",
       " [0.662622139954909,\n",
       "  'machine learning with r',\n",
       "  'this machine learning with r course dives into the basics of machine learning using an approachable  and well known  programming language  you ll learn about supervised vs unsupervised learning  look into how statistical modeling relates to machine learning  and do a comparison of each '],\n",
       " [0.02005522791987291,\n",
       "  '\\nsql for data science capstone project',\n",
       "  'data science is a dynamic and growing career field that demands knowledge and skills based in sql to be successful  this course is designed to provide you with a solid foundation in applying sql skills to analyze data and solve real business problems \\n\\nwhether you have successfully completed the other courses in the learn sql basics for data science specialization or are taking just this course  this project is your chance to apply the knowledge and skills you have acquired to practice important sql  querying and solve problems with data  you will participate in your own personal or professional journey to create a portfolio worthy piece from start to finish  you will choose a dataset and develop a project proposal  you will explore your data and perform some initial statistics you have learned through this specialization  you will uncover analytics for qualitative data and consider new metrics that make sense from the patterns that surface in your analysis  you will put all of your work together in the form of a presentation where you will tell the story of your findings  along the way  you will receive feedback through the peer review process  this community of fellow learners will provide additional input to help you refine your approach to data analysis with sql and present your findings to clients and management '],\n",
       " [0.0,\n",
       "  'acknowledging messages using microprofile reactive messaging',\n",
       "  'learn how to acknowledge messages by using microprofile reactive messaging '],\n",
       " [0.029964438331699705,\n",
       "  'hadoop platform and application framework',\n",
       "  'this course is for novice programmers or business people who would like to understand the core tools used to wrangle and analyze big data  with no prior experience  you will have the opportunity to walk through hands on examples with hadoop and spark frameworks  two of the most common in the industry  you will be comfortable explaining the specific components and basic processes of the hadoop architecture  software stack  and execution environment    in the assignments you will be guided in how data scientists apply the important concepts and techniques such as map reduce that are used to solve fundamental problems in big data   you ll feel empowered to have conversations about big data and the data analysis process'],\n",
       " [0.10079052613579398,\n",
       "  'create a cryptocurrency trading algorithm in python',\n",
       "  'earning money while you sleep  that may sound too good to be true  but with the right cryptocurrency trading algorithm you can do just that  in this project  you will take a first dive into the world of algorithmic trading with python '],\n",
       " [0.026352313834736463,\n",
       "  'keys and constraints in mysql',\n",
       "  'in this project  you will learn how to add keys to create relationships between the tables and how to use constraints to enforce rules on the data entry in the mysql database service using the phpmyadmin graphical user interface  gui  tool '],\n",
       " [0.02710385427272477,\n",
       "  'using hbase for real time access to your big data',\n",
       "  'this course introduces you to hbase  the open source hadoop database used for random  real time read writes to your big data  the course will cover fundamental concepts of hbase such as hbase system and architecture  the use of the client api to perform data operations on hbase  the various hbase client used to communicate with hbase  how to integrate hbase with a mapreduce job  and more '],\n",
       " [0.11366572324507895,\n",
       "  'predictive modeling fundamentals i',\n",
       "  'the predictive modelling fundamentals i course where students can take this course many times as they wish and is totally free  after the students completed the course  they will be to print their online certificate of achievement    labs are available for download only for free trial of ibm spss modeler '],\n",
       " [0.029235267310234292,\n",
       "  'simplifying data pipelines with apache kafka',\n",
       "  'when you hear the terms  producer  consumer  topic category  broker  and cluster used together to describe a messaging system  something is brewing in the pipelines  get connected and learn what that is  and what it means '],\n",
       " [0.06415002990995844,\n",
       "  'advanced computer vision with tensorflow',\n",
       "  'in this course  you will \\n\\na  explore image classification  image segmentation  object localization  and object detection  apply transfer learning to object localization and detection \\nb  apply object detection models such as regional cnn and resnet 50  customize existing models  and build your own models to detect  localize  and label your own rubber duck images \\nc  implement image segmentation using variations of the fully convolutional network  fcn  including u net and d  mask rcnn to identify and detect numbers  pets  zombies  and more \\nd  identify which parts of an image are being used by your model to make its predictions using class activation maps and saliency maps and apply these ml interpretation methods to inspect and improve the design of a famous network  alexnet '],\n",
       " [0.5217491947499509,\n",
       "  'machine learning   dimensionality reduction',\n",
       "  'machine learning   dimensionality reduction'],\n",
       " [0.039840953644479815,\n",
       "  'data analysis demos',\n",
       "  'this course is about providing demonstrations and showing results with the goal of inspiring you to take more technical and in depth courses'],\n",
       " [0.0,\n",
       "  'reactive architecture  distributed messaging patterns',\n",
       "  'reactive architecture  distributed messaging patterns'],\n",
       " [0.0,\n",
       "  'checking the health of java microservices by using eclipse microprofile health check',\n",
       "  'explore how to report and check the health of a microservice with microprofile health '],\n",
       " [0.05634361698190116, 'db2 fundamentals i', 'db2 database course'],\n",
       " [0.3131121455425747,\n",
       "  'spark mllib',\n",
       "  'spark provides a machine learning library known as mllib  mllib provides various machine learning algorithms such as classification  regression  clustering  and collaborative filtering  it also provides tools such as featurization  pipelines  persistence  and utilities for handing linear algebra operations  statistics and data handling '],\n",
       " [0.1093188788999897,\n",
       "  'data visualization in r with ggplot2',\n",
       "  'data visualization is a critical skill for anyone that routinely using quantitative data in his or her work   which is to say that data visualization is a tool that almost every worker needs today  one of the critical tools for data visualization today is the r statistical programming language  especially in conjunction with the tidyverse software packages  r has become an extremely powerful and flexible platform for making figures  tables  and reproducible reports  however  r can be intimidating for first time users  and there are so many resources online that it can be difficult to sort through without guidance \\n\\nthis course is the second in a specialization in data visualization offered by johns hopkins  it is intended for learners who have either have some experience with r and data wrangling in the tidyverse or have taken the previous course in the specialization  the focus in this course learning to use ggplot2 to make a variety of visualizations and to polish those visualizations using tools within ggplot as well as vector graphics editing software  the course will not go into detail about how the data management works behind the scenes'],\n",
       " [0.02260211678736035,\n",
       "  'r programming',\n",
       "  'in this course you will learn how to program in r and how to use r for effective data analysis  you will learn how to install and configure software necessary for a statistical programming environment and describe generic programming language concepts as they are implemented in a high level statistical language  the course covers practical issues in statistical computing which includes programming in r  reading data into r  accessing r packages  writing r functions  debugging  profiling r code  and organizing and commenting r code  topics in statistical data analysis will provide working examples'],\n",
       " [0.02594996480538414,\n",
       "  'create tables and load data in mysql using phpmyadmin',\n",
       "  'in this project  you will learn how to create tables and load data in the mysql database service using the phpmyadmin graphical user interface  gui  tool '],\n",
       " [0.0,\n",
       "  'an introduction to ibm cloud for financial services',\n",
       "  'learn about the target market segment for financial services  customer issues and challenges  and the benefits of ibm cloud for financial services  \\n\\n'],\n",
       " [0.0477409916026289,\n",
       "  'data visualization with r',\n",
       "  'data visualization is the presentation of data with graphics  it s a way to summarize your findings and display it in a form that facilitates interpretation and can help in identifying patterns or trends  in this course you will learn how to create beautiful graphics and charts  customizing the look and feel of them as you wish '],\n",
       " [0.0,\n",
       "  'testing microservices with the arquillian managed container',\n",
       "  'learn how to develop tests for your microservices with the arquillian managed container and run the tests on open liberty '],\n",
       " [0.0,\n",
       "  'using clustering methods for investment portfolio analysis',\n",
       "  'using clustering methods for investment portfolio analysis'],\n",
       " [0.05113099925649134,\n",
       "  'transform photos to sketches and paintings with opencv',\n",
       "  'have you wanted to transform your photographs in an artistic sketch or painting to showcase your creativity ¬† in this guided project you ll do just that  transform your photographs to paintings  sketches and more using opencv in python '],\n",
       " [0.041344911529736184,\n",
       "  'introduction to quantum computing',\n",
       "  'this course introduces you to the strange world of quantum computing '],\n",
       " [0.2981423969999719,\n",
       "  'playing tictactoe with reinforcement learning and openai gym',\n",
       "  'learn how to create and teach an agent that never loses to play tictactoe using a reinforcement learning algorithm called temporal difference learning and open ai gym'],\n",
       " [0.0,\n",
       "  'medical appointment data analysis',\n",
       "  'in this notebook we will try to analyze why would some patients not show up for their medical appointment and whether there are reasons for that using the data we have '],\n",
       " [0.05962847939999438,\n",
       "  'controlling hadoop jobs using oozie',\n",
       "  'this apache oozie course teaches you how to control hadoop jobs on your big data projects  even better  the materials and software provided are all free '],\n",
       " [0.0,\n",
       "  'enabling distributed tracing in java microservices using eclipse microprofile opentracing and the jaeger tracing system ',\n",
       "  'explore how to enable and customize tracing of jax rs and non jax rs methods by using microprofile opentracing and jaeger '],\n",
       " [0.02402499900521493,\n",
       "  'cloud computing concepts  part 1',\n",
       "  'cloud computing systems today  whether open source or used inside companies  are built using a common set of core techniques  algorithms  and design philosophies    all centered around distributed systems  learn about such fundamental distributed computing   concepts   for cloud computing \\n\\nsome of these concepts include  clouds  mapreduce  key value nosql stores  classical distributed algorithms  widely used distributed algorithms  scalability  trending areas  and much  much more  \\n \\nknow how these systems work from the inside out  get your hands dirty using these concepts with provided homework exercises  in the programming assignments  implement some of these concepts in template code  programs  provided in the c++ programming language  prior experience with c++ is required \\n \\nthe course also features interviews with leading researchers and managers  from both industry and academia '],\n",
       " [0.027216552697590823,\n",
       "  'data science methodology',\n",
       "  'grab you lab coat  beakers  and pocket calculator‚wait what  wrong path  fast forward and get in line with emerging data science methodologies that are in use and are making waves or rather predicting and determining which wave is coming and which one has just passed '],\n",
       " [0.14224931991175505,\n",
       "  'cloud computing applications  part 2  big data and applications in the cloud',\n",
       "  'welcome to the cloud computing applications course  the second part of a two course series designed to give you a comprehensive view on the world of cloud computing and big data \\n\\nin this second course we continue cloud computing applications by exploring how the cloud opens up data analytics of huge volumes of data that are static or streamed at high velocity and represent an enormous variety of information  cloud applications and data analytics represent a disruptive change in the ways that society is informed by  and uses information  we start the first week by introducing some major systems for data analysis including spark and the major frameworks and distributions of analytics applications including hortonworks  cloudera  and mapr  by the middle of week one we introduce the hdfs distributed and robust file system that is used in many applications like hadoop and finish week one by exploring the powerful mapreduce programming model and how distributed operating systems like yarn and mesos support a flexible and scalable environment for big data analytics  in week two  our course introduces large scale data storage and the difficulties and problems of consensus in enormous stores that use quantities of processors  memories and disks  we discuss eventual consistency  acid  and base and the consensus algorithms used in data centers including paxos and zookeeper  our course presents distributed key value stores and in memory databases like redis used in data centers for performance  next we present nosql databases  we visit hbase  the scalable  low latency database that supports database operations in applications that use hadoop  then again we show how spark sql can program sql queries on huge data  we finish up week two with a presentation on distributed publish subscribe systems using kafka  a distributed log messaging system that is finding wide use in connecting big data and streaming applications together to form complex systems  week three moves to fast data real time streaming and introduces storm technology that is used widely in industries such as yahoo  we continue with spark streaming  lambda and kappa architectures  and a presentation of the streaming ecosystem  week four focuses on graph processing  machine learning  and deep learning  we introduce the ideas of graph processing and present pregel  giraph  and spark graphx  then we move to machine learning with examples from mahout and spark  kmeans  naive bayes  and fpm are given as examples  spark ml and mllib continue the theme of programmability and application construction  the last topic we cover in week four introduces deep learning technologies including theano  tensor flow  cntk  mxnet  and caffe on spark '],\n",
       " [0.03726779962499649,\n",
       "  'getting started with open liberty',\n",
       "  'learn how to develop a java application on open liberty with maven and docker '],\n",
       " [0.0475887073498833,\n",
       "  'introduction to data analysis',\n",
       "  'with this course  you will begin to take the first steps in the world of data analysis  you will see in detail the main concepts and processes that make up this discipline  the main goal of the course is acquisition of knowledge about the mathematical and statistical basics underlying the main ideas and approaches used in data science  this is achieved through setting and solving typical tasks  which a researcher in the field of data science can face in his work  you will get practical skills in working with data analysis tools used in different spheres of human activity  you will be acquainted with the main tasks  methods and basic algorithms  as well as with the spheres of their practical applications  you will know how applied problems of data processing and analysis are being solved  you will be acquainted with the main concepts of artificial neural networks and the ways they are being trained \\n'],\n",
       " [0.5490400192158565,\n",
       "  'introduction to tensorflow for artificial intelligence  machine learning  and deep learning',\n",
       "  'if you are a software developer who wants to build scalable ai powered algorithms  you need to understand how to use the tools to build them  this course is part of the upcoming machine learning in tensorflow specialization and will teach you best practices for using tensorflow  a popular open source framework for machine learning  \\n\\nthe machine learning course and deep learning specialization from andrew ng teach the most important and foundational principles of machine learning and deep learning  this new deeplearning ai tensorflow specialization teaches you how to use tensorflow to implement those principles so that you can start building and applying scalable models to real world problems  to develop a deeper understanding of how neural networks work  we recommend that you take the deep learning specialization'],\n",
       " [0.10883623248584617,\n",
       "  'html  css  and javascript for web developers',\n",
       "  'do you realize that the only functionality of a web application that the user directly interacts with is through the web page  implement it poorly and  to the user  the server side becomes irrelevant  today s user expects a lot out of the web page  it has to load fast  expose the desired service  and be comfortable to view on all devices  from a desktop computers to tablets and mobile phones \\n\\nin this course  we will learn the basic tools that every web page coder needs to know  we will start from the ground up by learning how to implement modern web pages with html and css  we will then advance to learning how to code our pages such that its components rearrange and resize themselves automatically based on the size of the user s screen  you ll be able to code up a web page that will be just as useful on a mobile phone as on a desktop computer  no “pinch and zoom” required  last but certainly not least  we will get a thorough introduction to the most ubiquitous  popular  and incredibly powerful language of the web  javascript  using javascript  you will be able to build a fully functional web application that utilizes ajax to expose server side functionality and data to the end use'],\n",
       " [0.0,\n",
       "  'integrating restful services with a reactive system',\n",
       "  'learn how to integrate restful java microservices with a reactive system by using microprofile reactive messaging '],\n",
       " [0.31386127271279984,\n",
       "  'natural language processing with attention models',\n",
       "  'in course 4 of the natural language processing specialization  you will \\n\\na  translate complete english sentences into german using an encoder decoder attention model \\nb  build a transformer model to summarize text  \\nc  use t5 and bert models to perform question answering  and\\nd  build a chatbot using a reformer model  \\n\\n\\nby the end of this specialization  you will have designed nlp applications that perform question answering and sentiment analysis  created tools to translate languages and summarize text  and even built a chatbot    \\n\\nlearners should have a working knowledge of machine learning  intermediate python including experience with a deep learning framework  e g   tensorflow  keras   as well as proficiency in calculus  linear algebra  and statistics  please make sure that you ve completed course 3   natural language processing with sequence models   before starting this course \\n   \\nthis specialization is designed and taught by two experts in nlp  machine learning  and deep learning  younes bensouda mourri is an instructor of ai at stanford university who also helped build the deep learning specialization     kaiser is a staff research scientist at google brain and the co author of tensorflow  the tensor2tensor and trax libraries  and the transformer paper'],\n",
       " [0.022473328748774724,\n",
       "  'beyond the basics  istio and ibm cloud kubernetes service',\n",
       "  'start managing your microservices with istio on ibm cloud kubernetes service  this course shows you how to better  control traffic to services  observe service health  and secure the service mesh '],\n",
       " [0.019407416991319426,\n",
       "  'using r with databases',\n",
       "  'using r with databases teaches you how to access and perform data analysis using r when your data is stored in a relational database mangement system  rdbms   in the course we will focus on using rodbc as our interface and we will use db2 express c and blu acceleration for cloud as our database server environment '],\n",
       " [0.0, 'data science with open data', 'data science with open data'],\n",
       " [0.030271773945766633,\n",
       "  'business intelligence and data warehousing',\n",
       "  'welcome to the specialization course business intelligence and data warehousing  this course will be completed on six weeks  it will be supported with videos and various documents that will allow you to learn in a very simple way how to identify  design and develop analytical information systems  such as business intelligence with a descriptive analysis on data warehouses  you will be able to understand the problem of integration and predictive analysis of high volume of unstructured data  big data  with data mining and the hadoop framework '],\n",
       " [0.0,\n",
       "  'consuming restful services using the reactive jax rs client',\n",
       "  'learn how to use a reactive jax rs client to asynchronously invoke restful microservices over http '],\n",
       " [0.07829602926862711,\n",
       "  'deploy an ai powered discord bot with a voice',\n",
       "  'discord is a fantastic way to connect with your friends or host a community and a bot is a perfect way to add features to your server  not only will this guided project show you how to get started in creating a bot  but you ll also learn how to power it with an ai chatbot and give it a voice  finally  you ll host it somewhere so that the bot is online without your computer being on  all of this for free '],\n",
       " [0.0,\n",
       "  'data science in insurance  basic statistical analysis ',\n",
       "  'in this guided project you will learn how to calculate basic descriptive statistics using apache spark '],\n",
       " [0.0,\n",
       "  'data science in agriculture  basic statistical analysis and geo visualisation',\n",
       "  'in this lab  we will learn how to download data  perform basic statistical analysis  visualize and display it on dynamic maps '],\n",
       " [0.07415820138576834,\n",
       "  'the r programming environment',\n",
       "  'this course provides a rigorous introduction to the r programming language  with a  particular focus on using r for software development in a data science setting  whether you are part of a data science team or working individually within a community of developers  this course will give you the knowledge of r needed to make useful contributions in those settings  as the first course in the specialization  the course provides the essential foundation of r needed for the following courses  we cover basic r concepts and language fundamentals  key concepts like tidy data and related     tidyverse     tools  processing and manipulation of complex and large datasets  handling textual data  and basic data science tasks  upon completing this course  learners will have fluency at the r console and will be able to create tidy datasets from a wide range of possible data sources'],\n",
       " [0.0,\n",
       "  'consuming restful java microservices with template interfaces using eclipse microprofile rest client',\n",
       "  'learn how to use microprofile rest client to invoke restful microservices over http in a type safe way '],\n",
       " [0.0,\n",
       "  'securing java microservices with eclipse microprofile json web token  microprofile jwt ',\n",
       "  'you will explore how to control user and role access to microservices with microprofile json web token  microprofile jwt  '],\n",
       " [0.02357022603955161,\n",
       "  'getting started with postgresql command line',\n",
       "  'in this project  you will use the postgresql command line interface  cli  to a create database and to restore the structure and contents of tables  then you will learn how to explore and query tables  finally  you will learn how to dump backup tables from a database '],\n",
       " [0.048112522432468774,\n",
       "  'introduction to data analysis using excel',\n",
       "  'the use of excel is widespread in the industry  it is a very powerful data analysis tool and almost all big and small businesses use excel in their day to day functioning  this is an introductory course in the use of excel and is designed to give you a working knowledge of excel with the aim of getting to use it for more advance topics in business statistics later  the course is designed keeping in mind two kinds of learners    those who have very little functional knowledge of excel and those who use excel regularly but at a peripheral level and wish to enhance their skills  the course takes you from basic operations such as reading data into excel using various data formats  organizing and manipulating data  to some of the more advanced functionality of excel  all along  excel functionality is introduced using easy to understand examples which are demonstrated in a way that learners can become comfortable in understanding and applying them '],\n",
       " [0.0,\n",
       "  'consuming a restful java web service with angular',\n",
       "  'explore how to access a simple restful web service and consume its resources with angular in open liberty '],\n",
       " [0.050025018765638696,\n",
       "  'introduction to web development',\n",
       "  'this course is designed to start you on a path toward future studies in web development and design  no matter how little experience or technical knowledge you currently have  the web is a very big place  and if you are the typical internet user  you probably visit several websites every day  whether for business  entertainment or education  but have you ever wondered how these websites actually work  how are they built  how do browsers  computers  and mobile devices interact with the web  what skills are necessary to build a website  with almost 1 billion websites now on the internet  the answers to these questions could be your first step toward a better understanding of the internet and developing a new set of internet skills   \\n\\nby the end of this course you ll be able to describe the structure and functionality of the world wide web  create dynamic web pages using a combination of html  css  and javascript  apply essential programming language concepts when creating html forms  select an appropriate web hosting service  and publish your webpages for the world to see  finally  you ll be able to develop a working model for creating your own personal or business websites in the future and be fully prepared to take the next step in a more advanced web development or design course or specialization'],\n",
       " [0.0,\n",
       "  'building and testing a java web application with maven and open liberty',\n",
       "  'learn how to build and test a simple web application using maven and open liberty '],\n",
       " [0.062166987216020875,\n",
       "  'create your first mongodb database',\n",
       "  'in this guided project  you will get started with mongodb by creating your first database  working with collections  and doing basic document management  '],\n",
       " [0.0716114874039433,\n",
       "  'digital analytics   regression',\n",
       "  'this course uses a case study approach to take you through the end to end process of identifying a business objective  designing the model to address it  sourcing the data and ultimately arriving at the insights  when you complete this course  you can apply these methods and principles in a variety of contexts  with big  medium or small data '],\n",
       " [0.1347150628109126,\n",
       "  'data visualization with python',\n",
       "  'data visualization is the graphical representation of data in order to interactively and efficiently convey insights to clients  customers  and stakeholders in general  it is a way to summarize your findings and display it in a form that facilitates interpretation and can help in identifying patterns or trends  in this data visualization with python course  you ll learn how to create interesting graphics and charts and customize them to make them more effective and more pleasing to your audience '],\n",
       " [0.3632995072753774,\n",
       "  'advanced machine   deep learning for spam classification task',\n",
       "  'learn to build the machine   deep learning models at the junction of nlp and network security areas by the help of sms spam collection dataset with the helping frameworks   libraries '],\n",
       " [0.0,\n",
       "  'insurance business modelling and basic actuarial calculations',\n",
       "  'in this guided project you will learn how to build a mathematical model of an insurance company using risk process and to do risk and revenue assessment '],\n",
       " [0.0,\n",
       "  'blockchain essentials',\n",
       "  'understand blockchain technology and how it can solve business problems  learn the basics of developing applications with chaincode '],\n",
       " [0.07669649888473706,\n",
       "  'accessing hadoop data using hive',\n",
       "  'hive is a data warehousing tool built on top of hadoop  learn how to easily query and analyze your big data projects with this free apache hive course '],\n",
       " [0.019920476822239852,\n",
       "  'introduction to structured query language  sql ',\n",
       "  'in this course  you ll walk through installation steps for installing a text editor  installing mamp or xampp  or equivalent  and creating a mysql database  you ll learn about single table queries and the basic syntax of the sql language  as well as database design with multiple tables  foreign keys  and the join operation  lastly  you ll learn to model many to many relationships like those needed to represent users  roles  and courses \\n'],\n",
       " [0.05032196082827123,\n",
       "  'data analysis with r programming',\n",
       "  'this course is the seventh course in the google data analytics certificate  these courses will equip you with the skills needed to apply to introductory level data analyst jobs  in this course  you  ll learn about the programming language known as r  you  ll find out how to use rstudio  the environment that allows you to work with r  this course will also cover the software applications and tools that are unique to r  such as r packages  you  ll discover how r lets you clean  organize  analyze  visualize  and report data in new and more powerful ways   current google data analysts will continue to instruct and provide you with hands on ways to accomplish common data analyst tasks with the best tools and resources \\n\\nlearners who complete this certificate program will be equipped to apply for introductory level jobs as data analysts  no previous experience is necessary \\n\\nby the end of this course  you will \\n   examine the benefits of using the r programming language \\n   discover how to use rstudio to apply r to your analysis  \\n   explore the fundamental concepts associated with programming in r  \\n   explore the contents and components of r packages including the tidyverse package \\n   gain an understanding of dataframes and their use in r \\n   discover the options for generating visualizations in r \\n   learn about r markdown for documenting r programming \\n'],\n",
       " [0.0,\n",
       "  'checking the health of java microservices by using kubernetes readiness and liveness probes',\n",
       "  'learn how to check the health of microservices on kubernetes by setting up readiness and liveness probes to inspect microprofile health check endpoints '],\n",
       " [0.06388765649999395,\n",
       "  'nosql and dbaas 101',\n",
       "  'in this nosql course  we will provide an overview of the nosql database landscape  the benefits of using a database as a service offering  and where cloudant fits into the picture  additionally  we‚ will get you started with using cloudant by providing tutorials on account sign up  creating and replicating databases  loading and querying data  and conclude by pointing you to additional resources to continue on your education '],\n",
       " [0.0,\n",
       "  'building a hypermedia driven restful java microservice using hypermedia as the engine of application state  hateoas ',\n",
       "  'you‚ will explore how to use hypermedia as the engine of application state  hateoas  to drive your restful web service on open liberty '],\n",
       " [0.0,\n",
       "  'working with big data',\n",
       "  'by the end of this project  you will set up an environment for big data development using visual studio code  mongodb and apache spark  you will then use the environment to process a large dataset from noaa showing hourly precipitation rates for a ten year period from the state of wisconsin \\nmongodb is a widely used nosql database well suited for very large datasets or big data  it is highly scalable and adaptable as well  apache spark is used for efficient in memory processing of big data '],\n",
       " [0.10540925533894596,\n",
       "  'deploy a web server using python and ibm cloud engine',\n",
       "  'deploy a web server using python and ibm cloud engine'],\n",
       " [0.11925695879998877,\n",
       "  'data science bootcamp with python for university professors  advance ',\n",
       "  'data science bootcamp with python for university professors  advance '],\n",
       " [0.03400102004590233,\n",
       "  'cloud computing applications  part 1  cloud systems and infrastructure',\n",
       "  'welcome to the cloud computing applications course  the first part of a two course series designed to give you a comprehensive view on the world of cloud computing and big data  \\n\\nin this first course we cover a multitude of technologies that comprise the modern concept of cloud computing  cloud computing is an information technology revolution that has just started to impact many enterprise computing systems in major ways  and it will change the face of computing in the years to come \\n\\nwe start the first week by introducing some major concepts in cloud computing  the economics foundations of it and we introduce the concept of big data  we also cover the concept of software defined architectures  and how virtualization results in cloud infrastructure and how cloud service providers organize their offerings  in week two  we cover virtualization and containers with deeper focus  including lectures on docker  jvm and kubernates  we finish up week two by comparing the infrastructure as a service offering by the big three  amazon  google and microsoft  \\nweek three moves to higher level of cloud offering  including platform as a service  mobile backend as a service and even serverless architectures  we also talk about some of the cloud middleware technologies that are fundamental to cloud based applications such as rpc and rest  json and load balancing  week three also covers metal as a service  maas   where physical machines are provisioned in a cloud environment  \\nweek four introduces higher level cloud services with special focus on cloud storage services  we introduce hive  hdfs and ceph as pure big data storage and file systems  and move on to cloud object storage systems  virtual hard drives and virtual archival storage options  as discussion on dropbox cloud solution wraps up week 4 and the course '],\n",
       " [0.04533469339453644,\n",
       "  'big data essentials  hdfs  mapreduce and spark rdd',\n",
       "  'have you ever heard about such technologies as hdfs  mapreduce  spark  always wanted to learn these new tools but missed concise starting material  don t miss this course either \\n\\nin this 6 week course you will \\n  learn some basic technologies of the modern big data landscape  namely  hdfs  mapreduce and spark \\n  be guided both through systems internals and their applications \\n  learn about distributed file systems  why they exist and what function they serve \\n  grasp the mapreduce framework  a workhorse for many modern big data applications \\n  apply the framework to process texts and solve sample business cases \\n  learn about spark  the next generation computational framework \\n  build a strong understanding of spark basic concepts \\n  develop skills to apply these tools to creating solutions in finance  social networks  telecommunications and many other fields'],\n",
       " [0.0,\n",
       "  'building robots with tjbot',\n",
       "  'learn how to program a simple robot  tjbot  to move its arm  recognize objects  flash a light  speak  and more  you can build simple apps to control tjbot by using node js or even node red  if you don t want to purchase the tjbot  you use a simulator instead '],\n",
       " [0.022473328748774724,\n",
       "  'cloud pak for integration essentials',\n",
       "  'in this short course  you will demonstrate the hands on experience with a comprehensive cloud integration solution using ibm cloud pak for integration that you received from attending the digital developer conference  aiops   integration  '],\n",
       " [0.21977935604775523,\n",
       "  'data analysis with python',\n",
       "  'learn how to analyze data using python  this course will take you from the basics of python to exploring many different types of data  you will learn how to prepare data for analysis  perform simple statistical analysis  create meaningful data visualizations  predict future trends from data  and more \\n\\ntopics covered \\n\\n1  importing datasets\\n2  cleaning the data\\n3  data frame manipulation\\n4  summarizing the data\\n5  building machine learning regression models\\n6  building data pipelines\\n\\n data analysis with python will be delivered through lecture  lab  and assignments  it includes following parts \\n\\ndata analysis libraries  will learn to use pandas  numpy and scipy libraries to work with a sample dataset  we will introduce you to pandas  an open source library  and we will use it to load  manipulate  analyze  and visualize cool datasets  then we will introduce you to another open source library  scikit learn  and we will use some of its machine learning algorithms to build smart models and make cool predictions '],\n",
       " [0.0,\n",
       "  'quick introduction to a b testing',\n",
       "  'experimental design refers to how users are allocated to the different groups in an experiment  a b testing is an experiment set up to compare two versions of something to decide which performs better '],\n",
       " [0.03037633997025424,\n",
       "  'introduction to cloud computing',\n",
       "  'this course introduces you to the core concepts of cloud computing  you gain the foundational knowledge required for understanding cloud computing from a business perspective as also for becoming a cloud practitioner  you understand the definition and essential characteristics of cloud computing  its history  the business case for cloud computing  and emerging technology usecases enabled by cloud  we introduce you to some of the prominent service providers of our times  e g  aws  google  ibm  microsoft  etc   the services they offer  and look at some case studies of cloud computing across industry verticals  \\n\\nyou learn about the various cloud service models  iaas  paas  saas  and deployment models  public  private  hybrid  and the key components of a cloud infrastructure  vms  networking  storage   file  block  object  cdn   we also cover emergent cloud trends and practices including   hybrid multicloud  microservices  serverless  devops  cloud native and application modernization  and we go over the basics of cloud security  monitoring  and different job roles in the cloud industry  \\n\\neven though this course does not require any prior cloud computing or programming experience  by the end of the course  you will have created your own account on ibm cloud and gained some hands on experience by provisioning a cloud service and working with it \\n\\nthis course is suitable for a large variety of audiences   whether you are an executive   manager   student who wants to become familiar with cloud computing terminology and concepts  or someone who wants foundational  grounding in cloud computing to start a career in this field or become a cloud practitioner   such as a cloud engineer  developer  analyst  etc \\n\\nthe completion of this course also makes you eligible to earn the cloud computing core ibm digital badge   more information about the badge can be found here  https   www youracclaim com org ibm badge introduction to cloud computing'],\n",
       " [0.447213595499958,\n",
       "  'convolutional neural networks in tensorflow',\n",
       "  'if you are a software developer who wants to build scalable ai powered algorithms  you need to understand how to use the tools to build them  this course is part of the upcoming machine learning in tensorflow specialization and will teach you best practices for using tensorflow  a popular open source framework for machine learning \\n\\nin course 2 of the deeplearning ai tensorflow specialization  you will learn advanced techniques to improve the computer vision model you built in course 1  you will explore how to work with real world images in different shapes and sizes  visualize the journey of an image through convolutions to understand how a computer “sees” information  plot loss and accuracy  and explore strategies to prevent overfitting  including augmentation and dropout  finally  course 2 will introduce you to transfer learning and how learned features can be extracted from models  \\n\\nthe machine learning course and deep learning specialization from andrew ng teach the most important and foundational principles of machine learning and deep learning  this new deeplearning ai tensorflow specialization teaches you how to use tensorflow to implement those principles so that you can start building and applying scalable models to real world problems  to develop a deeper understanding of how neural networks work  we recommend that you take the deep learning specialization'],\n",
       " [0.01957400731715675,\n",
       "  'reactive architecture  reactive microservices',\n",
       "  'when we use the term reactive  we are usually talking about reactive microservices  but what is a microservice  and how can we make it reactive  this course will explore the difference between monoliths and microservices and show the journey to making a system reactive '],\n",
       " [0.0,\n",
       "  'data science in health care  basic prognostication and geo visualization',\n",
       "  'in this guided project we will study how make predictions based on linear regression  obtain statistics and create interactive maps showing the dynamics of virus spread '],\n",
       " [0.029235267310234292,\n",
       "  'introduction to cloud',\n",
       "  'this course introduces you to the core concepts of cloud computing  you will gain the foundational knowledge required for understanding cloud computing from both business and practitioner perspectives '],\n",
       " [0.20732210721568234,\n",
       "  'deep learning in computer vision',\n",
       "  'deep learning added a huge boost to the already rapidly developing field of computer vision  with deep learning  a lot of new applications of computer vision techniques have been introduced and are now becoming parts of our everyday lives  these include face recognition and indexing  photo stylization or machine vision in self driving cars  \\n\\nthe goal of this online course is to introduce students to computer vision  starting from basics and then turning to more modern deep learning models  we will cover both image and video recognition  including image classification and annotation  object recognition and image search  various object detection techniques  motion estimation  object tracking in video  human action recognition  and finally image stylization  editing and new image generation  in the course project  students will learn how to build face recognition and manipulation system to understand the internal mechanics of this technology  probably the most renown and often demonstrated in movies and tv shows example of computer vision and ai'],\n",
       " [0.14907119849998596,\n",
       "  'data science bootcamp with python',\n",
       "  'data science bootcamp with python'],\n",
       " [0.0,\n",
       "  'hybrid cloud conference   backend services for containers',\n",
       "  'hybrid cloud conference   backend services for containers'],\n",
       " [0.0,\n",
       "  'r for data science',\n",
       "  'are you ready to dive head first into r  in just a few hours you ll learn how to write your own r code  learn about data structures and create your own functions  you‚ will even be able to import data and do some operations  try our hands on exercises as we guide your first steps into your data science journey with r '],\n",
       " [0.034921514788478936,\n",
       "  'getting started with the data  apache spark makers build',\n",
       "  'apache spark is an open source processing engine built around speed  ease of use  and analytics  if you have large amounts of data that requires low latency processing that a typical map reduce program cannot provide  spark is the alternative  spark performs at speeds up to 100 times faster than map reduce for iterative algorithms or interactive data mining  spark provides in memory cluster computing for lightning fast speed and supports java  scala  and python apis for ease of development \\n\\nspark combines sql  streaming and complex analytics together seamlessly in the same application to handle a wide range of data processing scenarios  spark runs on top of hadoop  mesos  standalone  or in the cloud  it can access diverse data sources such as hdfs  cassandra  hbase  or s3 '],\n",
       " [0.0, 'data science career talks', 'data science career talks'],\n",
       " [0.04951875684721385,\n",
       "  'database management essentials',\n",
       "  'database management essentials provides the foundation you need for a career in database development  data warehousing  or business intelligence  as well as for the entire data warehousing for business intelligence specialization  in this course  you will create relational databases  write sql statements to extract information to satisfy business reporting requests  create entity relationship diagrams  erds  to design databases  and analyze table designs for excessive redundancy  as you develop these skills  you will use either oracle  mysql  or postgresql to execute sql statements and a database diagramming tool such as the er assistant or visual paradigm to create erds  we  ve designed this course to ensure a common foundation for specialization learners  everyone taking the course can jump right in with writing sql statements in oracle  mysql  or postgresql '],\n",
       " [0.20452399702596546,\n",
       "  'game playing ai with swift for tensorflow  s4tf ',\n",
       "  'in this course  you re going to learn how to accelerate machine learning model development with google s new swift for tensorflow framework  by building ai agents to play games like tic tac toe  cartpole  and 2048 '],\n",
       " [0.28109134757052257,\n",
       "  'predicting financial performance of a company',\n",
       "  'predict financial performance of a company using machine learning models'],\n",
       " [0.1638120311557203,\n",
       "  'launch an ai hotdog detector as a serverless python app',\n",
       "  'have you ever wondered if a picture has a hotdog in it or not  well  no longer do you have to wonder‚ you can now prove it  with this fun project  you‚ will learn how to create and launch a web app in python that tells you just that  whether or not a picture has a hotdog in it  let  s settle the great debate once and for all  learning skills that can help you land your next big job or pursue your million dollar idea while you  re at it '],\n",
       " [0.0,\n",
       "  'fundamentals of javascript through rock paper scissors',\n",
       "  'in this hands on project you will be recreating the game of rock  paper  scissors using the versatile and popular programming language  javascript '],\n",
       " [0.03419927840283843,\n",
       "  'spark fundamentals i',\n",
       "  'ignite your interest in spark with an introduction to the core concepts that make this general processor an essential tool set for working with big data '],\n",
       " [0.159821100495128,\n",
       "  'accelerating deep learning with gpu',\n",
       "  'majority of data in the world are unlabeled and unstructured data  for instance images  sound  and text data  shallow neural networks cannot easily capture relevant structure in these kind of data  but deep networks are capable of discovering hidden structures within¬†these data  in this course  you will use tensorflow library to apply deep learning on different data types to solve real world problems '],\n",
       " [0.10540925533894596,\n",
       "  'data analysis with python',\n",
       "  'in this course you will learn about  data acquisition how to obtain basic insight from a dataset data'],\n",
       " [0.06308802978765116,\n",
       "  'fundamentals of big data',\n",
       "  'welcome to fundamentals of big data  the fourth course of the key technologies of data analytics specialization  by enrolling in this course  you are taking the next step in your career in data analytics  this course is the fourth of a series that aims to prepare you for a role working in data analytics  in this course  you will be introduced to many of the core concepts of big data  you will learn about the primary systems used in big data  we ll go through phases of a common big data life cycle  this course covers a wide variety of topics that are critical for understanding big data and are designed to give you an introduction and overview as you begin to build relevant knowledge and skills'],\n",
       " [0.28941438070815306,\n",
       "  'text analysis',\n",
       "  'analyze text data using various analytics and machine learning models'],\n",
       " [0.14278431229270638,\n",
       "  'crash course on python',\n",
       "  'this course is designed to teach you the foundations in order to write simple programs in python using the most common structures  no previous exposure to programming is needed  by the end of this course  you ll understand the benefits of programming in it roles  be able to write simple programs using python  figure out how the building blocks of programming fit together  and combine all of this knowledge to solve a complex programming problem  \\n\\nwe ll start off by diving into the basics of writing a computer program  along the way  you  ll get hands on experience with programming concepts through interactive exercises and real world examples  you  ll quickly start to see how computers can perform a multitude of tasks    you just have to write code that tells them what to do '],\n",
       " [0.0,\n",
       "  'data science in agriculture  prognostication using by neural network',\n",
       "  'in this lab  we will learn the basic methods of forecasting using linear regression and neural networks  '],\n",
       " [0.0,\n",
       "  'testing reactive java microservices using microshed testing framework',\n",
       "  'learn how to test reactive java microservices in true to production environments using microshed testing '],\n",
       " [0.037387209734329296,\n",
       "  'introduction to big data',\n",
       "  'interested in increasing your knowledge of the big data landscape   this course is for those new to data science and interested in understanding why the big data era has come to be   it is for those who want to become conversant with the terminology and the core concepts behind big data problems  applications  and systems   it is for those who want to start thinking about how big data might be useful in their business or career   it provides an introduction to one of the most common frameworks  hadoop  that has made big data analysis easier and more accessible    increasing the potential for data to transform our world \\n\\nat the end of this course  you will be able to \\n\\n  describe the big data landscape including examples of real world big data problems including the three key sources of big data  people  organizations  and sensors  \\n\\n  explain the v s of big data  volume  velocity  variety  veracity  valence  and value  and why each impacts data collection  monitoring  storage  analysis and reporting \\n\\n  get value out of big data by using a 5 step process to structure your analysis  \\n\\n  identify what are and what are not big data problems and be able to recast big data problems as data science questions \\n\\n  provide an explanation of the architectural components and programming models used for scalable big data analysis \\n\\n  summarize the features and value of core hadoop stack components including the yarn resource and job management system  the hdfs file system and the mapreduce programming model \\n\\n  install and run a program using hadoop \\n\\nthis course is for those new to data science   no prior programming experience is needed  although the ability to install applications and utilize a virtual machine is necessary to complete the hands on assignments '],\n",
       " [0.041344911529736184,\n",
       "  'getting started with db2 on cloud',\n",
       "  'in this project  you will learn how to create tables and load data in ibm db2 '],\n",
       " [0.08606629658238707, 'solr 101', 'this course introduce you to solr'],\n",
       " [0.0,\n",
       "  'consuming a restful java web service with angularjs',\n",
       "  'explore how to access a simple restful web service and consume its resources with angularjs in open liberty '],\n",
       " [0.0,\n",
       "  'streaming updates from a microprofile reactive messaging microservice using server sent events  sse ',\n",
       "  'learn how to stream updates from a microprofile reactive messaging service to a front end client by using server sent events  sse  '],\n",
       " [0.26358191018878574,\n",
       "  'introduction to data science in python',\n",
       "  'this course will introduce the learner to the basics of the python programming environment  including fundamental python programming techniques such as lambdas  reading and manipulating csv files  and the numpy library  the course will introduce data manipulation and cleaning techniques using the popular python pandas data science library and introduce the abstraction of the series and dataframe as the central data structures for data analysis  along with tutorials on how to use functions such as groupby  merge  and pivot tables effectively  by the end of this course  students will be able to take tabular data  clean it  manipulate it  and run basic inferential statistical analyses  \\n\\nthis course should be taken before any of the other applied data science with python courses  applied plotting  charting   data representation in python  applied machine learning in python  applied text mining in python  applied social network analysis in python '],\n",
       " [0.12501526158359877,\n",
       "  'python programming  a concise introduction',\n",
       "  'the goal of the course is to introduce students to python version 3 x programming using hands on instruction  it will show how to install python and use the spyder ide  integrated development environment  for writing and debugging programs  the approach will be to present an example followed by a small exercise where the learner tries something similar to solidify a concept   at the end of each module there will be an exercise where the student is required to write simple programs and submit them for grading   it is intended for students with little or no programming background  although students with such a background should be able to move forward at their preferred pace \\n\\nthe course is four modules long and is designed to be completed in four weeks '],\n",
       " [0.06570043198176045,\n",
       "  'sql access for hadoop',\n",
       "  'big sql is another tool to work with your hadoop data  big sql provides a common and familiar syntax for those that are already using sql with their relational data to work with their big data  there is no learning curve here  big sql is about applying sql to your existing data ‚äì there are no proprietary storage formats \\n\\nthis course will help you understand the big sql architecture and show the different methods for working with big sql  the course will list and explain the big sql data types and show how to create big sql schemas and table  the course will also cover the different file formats supported by big sql such as parquet and orc \\nin the lab exercises  you will get a chance to learn how to connect to the big sql server and load in some sample data  then you will see how easy it is to use big sql to work with the data '],\n",
       " [0.016074760739013705,\n",
       "  'data analysis using r 101',\n",
       "  'data analysis using r 101 teaches you how to perform data analysis using the r language  r is a powerful open source language that is ideal for analyzing both structured and unstructured data  in this course we will focus on performing analysis of unstructured data files '],\n",
       " [0.03419927840283843,\n",
       "  'process data from dirty to clean',\n",
       "  'in this course  you  ll continue to build your understanding of data analytics and the concepts and tools that data analysts use in their work  you  ll learn how to check and clean your data using spreadsheets and sql as well as how to verify and report your data cleaning results  current google data analysts will continue to instruct and provide you with hands on ways to accomplish common data analyst tasks with the best tools and resources \\n\\nlearners who complete this certificate program will be equipped to apply for introductory level jobs as data analysts  no previous experience is necessary \\n\\nby the end of this course  you will be able to do the following \\n   learn how to check for data integrity \\n   discover data cleaning techniques using spreadsheets  \\n   develop basic sql queries for use on databases \\n   apply basic sql functions for cleaning and transforming data \\n   gain an understanding of how to verify the results of cleaning data \\n   explore the elements and importance of data cleaning reports '],\n",
       " [0.06562493591317975,\n",
       "  'analyzing big data with sql',\n",
       "  'in this course  you ll get an in depth look at the sql select statement and its main clauses  the course focuses on big data sql engines apache hive and apache impala  but most of the information is applicable to sql with traditional rdbms as well  the instructor explicitly addresses differences for mysql and postgresql \\n\\nby the end of the course  you will be able to\\n• explore and navigate databases and tables using different tools \\n• understand the basics of select statements \\n• understand how and why to filter results \\n• explore grouping and aggregation to answer analytic questions \\n• work with sorting and limiting results  and \\n• combine multiple tables in different ways '],\n",
       " [0.6120541193300345,\n",
       "  'machine learning',\n",
       "  'machine learning is the science of getting computers to act without being explicitly programmed  in the past decade  machine learning has given us self driving cars  practical speech recognition  effective web search  and a vastly improved understanding of the human genome  machine learning is so pervasive today that you probably use it dozens of times a day without knowing it  many researchers also think it is the best way to make progress towards human level ai  in this class  you will learn about the most effective machine learning techniques  and gain practice implementing them and getting them to work for yourself  more importantly  you ll learn about not only the theoretical underpinnings of learning  but also gain the practical know how needed to quickly and powerfully apply these techniques to new problems  finally  you ll learn about some of silicon valley s best practices in innovation as it pertains to machine learning and ai \\n\\nthis course provides a broad introduction to machine learning  datamining  and statistical pattern recognition  topics include   i  supervised learning  parametric non parametric algorithms  support vector machines  kernels  neural networks    ii  unsupervised learning  clustering  dimensionality reduction  recommender systems  deep learning    iii  best practices in machine learning  bias variance theory  innovation process in machine learning and ai   the course will also draw from numerous case studies and applications  so that you ll also learn how to apply learning algorithms to building smart robots  perception  control   text understanding  web search  anti spam   computer vision  medical informatics  audio  database mining  and other areas'],\n",
       " [0.020100756305184264,\n",
       "  'implementing a graphql microservice using microprofile api to query and update data from multiple services',\n",
       "  'learn how to use microprofile graphql to query and update data from multiple services  and how to test graphql queries and mutations using an interactive graphql tool  graphiql  '],\n",
       " [0.0,\n",
       "  'exploring spark s graphx',\n",
       "  'spark provides a graph parallel computation library in graphx  graph parallel is a paradigm that allows representation of your data as vertices and edges  spark s graphx provides a set of fundamental operators in addition to a growing collection of algorithms and builders to simplify graph analytics tasks '],\n",
       " [0.4021662312118599,\n",
       "  'applied machine learning in python',\n",
       "  'this course will introduce the learner to applied machine learning  focusing more on the techniques and methods than on the statistics behind these methods  the course will start with a discussion of how machine learning is different than descriptive statistics  and introduce the scikit learn toolkit through a tutorial  the issue of dimensionality of data will be discussed  and the task of clustering data  as well as evaluating those clusters  will be tackled  supervised approaches for creating predictive models will be described  and learners will be able to apply the scikit learn predictive modelling methods while understanding process issues related to data generalizability  e g  cross validation  overfitting   the course will end with a look at more advanced techniques  such as building ensembles  and practical limitations of predictive models  by the end of this course  students will be able to identify the difference between a supervised  classification  and unsupervised  clustering  technique  identify which technique they need to apply for a particular dataset and need  engineer features to meet that need  and write python code to carry out an analysis  \\n\\nthis course should be taken after introduction to data science in python and applied plotting  charting   data representation in python and before applied text mining in python and applied social analysis in python '],\n",
       " [0.0, 'db2 fundamentals ii', 'db2 fundamentals ii'],\n",
       " [0.15891043154093198,\n",
       "  'deep learning with tensorflow',\n",
       "  'majority of data in the world are unlabeled and unstructured data  for instance images  sound  and text data  shallow neural networks cannot easily capture relevant structure in these kind of data  but deep networks are capable of discovering hidden structures within¬†these data  in this course  you will use tensorflow library to apply deep learning on different data types to solve real world problems '],\n",
       " [0.032924319888319675,\n",
       "  'javascript basics',\n",
       "  'this course introduces the programming language javascript and shows the websites that include the type of interactions students will eventually be able to develop   learners will understand the importance of how javascript was developed and why such history impacts the way javascript is currently written and in future releases   \\n\\nlearners will write their first scripts  have their html and css skills assessed  create variables and arrays and assign values to them   if student s skills are lacking  resources and recommendations are provided to improve these skills  there is ample opportunity for students to practice these first  core skills'],\n",
       " [0.42163702135578385, 'deep learning 101', 'deep learning 101'],\n",
       " [0.0,\n",
       "  'monitoring the metrics of java microservices using eclipse microprofile metrics',\n",
       "  'you will explore how to provide system and application metrics from a microservice with microprofile metrics '],\n",
       " [0.09802861627917436,\n",
       "  'data science hands on with open source tools',\n",
       "  'what tools do data scientists use  in this course  you ll learn how to use the most popular data science tools  including jupyter notebooks  rstudio ide  apache zeppelin  and more '],\n",
       " [0.024507154069793646,\n",
       "  'container   kubernetes essentials with ibm cloud',\n",
       "  'get hands on experience with kubernetes container orchestration  learn how kubernetes and ibm cloud kubernetes service help you more easily deploy and scale containers and applications '],\n",
       " [0.054534188314921184,\n",
       "  'big data   capstone project',\n",
       "  'welcome to the capstone project for big data  in this culminating project  you will build a big data ecosystem using tools and methods form the earlier courses in this specialization  you will analyze a data set simulating big data generated from a large number of users who are playing our imaginary game     catch the pink flamingo      during the five week capstone project  you will walk through the typical big data science steps for acquiring  exploring  preparing  analyzing  and reporting  in the first two weeks  we will introduce you to the data set and guide you through some exploratory analysis using tools such as splunk and open office  then we will move into more challenging big data problems requiring the more advanced tools you have learned including knime  spark s mllib and gephi  finally  during the fifth and final week  we will show you how to bring it all together to create engaging and compelling reports and slide presentations  as a result of our collaboration with splunk  a software company focus on analyzing machine generated big data  learners with the top projects will be eligible to present to splunk and meet splunk recruiters and engineering leadership'],\n",
       " [0.0,\n",
       "  'data science bootcamp',\n",
       "  'a multi day intensive  in person data science bootcamp offered by big data university'],\n",
       " [0.028688765527462357,\n",
       "  'building cloud native and multicloud applications',\n",
       "  'this course introduces you to concepts related to migrating  modernizing  building and delivering applications in cloud native and multicloud environments   you will learn how to make informed decisions about application migration and enterprise modernization   \\n\\nthis course is of interest to anyone and everyone who wants to learn about cloud native and multicloud environments  it provides information to those who want to work on cloud native development projects  on legacy modernization projects  on devops engineering projects or as it cloud administrators '],\n",
       " [0.023870495801314395,\n",
       "  'ibm cloud essentials   v3',\n",
       "  'this course introduces you to the ibm cloud  you will learn about the many offerings and services on ibm cloud that make it the most open and secure public cloud for developers and enterprises '],\n",
       " [0.0,\n",
       "  'consuming a restful java web service with reactjs',\n",
       "  'explore how to access a simple restful web service and consume its resources with reactjs in open liberty '],\n",
       " [0.0,\n",
       "  'using the cql shell to execute keyspace operations in cassandra',\n",
       "  'in this guided project  you will use the cassandra query language command line shell and execute keyspace operations in a cassandra database '],\n",
       " [0.03852570642647102,\n",
       "  'alibaba cloud native solutions and container service',\n",
       "  'this course demonstrates how to use alibaba cloud container service and container registry service to design and develop architectures related to cloud native applications  services  and security solutions  this course helps you understand the basic concepts of cloud native  the commercial implementation of container technology  and kubernetes technology as well as extra benefits provided by alibaba cloud  this course is intended to prepare users to take the alibaba cloud native aca certification exam    \\nbuilding containerized applications on aws    this course introduces you to container technologies and how they can be used to modernize your applications  as well as exploring how different aws services can be used to manage and orchestrate those containers \\n\\ncontainer technologies have existed for years  and are still gaining popularity  two of the most prevalent options are docker and kubernetes   each with its own distinct set of features  regardless of which technology you choose  one of the biggest challenges with containers is their orchestration  unlike traditional  monolithic applications where you can only scale at a macro level   an executable  for example   containerized applications scale at the container level  when coupled with a microservices approach  each container can contain the code necessary to execute a single task or function  while this provides a number of benefits  a single application can consist of hundreds of containerized microservices  how do you handle starting  stopping  scaling out and scaling in all of these containers \\n\\naws offers a number of services that help with container orchestration  including amazon elastic container service  ecs   amazon elastic kubernetes service  eks   amazon lightsail  and amazon elastic container registry  ecr   throughout this course  expert instructors will dive deep into these services as well as general container technologies and capabilities \\n\\nthis course uses a combination of video based lectures  delivered by aws technical trainers  demonstrations  and hands on lab exercises to enable you to deploy and manage a containerized application '],\n",
       " [0.21169509870286274,\n",
       "  'train a hotdog image recognition model with python',\n",
       "  'we all know that machines can do a lot these days  including recognizing whether or not an image has a certain object in it  but did you know that you  too  can train a model to do just that  in this guided project  you‚ will learn how to train a model in python with pytorch  a machine learning library  to detect if a picture has a hotdog in it  this process can be repeated with any object  whether it is a bird  a plane or even superman '],\n",
       " [0.023870495801314395,\n",
       "  'using r with databases',\n",
       "  'the intent of this course is to teach you how to unlock the power and magic of r to analyze data in relational databases  it will show you how to connect to relational databases  access and query the database  update and modify the data  analyze it and perform simple visualizations '],\n",
       " [0.163202775050187,\n",
       "  'cloud computing foundations',\n",
       "  'welcome to the first course in the building cloud computing solutions at scale specialization  in this course  you will learn how to build foundational cloud computing infrastructure  including websites involving serverless technology and virtual machines  you will also learn how to apply agile software development techniques to projects which will be useful in building portfolio projects and global scale cloud infrastructures  \\n\\nthis course is ideal for beginners as well as intermediate students interested in applying cloud computing to data science  machine learning and data engineering  students should have beginner level linux and intermediate level python skills  for your project in this course  you will build a statically hosted website using the hugo framework  aws code pipelines  aws s3 and github '],\n",
       " [0.05032196082827123,\n",
       "  'data analysis with r programming',\n",
       "  'this course is the seventh course in the google data analytics certificate  these courses will equip you with the skills needed to apply to introductory level data analyst jobs  in this course  you ll learn about the programming language known as r  you ll find out how to use rstudio  the environment that allows you to work with r  this course will also cover the software applications and tools that are unique to r  such as r packages  you ll discover how r lets you clean  organize  analyze  visualize  and report data in new and more powerful ways   current google data analysts will continue to instruct and provide you with hands on ways to accomplish common data analyst tasks with the best tools and resources \\n\\nlearners who complete this certificate program will be equipped to apply for introductory level jobs as data analysts  no previous experience is necessary \\n\\nby the end of this course  you will \\n   examine the benefits of using the r programming language \\n   discover how to use rstudio to apply r to your analysis  \\n   explore the fundamental concepts associated with programming in r  \\n   explore the contents and components of r packages including the tidyverse package \\n   gain an understanding of dataframes and their use in r \\n   discover the options for generating visualizations in r \\n   learn about r markdown for documenting r programming'],\n",
       " [0.0,\n",
       "  'build an iot blockchain network for a supply chain',\n",
       "  'learn how to use a an iot asset tracking device  build a blockchain network  and configure a node red dashboard to monitor a perishable network supply chain  you can also use a simulated tracker if you don t want to purchase and set up the hardware '],\n",
       " [0.4021662312118599,\n",
       "  'applied machine learning in python',\n",
       "  'this course will introduce the learner to applied machine learning  focusing more on the techniques and methods than on the statistics behind these methods  the course will start with a discussion of how machine learning is different than descriptive statistics  and introduce the scikit learn toolkit through a tutorial  the issue of dimensionality of data will be discussed  and the task of clustering data  as well as evaluating those clusters  will be tackled  supervised approaches for creating predictive models will be described  and learners will be able to apply the scikit learn predictive modelling methods while understanding process issues related to data generalizability  e g  cross validation  overfitting   the course will end with a look at more advanced techniques  such as building ensembles  and practical limitations of predictive models  by the end of this course  students will be able to identify the difference between a supervised  classification  and unsupervised  clustering  technique  identify which technique they need to apply for a particular dataset and need  engineer features to meet that need  and write python code to carry out an analysis  \\n\\nthis course should be taken after introduction to data science in python and applied plotting  charting   data representation in python and before applied text mining in python and applied social analysis in python'],\n",
       " [0.05634361698190116,\n",
       "  'introduction to data science',\n",
       "  'the art of uncovering the insights and trends in data has been around since ancient times  the ancient egyptians used census data to increase efficiency in tax collection and they accurately predicted the flooding of the nile river every year  since then  people working in data science have carved out a unique and distinct field for the work they do  this field is data science  in this course  we will meet some data science practitioners and we will get an overview of what data science is today '],\n",
       " [0.26126497213658206,\n",
       "  'accelerating deep learning with gpu',\n",
       "  'training complex deep learning models with large datasets takes along time  in this course  you will learn how to use accelerated gpu hardware to overcome the scalability problem in deep learning \\nyou can use accelerated hardware such as google s tensor processing unit  tpu  or nvidia gpu to accelerate your convolutional neural network computations time on the cloud  these chips are specifically designed to support the training of neural networks  as well as the use of trained networks  inference   accelerated hardware has recently been proven to significantly reduce training time \\nbut the problem is that your data might be sensitiveand you may not feel comfortable uploading it on a public cloud  preferring to analyze it on premise  in this case  you need to use an in house system with gpu support  one solution is to use ibm s power systems with nvidia gpu and power ai  the power ai platform supports popular machine learning libraries and dependencies including tensorflow  caffe  torch  and theano \\nin this course  you ll understand what gpu based accelerated hardware is and how it can benefit your deep learning scaling needs  you ll also deploy deep learning networks on gpu accelerated hardware for several problems  including the classification of images and videos '],\n",
       " [0.0,\n",
       "  'testing a microprofile or jakarta ee application using microshed testing with an open liberty docker container',\n",
       "  'learn how to use microshed testing to test a microprofile or jakarta ee application '],\n",
       " [0.012337220169960084,\n",
       "  'cloud computing basics  cloud 101 ',\n",
       "  'welcome to cloud computing basics  cloud 101   \\n\\nover the next few weeks  we will discuss the basics of cloud computing  what it is  what it supports  and how it is delivered  we will delve into storage services  cloud economics  levels of managed infrastructure  and azure services  we will also explore different deployment models of cloud computing  as well as several hosting scenarios  last but not least  we will compare some of the cloud platforms and discuss the future of cloud computing '],\n",
       " [0.48193159734149926,\n",
       "  'machine learning with big data',\n",
       "  'want to make sense of the volumes of data you have collected   need to incorporate data driven decisions into your process   this course provides an overview of machine learning techniques to explore  analyze  and leverage data   you will be introduced to tools and algorithms you can use to create machine learning models that learn from data  and to scale those models up to big data problems \\n\\nat the end of the course  you will be able to \\ndesign an approach to leverage data using the steps in the machine learning process \\napply machine learning techniques to explore and prepare data for modeling \\nidentify the type of machine learning problem in order to apply the appropriate set of techniques \\n\\tconstruct models that learn from data using widely available open source tools \\n\\tanalyze big data problems using scalable machine learning algorithms on spark '],\n",
       " [0.04207031619116708,\n",
       "  'interactivity with javascript and jquery',\n",
       "  'this course is the third in our javascript for beginners specialization  the scripts will become more complex and introduce more complex jquery plugins  you will have several challenges to practice your skills throughout the course  the course objectives include how to identify objects in javascript  create new objects and populate them with data  manipulate objects by adding  modifying and deleting data in objects  manipulate the dom based on the data in objects  identify and articulate how multiple functions work together to create a more complex program  and identify processes for breaking larger programs into smaller  more manageable pieces '],\n",
       " [0.027116307227332048,\n",
       "  'big data analysis  hive  spark sql  dataframes and graphframes',\n",
       "  'no doubt working with huge data volumes is hard  but to move a mountain  you have to deal with a lot of small stones  but why strain yourself  using  mapreduce and spark you tackle the issue partially  thus leaving some space for high level tools  stop  struggling to make your big data workflow productive and efficient   make use of the tools we are offering you \\n\\nthis course will teach you how to \\n  warehouse your data efficiently using hive  spark sql and spark datafframes  \\n  work with large graphs  such as social graphs or networks  \\n  optimize your spark applications for maximum performance \\n\\nprecisely  you will master your knowledge in \\n  writing and executing hive   spark sql queries \\n  reasoning how the queries are translated into actual execution primitives  be it mapreduce jobs or spark transformations  \\n  organizing your data in hive to optimize disk space usage and execution times \\n  constructing spark dataframes and using them to write ad hoc analytical jobs easily \\n  processing large graphs with spark graphframes \\n  debugging  profiling and optimizing spark application performance '],\n",
       " [0.0,\n",
       "  'documenting restful apis using microprofile openapi',\n",
       "  'explore how to document and filter restful apis from code or static files by using microprofile openapi '],\n",
       " [0.06909801595573184,\n",
       "  'excel fundamentals for data analysis',\n",
       "  'as data becomes the modern currency  so the ability to analyse the data quickly and accurately has become of paramount importance  excel with its extraordinarily broad range of features and capabilities is one of the most widely used programs for doing this  in the first course of our excel skills for data analysis and visualization specialization  you will learn the fundamentals of excel for data analysis  when you have completed the course  you will be able to use a range of excel tools and functions to clean and prepare data for analysis  automate data analysis with the help of named ranges and tables  and use logical and lookup functions to transform  link and categorise data \\n\\nthis course will enable you to build a strong foundation in the fundamentals  helping you to be more efficient in your day to day and developing the necessary skills to work with the more advanced techniques used in later courses  to make the content easy to relate to and to personalize the learning experience  we are going to follow zara s journey through the course  who is zara  well  she is no one and everyone  you will find that zara s trials and tribulations sound familiar  and together with zara  you will develop your excel skills along the way    and  importantly  have some fun doing it \\n\\nthe excel skills for data analytics and visualization courses are the sequel to one of most successful specializations on coursera  excel skills for business  which has attracted hundreds of thousands of learners and top ratings  transform your skills  your confidence  and your opportunities by adding this new set of skills to your repertoire \\n'],\n",
       " [0.0,\n",
       "  'implement consumer driven contract testing for java microservices using the pact framework',\n",
       "  'learn how to test java microservices with consumer driven contracts in open liberty '],\n",
       " [0.0,\n",
       "  'cloud native security conference   data security',\n",
       "  'introduction to data security on cloud'],\n",
       " [0.06170335329059362,\n",
       "  'foundations for big data analysis with sql',\n",
       "  'in this course  you ll get a big picture view of using sql for big data  starting with an overview of data  database systems  and the common querying language  sql   then you ll learn the characteristics of big data and sql tools for working on big data platforms  you ll also install an exercise environment  virtual machine  to be used through the specialization courses  and you ll have an opportunity to do some initial exploration of databases and tables in that environment \\n\\nby the end of the course  you will be able to\\n distinguish operational from analytic databases  and understand how these are applied in big data \\n understand how database and table design provides structures for working with data \\n appreciate how differences in volume and variety of data affects your choice of an appropriate database system \\nrecognize the features and benefits of sql dialects designed to work with big data systems for storage and analysis  and \\n explore databases and tables in a big data platform'],\n",
       " [0.025197631533948495,\n",
       "  'analyzing big data with a spreadsheet ui',\n",
       "  'this course is designed to introduce the student to the capabilities of bigsheets  bigsheets is a component of ibm biginsights  it provides the analyst the ability to be able to visualize and analyze data stored hdfs using a spreadsheet type interface without any programming '],\n",
       " [0.03419927840283843,\n",
       "  'mapreduce and yarn',\n",
       "  'string together your understanding of yet another resource negotiator  yarn  by gaining exposure to mapreduce1  the tool sets that start the processing of big data '],\n",
       " [0.0,\n",
       "  'hybrid cloud conference  ai pipelines lab',\n",
       "  'hybrid cloud conference  ai pipelines lab'],\n",
       " [0.0,\n",
       "  'validating constraints for javabeans in java microservices',\n",
       "  'explore the use of bean validation to validate user input data for microservices '],\n",
       " [0.0,\n",
       "  'build your own chatbots',\n",
       "  'learn how to build chatbots without having to write any code by leveraging watson assistant  then deploy your chatbot to a real site in less than five minutes '],\n",
       " [0.2788866755113586,\n",
       "  'text analytics 101',\n",
       "  'analyze text data using analytics and machine learning models'],\n",
       " [0.025565499628245725,\n",
       "  'apply end to end security to a cloud application',\n",
       "  'this mini course walks you through key security services available in the ibm cloud‚ñ¢ catalog and how to use them together  an application that provides file sharing will put security concepts into practice '],\n",
       " [0.0217442691017814,\n",
       "  'programming foundations with javascript  html and css',\n",
       "  'learn foundational programming concepts  e g   functions  for loops  conditional statements  and how to solve problems like a programmer  in addition  learn basic web development as you build web pages using html  css  javascript  by the end of the course  will create a web page where others can upload their images and apply image filters that you create \\n\\nafter completing this course  you will be able to \\n1  think critically about how to solve a problem using programming \\n2  write javascript programs using functions  for loops  and conditional statements \\n3  use html to construct a web page with paragraphs  divs  images  links  and lists \\n4  add styles to a web page with css ids and classes  and\\n5  make a web page interactive with javascript commands like alert  onclick  onchange  adding input features like an image canvas  button  and slider'],\n",
       " [0.018077538151554662,\n",
       "  'big data 101',\n",
       "  'how big is big and why does big matter and what does apache hadoop have to do with it  in this course you will see the big data big picture and you will learn the terminology used in big data discussions '],\n",
       " [0.0,\n",
       "  'data science in agriculture  land use classification',\n",
       "  'in this lab  we will learn the basic methods of images transformation classification '],\n",
       " [0.31943828249996997,\n",
       "  'data science with scala',\n",
       "  'apache spark is a fast and general engine for large scale data processing  with built in modules for streaming  sql  machine learning and graph processing  this course shows how to use spark  s machine learning pipelines to fit models and search for optimal hyperparameters using a spark cluster '],\n",
       " [0.0,\n",
       "  'managing and injecting dependencies into java microservices using contexts and dependency injection  cdi ',\n",
       "  'learn how to use contexts and dependency injection  cdi  to manage scopes and inject dependencies into microservices \\n\\n'],\n",
       " [0.0,\n",
       "  'mathematical optimization for business problems',\n",
       "  'mathematical optimization for business problems'],\n",
       " [0.0,\n",
       "  'build a personal movie recommender with django',\n",
       "  'choosing a good movie to watch on a weekend evening is always hard   it would be great if there is a \\nhandy movie recommender to help you make a good decision '],\n",
       " [0.0,\n",
       "  'action classification task based on internet firewall logs',\n",
       "  'learn how to build a mathematical model of an insurance company using risk process and to do risk and revenue assessment  '],\n",
       " [0.0,\n",
       "  'an introduction to ibm cloud satellite',\n",
       "  'a short introduction to ibm cloud satellite  learn why clients are so excited to implement the features and functionality ibm cloud satellite provides \\n'],\n",
       " [0.34569072114940647,\n",
       "  'exploratory data analysis for machine learning',\n",
       "  'this first course in the ibm machine learning professional certificate introduces you to machine learning and the content of the professional certificate  in this course you will realize the importance of good  quality data  you will learn common techniques to retrieve your data  clean it  apply feature engineering  and have it ready for preliminary analysis and hypothesis testing \\n\\nby the end of this course you should be able to \\nretrieve data from multiple data sources  sql  nosql databases  apis  cloud \\ndescribe and use common feature selection and feature engineering techniques\\nhandle categorical and ordinal features  as well as missing values\\nuse a variety of techniques for detecting and dealing with outliers\\narticulate why feature scaling is important and use a variety of scaling techniques\\n \\nwho should take this course \\nthis course targets aspiring data scientists interested in acquiring hands on experience  with machine learning and artificial intelligence in a business setting \\n \\nwhat skills should you have \\nto make the most out of this course  you should have familiarity with programming on a python development environment  as well as fundamental understanding of calculus  linear algebra  probability  and statistics '],\n",
       " [0.14607663686703576,\n",
       "  'cloud virtualization  containers and apis',\n",
       "  'welcome to the second course in the building cloud computing solutions at scale specialization  in this course  you will learn to design cloud native systems with the fundamental building blocks of cloud computing  these building blocks include virtual machines and containers  you will also learn how to build effective microservices using technologies like flask and kubernetes  finally  you will analyze successful patterns in operations including  effective alerts  load testing and kaizen  \\n\\nthis course is ideal for beginners as well as intermediate students interested in applying cloud computing to data science  machine learning and data engineering  students should have beginner level linux and intermediate level python skills  for your project in this course  you build a containerized flask application that is continuously deployed to a cloud platform  amazon web services  aws   azure or google cloud platform  gcp  '],\n",
       " [0.07586432418108813,\n",
       "  'data analysis using python',\n",
       "  'this course provides an introduction to basic data science techniques using python   students are introduced to core concepts like data frames and joining data  and learn how to use data analysis libraries like pandas  numpy  and matplotlib   this course provides an overview of loading  inspecting  and querying real world data  and how to answer basic questions about that data   students will gain skills in data aggregation and summarization  as well as basic data visualization \\n'],\n",
       " [0.020672455764868092,\n",
       "  'ibm cloud essentials',\n",
       "  'the ibm cloud name has been changed to ibm cloud  get hands on experience with ibm cloud  cloud foundry  and best practices for agile and test driven development '],\n",
       " [0.0,\n",
       "  'secure analysis of credit card dataset',\n",
       "  'learn to make the preliminary data analysis in security area based on credit clients card dataset with the helping frameworks and libraries '],\n",
       " [0.08193694101433224,\n",
       "  'build  train  and deploy ml pipelines using bert',\n",
       "  'in the second course of the practical data science specialization  you will learn to automate a natural language processing task by building an end to end machine learning pipeline using hugging face s highly optimized implementation of the state of the art bert algorithm with amazon sagemaker pipelines  your pipeline will first transform the dataset into bert readable features and store the features in the amazon sagemaker feature store  it will then fine tune a text classification model to the dataset using a hugging face pre trained model  which has learned to understand the human language from millions of wikipedia documents  finally  your pipeline will evaluate the model s accuracy and only deploy the model if the accuracy exceeds a given threshold \\n\\npractical data science is geared towards handling massive datasets that do not fit in your local hardware and could originate from multiple sources  one of the biggest benefits of developing and running data science projects in the cloud is the agility and elasticity that the cloud offers to scale up and out at a minimum cost \\n\\nthe practical data science specialization helps you develop the practical skills to effectively deploy your data science projects and overcome challenges at each step of the ml workflow using amazon sagemaker  this specialization is designed for data focused developers  scientists  and analysts familiar with the python and sql programming languages and want to learn how to build  train  and deploy scalable  end to end ml pipelines   both automated and human in the loop   in the aws cloud '],\n",
       " [0.0,\n",
       "  'sql and relational databases 101',\n",
       "  'are you ready to dive into the world of sql and relational databases  in just a few hours  you ll be able to discuss sql basics and explain various aspects of the relational database model  try our hands on exercises as we guide your first steps into sql and relational databases '],\n",
       " [0.3834959143986477,\n",
       "  'deploying machine learning models in production',\n",
       "  'in the fourth course of machine learning engineering for production specialization  you will learn how to deploy ml models and make them available to end users  you will build scalable and reliable hardware infrastructure to deliver inference requests both in real time and batch depending on the use case  you will also implement workflow automation and progressive delivery that complies with current mlops practices to keep your production system running  additionally   you will continuously monitor your system to detect model decay  remediate performance drops  and avoid system failures so it can continuously operate at all times   \\n\\nunderstanding machine learning and deep learning concepts is essential  but if you re looking to build an effective ai career  you need production engineering capabilities as well  machine learning engineering for production combines the foundational concepts of machine learning with the functional expertise of modern software development and engineering roles to help you develop production ready skills \\n\\nweek 1  model serving introduction\\nweek 2  model serving patterns and infrastructures\\nweek 3  model management and delivery\\nweek 4  model monitoring and logging'],\n",
       " [0.0,\n",
       "  'deploying microservices to kubernetes',\n",
       "  'deploy microservices in open liberty docker containers to kubernetes and manage them with the kubernetes cli  kubectl '],\n",
       " [0.02197934911319288,\n",
       "  'building cloud native and multicloud applications',\n",
       "  'in this course  we will cover the core concepts and practices of building and running cloud native applications and how to run these applications in a multicloud environment  we will cover technologies and practices including  microservices  devops  ci cd  docker  kubernetes  and openshift '],\n",
       " [0.23631633593135137,\n",
       "  'programming for everybody  getting started with python ',\n",
       "  'this course aims to teach everyone the basics of programming computers using python  we cover the basics of how one constructs a program from a series of simple instructions in python   the course has no pre requisites and avoids all but the simplest mathematics  anyone with moderate computer experience should be able to master the materials in this course  this course will cover chapters 1 5 of the textbook   python for everybody     once a student completes this course  they will be ready to take more advanced programming courses  this course covers python 3 \\n'],\n",
       " [0.0,\n",
       "  'reactive architecture  building scalable systems',\n",
       "  'reactive architecture  building scalable systems'],\n",
       " [0.0,\n",
       "  'configuring microservices running in kubernetes',\n",
       "  'explore how to externalize configuration using microprofile config and configure your microservices using kubernetes configmaps and secrets '],\n",
       " [0.03701166050988025,\n",
       "  'relational database support for data warehouses',\n",
       "  'relational database support for data warehouses is the third course in the data warehousing for business intelligence specialization  in this course  you ll use analytical elements of sql for answering business intelligence questions  you ll learn features of relational database management systems for managing summary data commonly used in business intelligence reporting  because of the importance and difficulty of managing implementations of data warehouses  we ll also delve into storage architectures  scalable parallel processing  data governance  and big data impacts  in the assignments in this course  you can use either oracle or postgresql \\n'],\n",
       " [0.043403811021918925,\n",
       "  '\\ndistributed computing with spark sql',\n",
       "  'this course is all about big data  it  s for students with sql experience that want to take the next step on their data journey by learning distributed computing using apache spark  students will gain a thorough understanding of this open source standard for working with large datasets  students will gain an understanding of the fundamentals of data analysis using sql on spark  setting the foundation for how to combine data with advanced analytics at scale and in production environments  the four modules build on one another and by the end of the course you will understand  the spark architecture  queries within spark  common ways to optimize spark sql  and how to build reliable data pipelines  \\n\\nthe first module introduces spark and the databricks environment including how spark distributes computation and spark sql  module 2 covers the core concepts of spark such as storage vs  compute  caching  partitions  and troubleshooting performance issues via the spark ui  it also covers new features in apache spark 3 x such as adaptive query execution  the third module focuses on engineering data pipelines including connecting to databases  schemas and data types  file formats  and writing reliable data  the final module covers data lakes  data warehouses  and lakehouses  students build production grade data pipelines by combining spark with the open source project delta lake  by the end of this course  students will hone their sql and distributed computing skills to become more adept at advanced analysis and to set the stage for transitioning to more advanced analytics as data scientists '],\n",
       " [0.027216552697590823,\n",
       "  'create tables and load data in postgresql using pgadmin',\n",
       "  'in this project  you will learn how to create tables and load data in the postgresql database service using the pgadmin graphical user interface  gui  tool '],\n",
       " [0.0,\n",
       "  'database architecture  scale  and nosql with elasticsearch',\n",
       "  'you will explore database architecture  postgresql  and various scalable deployment configurations  you will see how postgresql implements basic crud operations and indexes  and review how transactions and the acid  atomicity  consistency  isolation  durability  requirements are implemented  \\n\\nyou  ll learn to use elasticsearch nosql  which is a common nosql database and a supplement to a relational database to high speed search and indexing  we will examine elasticsearch as an example of a base style  basic availability  soft state  eventual consistency  database approach  as well as compare and contrast the advantages and challenges associated with acid and base databases '],\n",
       " [0.013024411086076104,\n",
       "  'text analytics 101',\n",
       "  'the analysis of emails  blogs  tweets  forums and other forms of unstructured text data constitutes what we call text analytics   text analytics is applicable to most industries  for example  if your company is suspicious about company secrets being leaked to competitors by employees  text analytics can help analyze millions of employees   emails   if you would like to find common pain points your customers face when using your products  you can analyze their comments and questions in forums  if you would like to measure positive or negative perceptions of a company  brand  or product  you can perform sentiment analysis using text analytics  this course teaches you the basics of text analytics '],\n",
       " [0.0,\n",
       "  'network traffic anomaly detection  intrusion detection task ',\n",
       "  'learn to build the model at the junction of nlp and network security areas with the help of intrusion detection evaluation dataset  iscxids2012  and the helping frameworks   libraries '],\n",
       " [0.06666666666666665, 'dataops methodology', 'data ops course'],\n",
       " [0.07911007279821947,\n",
       "  'excel basics for data analysis',\n",
       "  'this course is designed to provide you with basic working knowledge for using excel spreadsheets for data analysis  it covers some of the first steps for working with spreadsheets and their usage in the process of analyzing data   it includes plenty of videos  demos  and examples for you to learn  followed by step by step instructions for you to apply and practice on a live spreadsheet \\n\\nexcel is an essential tool for working with data   whether for business  marketing  data analytics  or research  this course is suitable for those aspiring to take up data analysis or data science as a profession  as well as those who just want to use excel for data analysis in their own domains  you will gain valuable experience in cleansing and wrangling data using functions and then analyze your data using techniques like filtering  sorting and creating pivot tables    \\n\\nthis course starts with an introduction to spreadsheets like microsoft excel and google sheets and loading data from multiple formats  with this introduction you will then learn to perform some basic level data wrangling and cleansing tasks and continue to expand your knowledge of analyzing data through the use of filtering  sorting  and using pivot tables within the spreadsheet  by performing these tasks throughout the course  it will give you an understanding of how spreadsheets can be used as a data analysis tool and understand its limitations  \\n\\nthere is a strong focus on practice and applied learning in this course  with each lab  you will gain hands on experience in manipulating data and begin to understand the important role of spreadsheets  clean and analyze your data faster by understanding functions in the formatting of data  you will then convert your data to a pivot table and learn its features to make your data organized and readable  the final project enables you to show off your newly acquired data analysis skills  by the end of this course you will have worked with several data sets and spreadsheets and demonstrated the basics of cleaning and analyzing data all without having to learn any code  \\n\\ngetting started with excel is made easy in this course  it does not require any prior experience with spreadsheets or coding  nor does it require downloads or installation of any software  all you need is a device with a modern web browser  and ability to create a microsoft account to access excel online at no cost   however if you already have a desktop version of excel  you can follow along quite easily as well '],\n",
       " [0.0, 'db2 academic training', 'db2 academic training'],\n",
       " [0.016878989451394433,\n",
       "  'natural language processing with probabilistic models',\n",
       "  'in course 2 of the natural language processing specialization  you will \\n\\na  create a simple auto correct algorithm using minimum edit distance and dynamic programming \\nb  apply the viterbi algorithm for part of speech  pos  tagging  which is vital for computational linguistics \\nc  write a better auto complete algorithm using an n gram language model  and \\nd  write your own word2vec model that uses a neural network to compute word embeddings using a continuous bag of words model'],\n",
       " [0.0,\n",
       "  'consuming a restful java web service using json b and json p',\n",
       "  'explore how to access a simple restful web service and consume its resources in java using json b and json p '],\n",
       " [0.0,\n",
       "  'enabling cross origin resource sharing  cors  in a restful java microservice',\n",
       "  'learn how to enable cross origin resource sharing  cors  in open liberty without writing java code '],\n",
       " [0.0,\n",
       "  'relational model concepts',\n",
       "  'in this project  you will learn the concepts of a relational model including the terms entity  attribute  relation  degree  and cardinality  then apply the concepts you have learned to a real world example of a database '],\n",
       " [0.06535241085278287,\n",
       "  'computer vision basics',\n",
       "  'by the end of this course  learners will understand what computer vision is  as well as its mission of making computers see and interpret the world as humans do  by learning core concepts of the field and receiving an introduction to human vision capabilities  they are equipped to identify some key application areas of computer vision and understand the digital imaging process  the course covers crucial elements that enable computer vision  digital signal processing  neuroscience and artificial intelligence  topics include color  light and image formation  early  mid  and high level vision  and mathematics essential for computer vision  learners will be able to apply mathematical techniques to complete computer vision tasks  \\n\\nthis course is ideal for anyone curious about or interested in exploring the concepts of computer vision  it is also useful for those who desire a refresher course in mathematical concepts of computer vision  learners should have basic programming skills and experience  understanding of for loops  if else statements   specifically in matlab  mathworks provides the basics here  https   www mathworks com learn tutorials matlab onramp html   learners should also be familiar with the following  basic linear algebra  matrix vector operations and notation   3d co ordinate systems and transformations  basic calculus  derivatives and integration  and basic probability  random variables '],\n",
       " [0.041344911529736184,\n",
       "  'openrefine 101',\n",
       "  'this introduction course is for a less technical user  business analyst or consultant interested to learn data science \\n\\n\\n'],\n",
       " [0.11379648627163219,\n",
       "  'spark overview for scala analytics',\n",
       "  'the ‚  spark overview for scala analytics‚äù course will cover the history of spark and how it came to be  how to build applications with spark  establish an understanding of rdds and dataframes  and other advanced spark topics  apache spark‚ñ¢ is a fast and general engine for large scale data processing  with built in modules for streaming  sql  machine learning and graph processing  having finished this class  a student would be prepared to leverage the core rdd and dataframe apis to perform analytics on datasets \\nthis course is meant to be an overview of spark and its associated ecosystem   for deeper understanding of spark  we recommend that students take the spark fundamentals courses i and ii '],\n",
       " [0.1510994713038749,\n",
       "  'python and statistics for financial analysis',\n",
       "  'python is now becoming the number 1 programming language for data science  due to python  s simplicity and high readability  it is gaining its importance in the financial industry   the course combines both python coding and statistical concepts and applies into analyzing financial data  such as stock data \\n\\nby the end of the course  you can achieve the following using python \\n\\n  import  pre process  save and visualize financial data into pandas dataframe\\n\\n  manipulate the existing financial data by generating new variables using multiple columns\\n\\n  recall and apply the important statistical concepts  random variable  frequency  distribution  population and sample  confidence interval  linear regression  etc    into financial contexts\\n\\n  build a trading model using multiple linear regression model \\n\\n  evaluate the performance of the trading model using different investment indicators\\n\\njupyter notebook environment is configured in the course platform for practicing python coding without installing any client applications \\n'],\n",
       " [0.020476503894465092,\n",
       "  'reactive architecture  domain driven design',\n",
       "  'domain driven design is a technique commonly used to build reactive systems  this course will introduce the core elements of domain driven design  it will also explain how those elements relate to reactive systems '],\n",
       " [0.22771001702132443,\n",
       "  'visual data analysis in banking',\n",
       "  'learn to master the visual data analysis in banking for machine learning models  '],\n",
       " [0.0,\n",
       "  'robots are coming  build iot apps with watson  swift  and node red',\n",
       "  'have fun with iot and learn along the way  if you re a swift developer and want to learn more about iot and watson ai services in the cloud  raspberry pi   and node red  you ve found the right place  you ll build iot apps to read temperature data  take pictures with a raspcam  use ai to recognize the objects in those pictures  and program an irobot create 2 robot  '],\n",
       " [0.0,\n",
       "  'php web application on a lamp stack',\n",
       "  'this tutorial walks you through the creation of an ubuntu linux virtual server with apache web server  mysql database and php scripting  '],\n",
       " [0.026773977630083268,\n",
       "  'build chatbots with watson assistant',\n",
       "  'in this course  you ll explore the watson conversation service in depth  you ll watch videos that explain conversational concepts and apply them to build a chatbot  you will complete seven hands on labs  culminating in the creation of your own fully functional chatbot '],\n",
       " [0.0,\n",
       "  'reactive architecture  cqrs   event sourcing',\n",
       "  'reactive architecture  cqrs   event sourcing'],\n",
       " [0.0,\n",
       "  'how to build watson ai and swift apis and make money',\n",
       "  'expose your cool swift microservices to the world and build a platform to monetize those apis  by using server side swift and your mobile apps  you ll also learn to be a better full stack developer  '],\n",
       " [0.0,\n",
       "  'deploying a microservice to openshift by using a kubernetes operator',\n",
       "  'explore how to deploy a microservice to red hat openshift by using a kubernetes operator '],\n",
       " [0.10758287072798378,\n",
       "  'python scripting  files  inheritance  and databases',\n",
       "  'this course is the third course in a series that aims to prepare you for a role working as a programmer  in this course  you will be introduced to the three main concepts in programming  files  inheritance and external libaries   labs will allow the students to apply the material in the lectures in simple computer programs designed to re enforce the material in the lesson \\n'],\n",
       " [0.0,\n",
       "  'accessing and persisting data in microservices using java persistence api  jpa ',\n",
       "  'learn how to use java persistence api  jpa  to access and persist data to a database for your microservices '],\n",
       " [0.34191842968811503,\n",
       "  'ai for everyone  master the basics',\n",
       "  'learn what artificial intelligence  ai  is by understanding its applications and key concepts including machine learning  deep learning and neural networks '],\n",
       " [0.05634361698190116, 'scorm test 1', 'scron test course'],\n",
       " [0.06660009983362447,\n",
       "  'introduction to predictive modeling',\n",
       "  'welcome to introduction to predictive modeling  the first course in the university of minnesota  s analytics for decision making specialization \\n\\nthis course will introduce to you the concepts  processes  and applications of predictive modeling  with a focus on linear regression and time series forecasting models and their practical use in microsoft excel  by the end of the course  you will be able to \\n\\n           understand the concepts  processes  and applications of predictive modeling \\n           understand the structure of and intuition behind linear regression models \\n           be able to fit simple and multiple linear regression models to data  interpret the results  evaluate the goodness of fit  and use fitted models to make predictions \\n           understand the problem of overfitting and underfitting and be able to conduct simple model selection \\n           understand the concepts  processes  and applications of time series forecasting as a special type of predictive modeling \\n           be able to fit several time series forecasting models  e g   exponential smoothing and holt winter  s method  in excel  evaluate the goodness of fit  and use fitted models to make forecasts \\n           understand different types of data and how they may be used in predictive models \\n           use excel to prepare data for predictive modeling  including exploring data patterns  transforming data  and dealing with missing values \\n\\nthis is an introductory course to predictive modeling  the course provides a combination of conceptual and hands on learning  during the course  we will provide you opportunities to practice predictive modeling techniques on real world datasets using excel '],\n",
       " [0.18401748249129446,\n",
       "  'text analytics 101',\n",
       "  'from social media to news articles to machine logs  text data is everywhere  are you interested in learning how to derive valuable insights from text data  enroll today and learn about the hot topic of text analytics from experts at ibm '],\n",
       " [0.060858061945018416,\n",
       "  'hadoop 101',\n",
       "  'this free apache hadoop course introduces you to big data concepts  and teaches you how to perform distributed processing of large data sets with hadoop '],\n",
       " [0.0,\n",
       "  'externalizing configuration for java microservices using eclipse microprofile config',\n",
       "  'learn how to provide external configuration to microservices using microprofile config '],\n",
       " [0.0,\n",
       "  'containerizing  packaging  and running a spring boot application',\n",
       "  'learn how to containerize  package  and run a spring boot application on an open liberty server without modification '],\n",
       " [0.05175311197685173,\n",
       "  '\\nsql for data science',\n",
       "  'as data collection has increased exponentially  so has the need for people skilled at using and interacting with data  to be able to think critically  and provide insights to make better decisions and optimize their businesses  this is a data scientist    part mathematician  part computer scientist  and part trend spotter    sas institute  inc    according to glassdoor  being a data scientist is the best job in america  with a median base salary of  110 000 and thousands of job openings at a time  the skills necessary to be a good data scientist include being able to retrieve and work with data  and to do that you need to be well versed in sql  the standard language for communicating with database systems \\n\\nthis course is designed to give you a primer in the fundamentals of sql and working with data so that you can begin analyzing it for data science purposes  you will begin to ask the right questions and come up with good answers to deliver valuable insights for your organization  this course starts with the basics and assumes you do not have any knowledge or skills in sql  it will build on that foundation and gradually have you write both simple and complex queries to help you select data from tables   you ll start to work with different types of data like strings and numbers and discuss methods to filter and pare down your results  \\n\\nyou will create new tables and be able to move data into them  you will learn common operators and how to combine the data  you will use case statements and concepts like data governance and profiling  you will discuss topics on data  and practice using real world programming assignments  you will interpret the structure  meaning  and relationships in source data and use sql as a professional to shape your data for targeted analysis purposes  \\n\\nalthough we do not have any specific prerequisites or software requirements to take this course  a simple text editor is recommended for the final project  so what are you waiting for  this is your first step in landing a job in the best occupation in the us and soon the world '],\n",
       " [0.0,\n",
       "  'normalization   keys   constraints in relational database',\n",
       "  'in this project  you will learn about normalization  keys  and constraints in ibm db2 on cloud using sql  first  you will learn how to minimize data redundancy and inconsistency in a database by normalizing tables  next  you will learn how to use keys to uniquely identify a record in a table  to establish a relationship between tables  and to identify the relation between them  lastly  you will learn about different kinds of relational model constraints that help to maintain data integrity in a relational data model '],\n",
       " [0.2913911278443483,\n",
       "  'machine learning with apache systemml',\n",
       "  'apache systemml is a declarative style language designed for large scale machine learning  it provides automatic generation of optimized runtime plans ranging from single node  to in memory  to distributed computations on apache hadoop and apache spark  systemml algorithms are expressed in r like or python like syntax that includes linear algebra primitives  statistical functions and ml specific constructs  '],\n",
       " [0.026773977630083268,\n",
       "  'spark fundamentals ii',\n",
       "  'building on your foundational knowledge of spark  take this opportunity to move your skills to the next level  with a focus on spark resilient distributed data set operations this course exposes you to concepts that are critical to your success in this field '],\n",
       " [0.021081851067789148,\n",
       "  'introduction to containers  kubernetes  and openshift v2',\n",
       "  'this course introduces the core concepts of containers and kubernetes and explains how containers differ from virtual machines  it also covers the importance of containers in cloud computing as well as the emerging ecosystem of related technologies such as docker  kubernetes  openshift  istio and knative '],\n",
       " [0.027681826617913297,\n",
       "  'serverless computing using cloud functions   developer i',\n",
       "  'this course is designed to teach you serverless computing essentials which include how to develop serverless applications composed of loosely coupled  microservice like functions  '],\n",
       " [0.0,\n",
       "  'learn how to use docker containers for iterative development',\n",
       "  'learn how to use docker containers for iterative development '],\n",
       " [0.018077538151554662,\n",
       "  'classification of yelp reviews using sentiment analysis',\n",
       "  'sentiment analysis has become a very popular tool to extract subjective information from the social media and to help businesses understand the social sentiment of their brand  product or service   in this guided project  you will be introduced to several natural language processing techniques to help you derive some meaning from yelp business reviews  as well as to build and test a classification model to divide these reviews into positive or negative '],\n",
       " [0.0,\n",
       "  'apache pig 101',\n",
       "  'pig was initially developed at yahoo  to allow people using hadoop to focus more on analyzing large data sets and spend less time having to write mapper and reducer programs  like actual pigs  who eat almost anything  the pig programming language is designed to handle any kind of data‚ hence the name '],\n",
       " [0.04714045207910322,\n",
       "  'r 101',\n",
       "  'in this introduction to r  you will master the basics of this beautiful open source language  including factors  lists and data frames  with the knowledge gained in this course  you will be ready to undertake your first very own data analysis  with over 2 million users worldwide r is rapidly becoming the leading programming language in statistics and data science  every year  the number of r users grows by 40  and an increasing number of organizations are using it in their day to day activities  leverage the power of r by completing this free r online course today '],\n",
       " [0.0898933149950989,\n",
       "  'data science in real life',\n",
       "  'have you ever had the perfect data science experience  the data pull went perfectly  there were no merging errors or missing data  hypotheses were clearly defined prior to analyses  randomization was performed for the treatment of interest  the analytic plan was outlined prior to analysis and followed exactly  the conclusions were clear and actionable decisions were obvious  has that every happened to you  of course not  data analysis in real life is messy  how does one manage a team facing real data analyses  in this one week course  we contrast the ideal with what happens in real life  by contrasting the ideal  you will learn key concepts that will help you manage real life analyses  \\n\\nthis is a focused course designed to rapidly get you up to speed on doing data science in real life  our goal was to make this as convenient as possible for you without sacrificing any essential content  we ve left the technical information aside so that you can focus on managing your team and moving it forward \\n\\nafter completing this course you will know how to \\n\\n1  describe the “perfect” data science experience\\n2  identify strengths and weaknesses in experimental designs\\n3  describe possible pitfalls when pulling   assembling data and learn solutions for managing data pulls \\n4  challenge statistical modeling assumptions and drive feedback to data analysts\\n5  describe common pitfalls in communicating data analyses\\n6  get a glimpse into a day in the life of a data analysis manager \\n\\nthe course will be taught at a conceptual level for active managers of data scientists and statisticians   some key concepts being discussed include \\n1  experimental design  randomization  a b testing\\n2  causal inference  counterfactuals  \\n3  strategies for managing data quality \\n4  bias and confounding\\n5  contrasting machine learning versus classical statistical inference'],\n",
       " [0.34569072114940647,\n",
       "  'exploratory data analysis for machine learning',\n",
       "  'this first course in the ibm machine learning professional certificate introduces you to machine learning and the content of the professional certificate  in this course you will realize the importance of good  quality data  you will learn common techniques to retrieve your data  clean it  apply feature engineering  and have it ready for preliminary analysis and hypothesis testing \\n\\nby the end of this course you should be able to \\nretrieve data from multiple data sources  sql  nosql databases  apis  cloud \\ndescribe and use common feature selection and feature engineering techniques\\nhandle categorical and ordinal features  as well as missing values\\nuse a variety of techniques for detecting and dealing with outliers\\narticulate why feature scaling is important and use a variety of scaling techniques\\n \\nwho should take this course \\nthis course targets aspiring data scientists interested in acquiring hands on experience  with machine learning and artificial intelligence in a business setting \\n \\nwhat skills should you have \\nto make the most out of this course  you should have familiarity with programming on a python development environment  as well as fundamental understanding of calculus  linear algebra  probability  and statistics '],\n",
       " [0.0,\n",
       "  'analyzing big data in r using apache spark',\n",
       "  'apache spark is a popular cluster computing framework used for performing large scale data analysis  sparkr provides a distributed data frame api that enables structured data processing with a syntax familiar to r users \\n'],\n",
       " [0.02484519974999766,\n",
       "  'scalable web applications on kubernetes',\n",
       "  'this mini course walks you through how to scaffold a web application  run it locally in a container  and then deploy it to a kubernetes cluster created with kubernetes service  additionally  you will learn how to bind a custom domain  monitor the health of the environment  and scale the application '],\n",
       " [0.052704627669473036,\n",
       "  'bitcoin 101',\n",
       "  'greetings and welcome to the introduction to bitcoin course '],\n",
       " [0.0, 'data privacy fundamentals', 'data privacy fundamentals'],\n",
       " [0.02197934911319288,\n",
       "  'getting started with microservices with istio and ibm cloud kubernetes service',\n",
       "  'discover how microservices and istio pair together for cloud native apps  learn how istio and ibm cloud kubernetes service help you securely and seamlessly deploy containers and apps '],\n",
       " [0.028298423998533884,\n",
       "  'natural language processing with sequence models',\n",
       "  'in course 3 of the natural language processing specialization  you will \\n\\na  train a neural network with glove word embeddings to perform sentiment analysis of tweets \\nb  generate synthetic shakespeare text using a gated recurrent unit  gru  language model \\nc  train a recurrent neural network to perform named entity recognition  ner  using lstms with linear layers  and \\nd  use so called ‘siamese  lstm models to compare questions in a corpus and identify those that are worded differently but have the same meaning \\n\\n\\nby the end of this specialization  you will have designed nlp applications that perform question answering and sentiment analysis  created tools to translate languages and summarize text  and even built a chatbot '],\n",
       " [0.0,\n",
       "  'statistics 301',\n",
       "  'statistics courses teaching advanced statistical anlysis methods'],\n",
       " [0.04395869822638576,\n",
       "  'moving data into hadoop',\n",
       "  'this course describes techniques for moving data into hadoop  there are a variety of ways to get data into hadoop from simple hadoop shell commands to more sophisticated processes  several techniques are presented but three  sqoop  flume  and data click are covered in greater detail '],\n",
       " [0.0,\n",
       "  'consuming restful java microservices asynchronously using eclipse microprofile rest client',\n",
       "  'learn how to use microprofile rest client to invoke restful microservices asynchronously over http '],\n",
       " [0.45407660918649984,\n",
       "  'introduction to machine learning  language processing',\n",
       "  't s no secret that machine learning is one of the fastest growing fields in tech  and the google cloud platform has been instrumental in furthering its development  with a host of apis  google cloud has a tool for just about any machine learning job  in this introductory google cloud labs series  you will get hands on practice with machine learning as it applies to language processing by taking labs that will enable you to extract entities from text  and perform sentiment and syntactic analysis as well as use the speech to text api for transcription'],\n",
       " [0.0,\n",
       "  'end to end data science on cloudpak for data',\n",
       "  'end to end data science on cloudpak for data'],\n",
       " [0.01441125670557053,\n",
       "  'javascript  jquery  and json',\n",
       "  'in this course  we ll look at the javascript language  and how it supports the object oriented pattern  with a focus on the unique aspect of how javascript approaches oo  we ll explore a brief introduction to the jquery library  which is widely used to do in browser manipulation of the document object model  dom  and event handling  you ll also learn more about javascript object notation  json   which is commonly used as a syntax to exchange data between code running on the server  i e  in php  and code running in the browser  javascript jquery  \\n\\nit is assumed that learners have already taken the building web applications and building database applications in php courses in this specialization '],\n",
       " [0.02484519974999766,\n",
       "  'ibm blockchain foundation developer',\n",
       "  'dive deeper into blockchain business networks and their components  ledgers  consensus  smart contracts  and more  learn how to build your first blockchain application and get more experience with hyperledger composer and chaincode to build networks  '],\n",
       " [0.0,\n",
       "  'performing database operations in the cloudant dashboard',\n",
       "  'in this guided project  you will launch ibm cloudant to explore database as a service  dbaas  operations  perform simple operations like querying or copying data  and monitor activities on the dashboard '],\n",
       " [0.041344911529736184,\n",
       "  'data   ai essentials',\n",
       "  'data and ai essentials course'],\n",
       " [0.0,\n",
       "  'build a smart search form with algolia',\n",
       "  'great search is an essential feature that all of the best applications share  in this project  we ll leverage the power of algolia to build our own smart search form from scratch '],\n",
       " [0.0,\n",
       "  'creating asynchronous java microservices using microprofile reactive messaging',\n",
       "  'learn how to write reactive java microservices using microprofile reactive messaging '],\n",
       " [0.12171612389003694,\n",
       "  'data science bootcamp with python for university professors',\n",
       "  'data science bootcamp with python for university professors'],\n",
       " [0.0468807230938495,\n",
       "  'introduction to probability and data with r',\n",
       "  'this course introduces you to sampling and exploring data  as well as basic probability theory and bayes  rule  you will examine various types of sampling methods  and discuss how such methods can impact the scope of inference  a variety of exploratory data analysis techniques will be covered  including numeric summary statistics and basic data visualization  you will be guided through installing and using r and rstudio  free statistical software   and will use this software for lab exercises and a final project  the concepts and techniques in this course will serve as building blocks for the inference and modeling courses in the specialization'],\n",
       " [0.025565499628245725,\n",
       "  'developing distributed applications using zookeeper',\n",
       "  'in this course  you will explore the zookeeper framework in tandem with ibm biginsights modules and java to learn how to develop and manage distributed applications in the domain of big data  real world examples will be used to contextualize and motivate further study '],\n",
       " [0.0,\n",
       "  'exploratory data analysis  eda  with pandas in banking',\n",
       "  'learn to master the exploratory data analysis  eda  in banking with pandas framework '],\n",
       " [0.4163782405381242,\n",
       "  'machine learning data lifecycle in production',\n",
       "  'in the second course of machine learning engineering for production specialization  you will build data pipelines by gathering  cleaning  and validating datasets and assessing data quality  implement feature engineering  transformation  and selection with tensorflow extended and get the most predictive power out of your data  and establish the data lifecycle by leveraging data lineage and provenance metadata tools and follow data evolution with enterprise data schemas \\n\\nunderstanding machine learning and deep learning concepts is essential  but if you re looking to build an effective ai career  you need production engineering capabilities as well  machine learning engineering for production combines the foundational concepts of machine learning with the functional expertise of modern software development and engineering roles to help you develop production ready skills '],\n",
       " [0.17374889710522778,\n",
       "  'introduction to python programming',\n",
       "  'this course provides an introduction to programming and the python language   students are introduced to core programming concepts like data structures  conditionals  loops  variables  and functions   this course includes an overview of the various tools available for writing and running python  and gets students coding quickly   it also provides hands on coding exercises using commonly used data structures  writing custom functions  and reading and writing to files  this course may be more robust than some other introductory python courses  as it delves deeper into certain essential programming topics \\n'],\n",
       " [0.02402499900521493,\n",
       "  'cloud computing concepts  part 2',\n",
       "  'cloud computing systems today  whether open source or used inside companies  are built using a common set of core techniques  algorithms  and design philosophies    all centered around distributed systems  learn about such fundamental distributed computing   concepts   for cloud computing \\n\\nsome of these concepts include  clouds  mapreduce  key value nosql stores  classical distributed algorithms  widely used distributed algorithms  scalability  trending areas  and much  much more  \\n \\nknow how these systems work from the inside out  get your hands dirty using these concepts with provided homework exercises  in the programming assignments  implement some of these concepts in template code  programs  provided in the c++ programming language  prior experience with c++ is required \\n \\nthe course also features interviews with leading researchers and managers  from both industry and academia ']]"
      ]
     },
     "execution_count": 61,
     "metadata": {},
     "output_type": "execute_result"
    }
   ],
   "source": [
    "course1=bows_df[bows_df['doc_id']==\"ML0101ENv3\"]\n",
    "similarities=[]\n",
    "for course in course_id:\n",
    "    if course != 'ML0101ENv3':\n",
    "        course2=bows_df[bows_df['doc_id']==course]\n",
    "        bow_vectors=pivot_two_bows(course1, course2)\n",
    "        sim=1 - cosine(bow_vectors.iloc[0, 2:], bow_vectors.iloc[1, 2:])\n",
    "        sim2=[sim,course_df[course_df['COURSE_ID'] == course]['TITLE'].iloc[0], course_df[course_df['COURSE_ID'] == course]['DESCRIPTION'].iloc[0]]\n",
    "        similarities.append(sim2)\n",
    "similarities\n"
   ]
  },
  {
   "cell_type": "code",
   "execution_count": 65,
   "metadata": {},
   "outputs": [
    {
     "data": {
      "text/plain": [
       "[[0.6347547807096177,\n",
       "  'machine learning for all',\n",
       "  'machine learning  often called artificial intelligence or ai  is one of the most exciting areas of technology at the moment  we see daily news stories that herald new breakthroughs in facial recognition technology  self driving cars or computers that can have a conversation just like a real person  machine learning technology is set to revolutionise almost any area of human life and work  and so will affect all our lives  and so you are likely to want to find out more about it  machine learning has a reputation for being one of the most complex areas of computer science  requiring advanced mathematics and engineering skills to understand it  while it is true that working as a machine learning engineer does involve a lot of mathematics and programming  we believe that anyone can understand the basic concepts of machine learning  and given the importance of this technology  everyone should  the big ai breakthroughs sound like science fiction  but they come down to a simple idea  the use of data to train statistical algorithms  in this course you will learn to understand the basic idea of machine learning  even if you don t have any background in math or programming  not only that  you will get hands on and use user friendly tools developed at goldsmiths  university of london to actually do a machine learning project  training a computer to recognise images  this course is for a lot of different people  it could be a good first step into a technical career in machine learning  after all it is always better to start with the high level concepts before the technical details  but it is also great if your role is non technical  you might be a manager or other non technical role in a company that is considering using machine learning  you really need to understand this technology  and this course is a great place to get that understanding  or you might just be following the news reports about ai and interested in finding out more about the hottest new technology of the moment  whoever you are  we are looking forward to guiding you through you first machine learning project \\n\\nnb this course is designed to introduce you to machine learning without needing any programming  that means that we don t cover the programming based machine learning tools like python and tensorflow    \\nintroduction to machine learning    this course will provide you a foundational understanding of machine learning models  logistic regression  multilayer perceptrons  convolutional neural networks  natural language processing  etc   as well as demonstrate how these models can solve complex problems in a variety of industries  from medical diagnostics to image recognition to text prediction  in addition  we have designed practice exercises that will give you hands on experience implementing these data science models on data sets  these practice exercises will teach you how to implement machine learning algorithms with pytorch  open source libraries used by leading tech companies in the machine learning field  e g   google  nvidia  cocacola  ebay  snapchat  uber and many more '],\n",
       " [0.662622139954909,\n",
       "  'machine learning with r',\n",
       "  'this machine learning with r course dives into the basics of machine learning using an approachable  and well known  programming language  you ll learn about supervised vs unsupervised learning  look into how statistical modeling relates to machine learning  and do a comparison of each '],\n",
       " [0.5217491947499509,\n",
       "  'machine learning   dimensionality reduction',\n",
       "  'machine learning   dimensionality reduction'],\n",
       " [0.5490400192158565,\n",
       "  'introduction to tensorflow for artificial intelligence  machine learning  and deep learning',\n",
       "  'if you are a software developer who wants to build scalable ai powered algorithms  you need to understand how to use the tools to build them  this course is part of the upcoming machine learning in tensorflow specialization and will teach you best practices for using tensorflow  a popular open source framework for machine learning  \\n\\nthe machine learning course and deep learning specialization from andrew ng teach the most important and foundational principles of machine learning and deep learning  this new deeplearning ai tensorflow specialization teaches you how to use tensorflow to implement those principles so that you can start building and applying scalable models to real world problems  to develop a deeper understanding of how neural networks work  we recommend that you take the deep learning specialization'],\n",
       " [0.6120541193300345,\n",
       "  'machine learning',\n",
       "  'machine learning is the science of getting computers to act without being explicitly programmed  in the past decade  machine learning has given us self driving cars  practical speech recognition  effective web search  and a vastly improved understanding of the human genome  machine learning is so pervasive today that you probably use it dozens of times a day without knowing it  many researchers also think it is the best way to make progress towards human level ai  in this class  you will learn about the most effective machine learning techniques  and gain practice implementing them and getting them to work for yourself  more importantly  you ll learn about not only the theoretical underpinnings of learning  but also gain the practical know how needed to quickly and powerfully apply these techniques to new problems  finally  you ll learn about some of silicon valley s best practices in innovation as it pertains to machine learning and ai \\n\\nthis course provides a broad introduction to machine learning  datamining  and statistical pattern recognition  topics include   i  supervised learning  parametric non parametric algorithms  support vector machines  kernels  neural networks    ii  unsupervised learning  clustering  dimensionality reduction  recommender systems  deep learning    iii  best practices in machine learning  bias variance theory  innovation process in machine learning and ai   the course will also draw from numerous case studies and applications  so that you ll also learn how to apply learning algorithms to building smart robots  perception  control   text understanding  web search  anti spam   computer vision  medical informatics  audio  database mining  and other areas']]"
      ]
     },
     "execution_count": 65,
     "metadata": {},
     "output_type": "execute_result"
    }
   ],
   "source": [
    "Topsim=[]\n",
    "for i in range(len(similarities)):\n",
    "    if similarities[i][0]>0.5:\n",
    "        Topsim.append(similarities[i])\n",
    "Topsim"
   ]
  },
  {
   "cell_type": "code",
   "execution_count": 36,
   "id": "6bec7fa5-90d5-4e30-a81e-1ac2d51032db",
   "metadata": {},
   "outputs": [],
   "source": [
    "# WRITE YOUR CODE HERE\n",
    "\n",
    "## For each course other than ML0101ENv3, use pivot_course_rows to convert it with course ML0101ENv3 into horizontal two BoW feature vectors\n",
    "## Then use the cosine method to calculate the similarity\n",
    "## Report all courses with similarities larger than a specific threshold (such as 0.5)\n",
    "comp1=bows_df[bows_df['doc_id']==\"ML0101ENv3\"]\n",
    "comp2=bows_df[bows_df['doc_id']!=\"ML0101ENv3\"]"
   ]
  },
  {
   "cell_type": "code",
   "execution_count": 37,
   "metadata": {},
   "outputs": [
    {
     "data": {
      "application/vnd.microsoft.datawrangler.viewer.v0+json": {
       "columns": [
        {
         "name": "index",
         "rawType": "int64",
         "type": "integer"
        },
        {
         "name": "doc_id",
         "rawType": "object",
         "type": "string"
        },
        {
         "name": "token",
         "rawType": "object",
         "type": "string"
        },
        {
         "name": "bow",
         "rawType": "int64",
         "type": "integer"
        }
       ],
       "ref": "b80607d6-9af4-41b4-a1f4-525f858b95bf",
       "rows": [
        [
         "0",
         "ML0201EN",
         "ai",
         "2"
        ],
        [
         "1",
         "ML0201EN",
         "apps",
         "2"
        ],
        [
         "2",
         "ML0201EN",
         "build",
         "2"
        ],
        [
         "3",
         "ML0201EN",
         "cloud",
         "1"
        ],
        [
         "4",
         "ML0201EN",
         "coming",
         "1"
        ],
        [
         "5",
         "ML0201EN",
         "create",
         "1"
        ],
        [
         "6",
         "ML0201EN",
         "data",
         "1"
        ],
        [
         "7",
         "ML0201EN",
         "developer",
         "1"
        ],
        [
         "8",
         "ML0201EN",
         "found",
         "1"
        ],
        [
         "9",
         "ML0201EN",
         "fun",
         "1"
        ],
        [
         "10",
         "ML0201EN",
         "iot",
         "4"
        ],
        [
         "11",
         "ML0201EN",
         "irobot",
         "1"
        ],
        [
         "12",
         "ML0201EN",
         "learn",
         "2"
        ],
        [
         "13",
         "ML0201EN",
         "node",
         "1"
        ],
        [
         "14",
         "ML0201EN",
         "objects",
         "1"
        ],
        [
         "15",
         "ML0201EN",
         "pi",
         "1"
        ],
        [
         "16",
         "ML0201EN",
         "pictures",
         "2"
        ],
        [
         "17",
         "ML0201EN",
         "place",
         "1"
        ],
        [
         "18",
         "ML0201EN",
         "program",
         "1"
        ],
        [
         "19",
         "ML0201EN",
         "raspberry",
         "1"
        ],
        [
         "20",
         "ML0201EN",
         "raspcam",
         "1"
        ],
        [
         "21",
         "ML0201EN",
         "read",
         "1"
        ],
        [
         "22",
         "ML0201EN",
         "recognize",
         "1"
        ],
        [
         "23",
         "ML0201EN",
         "red",
         "2"
        ],
        [
         "24",
         "ML0201EN",
         "robot",
         "1"
        ],
        [
         "25",
         "ML0201EN",
         "robots",
         "1"
        ],
        [
         "26",
         "ML0201EN",
         "services",
         "1"
        ],
        [
         "27",
         "ML0201EN",
         "swift",
         "2"
        ],
        [
         "28",
         "ML0201EN",
         "take",
         "1"
        ],
        [
         "29",
         "ML0201EN",
         "temperature",
         "1"
        ],
        [
         "30",
         "ML0201EN",
         "use",
         "1"
        ],
        [
         "31",
         "ML0201EN",
         "want",
         "1"
        ],
        [
         "32",
         "ML0201EN",
         "watson",
         "2"
        ],
        [
         "33",
         "ML0201EN",
         "way",
         "1"
        ],
        [
         "34",
         "ML0122EN",
         "ai",
         "2"
        ],
        [
         "35",
         "ML0122EN",
         "cloud",
         "2"
        ],
        [
         "36",
         "ML0122EN",
         "data",
         "1"
        ],
        [
         "37",
         "ML0122EN",
         "learn",
         "1"
        ],
        [
         "38",
         "ML0122EN",
         "use",
         "4"
        ],
        [
         "39",
         "ML0122EN",
         "accelerate",
         "1"
        ],
        [
         "40",
         "ML0122EN",
         "accelerated",
         "5"
        ],
        [
         "41",
         "ML0122EN",
         "accelerating",
         "1"
        ],
        [
         "42",
         "ML0122EN",
         "analyze",
         "1"
        ],
        [
         "43",
         "ML0122EN",
         "based",
         "1"
        ],
        [
         "44",
         "ML0122EN",
         "benefit",
         "1"
        ],
        [
         "45",
         "ML0122EN",
         "caffe",
         "1"
        ],
        [
         "46",
         "ML0122EN",
         "case",
         "1"
        ],
        [
         "47",
         "ML0122EN",
         "chips",
         "1"
        ],
        [
         "48",
         "ML0122EN",
         "classification",
         "1"
        ],
        [
         "49",
         "ML0122EN",
         "comfortable",
         "1"
        ]
       ],
       "shape": {
        "columns": 3,
        "rows": 10347
       }
      },
      "text/html": [
       "<div>\n",
       "<style scoped>\n",
       "    .dataframe tbody tr th:only-of-type {\n",
       "        vertical-align: middle;\n",
       "    }\n",
       "\n",
       "    .dataframe tbody tr th {\n",
       "        vertical-align: top;\n",
       "    }\n",
       "\n",
       "    .dataframe thead th {\n",
       "        text-align: right;\n",
       "    }\n",
       "</style>\n",
       "<table border=\"1\" class=\"dataframe\">\n",
       "  <thead>\n",
       "    <tr style=\"text-align: right;\">\n",
       "      <th></th>\n",
       "      <th>doc_id</th>\n",
       "      <th>token</th>\n",
       "      <th>bow</th>\n",
       "    </tr>\n",
       "  </thead>\n",
       "  <tbody>\n",
       "    <tr>\n",
       "      <th>0</th>\n",
       "      <td>ML0201EN</td>\n",
       "      <td>ai</td>\n",
       "      <td>2</td>\n",
       "    </tr>\n",
       "    <tr>\n",
       "      <th>1</th>\n",
       "      <td>ML0201EN</td>\n",
       "      <td>apps</td>\n",
       "      <td>2</td>\n",
       "    </tr>\n",
       "    <tr>\n",
       "      <th>2</th>\n",
       "      <td>ML0201EN</td>\n",
       "      <td>build</td>\n",
       "      <td>2</td>\n",
       "    </tr>\n",
       "    <tr>\n",
       "      <th>3</th>\n",
       "      <td>ML0201EN</td>\n",
       "      <td>cloud</td>\n",
       "      <td>1</td>\n",
       "    </tr>\n",
       "    <tr>\n",
       "      <th>4</th>\n",
       "      <td>ML0201EN</td>\n",
       "      <td>coming</td>\n",
       "      <td>1</td>\n",
       "    </tr>\n",
       "    <tr>\n",
       "      <th>...</th>\n",
       "      <td>...</td>\n",
       "      <td>...</td>\n",
       "      <td>...</td>\n",
       "    </tr>\n",
       "    <tr>\n",
       "      <th>10361</th>\n",
       "      <td>excourse93</td>\n",
       "      <td>modifying</td>\n",
       "      <td>1</td>\n",
       "    </tr>\n",
       "    <tr>\n",
       "      <th>10362</th>\n",
       "      <td>excourse93</td>\n",
       "      <td>objectives</td>\n",
       "      <td>1</td>\n",
       "    </tr>\n",
       "    <tr>\n",
       "      <th>10363</th>\n",
       "      <td>excourse93</td>\n",
       "      <td>pieces</td>\n",
       "      <td>1</td>\n",
       "    </tr>\n",
       "    <tr>\n",
       "      <th>10364</th>\n",
       "      <td>excourse93</td>\n",
       "      <td>plugins</td>\n",
       "      <td>1</td>\n",
       "    </tr>\n",
       "    <tr>\n",
       "      <th>10365</th>\n",
       "      <td>excourse93</td>\n",
       "      <td>populate</td>\n",
       "      <td>1</td>\n",
       "    </tr>\n",
       "  </tbody>\n",
       "</table>\n",
       "<p>10347 rows × 3 columns</p>\n",
       "</div>"
      ],
      "text/plain": [
       "           doc_id       token  bow\n",
       "0        ML0201EN          ai    2\n",
       "1        ML0201EN        apps    2\n",
       "2        ML0201EN       build    2\n",
       "3        ML0201EN       cloud    1\n",
       "4        ML0201EN      coming    1\n",
       "...           ...         ...  ...\n",
       "10361  excourse93   modifying    1\n",
       "10362  excourse93  objectives    1\n",
       "10363  excourse93      pieces    1\n",
       "10364  excourse93     plugins    1\n",
       "10365  excourse93    populate    1\n",
       "\n",
       "[10347 rows x 3 columns]"
      ]
     },
     "execution_count": 37,
     "metadata": {},
     "output_type": "execute_result"
    }
   ],
   "source": [
    "comp2"
   ]
  },
  {
   "cell_type": "markdown",
   "id": "0ac4a68e-6d23-4d97-95dd-263a0ca84d62",
   "metadata": {},
   "source": [
    "<details>\n",
    "    <summary>Click here for Hints</summary>\n",
    "    \n",
    "You can use `bows_df[bows_df['doc_id'] == 'ML0101ENv3']` to find 'ML0101ENv3' course bow. Then in a similar matter you can find bows for each course_id that's not 'ML0101ENv3'. Then you can join 2 bows by using predefined `pivot_two_bows` function and calculate the similarity as we just did using the cosine method. Print the course ids with similarity>0.5 \n",
    "</details>\n"
   ]
  },
  {
   "cell_type": "markdown",
   "id": "7c0daf8b-f73a-40e4-bf7a-7f76d9309b5b",
   "metadata": {},
   "source": [
    "### Summary\n"
   ]
  },
  {
   "cell_type": "markdown",
   "id": "11eca24e-cc3c-4725-83f9-ead28a822e99",
   "metadata": {},
   "source": [
    "Congratulations, you have finished the course similarity lab. In this lab, you used cosine and course BoW features to calculate the similarities among courses. Such similarity measurement is the core of many content-based recommender systems, which you will learn and practice in the later labs.\n"
   ]
  },
  {
   "cell_type": "markdown",
   "id": "3034cb93-2317-447a-a366-fd2c4749a790",
   "metadata": {},
   "source": [
    "## Authors\n"
   ]
  },
  {
   "cell_type": "markdown",
   "id": "12172935-005b-4f52-857f-112123898f68",
   "metadata": {},
   "source": [
    "[Yan Luo](https://www.linkedin.com/in/yan-luo-96288783/)\n"
   ]
  },
  {
   "cell_type": "markdown",
   "id": "dcac7e28-4bf4-4dc8-b897-a690a870339b",
   "metadata": {},
   "source": [
    "### Other Contributors\n"
   ]
  },
  {
   "cell_type": "markdown",
   "id": "fb8f3d93-185b-4876-9de9-e746b241be53",
   "metadata": {},
   "source": [
    "```toggle## Change Log\n",
    "```\n"
   ]
  },
  {
   "cell_type": "markdown",
   "id": "5ca38918-c1f3-475e-a16c-9d92a21b62a3",
   "metadata": {},
   "source": [
    "```toggle|Date (YYYY-MM-DD)|Version|Changed By|Change Description|\n",
    "```\n",
    "```toggle|-|-|-|-|\n",
    "```\n",
    "```toggle|2021-10-25|1.0|Yan|Created the initial version|\n",
    "```\n"
   ]
  },
  {
   "cell_type": "markdown",
   "id": "cfc366a1-41f2-4a56-a523-adf69789823a",
   "metadata": {},
   "source": [
    "Copyright © 2021 IBM Corporation. All rights reserved.\n"
   ]
  }
 ],
 "metadata": {
  "kernelspec": {
   "display_name": "Python 3",
   "language": "python",
   "name": "python3"
  },
  "language_info": {
   "codemirror_mode": {
    "name": "ipython",
    "version": 3
   },
   "file_extension": ".py",
   "mimetype": "text/x-python",
   "name": "python",
   "nbconvert_exporter": "python",
   "pygments_lexer": "ipython3",
   "version": "3.11.9"
  },
  "prev_pub_hash": "fe64f6b0eef7c68ad33bd3860c93e16dead786ea94d3124912229fd158017944"
 },
 "nbformat": 4,
 "nbformat_minor": 4
}
